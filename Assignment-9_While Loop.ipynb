{
 "cells": [
  {
   "cell_type": "code",
   "execution_count": null,
   "id": "ebfa1aab-36b6-48ad-b3d8-2c06dcd125e1",
   "metadata": {},
   "outputs": [],
   "source": [
    "# for i in range(10):\n",
    "#     print(i, end=' ')"
   ]
  },
  {
   "cell_type": "code",
   "execution_count": 1,
   "id": "42000aa5-1f49-4d9d-a580-419082af89e8",
   "metadata": {},
   "outputs": [
    {
     "name": "stdout",
     "output_type": "stream",
     "text": [
      "0 1 2 3 4 5 6 7 8 9 10 "
     ]
    }
   ],
   "source": [
    "n=0\n",
    "while(n<=10):\n",
    "    print(n,end=' ')\n",
    "    n=n+1"
   ]
  },
  {
   "cell_type": "code",
   "execution_count": 4,
   "id": "78ac1020-08a2-4970-b3cb-bbd7dcffdaac",
   "metadata": {},
   "outputs": [
    {
     "name": "stdout",
     "output_type": "stream",
     "text": [
      " 0 ) good night\n",
      " 1 ) good night\n",
      " 2 ) good night\n",
      " 3 ) good night\n"
     ]
    }
   ],
   "source": [
    "for i in range(4):\n",
    "    print(f\" {i} ) good night\")"
   ]
  },
  {
   "cell_type": "code",
   "execution_count": 3,
   "id": "006a8893-5bab-4eee-845f-f651e66155d8",
   "metadata": {},
   "outputs": [
    {
     "name": "stdout",
     "output_type": "stream",
     "text": [
      " 0 ) good night\n",
      " 1 ) good night\n",
      " 2 ) good night\n",
      " 3 ) good night\n"
     ]
    }
   ],
   "source": [
    "n=0\n",
    "while(n<4):\n",
    "    print(f\" {n} ) good night\")\n",
    "    n=n+1"
   ]
  },
  {
   "cell_type": "code",
   "execution_count": 6,
   "id": "a3966435-13ab-4cd2-b0bc-c382329cb37b",
   "metadata": {},
   "outputs": [
    {
     "name": "stdout",
     "output_type": "stream",
     "text": [
      "10 11 12 13 14 15 16 17 18 19 "
     ]
    }
   ],
   "source": [
    "for i in range(10,20):\n",
    "    print(i,end=' ')"
   ]
  },
  {
   "cell_type": "code",
   "execution_count": 5,
   "id": "45f5e22d-8820-4c2a-8277-a571ba105b69",
   "metadata": {},
   "outputs": [
    {
     "name": "stdout",
     "output_type": "stream",
     "text": [
      "10 11 12 13 14 15 16 17 18 19 "
     ]
    }
   ],
   "source": [
    "n=10\n",
    "while(n<20):\n",
    "     print(n,end=' ')\n",
    "     n=n+1\n"
   ]
  },
  {
   "cell_type": "code",
   "execution_count": 2,
   "id": "5895a1e5-afb6-494e-8d61-6367e75a9d87",
   "metadata": {},
   "outputs": [
    {
     "name": "stdin",
     "output_type": "stream",
     "text": [
      "Enter any number for which want to display the multiplicaion table: 120\n"
     ]
    },
    {
     "name": "stdout",
     "output_type": "stream",
     "text": [
      " 120 X 1 = 120\n",
      " 120 X 2 = 240\n",
      " 120 X 3 = 360\n",
      " 120 X 4 = 480\n",
      " 120 X 5 = 600\n",
      " 120 X 6 = 720\n",
      " 120 X 7 = 840\n",
      " 120 X 8 = 960\n",
      " 120 X 9 = 1080\n",
      " 120 X 10 = 1200\n"
     ]
    }
   ],
   "source": [
    "n=eval(input('Enter any number for which want to display the multiplicaion table:'))\n",
    "i=1\n",
    "while(i<11):\n",
    "    print(f' {n} X {i} = {n*i}')\n",
    "    i=i+1"
   ]
  },
  {
   "cell_type": "code",
   "execution_count": 1,
   "id": "7e885bef-3afc-48d3-ada1-3ad063ec8dee",
   "metadata": {},
   "outputs": [
    {
     "name": "stdin",
     "output_type": "stream",
     "text": [
      "Enter any number for which want to display the divisors 28\n"
     ]
    },
    {
     "name": "stdout",
     "output_type": "stream",
     "text": [
      "1 2 4 7 14 28 "
     ]
    }
   ],
   "source": [
    "#find the number of dvisios of 75\n",
    "num=eval(input('Enter any number for which want to display the divisors'))\n",
    "for i in range(1,num+1):\n",
    "    if(num % i==0):\n",
    "        print(i, end=' ')"
   ]
  },
  {
   "cell_type": "code",
   "execution_count": 3,
   "id": "68488355-8501-4711-b8de-4bac7bd75c32",
   "metadata": {},
   "outputs": [
    {
     "name": "stdout",
     "output_type": "stream",
     "text": [
      "1 3 5 15 25 75 "
     ]
    }
   ],
   "source": [
    "num1 = 75\n",
    "j = 1\n",
    "while j <= num1:\n",
    "    if num1 % j == 0:\n",
    "        print(j, end=' ')\n",
    "    j += 1  # Incrementing j outside the if block\n",
    "\n",
    "       "
   ]
  },
  {
   "cell_type": "code",
   "execution_count": 7,
   "id": "5d3ba23b-0dbf-4a3d-9a87-4e13853a8d38",
   "metadata": {},
   "outputs": [
    {
     "name": "stdin",
     "output_type": "stream",
     "text": [
      "which number divsiors you want: 100\n"
     ]
    },
    {
     "name": "stdout",
     "output_type": "stream",
     "text": [
      "1 is divisor of 100\n",
      "2 is divisor of 100\n",
      "4 is divisor of 100\n",
      "5 is divisor of 100\n",
      "10 is divisor of 100\n",
      "20 is divisor of 100\n",
      "25 is divisor of 100\n",
      "50 is divisor of 100\n",
      "100 is divisor of 100\n",
      "\n",
      "The count of divisors of 100: 9\n"
     ]
    }
   ],
   "source": [
    "#find the number of dvisios of 75\n",
    "count=0\n",
    "num2=eval(input('which number divsiors you want:'))\n",
    "j=1\n",
    "while j <= num2:\n",
    "    if(num2%j==0):\n",
    "        print(f'{j} is divisor of {num2}')\n",
    "        count=count+1\n",
    "    j+=1\n",
    "print(f'\\nThe count of divisors of {num2}: {count}')"
   ]
  },
  {
   "cell_type": "code",
   "execution_count": 7,
   "id": "227e7229-07ac-430d-8545-c42b4e908bdc",
   "metadata": {},
   "outputs": [
    {
     "name": "stdout",
     "output_type": "stream",
     "text": [
      " 1) random number: 74\n",
      " 2) random number: 67\n",
      " 3) random number: 64\n",
      " 4) random number: 91\n",
      " 5) random number: 64\n",
      " Even numbers sum: 202\n",
      " Even numbers count: 3\n",
      " Odd numbers sum: 158\n",
      " Odd numbers count: 2\n"
     ]
    }
   ],
   "source": [
    "#Q8) sum of even number and odd with the range of 5 times with random number assigned, sum of events and odd numbers\n",
    "import random\n",
    "even_cnt=0\n",
    "even_sum=0\n",
    "odd_summ=0\n",
    "odd_cnt=0\n",
    "i=1\n",
    "while(i<=5):\n",
    "    num=random.randint(1,100)\n",
    "    print(f' {i}) random number: {num}')\n",
    "    if(num%2==0):\n",
    "        even_cnt=even_cnt+1\n",
    "        even_sum=even_sum+num\n",
    "    elif(num%2==1):\n",
    "         odd_cnt=odd_cnt+1\n",
    "         odd_summ=odd_summ+num\n",
    "    i+=1\n",
    "\n",
    "print(f' Even numbers sum: {even_sum}')\n",
    "print(f' Even numbers count: {even_cnt}')\n",
    "print(f' Odd numbers sum: {odd_summ}')\n",
    "print(f' Odd numbers count: {odd_cnt}')"
   ]
  },
  {
   "cell_type": "code",
   "execution_count": 8,
   "id": "f63a0598-5fd6-4e1e-abe3-9a629688584d",
   "metadata": {},
   "outputs": [
    {
     "name": "stdin",
     "output_type": "stream",
     "text": [
      "Enter the number 1: 2\n"
     ]
    },
    {
     "name": "stdout",
     "output_type": "stream",
     "text": [
      "Better luck next time\n"
     ]
    },
    {
     "name": "stdin",
     "output_type": "stream",
     "text": [
      "Enter the number 1: 5\n"
     ]
    },
    {
     "name": "stdout",
     "output_type": "stream",
     "text": [
      "Better luck next time\n"
     ]
    },
    {
     "name": "stdin",
     "output_type": "stream",
     "text": [
      "Enter the number 1: 8\n"
     ]
    },
    {
     "name": "stdout",
     "output_type": "stream",
     "text": [
      "Better luck next time\n"
     ]
    }
   ],
   "source": [
    "#Q9) Game program\n",
    "#User enter one num\n",
    "#Another number will generate randonly\n",
    "#if both are rwqual you won , other wise fail you lost\n",
    "# Three chances\n",
    "i=1\n",
    "while(i<=3):\n",
    "    num1=random.randint(1,10)\n",
    "    num2=eval(input('Enter the number one:'))\n",
    "    if(num1==num2):\n",
    "        print('You won')\n",
    "        break\n",
    "    else:\n",
    "        print('Better luck next time')\n",
    "    i+=1\n"
   ]
  },
  {
   "cell_type": "code",
   "execution_count": 11,
   "id": "1b570690-2cd6-4b58-880f-ecb75d54d5ab",
   "metadata": {},
   "outputs": [
    {
     "name": "stdout",
     "output_type": "stream",
     "text": [
      "42\n"
     ]
    },
    {
     "name": "stdin",
     "output_type": "stream",
     "text": [
      "Enter the number 1: 41\n"
     ]
    },
    {
     "name": "stdout",
     "output_type": "stream",
     "text": [
      "You the lost the game, Better luck next time\n",
      "chances are left 2\n",
      "98\n"
     ]
    },
    {
     "name": "stdin",
     "output_type": "stream",
     "text": [
      "Enter the number 1: 97\n"
     ]
    },
    {
     "name": "stdout",
     "output_type": "stream",
     "text": [
      "You the lost the game, Better luck next time\n",
      "chances are left 1\n",
      "45\n"
     ]
    },
    {
     "name": "stdin",
     "output_type": "stream",
     "text": [
      "Enter the number 1: 92\n"
     ]
    },
    {
     "name": "stdout",
     "output_type": "stream",
     "text": [
      "You the lost the game, Better luck next time\n",
      "chances are left 0\n",
      "You lost all the chances, Please try after 24 hrs time\n"
     ]
    }
   ],
   "source": [
    "import random\n",
    "chances=3\n",
    "i=1\n",
    "while(i<=3):\n",
    "    num1=random.randint(1,100)\n",
    "    print(num1)\n",
    "    num2=eval(input('Enter the number one:'))\n",
    "    if(num1==num2):\n",
    "        print('You won the Game !!!')\n",
    "        break\n",
    "    else:\n",
    "        print('You the lost the game, Better luck next time')\n",
    "        chances=chances-1\n",
    "        print(f'chances are left {chances}')\n",
    "    i+=1\n",
    "if(chances==0):\n",
    "    print('You lost all the chances, Please try after 24 hrs time')"
   ]
  },
  {
   "cell_type": "code",
   "execution_count": 12,
   "id": "fdb95592-901e-4bf5-81ca-8f9900f851e6",
   "metadata": {},
   "outputs": [
    {
     "name": "stdout",
     "output_type": "stream",
     "text": [
      "G e e t h a "
     ]
    }
   ],
   "source": [
    "for i in 'Geetha': \n",
    "        print(i,end=' ')"
   ]
  },
  {
   "cell_type": "code",
   "execution_count": 2,
   "id": "73c66952-3216-4cf1-adc8-fa4eae1723e7",
   "metadata": {},
   "outputs": [
    {
     "name": "stdout",
     "output_type": "stream",
     "text": [
      "G e e t h a "
     ]
    }
   ],
   "source": [
    "i = 0\n",
    "while i < len('Geetha'):\n",
    "    print('Geetha'[i], end=' ')\n",
    "    i += 1\n"
   ]
  },
  {
   "cell_type": "code",
   "execution_count": 11,
   "id": "4a65189c-823f-45bf-a759-7c7837274552",
   "metadata": {},
   "outputs": [
    {
     "name": "stdout",
     "output_type": "stream",
     "text": [
      "A : 65\n",
      "B : 66\n",
      "C : 67\n",
      "D : 68\n",
      "E : 69\n",
      "F : 70\n",
      "G : 71\n",
      "H : 72\n",
      "I : 73\n",
      "J : 74\n",
      "K : 75\n",
      "L : 76\n",
      "M : 77\n",
      "N : 78\n",
      "O : 79\n",
      "P : 80\n",
      "Q : 81\n",
      "R : 82\n",
      "S : 83\n",
      "T : 84\n",
      "U : 85\n",
      "V : 86\n",
      "W : 87\n",
      "X : 88\n",
      "Y : 89\n",
      "Z : 90\n"
     ]
    }
   ],
   "source": [
    "#ascii_uppercase upper case printing with while loop codition\n",
    "import string\n",
    "i=0\n",
    "while(i < len(string.ascii_uppercase)):\n",
    "     print(f'{string.ascii_uppercase[i]} : {ord(string.ascii_uppercase[i])}')\n",
    "     i += 1"
   ]
  },
  {
   "cell_type": "code",
   "execution_count": 12,
   "id": "c44e3fe4-1d25-4925-bce6-4fc7700d27f5",
   "metadata": {},
   "outputs": [
    {
     "name": "stdout",
     "output_type": "stream",
     "text": [
      "a : 97\n",
      "b : 98\n",
      "c : 99\n",
      "d : 100\n",
      "e : 101\n",
      "f : 102\n",
      "g : 103\n",
      "h : 104\n",
      "i : 105\n",
      "j : 106\n",
      "k : 107\n",
      "l : 108\n",
      "m : 109\n",
      "n : 110\n",
      "o : 111\n",
      "p : 112\n",
      "q : 113\n",
      "r : 114\n",
      "s : 115\n",
      "t : 116\n",
      "u : 117\n",
      "v : 118\n",
      "w : 119\n",
      "x : 120\n",
      "y : 121\n",
      "z : 122\n"
     ]
    }
   ],
   "source": [
    "#ascii_lower  case characters printing with while loop codition\n",
    "import string\n",
    "i=0\n",
    "while(i < len(string.ascii_lowercase)):\n",
    "     print(f'{string.ascii_lowercase[i]} : {ord(string.ascii_lowercase[i])}')\n",
    "     i += 1"
   ]
  },
  {
   "cell_type": "code",
   "execution_count": 13,
   "id": "abba2299-b255-4cbf-91f2-64ab5ee849ba",
   "metadata": {},
   "outputs": [
    {
     "name": "stdout",
     "output_type": "stream",
     "text": [
      "! : 33\n",
      "\" : 34\n",
      "# : 35\n",
      "$ : 36\n",
      "% : 37\n",
      "& : 38\n",
      "' : 39\n",
      "( : 40\n",
      ") : 41\n",
      "* : 42\n",
      "+ : 43\n",
      ", : 44\n",
      "- : 45\n",
      ". : 46\n",
      "/ : 47\n",
      ": : 58\n",
      "; : 59\n",
      "< : 60\n",
      "= : 61\n",
      "> : 62\n",
      "? : 63\n",
      "@ : 64\n",
      "[ : 91\n",
      "\\ : 92\n",
      "] : 93\n",
      "^ : 94\n",
      "_ : 95\n",
      "` : 96\n",
      "{ : 123\n",
      "| : 124\n",
      "} : 125\n",
      "~ : 126\n"
     ]
    }
   ],
   "source": [
    "#punctuation characters printing with while loop codition\n",
    "import string\n",
    "i=0\n",
    "while(i < len(string.punctuation)):\n",
    "     print(f'{string.punctuation[i]} : {ord(string.punctuation[i])}')\n",
    "     i += 1"
   ]
  },
  {
   "cell_type": "code",
   "execution_count": 15,
   "id": "260ed8d9-9373-45d7-91bc-08c21c06bcc3",
   "metadata": {},
   "outputs": [
    {
     "name": "stdout",
     "output_type": "stream",
     "text": [
      "1: \u0001 2: \u0002 3: \u0003 4: \u0004 5: \u0005 6: \u0006 7: \u0007 8: 9: \t 10: \n",
      " 14: \u000e 15: \u000f 16: \u0010 17: \u0011 18: \u0012 19: \u0013 20: \u0014 21: \u0015 22: \u0016 23: \u0017 24: \u0018 25: \u0019 26: \u001a 27: \u001b 28: \u001c",
      " 29: \u001d",
      " 30: \u001e",
      " 31: \u001f 32:   33: ! "
     ]
    }
   ],
   "source": [
    "i=1\n",
    "while(i<34):\n",
    "    print(f'{i}: {chr(i)}',end=' ')\n",
    "    i+=1"
   ]
  },
  {
   "cell_type": "code",
   "execution_count": 16,
   "id": "cea1c39e-1fbf-4e63-b8df-d2a2e130a45c",
   "metadata": {},
   "outputs": [
    {
     "name": "stdout",
     "output_type": "stream",
     "text": [
      "127:  128:  129:  130:  131:  132:  133: ",
      " 134:  135:  136:  137:  138:  139:  140:  141:  142:  143:  144:  145:  146:  147:  148:  149:  150:  151:  152:  153:  154:  155:  156:  157:  158:  159:  160:   161: ¡ 162: ¢ 163: £ 164: ¤ 165: ¥ 166: ¦ 167: § 168: ¨ 169: © 170: ª 171: « 172: ¬ 173: ­ 174: ® 175: ¯ 176: ° 177: ± 178: ² 179: ³ 180: ´ 181: µ 182: ¶ 183: · 184: ¸ 185: ¹ 186: º 187: » 188: ¼ 189: ½ 190: ¾ 191: ¿ 192: À 193: Á 194: Â 195: Ã 196: Ä 197: Å 198: Æ 199: Ç 200: È 201: É 202: Ê 203: Ë 204: Ì 205: Í 206: Î 207: Ï 208: Ð 209: Ñ 210: Ò 211: Ó 212: Ô 213: Õ 214: Ö 215: × 216: Ø 217: Ù 218: Ú 219: Û 220: Ü 221: Ý 222: Þ 223: ß 224: à 225: á 226: â 227: ã 228: ä 229: å 230: æ 231: ç 232: è 233: é 234: ê 235: ë 236: ì 237: í 238: î 239: ï 240: ð 241: ñ 242: ò 243: ó 244: ô 245: õ 246: ö 247: ÷ 248: ø 249: ù "
     ]
    }
   ],
   "source": [
    "i=127\n",
    "while(i<250):\n",
    "    print(f'{i}: {chr(i)}',end=' ')\n",
    "    i+=1"
   ]
  },
  {
   "cell_type": "code",
   "execution_count": 18,
   "id": "02e68ac4-1ca2-46ce-a940-81fecf29562d",
   "metadata": {},
   "outputs": [
    {
     "name": "stdout",
     "output_type": "stream",
     "text": [
      "3077: అ 3078: ఆ 3079: ఇ 3080: ఈ 3081: ఉ 3082: ఊ 3083: ఋ 3084: ఌ 3085: ఍ 3086: ఎ 3087: ఏ 3088: ఐ 3089: ఑ 3090: ఒ 3091: ఓ 3092: ఔ 3093: క 3094: ఖ 3095: గ 3096: ఘ 3097: ఙ 3098: చ 3099: ఛ 3100: జ 3101: ఝ 3102: ఞ 3103: ట 3104: ఠ 3105: డ 3106: ఢ 3107: ణ 3108: త 3109: థ 3110: ద 3111: ధ 3112: న 3113: ఩ 3114: ప 3115: ఫ 3116: బ 3117: భ 3118: మ 3119: య 3120: ర 3121: ఱ 3122: ల 3123: ళ 3124: ఴ 3125: వ 3126: శ 3127: ష 3128: స 3129: హ 3130: ఺ 3131: ఻ 3132: ఼ 3133: ఽ 3134: ా 3135: ి 3136: ీ 3137: ు 3138: ూ 3139: ృ 3140: ౄ 3141: ౅ 3142: ె 3143: ే 3144: ై 3145: ౉ 3146: ొ 3147: ో 3148: ౌ 3149: ్ "
     ]
    }
   ],
   "source": [
    "i=3077\n",
    "while(i<3150):\n",
    "    print(f'{i}: {chr(i)}',end=' ')\n",
    "    i+=1"
   ]
  },
  {
   "cell_type": "code",
   "execution_count": null,
   "id": "eb3f1caa-c9d2-43cc-8a1d-f7b93475e565",
   "metadata": {},
   "outputs": [],
   "source": []
  }
 ],
 "metadata": {
  "kernelspec": {
   "display_name": "Python 3 (ipykernel)",
   "language": "python",
   "name": "python3"
  },
  "language_info": {
   "codemirror_mode": {
    "name": "ipython",
    "version": 3
   },
   "file_extension": ".py",
   "mimetype": "text/x-python",
   "name": "python",
   "nbconvert_exporter": "python",
   "pygments_lexer": "ipython3",
   "version": "3.12.7"
  }
 },
 "nbformat": 4,
 "nbformat_minor": 5
}
