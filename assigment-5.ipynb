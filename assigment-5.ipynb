{
 "cells": [
  {
   "cell_type": "code",
   "execution_count": null,
   "id": "61d50251-d0c5-4179-af77-736452d54b99",
   "metadata": {},
   "outputs": [],
   "source": []
  },
  {
   "cell_type": "code",
   "execution_count": 1,
   "id": "9a99b359-2379-4eb0-aa9f-425e8e498d74",
   "metadata": {},
   "outputs": [
    {
     "name": "stdin",
     "output_type": "stream",
     "text": [
      "Enter the Basic Salary 90000\n"
     ]
    },
    {
     "name": "stdout",
     "output_type": "stream",
     "text": [
      "Total Gross salalary with dear and house rent allowances 36000.0, 18000.0 is : 144000.0\n"
     ]
    }
   ],
   "source": [
    "#1. Ramesh’s basic salary is input through the keyboard. His dearness allowance is 40% of  basic salary, and \n",
    "#house rent allowance is 20% of basic salary. Write a program to  calculate his gross salary. \n",
    "def cal_gross_salary():\n",
    "    try:\n",
    "        basic_sal=eval(input('Enter the Basic Salary'))\n",
    "        dear_allowance=(basic_sal)*(40/100)\n",
    "        house_rent_allowance=(basic_sal)*(20/100)\n",
    "        gross_salary=basic_sal+dear_allowance+house_rent_allowance\n",
    "        print(f\"Total Gross salalary with dear and house rent allowances {dear_allowance}, {house_rent_allowance} is : {gross_salary}\")\n",
    "    except Exception as e:\n",
    "        print('Exp while calculation Gross salaray',e)\n",
    "cal_gross_salary()\n"
   ]
  },
  {
   "cell_type": "code",
   "execution_count": null,
   "id": "b3e18a16-1d92-45fc-925f-1a8320abd366",
   "metadata": {},
   "outputs": [],
   "source": [
    "\n"
   ]
  },
  {
   "cell_type": "code",
   "execution_count": 29,
   "id": "c28010f6-48b2-492e-a165-fb480bd6b6f2",
   "metadata": {},
   "outputs": [
    {
     "name": "stdin",
     "output_type": "stream",
     "text": [
      "Enter the distance between two cities (in km): 20\n"
     ]
    },
    {
     "name": "stdout",
     "output_type": "stream",
     "text": [
      "The distance in meters : 20000 \n",
      "The distance in feet : 65616.8 \n",
      "The distance in inches : 787402.0 \n",
      "The distance in centimeters : 2000000 \n"
     ]
    }
   ],
   "source": [
    "#2) The distance between two cities (in km.) is input through the keyboard. Write a program to convert and \n",
    "#print this distance in meters, feet, inches and centimeters. \n",
    "def covert_distance_km():\n",
    "    try:\n",
    "        distance_km=eval(input('Enter the distance between two cities (in km):'))\n",
    "        if(distance_km<0):\n",
    "            print(f'Please enter the distannce {distance_km} in +ve numbers only')\n",
    "        else:\n",
    "            meters = distance_km * 1000\n",
    "            feet = distance_km * 3280.84\n",
    "            inches = distance_km * 39370.1\n",
    "            centimeters = distance_km * 100000\n",
    "            #print(f\"The distance is : \")\n",
    "            print(f\"The distance in meters : {meters} \")\n",
    "            print(f\"The distance in feet : {feet} \")\n",
    "            print(f\"The distance in inches : {inches} \")\n",
    "            print(f\"The distance in centimeters : {centimeters} \")\n",
    "    except Exception as e:\n",
    "        print('Exp while converting distance in other parameters :',e)\n",
    "covert_distance_km()   "
   ]
  },
  {
   "cell_type": "code",
   "execution_count": 13,
   "id": "2a29f460-f5c8-4d57-9c66-4f5d4219002a",
   "metadata": {},
   "outputs": [
    {
     "name": "stdout",
     "output_type": "stream",
     "text": [
      "Enter the marks in five difefrent subjects:\n"
     ]
    },
    {
     "name": "stdin",
     "output_type": "stream",
     "text": [
      "Enter the marks in telugu: 90\n",
      "Enter the marks in hindhi: 90\n",
      "Enter the marks in english: 80\n",
      "Enter the marks in maths: 90\n",
      "Enter the marks in social: 95\n"
     ]
    },
    {
     "name": "stdout",
     "output_type": "stream",
     "text": [
      "Aggregate marks obtained by student in 5 different subjects is 445\n",
      "Perecenr of marks obtained by student in 5 different subjects is 89.0%\n"
     ]
    }
   ],
   "source": [
    "#3) If the marks obtained by a student in five different subjects are input through the keyboard, find out the\n",
    "#aggregate marks and percentage marks obtained by the student. Assume that the maximum marks that\n",
    "#can be obtained by a student in each subject is 100.\n",
    "\n",
    "def cal_avg_per_marks():\n",
    "    try:\n",
    "        print('Enter the marks in five difefrent subjects:')\n",
    "        telugu_marks=eval(input('Enter the marks in telugu:'))\n",
    "        hindhi_marks=eval(input('Enter the marks in hindhi:'))\n",
    "        english_marks=eval(input('Enter the marks in english:'))\n",
    "        math_marks = eval(input('Enter the marks in maths:'))\n",
    "        social_marks = eval(input('Enter the marks in social:'))\n",
    "        agg_marks=(telugu_marks+hindhi_marks+english_marks+math_marks+social_marks)\n",
    "        per_of_marks=(agg_marks/500)*100\n",
    "        print(f\"Aggregate marks obtained by student in 5 different subjects is {agg_marks}\")\n",
    "        print(f\"Perecent of marks obtained by student in 5 different subjects is {per_of_marks}%\")\n",
    "    except Exception as e:\n",
    "        print('Exception while converting average marks in 5 different subjects is  :',e)\n",
    "cal_avg_per_marks() "
   ]
  },
  {
   "cell_type": "code",
   "execution_count": 18,
   "id": "a37272be-28f9-4b5d-b9a6-d84b00e284da",
   "metadata": {},
   "outputs": [
    {
     "name": "stdout",
     "output_type": "stream",
     "text": [
      "Convert temperature from Fahrenheit to Celsius:\n"
     ]
    },
    {
     "name": "stdin",
     "output_type": "stream",
     "text": [
      "Enter the temperature of the city in Fahrenheit: 100\n"
     ]
    },
    {
     "name": "stdout",
     "output_type": "stream",
     "text": [
      "\n",
      "The temperature in Celsius is: 37.78°C\n"
     ]
    }
   ],
   "source": [
    "#4) Temperature of a city in Fahrenheit degrees is input through the keyboard. Write a program to convert this\n",
    "#temperature into Centigrade degrees.\n",
    "def convert_to_celsius(fahrenheit):\n",
    "    \"\"\"\n",
    "    Convert temperature from Fahrenheit to Celsius.\n",
    "    \"\"\"\n",
    "    celsius = (5 / 9) * (fahrenheit - 32)\n",
    "    return celsius\n",
    "\n",
    "def convert_temperature():\n",
    "    try:\n",
    "        print('Convert temperature from Fahrenheit to Celsius:')\n",
    "        fahrenheit=eval(input('Enter the temperature of the city in Fahrenheit:'))\n",
    "        # Convert to Celsius\n",
    "        celsius = convert_to_celsius(fahrenheit)\n",
    "        print(f\"\\nThe temperature in Celsius is: {celsius:.2f}°C\")\n",
    "    except Exception as e:\n",
    "        print('Exception while converting temperature from Fahrenheit to Celsius:  :',e)\n",
    "convert_temperature() "
   ]
  },
  {
   "cell_type": "code",
   "execution_count": 35,
   "id": "781fb53a-fd1f-48f6-b1d1-247b72f6ff34",
   "metadata": {},
   "outputs": [
    {
     "name": "stdin",
     "output_type": "stream",
     "text": [
      "Enter the length of rectangle : 20\n",
      "Enter the width of rectangle : 20\n"
     ]
    },
    {
     "name": "stdout",
     "output_type": "stream",
     "text": [
      "\n",
      "The Area of rectangle is: 400.00 square units\n",
      "\n",
      "The Perimeter of rectangle is: 80.00 units \n"
     ]
    }
   ],
   "source": [
    "#5) The length & breadth of a rectangle and radius of a circle are input through the keyboard. Write a program\n",
    "#to calculate the area & perimeter of the rectangle, and the area & circumference of the circle.\n",
    "def calc_rectangle_area_perimeter():\n",
    "    try:\n",
    "        rect_length=eval(input('Enter the length of rectangle :'))\n",
    "        rect_width=eval(input('Enter the width of rectangle :'))\n",
    "        if(rect_length < 0 or rect_width <0):\n",
    "            print('Length and Width of rectangle must be +ve numbers only')\n",
    "        else:\n",
    "            area_of_recat=rect_length*rect_width\n",
    "            perimeter_of_recat=2*(rect_length+rect_width)\n",
    "            print(f\"\\nThe Area of rectangle is: {area_of_recat:.2f} square units\")\n",
    "            print(f\"\\nThe Perimeter of rectangle is: {perimeter_of_recat:.2f} units \")\n",
    "    except Exception as e:\n",
    "        print('Exception while calculating area or perimeter of rectangle  :',e)\n",
    "calc_rectangle_area_perimeter() \n"
   ]
  },
  {
   "cell_type": "code",
   "execution_count": 33,
   "id": "bdec54b3-155c-47e0-9d2f-34f47e87f528",
   "metadata": {},
   "outputs": [
    {
     "name": "stdin",
     "output_type": "stream",
     "text": [
      "Enter the radius of circle : 5\n"
     ]
    },
    {
     "name": "stdout",
     "output_type": "stream",
     "text": [
      "\n",
      "The Area of circle is: 78.54 \n",
      "\n",
      "The circumference of circle is: 31.42  \n"
     ]
    }
   ],
   "source": [
    "#5) part2 - The length & breadth of a rectangle and radius of a circle are input through the keyboard. Write a program\n",
    "#to calculate the area & perimeter of the rectangle, and the area & circumference of the circle.\n",
    "import math\n",
    "def calc_circle_area_circumfrence():\n",
    "    try:\n",
    "        radius=eval(input('Enter the radius of circle :'))\n",
    "        if(radius<0):\n",
    "            print(f'Radius of cirlce should be enetred in +ve number only')\n",
    "        else:\n",
    "            area_of_circle=math.pi*radius*radius\n",
    "            circumference = 2 * math.pi * radius\n",
    "            print(f\"\\nThe Area of circle is: {area_of_circle:.2f} \")\n",
    "            print(f\"\\nThe circumference of circle is: {circumference:.2f}  \")\n",
    "    except Exception as e:\n",
    "        print('Exception while calculating area or circumference of circle  :',e)\n",
    "calc_circle_area_circumfrence() "
   ]
  },
  {
   "cell_type": "code",
   "execution_count": 36,
   "id": "54d46f28-f90a-4081-b99a-2af6abc4f87b",
   "metadata": {},
   "outputs": [
    {
     "name": "stdin",
     "output_type": "stream",
     "text": [
      "Enter the number1  : -1\n",
      "Enter the number2  : -2\n"
     ]
    },
    {
     "name": "stdout",
     "output_type": "stream",
     "text": [
      "\n",
      "The swap of values C and D is -2 and -1 now\n"
     ]
    }
   ],
   "source": [
    "#6) Two numbers are input through the keyboard into two locations C and D. Write a program to interchange\n",
    "#the contents of C and D.\n",
    "import math\n",
    "def swap_numbers():\n",
    "    try:\n",
    "        c=eval(input('Enter the number1  :'))\n",
    "        d=eval(input('Enter the number2  :'))\n",
    "        tmp=c\n",
    "        c=d\n",
    "        d=tmp\n",
    "        print(f\"\\nThe swap of values C and D is {c} and {d} now\")\n",
    "    except Exception as e:\n",
    "        print('Exception while swapping of two numbers :',e)\n",
    "swap_numbers() "
   ]
  },
  {
   "cell_type": "code",
   "execution_count": 53,
   "id": "83a4e1f6-3cd0-4c41-bddd-f095548d0147",
   "metadata": {},
   "outputs": [
    {
     "name": "stdin",
     "output_type": "stream",
     "text": [
      "Enter the five digit number: 98767\n"
     ]
    },
    {
     "name": "stdout",
     "output_type": "stream",
     "text": [
      "\n",
      "The reversed number is 76789 \n"
     ]
    }
   ],
   "source": [
    "#7). If a five-digit number is input through the keyboard, write a program to reverse the number\n",
    "def reverse_five_digit_number():\n",
    "    try:\n",
    "        n1=eval(input('Enter the five digit number:'))\n",
    "        if(n1<10000 or n1>99999):\n",
    "            print(f'The number must be five digit number only, please enter a valid five digit number {n1}')\n",
    "        else:\n",
    "            reverse_num=0\n",
    "            while(n1>0):\n",
    "                    digit=n1%10\n",
    "                    reverse_num=(reverse_num*10)+digit\n",
    "                    n1=n1//10\n",
    "            print(f\"\\nThe reversed number is {reverse_num} \")\n",
    "    except Exception as e:\n",
    "        print('Exception while revesring the five digit number :',e)\n",
    "reverse_five_digit_number() "
   ]
  },
  {
   "cell_type": "code",
   "execution_count": 21,
   "id": "a1ece6a5-1f0d-48a0-aac2-071c13009c14",
   "metadata": {},
   "outputs": [
    {
     "name": "stdin",
     "output_type": "stream",
     "text": [
      "Enter the four digit number: 4567\n"
     ]
    },
    {
     "name": "stdout",
     "output_type": "stream",
     "text": [
      "\n",
      "The sum of fist and last digits of four digit numbers is 11 \n"
     ]
    }
   ],
   "source": [
    "#8). If a four-digit number is input through the keyboard, write a program to obtain the sum of the first and last\n",
    "#digit of this number.\n",
    "import math\n",
    "def cal_four_digit_sum_first_last_num():\n",
    "    try:\n",
    "        n1=eval(input('Enter the four digit number:'))\n",
    "        if(n1<1000 or n1>9999):\n",
    "            print(f'The number must be four digit number only, please enter a valid four digit number {n1}')\n",
    "        else:\n",
    "            last_digit=n1%10\n",
    "            first_digit=n1//1000\n",
    "            \n",
    "            \n",
    "            print(f\"\\nThe sum of fist and last digits of four digit numbers is {first_digit+last_digit} \")\n",
    "    except Exception as e:\n",
    "        print('Exception while sum of the first and last of four digit of this number .  :',e)\n",
    "cal_four_digit_sum_first_last_num() \n"
   ]
  },
  {
   "cell_type": "code",
   "execution_count": 14,
   "id": "2dd64550-2fd5-45d5-b14f-8f7e8d972ce6",
   "metadata": {},
   "outputs": [
    {
     "name": "stdout",
     "output_type": "stream",
     "text": [
      " Total Literacy people in town: 38400.0\n",
      " Total Men in town: 41600.0\n",
      " Total Women in town: 38400.0\n",
      " Total literate Men in town: 28000.0\n",
      " Total literate WoMen in town: 10400.0\n",
      " Total illutarate Men in town: 13600.0\n",
      " Total illutarate WoMen in town: 28000.0\n"
     ]
    }
   ],
   "source": [
    "#9). In a town, the percentage of men is 52. The percentage of total literacy is 48. If total percentage of literate \n",
    "#men is 35 of the total population, write a program to find the total number of illiterate men and women if \n",
    "#the population of the town is 80,000. \n",
    "def cal_illutarate_men_women():\n",
    "    try:\n",
    "        tot_per_men=0.52\n",
    "        tot_literacy_per=0.48\n",
    "        tot_literate_per_of_men=0.35\n",
    "        tot_town_population=80000\n",
    "        tot_literacy_people=tot_literacy_per*tot_town_population\n",
    "        tot_men_people=(tot_per_men)*tot_town_population\n",
    "        tot_literate_men=tot_literate_per_of_men*tot_town_population\n",
    "        tot_women_population=tot_town_population-tot_men_people\n",
    "        tot_literacy_women=tot_literacy_people-tot_literate_men\n",
    "        tot_illutarte_men_town=tot_men_people-tot_literate_men\n",
    "        tot_illutarte_women_town=tot_women_population-tot_literacy_women\n",
    "        print(f\" Total Literacy people in town: {tot_literacy_people}\")\n",
    "        print(f\" Total Men in town: {tot_men_people}\")\n",
    "        print(f\" Total Women in town: {tot_women_population}\")\n",
    "        print(f\" Total literate Men in town: {tot_literate_men}\")\n",
    "        print(f\" Total literate WoMen in town: {tot_literacy_women}\")\n",
    "        print(f\" Total illutarate Men in town: {tot_illutarte_men_town}\")\n",
    "        print(f\" Total illutarate WoMen in town: {tot_illutarte_women_town}\")\n",
    "    except Exception as e:\n",
    "        print('Exp while calculating the illutarate men and women',e)\n",
    "cal_illutarate_men_women()        \n",
    "        "
   ]
  },
  {
   "cell_type": "code",
   "execution_count": 20,
   "id": "eb4aa89c-86db-4485-a555-b93ed3002d2c",
   "metadata": {},
   "outputs": [
    {
     "name": "stdin",
     "output_type": "stream",
     "text": [
      "Enter the amount in hundreds : 1270\n"
     ]
    },
    {
     "name": "stdout",
     "output_type": "stream",
     "text": [
      "Amount: 1270\n",
      "100-rupee notes: 12\n",
      "50-rupee notes: 1\n",
      "10-rupee notes: 2\n"
     ]
    }
   ],
   "source": [
    "#10) A cashier has currency notes of denominations 10, 50 and 100. If the amount to be withdrawn is input \n",
    "#through the keyboard in hundreds, find the total number of currency notes of each denomination the \n",
    "#cashier will have to give to the withdrawer.\n",
    "def cal_currency_denominations():\n",
    "    try:\n",
    "        amount=eval(input('Enter the amount in hundreds :'))\n",
    "        notes_100=amount //100\n",
    "        notes_50= (amount % 100)//50\n",
    "        notes_10=((amount % 100) % 50) //10\n",
    "         # Display the result\n",
    "        print(f\"Amount: {amount}\")\n",
    "        print(f\"100-rupee notes: {notes_100}\")\n",
    "        print(f\"50-rupee notes: {notes_50}\")\n",
    "        print(f\"10-rupee notes: {notes_10}\")\n",
    "    except Exception as e:\n",
    "        print('Exp while calculating the currency denominations',e)\n",
    "cal_currency_denominations() \n"
   ]
  },
  {
   "cell_type": "code",
   "execution_count": null,
   "id": "08436dcd-d1b5-4534-9bb2-60263bd83252",
   "metadata": {},
   "outputs": [],
   "source": []
  },
  {
   "cell_type": "code",
   "execution_count": null,
   "id": "e0bf724f-2c62-4ad7-9649-3336f095438d",
   "metadata": {},
   "outputs": [],
   "source": []
  }
 ],
 "metadata": {
  "kernelspec": {
   "display_name": "Python 3 (ipykernel)",
   "language": "python",
   "name": "python3"
  },
  "language_info": {
   "codemirror_mode": {
    "name": "ipython",
    "version": 3
   },
   "file_extension": ".py",
   "mimetype": "text/x-python",
   "name": "python",
   "nbconvert_exporter": "python",
   "pygments_lexer": "ipython3",
   "version": "3.12.7"
  }
 },
 "nbformat": 4,
 "nbformat_minor": 5
}
