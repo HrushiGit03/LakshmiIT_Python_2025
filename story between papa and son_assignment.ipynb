{
 "cells": [
  {
   "cell_type": "code",
   "execution_count": 10,
   "id": "0d8c8aa5-5da7-4576-81d1-088881e70d5b",
   "metadata": {},
   "outputs": [
    {
     "name": "stdin",
     "output_type": "stream",
     "text": [
      "son : Hi Papa\n",
      "father:  Hi Beta\n",
      "son :  Iam gng to school\n",
      "father:  beta I heard that results came out\n",
      "son : yes papa\n",
      "father:  then what abt results\n",
      "son :  lets play a game , will provide the marks , then you can tell me percentage\n",
      "father:  exited\n"
     ]
    },
    {
     "name": "stdout",
     "output_type": "stream",
     "text": [
      "Telugu : 96\n",
      "Hindhi : 61\n",
      "English : 94\n",
      "Maths : 72\n",
      "Science : 60\n",
      "Social : 60\n",
      "Toatl percent secured in the exams : 74\n",
      "The average of marks obtained is : 74\n"
     ]
    }
   ],
   "source": [
    "# those who are done all the meanwhile do below qn\n",
    "# story between papa and son\n",
    "\n",
    "# son: hi papa\n",
    "# fa : hi beta\n",
    "# son: im going to school\n",
    "# fa: okay beta, i heared your results came out\n",
    "# son: yes papa\n",
    "# fa: then what about the result\n",
    "# son: lets play a game i will give the marks you tell me the percentage\n",
    "# fa: exited\n",
    "# Telugu= random\n",
    "# hindi\n",
    "# english\n",
    "# maths\n",
    "# scifa=\n",
    "# soc\n",
    "# avg\n",
    "# display the avg\n",
    "import random\n",
    "import math\n",
    "import time\n",
    "son=input(\"son :\")\n",
    "fa=input(\"father: \")\n",
    "son=input(\"son : \")\n",
    "fa=input(\"father: \")\n",
    "son=input(\"son :\")\n",
    "fa=input(\"father: \")\n",
    "son=input(\"son : \")\n",
    "fa=input(\"father: \")\n",
    "time.sleep(2)\n",
    "telugu=random.randrange(60,100)\n",
    "print(f\"Telugu : {telugu}\")\n",
    "hindi=random.randrange(60,100)\n",
    "print(f\"Hindhi : {hindi}\")\n",
    "english=random.randrange(60,100)\n",
    "print(f\"English : {english}\")\n",
    "maths=random.randrange(60,100)\n",
    "print(f\"Maths : {maths}\")\n",
    "science=random.randrange(60,100)\n",
    "print(f\"Science : {science}\")\n",
    "social=random.randrange(60,100)\n",
    "print(f\"Social : {social}\")\n",
    "time.sleep(5)\n",
    "per=((telugu+hindi+english+maths+science+social)*100/600)\n",
    "per=math.ceil(per)\n",
    "print(f\"Toatl percent secured in the exams : {per}\")\n",
    "avg=(telugu+hindi+english+maths+science+social)/6\n",
    "avg=math.ceil(avg)\n",
    "print(f\"The average of marks obtained is : {avg}\")"
   ]
  },
  {
   "cell_type": "code",
   "execution_count": null,
   "id": "2162e5ef-ffd8-4e3b-8681-5281419d89ae",
   "metadata": {},
   "outputs": [],
   "source": []
  }
 ],
 "metadata": {
  "kernelspec": {
   "display_name": "Python 3 (ipykernel)",
   "language": "python",
   "name": "python3"
  },
  "language_info": {
   "codemirror_mode": {
    "name": "ipython",
    "version": 3
   },
   "file_extension": ".py",
   "mimetype": "text/x-python",
   "name": "python",
   "nbconvert_exporter": "python",
   "pygments_lexer": "ipython3",
   "version": "3.12.7"
  }
 },
 "nbformat": 4,
 "nbformat_minor": 5
}
