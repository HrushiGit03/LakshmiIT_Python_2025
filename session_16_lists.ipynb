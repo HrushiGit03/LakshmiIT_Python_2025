{
 "cells": [
  {
   "cell_type": "code",
   "execution_count": null,
   "id": "cb512a1d-dd93-4b4d-81e8-5d41a6ef6360",
   "metadata": {},
   "outputs": [],
   "source": [
    "- Basic representations\n",
    "- strings will use in quotes\n",
    "- List elements is in square brackets\n",
    "- for strings ====str\n",
    "- we will say string \n",
    "\n",
    "\n",
    "    \n"
   ]
  },
  {
   "cell_type": "code",
   "execution_count": 1,
   "id": "2d166ff6-0fcc-4f3b-97e3-4cd0ecc09990",
   "metadata": {},
   "outputs": [
    {
     "name": "stdout",
     "output_type": "stream",
     "text": [
      "[1, 2, 3, 4]\n"
     ]
    }
   ],
   "source": [
    "list1=[1,2,3,4]\n",
    "print(list1)"
   ]
  },
  {
   "cell_type": "code",
   "execution_count": 3,
   "id": "c9fca372-f402-44af-b539-8f80b39f94de",
   "metadata": {},
   "outputs": [
    {
     "data": {
      "text/plain": [
       "list"
      ]
     },
     "execution_count": 3,
     "metadata": {},
     "output_type": "execute_result"
    }
   ],
   "source": [
    "type(list1)"
   ]
  },
  {
   "cell_type": "code",
   "execution_count": 4,
   "id": "96ade2ac-1ad7-4f00-9a9d-32735785a9ca",
   "metadata": {},
   "outputs": [
    {
     "data": {
      "text/plain": [
       "['A', 'B', 'C']"
      ]
     },
     "execution_count": 4,
     "metadata": {},
     "output_type": "execute_result"
    }
   ],
   "source": [
    "list2=['A','B','C']\n",
    "list2"
   ]
  },
  {
   "cell_type": "code",
   "execution_count": 6,
   "id": "09f4a291-ca13-4850-b330-c1b51a422566",
   "metadata": {},
   "outputs": [
    {
     "data": {
      "text/plain": [
       "['A', 'B', 'C', 1, 2, 3, 4]"
      ]
     },
     "execution_count": 6,
     "metadata": {},
     "output_type": "execute_result"
    }
   ],
   "source": [
    "list3=['A','B','C',1,2,3,4]\n",
    "list3"
   ]
  },
  {
   "cell_type": "code",
   "execution_count": 7,
   "id": "ec9d4fd2-7a66-455b-84ed-efbe41eeb125",
   "metadata": {},
   "outputs": [
    {
     "data": {
      "text/plain": [
       "[True, 'A', 'B', 4, 6, 7, 20.2]"
      ]
     },
     "execution_count": 7,
     "metadata": {},
     "output_type": "execute_result"
    }
   ],
   "source": [
    "list4=[True,'A','B',4,6,7,20.2]\n",
    "list4"
   ]
  },
  {
   "cell_type": "code",
   "execution_count": 8,
   "id": "88ee45c6-06a1-454d-9404-037f20ad9cb3",
   "metadata": {},
   "outputs": [
    {
     "data": {
      "text/plain": [
       "[True, 'A', 'B', 4, 6, 7, 20.2, (5+10j)]"
      ]
     },
     "execution_count": 8,
     "metadata": {},
     "output_type": "execute_result"
    }
   ],
   "source": [
    "list5=[True,'A','B',4,6,7,20.2,5+10j]\n",
    "list5"
   ]
  },
  {
   "cell_type": "code",
   "execution_count": 9,
   "id": "52844d60-791d-4fd5-8ce5-2c2d2dbb901b",
   "metadata": {},
   "outputs": [
    {
     "data": {
      "text/plain": [
       "[False, 'Apple', 'Bananna', 4, 6, 7, 20.2, (5+10j)]"
      ]
     },
     "execution_count": 9,
     "metadata": {},
     "output_type": "execute_result"
    }
   ],
   "source": [
    "list6=[False,'Apple','Bananna',4,6,7,20.2,5+10j]\n",
    "list6"
   ]
  },
  {
   "cell_type": "code",
   "execution_count": 11,
   "id": "47dfb119-6147-47af-834e-35abfd3691ee",
   "metadata": {},
   "outputs": [
    {
     "data": {
      "text/plain": [
       "[10, 20, 30, ['Apple', 'Banana']]"
      ]
     },
     "execution_count": 11,
     "metadata": {},
     "output_type": "execute_result"
    }
   ],
   "source": [
    "list8=[10,20,30,['Apple','Banana']]\n",
    "list8"
   ]
  },
  {
   "cell_type": "code",
   "execution_count": 10,
   "id": "7000bf9b-37e1-4e84-a4f2-e231c64f1b69",
   "metadata": {},
   "outputs": [
    {
     "data": {
      "text/plain": [
       "[10, 10, 10]"
      ]
     },
     "execution_count": 10,
     "metadata": {},
     "output_type": "execute_result"
    }
   ],
   "source": [
    "list7=[10,10,10]\n",
    "list7"
   ]
  },
  {
   "cell_type": "code",
   "execution_count": 15,
   "id": "78ce9240-0fa6-45aa-b21d-2036ced1fa7d",
   "metadata": {},
   "outputs": [
    {
     "data": {
      "text/plain": [
       "[[[[10, 20, 30, ['Apple', 'Banana']]]]]"
      ]
     },
     "execution_count": 15,
     "metadata": {},
     "output_type": "execute_result"
    }
   ],
   "source": [
    "list10=[_]\n",
    "list10"
   ]
  },
  {
   "cell_type": "code",
   "execution_count": null,
   "id": "9ff6caca-4d2a-4cdb-9630-e4d642b4a323",
   "metadata": {},
   "outputs": [],
   "source": [
    "list7=[10,10,10]\n",
    "list7"
   ]
  },
  {
   "cell_type": "code",
   "execution_count": 33,
   "id": "e4d1878f-0622-46cc-8cc2-b9d6f2649eca",
   "metadata": {},
   "outputs": [
    {
     "name": "stdout",
     "output_type": "stream",
     "text": [
      "5\n",
      "4\n",
      "9\n",
      "List1 sum {} 112\n",
      "List1 sorted {} [2, 5, 10, 20, 75]\n",
      "List2 sorted {} ['Apple', 'Banana', 'Cherry', 'apple']\n",
      "List1 reversed {} [75, 5, 2, 20, 10]\n",
      "List2 reversed {} ['Banana', 'Cherry', 'apple', 'Apple']\n",
      "List3 reversed {} ['banana', 'Cherry', 'apple', 'Apple', 75, 5, 2, 20, 10]\n",
      "List1 min {} 2\n",
      "List1 max {} 75\n",
      "List2 max {} apple\n"
     ]
    }
   ],
   "source": [
    "list1=[10,20,2,5,75]\n",
    "list2=['Apple','apple','Cherry','Banana']\n",
    "list3=[10,20,2,5,75,'Apple','apple','Cherry','banana']\n",
    "#perform all inbuilt functions\n",
    "#len max min sum sorted reversed\n",
    "print(len(list1))\n",
    "print(len(list2))\n",
    "print(len(list3))\n",
    "print(\"List1 sum {}\", sum(list1))\n",
    "#print(\"List2 sum {}\", sum(list2)) # will not work heer\n",
    "#print(\"List3 sum {}\", sum(list3)) # will not work here\n",
    "print(\"List1 sorted {}\", sorted(list1))\n",
    "print(\"List2 sorted {}\", sorted(list2)) #\n",
    "#print(\"List3 sorted {}\", sorted(list3)) # will not work here\n",
    "print(\"List1 reversed {}\", list(reversed(list1)))\n",
    "print(\"List2 reversed {}\", list(reversed(list2))) #\n",
    "print(\"List3 reversed {}\", list(reversed(list3))) # \n",
    "print(\"List1 min {}\", min(list1))\n",
    "#print(\"List2 min {}\", min(list2)) # will not work heer\n",
    "#print(\"List3 min {}\", min(list3)) # will not work here\n",
    "print(\"List1 max {}\", max(list1))\n",
    "print(\"List2 max {}\", max(list2)) # will not work heer\n",
    "#print(\"List3 max {}\", max(list3)) # will not work here\n",
    "\n",
    "\n",
    "\n",
    "\n",
    "      \n"
   ]
  },
  {
   "cell_type": "code",
   "execution_count": 35,
   "id": "3e9f7424-dae2-4b78-be34-517db76f7189",
   "metadata": {},
   "outputs": [
    {
     "name": "stdout",
     "output_type": "stream",
     "text": [
      "75 5 2 20 10 "
     ]
    }
   ],
   "source": [
    "for i in reversed(list1):\n",
    "    print(i,end=' ')"
   ]
  },
  {
   "cell_type": "code",
   "execution_count": 36,
   "id": "d5d91db4-4e62-48fb-8bb3-a3e1b608a581",
   "metadata": {},
   "outputs": [
    {
     "name": "stdout",
     "output_type": "stream",
     "text": [
      "Banana Cherry apple Apple "
     ]
    }
   ],
   "source": [
    "for i in reversed(list2):\n",
    "    print(i,end=' ')"
   ]
  },
  {
   "cell_type": "code",
   "execution_count": 37,
   "id": "37a95008-3052-48e8-8a7e-1ab2a60ded23",
   "metadata": {},
   "outputs": [
    {
     "name": "stdout",
     "output_type": "stream",
     "text": [
      "banana Cherry apple Apple 75 5 2 20 10 "
     ]
    }
   ],
   "source": [
    "for i in reversed(list3):\n",
    "    print(i,end=' ')"
   ]
  },
  {
   "cell_type": "code",
   "execution_count": 39,
   "id": "0d1c6fb6-bdba-48bc-b81f-fcb1a6669ee3",
   "metadata": {},
   "outputs": [
    {
     "ename": "TypeError",
     "evalue": "'reversed' is an invalid keyword argument for sort()",
     "output_type": "error",
     "traceback": [
      "\u001b[1;31m---------------------------------------------------------------------------\u001b[0m",
      "\u001b[1;31mTypeError\u001b[0m                                 Traceback (most recent call last)",
      "Cell \u001b[1;32mIn[39], line 1\u001b[0m\n\u001b[1;32m----> 1\u001b[0m \u001b[38;5;28msorted\u001b[39m(list1,\u001b[38;5;28mreversed\u001b[39m\u001b[38;5;241m=\u001b[39m\u001b[38;5;28;01mTrue\u001b[39;00m)\n",
      "\u001b[1;31mTypeError\u001b[0m: 'reversed' is an invalid keyword argument for sort()"
     ]
    }
   ],
   "source": [
    "sorted(list1,reversed=True)"
   ]
  },
  {
   "cell_type": "markdown",
   "id": "a9dc56d1-5112-4bca-ab2a-6caccda4fee1",
   "metadata": {},
   "source": [
    "- concatenation\n"
   ]
  },
  {
   "cell_type": "code",
   "execution_count": 48,
   "id": "8661edcb-0913-4f47-9866-9a0cfb0e34b3",
   "metadata": {},
   "outputs": [
    {
     "name": "stdout",
     "output_type": "stream",
     "text": [
      "[10, 20, 2, 5, 75, 'Apple', 'apple', 'Cherry', 'Banana']\n"
     ]
    },
    {
     "ename": "TypeError",
     "evalue": "unsupported operand type(s) for -: 'list' and 'list'",
     "output_type": "error",
     "traceback": [
      "\u001b[1;31m---------------------------------------------------------------------------\u001b[0m",
      "\u001b[1;31mTypeError\u001b[0m                                 Traceback (most recent call last)",
      "Cell \u001b[1;32mIn[48], line 6\u001b[0m\n\u001b[0;32m      4\u001b[0m list1\u001b[38;5;241m+\u001b[39mlist2\n\u001b[0;32m      5\u001b[0m \u001b[38;5;28mprint\u001b[39m(list1\u001b[38;5;241m+\u001b[39mlist2)\n\u001b[1;32m----> 6\u001b[0m \u001b[38;5;28mprint\u001b[39m(list1\u001b[38;5;241m-\u001b[39mlist2)\n\u001b[0;32m      7\u001b[0m \u001b[38;5;28mprint\u001b[39m(list1\u001b[38;5;241m*\u001b[39mlist2)\n\u001b[0;32m      8\u001b[0m \u001b[38;5;28mprint\u001b[39m(list1\u001b[38;5;241m/\u001b[39mlist2)\n",
      "\u001b[1;31mTypeError\u001b[0m: unsupported operand type(s) for -: 'list' and 'list'"
     ]
    }
   ],
   "source": [
    "list1=[10,20,2,5,75]\n",
    "list2=['Apple','apple','Cherry','Banana']\n",
    "list3=[10,20,2,5,75,'Apple','apple','Cherry','banana']\n",
    "list1+list2\n",
    "print(list1+list2)\n",
    "print(list1-list2)\n",
    "print(list1*list2)\n",
    "print(list1/list2)\n",
    "\n",
    "\n"
   ]
  },
  {
   "cell_type": "markdown",
   "id": "fd52dd45-ccee-4d4b-b40f-b5eae70119ce",
   "metadata": {},
   "source": [
    "- index\n"
   ]
  },
  {
   "cell_type": "code",
   "execution_count": 60,
   "id": "fefa4d17-cc41-49ce-b1df-b6d75e55e8b4",
   "metadata": {},
   "outputs": [
    {
     "name": "stdout",
     "output_type": "stream",
     "text": [
      "The positive index of 10 is 0\n",
      "The negative index of 10 is -6\n",
      "The positive index  10 : and negative index  -6 for 0 \n",
      "The positive index of 20 is 1\n",
      "The negative index of 20 is -5\n",
      "The positive index  20 : and negative index  -5 for 1 \n",
      "The positive index of 30 is 2\n",
      "The negative index of 30 is -4\n",
      "The positive index  30 : and negative index  -4 for 2 \n",
      "The positive index of A is 3\n",
      "The negative index of A is -3\n",
      "The positive index  A : and negative index  -3 for 3 \n",
      "The positive index of B is 4\n",
      "The negative index of B is -2\n",
      "The positive index  B : and negative index  -2 for 4 \n",
      "The positive index of C is 5\n",
      "The negative index of C is -1\n",
      "The positive index  C : and negative index  -1 for 5 \n"
     ]
    }
   ],
   "source": [
    "#-6  -5 -4   -3   -2    -1\n",
    "#0   1   2    3    4    5\n",
    "#10, 20, 30, 'A', 'B', 'C'\n",
    "list1=[10,20,30,'A','B','C']\n",
    "for i in range(list1):\n",
    "    for\n",
    "       \n"
   ]
  },
  {
   "cell_type": "code",
   "execution_count": 69,
   "id": "a78ecc08-490c-4c31-bd9f-2cc9a71f0aa8",
   "metadata": {},
   "outputs": [
    {
     "name": "stdout",
     "output_type": "stream",
     "text": [
      "1\n",
      "2\n",
      "[[10, 20]]\n",
      "[10, 20]\n",
      "Cherry\n"
     ]
    }
   ],
   "source": [
    "list1=[[10,20]]\n",
    "list2=[10,20]\n",
    "list3=[10,[20]]\n",
    "list4=[10,20,2,5,75,['Apple','apple','Cherry','banana']]\n",
    "print(len(list1))\n",
    "print(len(list2))\n",
    "print(list1)\n",
    "print(list2)\n",
    "print(list4[5][2])"
   ]
  },
  {
   "cell_type": "code",
   "execution_count": 62,
   "id": "914e8d6b-1798-4b6d-98c6-9db5ac5441dc",
   "metadata": {},
   "outputs": [
    {
     "name": "stdout",
     "output_type": "stream",
     "text": [
      "6\n",
      "2\n"
     ]
    }
   ],
   "source": []
  },
  {
   "cell_type": "code",
   "execution_count": null,
   "id": "fe9e1512-32ba-4bfa-a261-4d6f0f73fbc6",
   "metadata": {},
   "outputs": [],
   "source": [
    "list1=['A', ['Apple','B',['Bananan','C','Cherry',"
   ]
  },
  {
   "cell_type": "code",
   "execution_count": 78,
   "id": "6314ddaa-25f5-4d1d-9ede-3fa8591101ca",
   "metadata": {},
   "outputs": [
    {
     "name": "stdout",
     "output_type": "stream",
     "text": [
      "2\n",
      "1\n"
     ]
    },
    {
     "data": {
      "text/plain": [
       "'Dragon fruite'"
      ]
     },
     "execution_count": 78,
     "metadata": {},
     "output_type": "execute_result"
    }
   ],
   "source": [
    "list1=['A',['Apple','B',['Banana','C',['Cherry','D',['Dragon fruite']]]]]\n",
    "print(len(list1))\n",
    "print(len(list1[0]))\n",
    "print(len(list2[0]))\n",
    "list1[1][2][2][2][0]"
   ]
  },
  {
   "cell_type": "code",
   "execution_count": 83,
   "id": "abc93f8a-4607-41d6-8521-7146830b0944",
   "metadata": {},
   "outputs": [
    {
     "data": {
      "text/plain": [
       "'Bat'"
      ]
     },
     "execution_count": 83,
     "metadata": {},
     "output_type": "execute_result"
    }
   ],
   "source": [
    "list1=['India',['Kashmir',['India',['Cricket',['Bat']]]]]\n",
    "list1[1][1][1][1][0]"
   ]
  },
  {
   "cell_type": "code",
   "execution_count": 109,
   "id": "149d3fe7-c97c-4b5a-8e65-21d3f9924b12",
   "metadata": {},
   "outputs": [
    {
     "name": "stdout",
     "output_type": "stream",
     "text": [
      "2\n",
      "2\n",
      "2\n"
     ]
    },
    {
     "data": {
      "text/plain": [
       "'Vikki'"
      ]
     },
     "execution_count": 109,
     "metadata": {},
     "output_type": "execute_result"
    }
   ],
   "source": [
    "list1=['Orange',['Nagapur',['MH',['Shivaji',['Shabaji',['Vikki']]]]]]\n",
    "print(len(list1))\n",
    "print(len(list1[1]))\n",
    "print(len(list1[1]))\n",
    "list1[1][1][1][1][1][0]\n"
   ]
  },
  {
   "cell_type": "code",
   "execution_count": 7,
   "id": "38581dbf-ff2e-45af-83e4-8be8ee5f9534",
   "metadata": {},
   "outputs": [
    {
     "data": {
      "text/plain": [
       "True"
      ]
     },
     "execution_count": 7,
     "metadata": {},
     "output_type": "execute_result"
    }
   ],
   "source": [
    "str='python'\n",
    "list=['p','y','t','h','o','n']\n",
    "'p' in str\n",
    "'p' in list\n"
   ]
  },
  {
   "cell_type": "markdown",
   "id": "cef99e02-3f82-4401-8cdc-770f878a0ead",
   "metadata": {},
   "source": [
    "**range vs in**\n",
    "\n",
    "- when ever we have to use with index then go for range\n",
    "- when we have to use with only element go for in\n",
    "\n",
    "                                            \n"
   ]
  },
  {
   "cell_type": "markdown",
   "id": "fb642bb2-5486-453e-93c0-7ea91a6717a0",
   "metadata": {},
   "source": [
    "**mutable vs immutable**\n",
    "List are mutable\n"
   ]
  },
  {
   "cell_type": "code",
   "execution_count": 5,
   "id": "5aa3c30b-75d1-44cd-95f8-ae03f28b8925",
   "metadata": {},
   "outputs": [
    {
     "data": {
      "text/plain": [
       "[20, 200, 300, 400]"
      ]
     },
     "execution_count": 5,
     "metadata": {},
     "output_type": "execute_result"
    }
   ],
   "source": [
    "list1=[100,200,300,400]\n",
    "list1[0]=20\n",
    "list1"
   ]
  },
  {
   "cell_type": "code",
   "execution_count": 11,
   "id": "f079f0ea-45d9-44d9-8239-42578b3312a6",
   "metadata": {},
   "outputs": [
    {
     "data": {
      "text/plain": [
       "[]"
      ]
     },
     "execution_count": 11,
     "metadata": {},
     "output_type": "execute_result"
    }
   ],
   "source": [
    "l1=[10,20,30,40,'A','B','C','D','E','apple','banna']\n",
    "l1[:] #[10,20,30,40,'A','B','C','D','E','apple','banna']\n",
    "l1[::] #[10,20,30,40,'A','B','C','D','E','apple','banna']\n",
    "l1[::-1] # ['banna', 'apple', 'E', 'D', 'C', 'B', 'A', 40, 30, 20, 10]\n",
    "l1[2:10:2]  #[30,'A', 'C','E']\n",
    "l1[2:10:-2] #No output empy []\n",
    "l1[2:-10:2] #No output empy []\n",
    "l1[-2:10:2]\n",
    "l1[2:-10:-2]\n",
    "l1[-2:10:-2]\n",
    "l1[-2:10:2]\n",
    "l1[-2:-10:-2]\n",
    "l1[10:-2:2]\n",
    "l1[-10:2:-2]\n",
    "l1[-10:-2:-2]\n",
    "\n",
    "\n",
    "\n"
   ]
  },
  {
   "cell_type": "code",
   "execution_count": null,
   "id": "da5a5633-a795-4694-a64c-8912d6cd69c4",
   "metadata": {},
   "outputs": [],
   "source": []
  },
  {
   "cell_type": "code",
   "execution_count": 9,
   "id": "b6c80f9b-97c9-4f8f-affc-38e338688b57",
   "metadata": {},
   "outputs": [
    {
     "data": {
      "text/plain": [
       "['__add__',\n",
       " '__class__',\n",
       " '__class_getitem__',\n",
       " '__contains__',\n",
       " '__delattr__',\n",
       " '__delitem__',\n",
       " '__dir__',\n",
       " '__doc__',\n",
       " '__eq__',\n",
       " '__format__',\n",
       " '__ge__',\n",
       " '__getattribute__',\n",
       " '__getitem__',\n",
       " '__getstate__',\n",
       " '__gt__',\n",
       " '__hash__',\n",
       " '__iadd__',\n",
       " '__imul__',\n",
       " '__init__',\n",
       " '__init_subclass__',\n",
       " '__iter__',\n",
       " '__le__',\n",
       " '__len__',\n",
       " '__lt__',\n",
       " '__mul__',\n",
       " '__ne__',\n",
       " '__new__',\n",
       " '__reduce__',\n",
       " '__reduce_ex__',\n",
       " '__repr__',\n",
       " '__reversed__',\n",
       " '__rmul__',\n",
       " '__setattr__',\n",
       " '__setitem__',\n",
       " '__sizeof__',\n",
       " '__str__',\n",
       " '__subclasshook__',\n",
       " 'append',\n",
       " 'clear',\n",
       " 'copy',\n",
       " 'count',\n",
       " 'extend',\n",
       " 'index',\n",
       " 'insert',\n",
       " 'pop',\n",
       " 'remove',\n",
       " 'reverse',\n",
       " 'sort']"
      ]
     },
     "execution_count": 9,
     "metadata": {},
     "output_type": "execute_result"
    }
   ],
   "source": [
    "dir([])\n"
   ]
  },
  {
   "cell_type": "markdown",
   "id": "1147bc0d-ed94-4d40-b3f4-c3ef5aec7a2a",
   "metadata": {},
   "source": [
    "--clear\n",
    "-- copy\n",
    "-- count"
   ]
  },
  {
   "cell_type": "markdown",
   "id": "e2c4f07c-e93f-44dd-8fe4-0e0ab3967c7e",
   "metadata": {},
   "source": []
  },
  {
   "cell_type": "code",
   "execution_count": 23,
   "id": "214d68e0-cdc6-4413-94bd-ab18f7baa25b",
   "metadata": {},
   "outputs": [
    {
     "name": "stdout",
     "output_type": "stream",
     "text": [
      "None\n",
      "Count of 'A' in first list 1\n",
      "['A', 'B', 'C']\n"
     ]
    }
   ],
   "source": [
    "list1=['A','B','C']\n",
    "list6=list1\n",
    "list2=list1.copy()\n",
    "count=list1.count('A')\n",
    "list5=list1.clear()\n",
    "print(list5)\n",
    "print(\"Count of 'A' in first list\",count)\n",
    "list6=list2\n",
    "print(list6)\n",
    "\n",
    "\n",
    "      \n"
   ]
  },
  {
   "cell_type": "code",
   "execution_count": 26,
   "id": "be98c629-f502-4232-a921-93955ed9bcca",
   "metadata": {},
   "outputs": [
    {
     "data": {
      "text/plain": [
       "2"
      ]
     },
     "execution_count": 26,
     "metadata": {},
     "output_type": "execute_result"
    }
   ],
   "source": [
    "l1=[10,20,30,40,'A','B','C','D','E','apple','banna',10]\n",
    "l1.count(10)"
   ]
  },
  {
   "cell_type": "code",
   "execution_count": 30,
   "id": "71acb937-62f1-4b43-ba68-2f1e76434ae9",
   "metadata": {},
   "outputs": [
    {
     "ename": "SyntaxError",
     "evalue": "invalid syntax (3512873396.py, line 1)",
     "output_type": "error",
     "traceback": [
      "\u001b[1;36m  Cell \u001b[1;32mIn[30], line 1\u001b[1;36m\u001b[0m\n\u001b[1;33m    **append**\u001b[0m\n\u001b[1;37m    ^\u001b[0m\n\u001b[1;31mSyntaxError\u001b[0m\u001b[1;31m:\u001b[0m invalid syntax\n"
     ]
    }
   ],
   "source": [
    "**append**\n",
    "- append is very important method in the entire list\n",
    "- in our life we will use this method very very frequently\n",
    "- append means adding element at the last\n",
    "- always recall if you see any where multiple values means most of time we will keep those values in a list"
   ]
  },
  {
   "cell_type": "markdown",
   "id": "daa7c557-3885-403e-90d1-7abd4cc37cd3",
   "metadata": {},
   "source": []
  },
  {
   "cell_type": "code",
   "execution_count": 36,
   "id": "4ad62511-f56f-4d3c-9de8-14d74e25373f",
   "metadata": {},
   "outputs": [
    {
     "name": "stdout",
     "output_type": "stream",
     "text": [
      "[10, 20, 30, 'apple', 'grapes']\n",
      "None\n"
     ]
    }
   ],
   "source": [
    "l1=[10,20,30]\n",
    "l1.append('apple')\n",
    "l1.append('grapes')\n",
    "print(l1)\n",
    "\n"
   ]
  },
  {
   "cell_type": "code",
   "execution_count": 37,
   "id": "3da81e4c-f0c8-4a99-ac64-534976114955",
   "metadata": {},
   "outputs": [
    {
     "ename": "TypeError",
     "evalue": "list.append() takes exactly one argument (2 given)",
     "output_type": "error",
     "traceback": [
      "\u001b[1;31m---------------------------------------------------------------------------\u001b[0m",
      "\u001b[1;31mTypeError\u001b[0m                                 Traceback (most recent call last)",
      "Cell \u001b[1;32mIn[37], line 2\u001b[0m\n\u001b[0;32m      1\u001b[0m l1\u001b[38;5;241m=\u001b[39m[\u001b[38;5;241m10\u001b[39m,\u001b[38;5;241m20\u001b[39m,\u001b[38;5;241m30\u001b[39m]\n\u001b[1;32m----> 2\u001b[0m l1\u001b[38;5;241m.\u001b[39mappend(\u001b[38;5;124m'\u001b[39m\u001b[38;5;124mapple\u001b[39m\u001b[38;5;124m'\u001b[39m,\u001b[38;5;124m'\u001b[39m\u001b[38;5;124mbanna\u001b[39m\u001b[38;5;124m'\u001b[39m)\n\u001b[0;32m      3\u001b[0m l1\n",
      "\u001b[1;31mTypeError\u001b[0m: list.append() takes exactly one argument (2 given)"
     ]
    }
   ],
   "source": [
    "l1=[10,20,30]\n",
    "l1.append('apple','banna') #Error here\n",
    "l1"
   ]
  },
  {
   "cell_type": "code",
   "execution_count": 38,
   "id": "cc6f382c-763f-4d2a-81c5-9a8d6fd7bd52",
   "metadata": {},
   "outputs": [
    {
     "data": {
      "text/plain": [
       "[10, 20, 30, ['apple', 'banna']]"
      ]
     },
     "execution_count": 38,
     "metadata": {},
     "output_type": "execute_result"
    }
   ],
   "source": [
    "l1=[10,20,30]\n",
    "l1.append(['apple','banna']) #Error here\n",
    "l1"
   ]
  },
  {
   "cell_type": "markdown",
   "id": "aea2dd91-6b90-424d-9584-23afbb6d7110",
   "metadata": {},
   "source": [
    "**apend method used to store the ouputs**"
   ]
  },
  {
   "cell_type": "code",
   "execution_count": 44,
   "id": "b00d5a98-8a39-426f-885f-5c2ca4def2ac",
   "metadata": {},
   "outputs": [
    {
     "data": {
      "text/plain": [
       "[1, 2, 3, 4, 5]"
      ]
     },
     "execution_count": 44,
     "metadata": {},
     "output_type": "execute_result"
    }
   ],
   "source": [
    "l1=[]\n",
    "for i in range(1,6):\n",
    "    l1.append(i)\n",
    "l1"
   ]
  },
  {
   "cell_type": "code",
   "execution_count": 51,
   "id": "d4262875-37c9-4c22-a29b-296b364e14b5",
   "metadata": {},
   "outputs": [
    {
     "data": {
      "text/plain": [
       "['48 : 2304', '44 : 1936', '35 : 1225']"
      ]
     },
     "execution_count": 51,
     "metadata": {},
     "output_type": "execute_result"
    }
   ],
   "source": [
    "#wap ask the user enter three numbers using random\n",
    "#and swaure and store in list\n",
    "import random\n",
    "list1=[]\n",
    "for i in range(3):\n",
    "    num=random.randint(1,100)\n",
    "    #print(num)\n",
    "    sq=num*num\n",
    "    #print(f'{num} : {num*num}')\n",
    "    list1.append(f'{num} : {num*num}')\n",
    "    #list1.append(sq)\n",
    "list1\n",
    "    \n"
   ]
  },
  {
   "cell_type": "code",
   "execution_count": 55,
   "id": "8fa599d8-35cc-44d4-846a-710c09c5be77",
   "metadata": {},
   "outputs": [
    {
     "name": "stdout",
     "output_type": "stream",
     "text": [
      "Even List : [10, 12]\n",
      "Odd List : [47, 53, 27]\n"
     ]
    }
   ],
   "source": [
    "#Q2)list1=[10,47,53,12,27]\n",
    "list1=[10,47,53,12,27]\n",
    "even_list=[]\n",
    "odd_list=[]\n",
    "for i in list1:\n",
    "    if(i%2==0):\n",
    "        even_list.append(i)\n",
    "    else:\n",
    "        odd_list.append(i)\n",
    "print(f'Even List : {even_list}')\n",
    "print(f'Odd List : {odd_list}')\n"
   ]
  },
  {
   "cell_type": "code",
   "execution_count": null,
   "id": "1199422b-bdab-4645-8a87-a9ade5eec306",
   "metadata": {},
   "outputs": [],
   "source": [
    "#Q3) input=['hyd','bengaluru','pune','mumbai']\n",
    "    #output=['Hyd','Bengaluru','Pune','Mumbai']\n",
    "\n",
    " # input=['hyd','bengaluru','pune','mumbai']\n",
    " # output=['HYD','BENGALURU','PUNE','MUMBAI']"
   ]
  },
  {
   "cell_type": "code",
   "execution_count": 63,
   "id": "95a571d0-47b2-4b5a-a081-42a5a3c37595",
   "metadata": {},
   "outputs": [
    {
     "name": "stdout",
     "output_type": "stream",
     "text": [
      "['Hai', 'Hai', 'how', 'are', 'you', 'you', 'Hai']\n"
     ]
    }
   ],
   "source": [
    "#Q11) take a string find the most repeated word from string\n",
    "str='Hai Hai how are you you Hai'\n",
    "list=str.split(' ')\n",
    "most_rep=[]\n",
    "non_rep=[]\n",
    "for char in list:\n",
    "    if char in most_rep:\n",
    "         most_rep.append(char)\n",
    "    else:\n",
    "        most_rep.append(char)\n",
    "print(most_rep)\n",
    "#print(most_rep)\n",
    "\n",
    "        "
   ]
  },
  {
   "cell_type": "code",
   "execution_count": 1,
   "id": "86268fa7-4449-4487-a5c1-589fdf5097ac",
   "metadata": {},
   "outputs": [
    {
     "data": {
      "text/plain": [
       "[30, 'A', 'C', 'E']"
      ]
     },
     "execution_count": 1,
     "metadata": {},
     "output_type": "execute_result"
    }
   ],
   "source": [
    "l1=[10,20,30,40,'A','B','C','D','E','apple','banna']\n",
    "l1[2:10:2]\n",
    "\n",
    "# 1. l1[2:10:2]\n",
    "# Syntax: list[start:stop:step]\n",
    "\n",
    "# Start index (2) → Begins at index 2 (30).\n",
    "# Stop index (10) → Stops before index 10 (apple).\n",
    "# Step (2) → Picks every second element.\n",
    "# Extracting elements:\n",
    "\n",
    "# Start from index 2 → 30\n",
    "# Move 2 steps to index 4 → 'A'\n",
    "# Move 2 steps to index 6 → 'C'\n",
    "# Move 2 steps to index 8 → 'E'\n",
    "# Stop at index 10 (not included).\n",
    "\n"
   ]
  },
  {
   "cell_type": "code",
   "execution_count": 2,
   "id": "3de418f2-bc14-488d-ad36-ad918737aefe",
   "metadata": {},
   "outputs": [
    {
     "data": {
      "text/plain": [
       "[]"
      ]
     },
     "execution_count": 2,
     "metadata": {},
     "output_type": "execute_result"
    }
   ],
   "source": [
    "l1=[10,20,30,40,'A','B','C','D','E','apple','banna']\n",
    "l1[2:10:-2]  #empy list no output\n",
    "# 2. l1[2:10:-2]\n",
    "# Start index (2) → Starts at index 2 (30).\n",
    "# Stop index (10) → Stops before index 10 (apple).\n",
    "# Step (-2) → Moves backwards by 2 steps.\n",
    "# Now, observe:\n",
    "\n",
    "# We are trying to move backwards (-2 step) from index 2 (30).\n",
    "# But index 2 is smaller than 10, and we are moving in reverse, which is not possible."
   ]
  },
  {
   "cell_type": "code",
   "execution_count": null,
   "id": "33dcfe60-4219-4f7f-8ead-dd5cd47d6eaf",
   "metadata": {},
   "outputs": [],
   "source": [
    "\n",
    "l1=[10,20,30,40,'A','B','C','D','E','apple','banna']\n",
    "l1[2:-10:2]\n",
    "\n",
    "Let's analyze the slicing operation step by step:\n",
    "\n",
    "### Given list:\n",
    "```python\n",
    "l1 = [10, 20, 30, 40, 'A', 'B', 'C', 'D', 'E', 'apple', 'banna']\n",
    "```\n",
    "**Indexing positions:**\n",
    "```\n",
    " 0   1   2   3   4   5   6   7   8     9      10\n",
    "[10, 20, 30, 40, 'A', 'B', 'C', 'D', 'E', 'apple', 'banna']\n",
    "```\n",
    "**Negative Indexing:**\n",
    "```\n",
    " -11  -10  -9  -8  -7  -6  -5  -4  -3    -2     -1\n",
    "[ 10,  20, 30, 40, 'A', 'B', 'C', 'D', 'E', 'apple', 'banna']\n",
    "```\n",
    "\n",
    "### Slicing Operation: `l1[2:-10:2]`\n",
    "- **Start index (`2`)** → Starts from index `2` (`30`).\n",
    "- **Stop index (`-10`)** → Refers to index `-10` (which is `20`).\n",
    "- **Step (`2`)** → Moves forward with a step of `2`.\n",
    "\n",
    "#### Logic:\n",
    "- The slice moves **forward** starting at index `2` (`30`).\n",
    "- The stop index is `-10`, which corresponds to **index `1`** (`20`).\n",
    "- Since slicing moves **forward** but index `2` (`30`) is **already beyond index `-10` (`20`)**, the slice is invalid.\n",
    "\n",
    "### **Result:**\n",
    "```python\n",
    "[]\n",
    "```\n",
    "The output is an **empty list** because the start index (`2`) is **already ahead** of the stop index (`-10`), making forward slicing impossible."
   ]
  },
  {
   "cell_type": "markdown",
   "id": "2c92c9f3-ccd4-45c2-9505-75859512a42b",
   "metadata": {},
   "source": [
    "** extend **\n"
   ]
  },
  {
   "cell_type": "code",
   "execution_count": null,
   "id": "cc27f770-456c-4c65-beb5-4a868be6c654",
   "metadata": {},
   "outputs": [],
   "source": []
  },
  {
   "cell_type": "code",
   "execution_count": 7,
   "id": "7e18f557-7703-4688-af83-9b16595aeec0",
   "metadata": {},
   "outputs": [
    {
     "name": "stdout",
     "output_type": "stream",
     "text": [
      "[1, 2, 3, 4, 5, 'A', 'B', 'C', 'D', 'E']\n",
      "[1, 2, 3, 4, 5]\n",
      "['A', 'B', 'C', 'D', 'E']\n",
      "l1 will over write the if we use extend\n",
      "[1, 2, 3, 4, 5, 'A', 'B', 'C', 'D', 'E']\n"
     ]
    }
   ],
   "source": [
    "l1=[1,2,3,4,5]\n",
    "l2=['A','B','C','D','E']\n",
    "print(l1+l2)\n",
    "print(l1)\n",
    "print(l2)\n",
    "print(\"l1 will over write the if we use extend\")\n",
    "l1.extend(l2)\n",
    "print(l1)\n",
    "\n",
    "\n",
    "\n"
   ]
  },
  {
   "cell_type": "markdown",
   "id": "97b89a45-c1f1-4fd0-a51a-dfb09d5d9d19",
   "metadata": {},
   "source": [
    "** index **"
   ]
  },
  {
   "cell_type": "code",
   "execution_count": 12,
   "id": "44815075-8c29-4279-91b2-86a487cebc9a",
   "metadata": {},
   "outputs": [
    {
     "data": {
      "text/plain": [
       "3"
      ]
     },
     "execution_count": 12,
     "metadata": {},
     "output_type": "execute_result"
    }
   ],
   "source": [
    "l1=[1,2,3,4,5,'Apple','Banana','Cherry',4,5]\n",
    "l1.index(4)"
   ]
  },
  {
   "cell_type": "markdown",
   "id": "a2779026-e583-437b-a18f-c3419ad49b2e",
   "metadata": {},
   "source": [
    "- in strings we have index and find\n",
    "- in lists we have only index\n",
    "- same as string concepts"
   ]
  },
  {
   "cell_type": "code",
   "execution_count": 13,
   "id": "94606b6d-992f-4cff-8886-7d54a6dd3714",
   "metadata": {},
   "outputs": [
    {
     "data": {
      "text/plain": [
       "8"
      ]
     },
     "execution_count": 13,
     "metadata": {},
     "output_type": "execute_result"
    }
   ],
   "source": [
    "l1=[1,2,3,4,5,'Apple','Banana','Cherry',4,5]\n",
    "i1=l1.index(4)\n",
    "l1.index(4,i1+1)"
   ]
  },
  {
   "cell_type": "code",
   "execution_count": null,
   "id": "07129374-eca3-466b-ad09-a5ef1c64a8fa",
   "metadata": {},
   "outputs": [],
   "source": [
    "- pop vs remove vs del() inbui"
   ]
  },
  {
   "cell_type": "markdown",
   "id": "22415bee-703d-4795-af37-8f44f7ae968c",
   "metadata": {},
   "source": [
    "- diff between append and insert\n"
   ]
  },
  {
   "cell_type": "code",
   "execution_count": 19,
   "id": "eaae5a5b-6f9f-4fbf-993c-d2f99199edbe",
   "metadata": {},
   "outputs": [
    {
     "name": "stdout",
     "output_type": "stream",
     "text": [
      "[1, 2, 3, 4, 5, 200, 'Apple', 'Banana', 'Cherry', 4, 5]\n"
     ]
    }
   ],
   "source": [
    "l1=[1,2,3,4,5,'Apple','Banana','Cherry',4,5]\n",
    "l2=[20.4,10.8]\n",
    "id1=l1.index('Apple')\n",
    "l1.insert(id1,200)\n",
    "l1\n",
    "print(l1)"
   ]
  },
  {
   "cell_type": "code",
   "execution_count": null,
   "id": "34186da7-f355-4e82-bb81-3eb842104bf0",
   "metadata": {},
   "outputs": [],
   "source": []
  },
  {
   "cell_type": "code",
   "execution_count": 21,
   "id": "4b1477ff-3e10-4a21-8944-28f36e665aa9",
   "metadata": {},
   "outputs": [
    {
     "data": {
      "text/plain": [
       "[1, 2, 3, 4, 5, 'Banana', 'Cherry', 4, 5]"
      ]
     },
     "execution_count": 21,
     "metadata": {},
     "output_type": "execute_result"
    }
   ],
   "source": [
    "l1=[1,2,3,4,5,'Apple','Banana','Cherry',4,5]\n",
    "l1.pop(5)\n",
    "l1"
   ]
  },
  {
   "cell_type": "code",
   "execution_count": 22,
   "id": "8e4bb48e-cb28-42d6-bf0c-4a888d5a70ba",
   "metadata": {},
   "outputs": [
    {
     "data": {
      "text/plain": [
       "[1, 2, 3, 4, 5, 'Banana', 'Cherry', 4, 5]"
      ]
     },
     "execution_count": 22,
     "metadata": {},
     "output_type": "execute_result"
    }
   ],
   "source": [
    "l1=[1,2,3,4,5,'Apple','Banana','Cherry',4,5]\n",
    "l1.remove('Apple')\n",
    "l1"
   ]
  },
  {
   "cell_type": "code",
   "execution_count": 24,
   "id": "b13799be-2b0c-4d06-a695-37d051e191f6",
   "metadata": {},
   "outputs": [
    {
     "data": {
      "text/plain": [
       "[1, 2, 3, 4, 5, 'Apple', 'Cherry', 4, 5]"
      ]
     },
     "execution_count": 24,
     "metadata": {},
     "output_type": "execute_result"
    }
   ],
   "source": [
    "l1=[1,2,3,4,5,'Apple','Banana','Cherry',4,5]\n",
    "del(l1[6]) #del is inbuilt function #if you want to element pop is thee based on index , \n",
    "#remove is there based on value and del inbuilt function based on the index only\n",
    "l1"
   ]
  },
  {
   "cell_type": "code",
   "execution_count": 3,
   "id": "716cfab1-d761-4314-a1a8-ad4cbf08e352",
   "metadata": {},
   "outputs": [
    {
     "ename": "NameError",
     "evalue": "name 'l1' is not defined",
     "output_type": "error",
     "traceback": [
      "\u001b[1;31m---------------------------------------------------------------------------\u001b[0m",
      "\u001b[1;31mNameError\u001b[0m                                 Traceback (most recent call last)",
      "Cell \u001b[1;32mIn[3], line 3\u001b[0m\n\u001b[0;32m      1\u001b[0m l1\u001b[38;5;241m=\u001b[39m[\u001b[38;5;241m1\u001b[39m,\u001b[38;5;241m2\u001b[39m,\u001b[38;5;241m3\u001b[39m,\u001b[38;5;241m4\u001b[39m,\u001b[38;5;241m5\u001b[39m,\u001b[38;5;124m'\u001b[39m\u001b[38;5;124mApple\u001b[39m\u001b[38;5;124m'\u001b[39m,\u001b[38;5;124m'\u001b[39m\u001b[38;5;124mBanana\u001b[39m\u001b[38;5;124m'\u001b[39m,\u001b[38;5;124m'\u001b[39m\u001b[38;5;124mCherry\u001b[39m\u001b[38;5;124m'\u001b[39m,\u001b[38;5;241m4\u001b[39m,\u001b[38;5;241m5\u001b[39m]\n\u001b[0;32m      2\u001b[0m \u001b[38;5;28;01mdel\u001b[39;00m(l1)\n\u001b[1;32m----> 3\u001b[0m l1\n",
      "\u001b[1;31mNameError\u001b[0m: name 'l1' is not defined"
     ]
    }
   ],
   "source": [
    "l1=[1,2,3,4,5,'Apple','Banana','Cherry',4,5]\n",
    "del(l1) # complete list well delete\n",
    "l1"
   ]
  },
  {
   "cell_type": "code",
   "execution_count": 4,
   "id": "1740b1af-74b0-487b-b18a-05f828131be9",
   "metadata": {},
   "outputs": [
    {
     "data": {
      "text/plain": [
       "[1, 2, 3, 4, 5, 'Apple', 'Cherry', 4, 5]"
      ]
     },
     "execution_count": 4,
     "metadata": {},
     "output_type": "execute_result"
    }
   ],
   "source": [
    "l1=[1,2,3,4,5,'Apple','Banana','Cherry',4,5]\n",
    "del l1[6]\n",
    "l1"
   ]
  },
  {
   "cell_type": "markdown",
   "id": "f369e939-3b6b-44e5-b606-c880ac50ad3d",
   "metadata": {},
   "source": [
    "** reverse -- reversed **\n",
    "-- reverse is a method\n",
    "-- reversed is in built function\n"
   ]
  },
  {
   "cell_type": "code",
   "execution_count": 1,
   "id": "c2d73424-8b21-4c80-9e86-f23a490766e8",
   "metadata": {},
   "outputs": [],
   "source": [
    "l1=[1,2,3,4,5,'Apple','Banana','Cherry',4,5]\n",
    "l1.reverse() #inplace\n",
    "#l1"
   ]
  },
  {
   "cell_type": "code",
   "execution_count": 10,
   "id": "a3aaa5b4-0d2d-4752-abd6-088b23493639",
   "metadata": {},
   "outputs": [
    {
     "data": {
      "text/plain": [
       "[5, 4, 'Cherry', 'Banana', 'Apple', 5, 4, 3, 2, 1]"
      ]
     },
     "execution_count": 10,
     "metadata": {},
     "output_type": "execute_result"
    }
   ],
   "source": [
    "l1=[1,2,3,4,5,'Apple','Banana','Cherry',4,5]\n",
    "l1=reversed(l1)\n",
    "list(l1)\n"
   ]
  },
  {
   "cell_type": "code",
   "execution_count": 9,
   "id": "a06d0706-ac43-41d7-80bf-411b34ba50a6",
   "metadata": {},
   "outputs": [
    {
     "data": {
      "text/plain": [
       "[11, 10, 5, 4, 3, 2, 1]"
      ]
     },
     "execution_count": 9,
     "metadata": {},
     "output_type": "execute_result"
    }
   ],
   "source": [
    "l1=[1,2,3,4,5,10,11]\n",
    "l1.sort(reverse=True)\n",
    "l1"
   ]
  },
  {
   "cell_type": "code",
   "execution_count": 12,
   "id": "a72fd390-bccb-4746-bbd0-2c08739d8081",
   "metadata": {},
   "outputs": [
    {
     "data": {
      "text/plain": [
       "[11, 10, 5, 4, 3, 2, 1]"
      ]
     },
     "execution_count": 12,
     "metadata": {},
     "output_type": "execute_result"
    }
   ],
   "source": [
    "l1=[1,2,3,4,5,10,11]\n",
    "l1=reversed(l1)\n",
    "list(l1)\n"
   ]
  },
  {
   "cell_type": "markdown",
   "id": "7d212dfc-959b-4166-8d6d-598d9adf3708",
   "metadata": {},
   "source": [
    "- tuple"
   ]
  },
  {
   "cell_type": "code",
   "execution_count": 4,
   "id": "df5aa33a-48a6-455e-8c50-bccdb48b33df",
   "metadata": {},
   "outputs": [
    {
     "data": {
      "text/plain": [
       "['__add__',\n",
       " '__class__',\n",
       " '__class_getitem__',\n",
       " '__contains__',\n",
       " '__delattr__',\n",
       " '__dir__',\n",
       " '__doc__',\n",
       " '__eq__',\n",
       " '__format__',\n",
       " '__ge__',\n",
       " '__getattribute__',\n",
       " '__getitem__',\n",
       " '__getnewargs__',\n",
       " '__getstate__',\n",
       " '__gt__',\n",
       " '__hash__',\n",
       " '__init__',\n",
       " '__init_subclass__',\n",
       " '__iter__',\n",
       " '__le__',\n",
       " '__len__',\n",
       " '__lt__',\n",
       " '__mul__',\n",
       " '__ne__',\n",
       " '__new__',\n",
       " '__reduce__',\n",
       " '__reduce_ex__',\n",
       " '__repr__',\n",
       " '__rmul__',\n",
       " '__setattr__',\n",
       " '__sizeof__',\n",
       " '__str__',\n",
       " '__subclasshook__',\n",
       " 'count',\n",
       " 'index']"
      ]
     },
     "execution_count": 4,
     "metadata": {},
     "output_type": "execute_result"
    }
   ],
   "source": [
    "dir(())"
   ]
  },
  {
   "cell_type": "code",
   "execution_count": null,
   "id": "e5b75f03-76f7-4b91-b22d-3a91c6f217d5",
   "metadata": {},
   "outputs": [],
   "source": []
  }
 ],
 "metadata": {
  "kernelspec": {
   "display_name": "Python 3 (ipykernel)",
   "language": "python",
   "name": "python3"
  },
  "language_info": {
   "codemirror_mode": {
    "name": "ipython",
    "version": 3
   },
   "file_extension": ".py",
   "mimetype": "text/x-python",
   "name": "python",
   "nbconvert_exporter": "python",
   "pygments_lexer": "ipython3",
   "version": "3.12.7"
  }
 },
 "nbformat": 4,
 "nbformat_minor": 5
}
