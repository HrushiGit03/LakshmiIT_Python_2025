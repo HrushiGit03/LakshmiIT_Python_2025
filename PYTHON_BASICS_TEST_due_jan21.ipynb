{
 "cells": [
  {
   "cell_type": "code",
   "execution_count": 2,
   "id": "45ab1d58-af3d-48e8-9993-543b71cd02e2",
   "metadata": {},
   "outputs": [
    {
     "ename": "IndentationError",
     "evalue": "expected an indented block after function definition on line 2 (3631060584.py, line 3)",
     "output_type": "error",
     "traceback": [
      "\u001b[1;36m  Cell \u001b[1;32mIn[2], line 3\u001b[1;36m\u001b[0m\n\u001b[1;33m    print(\"Hello\")\u001b[0m\n\u001b[1;37m    ^\u001b[0m\n\u001b[1;31mIndentationError\u001b[0m\u001b[1;31m:\u001b[0m expected an indented block after function definition on line 2\n"
     ]
    }
   ],
   "source": [
    "#1. What is the error in this function?\n",
    "def greet():\n",
    "print(\"Hello\")\n",
    "#A) SyntaxError\n",
    "#B) IndentationError- correct answer\n",
    "#C) NameError\n",
    "#D) None"
   ]
  },
  {
   "cell_type": "code",
   "execution_count": 4,
   "id": "c9f9991e-8fe3-44be-921e-8819531d2257",
   "metadata": {},
   "outputs": [
    {
     "ename": "TypeError",
     "evalue": "greet() takes 0 positional arguments but 1 was given",
     "output_type": "error",
     "traceback": [
      "\u001b[1;31m---------------------------------------------------------------------------\u001b[0m",
      "\u001b[1;31mTypeError\u001b[0m                                 Traceback (most recent call last)",
      "Cell \u001b[1;32mIn[4], line 4\u001b[0m\n\u001b[0;32m      2\u001b[0m \u001b[38;5;28;01mdef\u001b[39;00m \u001b[38;5;21mgreet\u001b[39m():\n\u001b[0;32m      3\u001b[0m     \u001b[38;5;28mprint\u001b[39m(\u001b[38;5;124m\"\u001b[39m\u001b[38;5;124mHello\u001b[39m\u001b[38;5;124m\"\u001b[39m)\n\u001b[1;32m----> 4\u001b[0m \u001b[38;5;28mprint\u001b[39m(greet(\u001b[38;5;241m5\u001b[39m))\n",
      "\u001b[1;31mTypeError\u001b[0m: greet() takes 0 positional arguments but 1 was given"
     ]
    }
   ],
   "source": [
    "#2.What error is raised in this code?\n",
    "def greet():\n",
    "    print(\"Hello\")\n",
    "print(greet(5))\n",
    "#A) TypeError\n",
    "#B) ValueError\n",
    "#C) IndexError\n",
    "#D) None"
   ]
  },
  {
   "cell_type": "code",
   "execution_count": 5,
   "id": "f0e8d821-fc27-4b64-b0d4-ed3798fcb04d",
   "metadata": {},
   "outputs": [
    {
     "ename": "TypeError",
     "evalue": "details() missing 1 required positional argument: 'name'",
     "output_type": "error",
     "traceback": [
      "\u001b[1;31m---------------------------------------------------------------------------\u001b[0m",
      "\u001b[1;31mTypeError\u001b[0m                                 Traceback (most recent call last)",
      "Cell \u001b[1;32mIn[5], line 4\u001b[0m\n\u001b[0;32m      2\u001b[0m \u001b[38;5;28;01mdef\u001b[39;00m \u001b[38;5;21mdetails\u001b[39m(name, age\u001b[38;5;241m=\u001b[39m\u001b[38;5;241m20\u001b[39m):\n\u001b[0;32m      3\u001b[0m     \u001b[38;5;28mprint\u001b[39m(\u001b[38;5;124mf\u001b[39m\u001b[38;5;124m\"\u001b[39m\u001b[38;5;124mName: \u001b[39m\u001b[38;5;132;01m{\u001b[39;00mname\u001b[38;5;132;01m}\u001b[39;00m\u001b[38;5;124m, Age: \u001b[39m\u001b[38;5;132;01m{\u001b[39;00mage\u001b[38;5;132;01m}\u001b[39;00m\u001b[38;5;124m\"\u001b[39m)\n\u001b[1;32m----> 4\u001b[0m details()\n",
      "\u001b[1;31mTypeError\u001b[0m: details() missing 1 required positional argument: 'name'"
     ]
    }
   ],
   "source": [
    "#3. What error occurs here?\n",
    "def details(name, age=20):\n",
    "    print(f\"Name: {name}, Age: {age}\")\n",
    "details()\n",
    "#A) TypeError\n",
    "#B) NameError\n",
    "#C) ValueError\n",
    "#D) None"
   ]
  },
  {
   "cell_type": "code",
   "execution_count": 7,
   "id": "4b4ee781-df6f-47ac-b0f7-3d45b1d8f394",
   "metadata": {},
   "outputs": [
    {
     "name": "stdout",
     "output_type": "stream",
     "text": [
      "50\n",
      "None\n"
     ]
    }
   ],
   "source": [
    "a=10\n",
    "b=70\n",
    "def sub(a,b):\n",
    "    a=20\n",
    "    b=30\n",
    "    print(a+b)\n",
    "print(sub(100,200))\n",
    "#A) 50\n",
    "#B) 80\n",
    "#C) IndentationError\n",
    "#D) SyntaxError"
   ]
  },
  {
   "cell_type": "code",
   "execution_count": 10,
   "id": "f4a067f4-2f06-4dd5-9e91-260c9476c750",
   "metadata": {},
   "outputs": [
    {
     "name": "stdout",
     "output_type": "stream",
     "text": [
      "Functions with out arguments\n"
     ]
    },
    {
     "name": "stdin",
     "output_type": "stream",
     "text": [
      "Enter the salary: 100000\n",
      "Enter the tax: 20\n"
     ]
    },
    {
     "name": "stdout",
     "output_type": "stream",
     "text": [
      "Tax Pay : 20000.0\n"
     ]
    }
   ],
   "source": [
    "print(\"Functions with out arguments\")\n",
    "def tax_cal():\n",
    "    salary=eval(input('Enter the salary:'))\n",
    "    tax_per=eval(input('Enter the tax:'))\n",
    "    tax_pay=salary*tax_per/100\n",
    "    print(f\"Tax Pay :\",tax_pay)\n",
    "tax_cal()\n",
    "    "
   ]
  },
  {
   "cell_type": "code",
   "execution_count": null,
   "id": "23555ab1-740a-45c0-a6a9-fd727d9993b8",
   "metadata": {},
   "outputs": [],
   "source": [
    "print(\"Functions with arguments\")\n",
    "def tax_cal2(salary,tax_per):\n",
    "    tax_pay=salary*tax_per/100\n",
    "    print(f\"Tax Pay :\",tax_pay)\n",
    "tax_cal2(100000,20)\n",
    "    "
   ]
  },
  {
   "cell_type": "code",
   "execution_count": 14,
   "id": "50ab6135-b78d-4645-abf5-b697db8fa730",
   "metadata": {},
   "outputs": [
    {
     "name": "stdout",
     "output_type": "stream",
     "text": [
      "a 100\n",
      "b 200\n",
      "c 600\n",
      "The sum of 100,200 and 600 is : 900\n"
     ]
    }
   ],
   "source": [
    "#case-1\n",
    "def add(a,b,c):\n",
    "        print('a',a)\n",
    "        print('b',b)\n",
    "        print('c',c)\n",
    "        summ=a+b+c\n",
    "        print(f\"The sum of {a},{b} and {c} is : {summ}\")\n",
    "add(100,200,600) "
   ]
  },
  {
   "cell_type": "code",
   "execution_count": 15,
   "id": "157013c7-3526-4440-b330-52a6b096fd7e",
   "metadata": {},
   "outputs": [
    {
     "name": "stdout",
     "output_type": "stream",
     "text": [
      "a 100\n",
      "b 200\n",
      "c 600\n",
      "The sum of 100,200 and 600 is : 900\n"
     ]
    }
   ],
   "source": [
    "#case-2 default argumemts over ride here--600 will take as argument\n",
    "def add(a,b,c=400):\n",
    "        print('a',a)\n",
    "        print('b',b)\n",
    "        print('c',c)\n",
    "        summ=a+b+c\n",
    "        print(f\"The sum of {a},{b} and {c} is : {summ}\")\n",
    "add(100,200,600) "
   ]
  },
  {
   "cell_type": "code",
   "execution_count": 16,
   "id": "1931a06b-a4be-4c35-b1b6-14f0cd9ceaa0",
   "metadata": {},
   "outputs": [
    {
     "name": "stdout",
     "output_type": "stream",
     "text": [
      "a 100\n",
      "b 200\n",
      "c 400\n",
      "The sum of 100,200 and 400 is : 700\n"
     ]
    }
   ],
   "source": [
    "#case-3 with default arguments\n",
    "def add(a,b,c=400):\n",
    "        print('a',a)\n",
    "        print('b',b)\n",
    "        print('c',c)\n",
    "        summ=a+b+c\n",
    "        print(f\"The sum of {a},{b} and {c} is : {summ}\")\n",
    "add(100,200) "
   ]
  },
  {
   "cell_type": "code",
   "execution_count": 17,
   "id": "5da11802-f97b-47b9-b026-b163ee1c62a4",
   "metadata": {},
   "outputs": [
    {
     "name": "stdout",
     "output_type": "stream",
     "text": [
      "a 100\n",
      "b 200\n",
      "c 1000\n",
      "The sum of 100,200 and 1000 is : 1300\n"
     ]
    }
   ],
   "source": [
    "#case-4 with default arguments\n",
    "def add(a,b,c=400):\n",
    "        c=1000 #it overides the value.\n",
    "        print('a',a)\n",
    "        print('b',b)\n",
    "        print('c',c)\n",
    "        summ=a+b+c\n",
    "        print(f\"The sum of {a},{b} and {c} is : {summ}\")\n",
    "add(100,200,600) \n",
    "#whie define 400\n",
    "#while calling 600\n",
    "#while running 1000"
   ]
  },
  {
   "cell_type": "markdown",
   "id": "e48b8a12-74ec-439a-bcff-03460cc7ae17",
   "metadata": {},
   "source": [
    "**Global varaiable vs Local variable**\n",
    "- The varaiables outside the function is called ** global varaibles **\n",
    "    - Global varaiables can be used anywhere\n",
    "    - Global varaibales can be used inside the function and outside the function\n",
    "- The variables inside the function is called as **local variable **\n",
    "   - local varaiables can be used only side the function\n",
    "   - local varaiables cannt be used out side the function\n",
    " \n",
    "\n"
   ]
  },
  {
   "cell_type": "code",
   "execution_count": null,
   "id": "a6a7856f-8bf4-49d7-add8-1eebec262583",
   "metadata": {},
   "outputs": [],
   "source": []
  },
  {
   "cell_type": "code",
   "execution_count": 21,
   "id": "85c242bb-3e67-44c4-b182-973a4c4ee490",
   "metadata": {},
   "outputs": [
    {
     "name": "stdout",
     "output_type": "stream",
     "text": [
      "The summation of 100 and 200 is : 300\n"
     ]
    }
   ],
   "source": [
    "def addition():\n",
    "    n1=100\n",
    "    n2=200\n",
    "    summ=n1+n2\n",
    "    print(f'The summation of {n1} and {n2} is : {summ}')\n",
    "addition()"
   ]
  },
  {
   "cell_type": "code",
   "execution_count": 22,
   "id": "018e5c8e-faa7-4e00-ad18-8382e8ab4d49",
   "metadata": {},
   "outputs": [
    {
     "name": "stdout",
     "output_type": "stream",
     "text": [
      "The summation of 1000 and 2000 is : 3000\n"
     ]
    }
   ],
   "source": [
    "n1=1000\n",
    "n2=2000\n",
    "def addition():\n",
    "    summ=n1+n2\n",
    "    print(f'The summation of {n1} and {n2} is : {summ}')\n",
    "addition()"
   ]
  },
  {
   "cell_type": "code",
   "execution_count": 25,
   "id": "cda7362e-f7db-4ba0-8429-a731ade17714",
   "metadata": {},
   "outputs": [
    {
     "name": "stdout",
     "output_type": "stream",
     "text": [
      "1000\n",
      "2000\n"
     ]
    }
   ],
   "source": [
    "print(n1)\n",
    "print(n2)"
   ]
  },
  {
   "cell_type": "code",
   "execution_count": 28,
   "id": "8946e594-ad94-46f7-81b8-02cf2801cf34",
   "metadata": {},
   "outputs": [
    {
     "name": "stdout",
     "output_type": "stream",
     "text": [
      "The summation of 1000 and 2000 is : 3000\n"
     ]
    }
   ],
   "source": [
    "n1=1000\n",
    "n2=2000\n",
    "def addition():\n",
    "    global summ #to make local varaiables as global varaiable delcare the varaiable as global\n",
    "    summ=n1+n2\n",
    "    print(f'The summation of {n1} and {n2} is : {summ}')\n",
    "addition()"
   ]
  },
  {
   "cell_type": "code",
   "execution_count": 27,
   "id": "8bbf8e78-182b-418e-95d7-3779d264a53f",
   "metadata": {},
   "outputs": [
    {
     "name": "stdout",
     "output_type": "stream",
     "text": [
      "3000\n"
     ]
    }
   ],
   "source": [
    "summ"
   ]
  },
  {
   "cell_type": "code",
   "execution_count": 30,
   "id": "6d3ff764-704c-4ab2-ae9b-65d8e63a9b7c",
   "metadata": {},
   "outputs": [
    {
     "name": "stdout",
     "output_type": "stream",
     "text": [
      "The summ : 200\n"
     ]
    }
   ],
   "source": [
    "s=100\n",
    "\n",
    "def add1():\n",
    "    global s1\n",
    "    n1=100\n",
    "    s1=s+n1\n",
    "    print(f'The summ : {s1}')\n",
    "add1()"
   ]
  },
  {
   "cell_type": "code",
   "execution_count": null,
   "id": "44cc77be-2b62-4449-aa27-a0c0500984ae",
   "metadata": {},
   "outputs": [],
   "source": [
    "*unbound local error*\n",
    "    "
   ]
  },
  {
   "cell_type": "code",
   "execution_count": 31,
   "id": "49bcd91c-cf0b-4328-96b7-f27ca126d112",
   "metadata": {},
   "outputs": [
    {
     "ename": "UnboundLocalError",
     "evalue": "cannot access local variable 's' where it is not associated with a value",
     "output_type": "error",
     "traceback": [
      "\u001b[1;31m---------------------------------------------------------------------------\u001b[0m",
      "\u001b[1;31mUnboundLocalError\u001b[0m                         Traceback (most recent call last)",
      "Cell \u001b[1;32mIn[31], line 5\u001b[0m\n\u001b[0;32m      3\u001b[0m     s\u001b[38;5;241m=\u001b[39ms\u001b[38;5;241m+\u001b[39mn1\n\u001b[0;32m      4\u001b[0m     \u001b[38;5;28mprint\u001b[39m(\u001b[38;5;124mf\u001b[39m\u001b[38;5;124m'\u001b[39m\u001b[38;5;124mThe summ : \u001b[39m\u001b[38;5;132;01m{\u001b[39;00ms1\u001b[38;5;132;01m}\u001b[39;00m\u001b[38;5;124m'\u001b[39m)\n\u001b[1;32m----> 5\u001b[0m add1()\n",
      "Cell \u001b[1;32mIn[31], line 3\u001b[0m, in \u001b[0;36madd1\u001b[1;34m()\u001b[0m\n\u001b[0;32m      1\u001b[0m \u001b[38;5;28;01mdef\u001b[39;00m \u001b[38;5;21madd1\u001b[39m():\n\u001b[0;32m      2\u001b[0m     n1\u001b[38;5;241m=\u001b[39m\u001b[38;5;241m100\u001b[39m\n\u001b[1;32m----> 3\u001b[0m     s\u001b[38;5;241m=\u001b[39ms\u001b[38;5;241m+\u001b[39mn1\n\u001b[0;32m      4\u001b[0m     \u001b[38;5;28mprint\u001b[39m(\u001b[38;5;124mf\u001b[39m\u001b[38;5;124m'\u001b[39m\u001b[38;5;124mThe summ : \u001b[39m\u001b[38;5;132;01m{\u001b[39;00ms1\u001b[38;5;132;01m}\u001b[39;00m\u001b[38;5;124m'\u001b[39m)\n",
      "\u001b[1;31mUnboundLocalError\u001b[0m: cannot access local variable 's' where it is not associated with a value"
     ]
    }
   ],
   "source": [
    "def add1():\n",
    "    n1=100\n",
    "    s=s+n1\n",
    "    print(f'The summ : {s1}')\n",
    "add1()"
   ]
  },
  {
   "cell_type": "code",
   "execution_count": 32,
   "id": "a8ed8c49-0e5b-4ade-a0a6-ad82e7dfe0dc",
   "metadata": {},
   "outputs": [
    {
     "ename": "NameError",
     "evalue": "name 'summ1' is not defined",
     "output_type": "error",
     "traceback": [
      "\u001b[1;31m---------------------------------------------------------------------------\u001b[0m",
      "\u001b[1;31mNameError\u001b[0m                                 Traceback (most recent call last)",
      "Cell \u001b[1;32mIn[32], line 5\u001b[0m\n\u001b[0;32m      3\u001b[0m     s\u001b[38;5;241m=\u001b[39msumm1\u001b[38;5;241m+\u001b[39mn1\n\u001b[0;32m      4\u001b[0m     \u001b[38;5;28mprint\u001b[39m(\u001b[38;5;124mf\u001b[39m\u001b[38;5;124m'\u001b[39m\u001b[38;5;124mThe summ : \u001b[39m\u001b[38;5;132;01m{\u001b[39;00ms1\u001b[38;5;132;01m}\u001b[39;00m\u001b[38;5;124m'\u001b[39m)\n\u001b[1;32m----> 5\u001b[0m add1()\n",
      "Cell \u001b[1;32mIn[32], line 3\u001b[0m, in \u001b[0;36madd1\u001b[1;34m()\u001b[0m\n\u001b[0;32m      1\u001b[0m \u001b[38;5;28;01mdef\u001b[39;00m \u001b[38;5;21madd1\u001b[39m():\n\u001b[0;32m      2\u001b[0m     n1\u001b[38;5;241m=\u001b[39m\u001b[38;5;241m100\u001b[39m\n\u001b[1;32m----> 3\u001b[0m     s\u001b[38;5;241m=\u001b[39msumm1\u001b[38;5;241m+\u001b[39mn1\n\u001b[0;32m      4\u001b[0m     \u001b[38;5;28mprint\u001b[39m(\u001b[38;5;124mf\u001b[39m\u001b[38;5;124m'\u001b[39m\u001b[38;5;124mThe summ : \u001b[39m\u001b[38;5;132;01m{\u001b[39;00ms1\u001b[38;5;132;01m}\u001b[39;00m\u001b[38;5;124m'\u001b[39m)\n",
      "\u001b[1;31mNameError\u001b[0m: name 'summ1' is not defined"
     ]
    }
   ],
   "source": [
    "def add1():\n",
    "    n1=100\n",
    "    s=summ1+n1 #Name error - since its assigned to any other\n",
    "    print(f'The summ : {s1}')\n",
    "add1()"
   ]
  },
  {
   "cell_type": "code",
   "execution_count": 33,
   "id": "caf52424-b1dc-4a7b-9f6b-c917556d0fef",
   "metadata": {},
   "outputs": [
    {
     "ename": "UnboundLocalError",
     "evalue": "cannot access local variable 'summ1' where it is not associated with a value",
     "output_type": "error",
     "traceback": [
      "\u001b[1;31m---------------------------------------------------------------------------\u001b[0m",
      "\u001b[1;31mUnboundLocalError\u001b[0m                         Traceback (most recent call last)",
      "Cell \u001b[1;32mIn[33], line 5\u001b[0m\n\u001b[0;32m      3\u001b[0m     summ1\u001b[38;5;241m=\u001b[39msumm1\u001b[38;5;241m+\u001b[39mn1 \u001b[38;5;66;03m#Name error - since its assigned to any other\u001b[39;00m\n\u001b[0;32m      4\u001b[0m     \u001b[38;5;28mprint\u001b[39m(\u001b[38;5;124mf\u001b[39m\u001b[38;5;124m'\u001b[39m\u001b[38;5;124mThe summ : \u001b[39m\u001b[38;5;132;01m{\u001b[39;00msumm1\u001b[38;5;132;01m}\u001b[39;00m\u001b[38;5;124m'\u001b[39m)\n\u001b[1;32m----> 5\u001b[0m add1()\n",
      "Cell \u001b[1;32mIn[33], line 3\u001b[0m, in \u001b[0;36madd1\u001b[1;34m()\u001b[0m\n\u001b[0;32m      1\u001b[0m \u001b[38;5;28;01mdef\u001b[39;00m \u001b[38;5;21madd1\u001b[39m():\n\u001b[0;32m      2\u001b[0m     n1\u001b[38;5;241m=\u001b[39m\u001b[38;5;241m100\u001b[39m\n\u001b[1;32m----> 3\u001b[0m     summ1\u001b[38;5;241m=\u001b[39msumm1\u001b[38;5;241m+\u001b[39mn1 \u001b[38;5;66;03m#Name error - since its assigned to any other\u001b[39;00m\n\u001b[0;32m      4\u001b[0m     \u001b[38;5;28mprint\u001b[39m(\u001b[38;5;124mf\u001b[39m\u001b[38;5;124m'\u001b[39m\u001b[38;5;124mThe summ : \u001b[39m\u001b[38;5;132;01m{\u001b[39;00msumm1\u001b[38;5;132;01m}\u001b[39;00m\u001b[38;5;124m'\u001b[39m)\n",
      "\u001b[1;31mUnboundLocalError\u001b[0m: cannot access local variable 'summ1' where it is not associated with a value"
     ]
    }
   ],
   "source": [
    "def add1():\n",
    "    n1=100\n",
    "    summ1=summ1+n1 #Name error - since its assigned to any other\n",
    "    print(f'The summ : {summ1}')\n",
    "add1()"
   ]
  },
  {
   "cell_type": "code",
   "execution_count": 34,
   "id": "082edc64-edb1-472f-a246-3b44e4455b4d",
   "metadata": {},
   "outputs": [
    {
     "name": "stdout",
     "output_type": "stream",
     "text": [
      "The summ : 100\n"
     ]
    }
   ],
   "source": [
    "def add3():\n",
    "    summ1=0 #By Inilize the value we can void UnboundLocalError error.\n",
    "    n1=100\n",
    "    summ1=summ1+n1 \n",
    "    print(f'The summ : {summ1}')\n",
    "add3()"
   ]
  },
  {
   "cell_type": "code",
   "execution_count": 36,
   "id": "fe1e42d5-51d0-47f2-ab1e-76a26c9d4261",
   "metadata": {},
   "outputs": [
    {
     "name": "stdout",
     "output_type": "stream",
     "text": [
      "The summ : 300\n"
     ]
    }
   ],
   "source": [
    "def add4():\n",
    "    n1=100 #By Inilize the value we can void UnboundLocalError error.\n",
    "    summ2=200\n",
    "    summ2=summ2+n1 \n",
    "    print(f'The summ : {summ2}')\n",
    "add4()"
   ]
  },
  {
   "cell_type": "code",
   "execution_count": 37,
   "id": "0bdadcf9-5e8b-4b86-8810-a5d0eaf0c012",
   "metadata": {},
   "outputs": [
    {
     "name": "stdout",
     "output_type": "stream",
     "text": [
      "60 20.0\n"
     ]
    }
   ],
   "source": [
    "def avg(a,b,c):\n",
    "    ADD=a+b+c\n",
    "    AVG1=(a+b+c)/3\n",
    "    print(ADD,AVG1)\n",
    "avg(10,20,30)"
   ]
  },
  {
   "cell_type": "code",
   "execution_count": 5,
   "id": "42fac3f3-8128-44b6-8e23-3c780837c6ad",
   "metadata": {},
   "outputs": [
    {
     "name": "stdout",
     "output_type": "stream",
     "text": [
      "60 20.0\n",
      "60 20.0\n"
     ]
    }
   ],
   "source": [
    "def avg(a,b,c):\n",
    "    global ADD,AVG1\n",
    "    ADD=a+b+c\n",
    "    AVG1=(a+b+c)/3\n",
    "    print(ADD,AVG1)\n",
    "avg(10,20,30)\n",
    "print(ADD,AVG1)"
   ]
  },
  {
   "cell_type": "code",
   "execution_count": 1,
   "id": "a9220995-9f79-4513-a6cf-4ce2bb17b9d0",
   "metadata": {},
   "outputs": [
    {
     "ename": "NameError",
     "evalue": "name 'ADD' is not defined",
     "output_type": "error",
     "traceback": [
      "\u001b[1;31m---------------------------------------------------------------------------\u001b[0m",
      "\u001b[1;31mNameError\u001b[0m                                 Traceback (most recent call last)",
      "Cell \u001b[1;32mIn[1], line 1\u001b[0m\n\u001b[1;32m----> 1\u001b[0m \u001b[38;5;28mprint\u001b[39m(ADD)\n\u001b[0;32m      2\u001b[0m \u001b[38;5;28mprint\u001b[39m(AVG1)\n",
      "\u001b[1;31mNameError\u001b[0m: name 'ADD' is not defined"
     ]
    }
   ],
   "source": []
  },
  {
   "cell_type": "code",
   "execution_count": 9,
   "id": "d147ddaa-4aa2-42ec-8f69-4a0305bf7b46",
   "metadata": {},
   "outputs": [
    {
     "name": "stdout",
     "output_type": "stream",
     "text": [
      "a 1000\n",
      "b 2000\n",
      "c 7000\n",
      "The sum of 1000,2000 and 7000 is 10000\n"
     ]
    }
   ],
   "source": [
    "c=3000\n",
    "def add5(a,b):\n",
    "    c=7000\n",
    "    print('a',a)\n",
    "    print('b',b)\n",
    "    print('c',c)\n",
    "    sum=a+b+c\n",
    "    print(f'The sum of {a},{b} and {c} is {sum}')\n",
    "add5(1000,2000)\n",
    "    "
   ]
  },
  {
   "cell_type": "code",
   "execution_count": 10,
   "id": "b109c10a-c5ec-4c58-bafb-f33bcf0a9976",
   "metadata": {},
   "outputs": [
    {
     "name": "stdout",
     "output_type": "stream",
     "text": [
      "a 1000\n",
      "b 2000\n",
      "c 7000\n",
      "The sum of 1000,2000 and 7000 is 10000\n"
     ]
    }
   ],
   "source": [
    "c=3000\n",
    "def add5(a,b):\n",
    "    c=7000\n",
    "    print('a',a)\n",
    "    print('b',b)\n",
    "    print('c',c)\n",
    "    sum=a+b+c\n",
    "    print(f'The sum of {a},{b} and {c} is {sum}')\n",
    "c=8000\n",
    "add5(1000,2000)"
   ]
  },
  {
   "cell_type": "code",
   "execution_count": 11,
   "id": "243306f0-183f-4562-8751-0918d76c4fe1",
   "metadata": {},
   "outputs": [
    {
     "name": "stdout",
     "output_type": "stream",
     "text": [
      "a 1000\n",
      "b 2000\n",
      "c 7000\n",
      "The sum of 1000,2000 and 7000 is 10000\n"
     ]
    }
   ],
   "source": [
    "c=3000\n",
    "def add5(a,b,c=5000):\n",
    "    c=7000\n",
    "    print('a',a)\n",
    "    print('b',b)\n",
    "    print('c',c)\n",
    "    sum=a+b+c\n",
    "    print(f'The sum of {a},{b} and {c} is {sum}')\n",
    "c=8000\n",
    "add5(1000,2000)"
   ]
  },
  {
   "cell_type": "code",
   "execution_count": 12,
   "id": "6362164f-1a18-40ab-8323-53b081003378",
   "metadata": {},
   "outputs": [
    {
     "name": "stdout",
     "output_type": "stream",
     "text": [
      "a 1000\n",
      "b 2000\n",
      "c 7000\n",
      "The sum of 1000,2000 and 2400 is 10000\n"
     ]
    }
   ],
   "source": [
    "c=3000\n",
    "def add5(a,b,c=5000):\n",
    "    c=7000\n",
    "    print('a',a)\n",
    "    print('b',b)\n",
    "    print('c',c)\n",
    "    sum=a+b+c\n",
    "    c=2400\n",
    "    print(f'The sum of {a},{b} and {c} is {sum}')\n",
    "c=8000\n",
    "add5(1000,2000)"
   ]
  },
  {
   "cell_type": "code",
   "execution_count": null,
   "id": "9cfee8ae-44cf-4b36-9627-568dd29e00ab",
   "metadata": {},
   "outputs": [],
   "source": []
  }
 ],
 "metadata": {
  "kernelspec": {
   "display_name": "Python 3 (ipykernel)",
   "language": "python",
   "name": "python3"
  },
  "language_info": {
   "codemirror_mode": {
    "name": "ipython",
    "version": 3
   },
   "file_extension": ".py",
   "mimetype": "text/x-python",
   "name": "python",
   "nbconvert_exporter": "python",
   "pygments_lexer": "ipython3",
   "version": "3.12.7"
  }
 },
 "nbformat": 4,
 "nbformat_minor": 5
}
