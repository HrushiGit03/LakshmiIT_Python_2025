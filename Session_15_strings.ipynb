{
 "cells": [
  {
   "cell_type": "markdown",
   "id": "7d407405-7d6e-4b44-81da-7dde770ad7d5",
   "metadata": {},
   "source": [
    "**---Basic Python programs --**\n",
    "- varaiables\n",
    "- datatyps\n",
    "- type conversion\n",
    "- print and input\n",
    "- eval\n",
    "- packages\n",
    "- if and else conditional statements\n",
    "- try and exceptions\n",
    "- functions with arguments /local arguments \n",
    "- for loop and while loop\n",
    "\n",
    "**---Intermedicate Python programs --**\n",
    "- strings\n",
    "- list\n",
    "_ List comprhesion\n",
    "- tupple\n",
    "- Sets\n",
    "- Dictionary \n",
    "- Lambda functions\n",
    "- File handling\n",
    "\n",
    "-- OPPS Concepts--(ML)\n",
    "    \n",
    "\n"
   ]
  },
  {
   "cell_type": "code",
   "execution_count": null,
   "id": "cdfe5432-ac6e-4dfc-9622-66dcceaf4bfa",
   "metadata": {},
   "outputs": [],
   "source": []
  },
  {
   "cell_type": "markdown",
   "id": "25c3e04d-4969-4ee5-82f7-4b08888d0fe6",
   "metadata": {},
   "source": [
    "- Basic representations\n",
    "- Inbuilt functions\n",
    "- print\n",
    "- type\n",
    "- len\n",
    "- sum\n",
    "- max\n",
    "- min\n",
    "- sorted\n",
    "- reversed\n",
    "- concatenation\n",
    "    - index\n",
    "    - indexing\n",
    "    - slicing\n",
    "- mutable /immutable concepts\n",
    "- slice\n",
    "- methods\n",
    "\n",
    "\n",
    "\n"
   ]
  },
  {
   "cell_type": "code",
   "execution_count": 2,
   "id": "ecfe221d-0aa5-4d3f-be83-4053ed9fb668",
   "metadata": {},
   "outputs": [
    {
     "data": {
      "text/plain": [
       "'python'"
      ]
     },
     "execution_count": 2,
     "metadata": {},
     "output_type": "execute_result"
    }
   ],
   "source": [
    "name='python'\n",
    "name"
   ]
  },
  {
   "cell_type": "code",
   "execution_count": 3,
   "id": "a20c7785-6bde-4319-ad8a-b5013e62a913",
   "metadata": {},
   "outputs": [
    {
     "name": "stdout",
     "output_type": "stream",
     "text": [
      "python\n"
     ]
    }
   ],
   "source": [
    "name='python'\n",
    "print(name)\n"
   ]
  },
  {
   "cell_type": "markdown",
   "id": "0d988109-988c-438b-bf47-ef692231492f",
   "metadata": {},
   "source": [
    "- python by default gives out in **single quotes**\n",
    "- when we print the string the output display without quotes \n"
   ]
  },
  {
   "cell_type": "code",
   "execution_count": 5,
   "id": "526e5689-cb67-4159-9ab0-fc34993d816f",
   "metadata": {},
   "outputs": [
    {
     "name": "stdout",
     "output_type": "stream",
     "text": [
      "I love 'python'\n"
     ]
    }
   ],
   "source": [
    "str1=\"I love 'python'\"\n",
    "print(str1)"
   ]
  },
  {
   "cell_type": "code",
   "execution_count": 6,
   "id": "5a736e79-c498-4d30-9148-e01f81524ac8",
   "metadata": {},
   "outputs": [
    {
     "name": "stdout",
     "output_type": "stream",
     "text": [
      "I love \"python\"\n"
     ]
    }
   ],
   "source": [
    "str2='I love \"python\"'\n",
    "print(str2)"
   ]
  },
  {
   "cell_type": "markdown",
   "id": "82b5b4ef-e78b-420a-9dda-824e96265ac6",
   "metadata": {},
   "source": [
    "- Doc string\n",
    "- triple quotes also called as doc string\n",
    "- triple quotes means user try to convey some thing"
   ]
  },
  {
   "cell_type": "code",
   "execution_count": 7,
   "id": "36c43be3-ae69-4f3b-bd44-5ce295eea7f4",
   "metadata": {},
   "outputs": [
    {
     "data": {
      "text/plain": [
       "str"
      ]
     },
     "execution_count": 7,
     "metadata": {},
     "output_type": "execute_result"
    }
   ],
   "source": [
    "str1=\"I love 'python'\"\n",
    "type(str1)"
   ]
  },
  {
   "cell_type": "code",
   "execution_count": 8,
   "id": "cb6f2343-05d1-4512-9e13-3dc173afbd52",
   "metadata": {},
   "outputs": [
    {
     "data": {
      "text/plain": [
       "15"
      ]
     },
     "execution_count": 8,
     "metadata": {},
     "output_type": "execute_result"
    }
   ],
   "source": [
    "str1=\"I love 'python'\"\n",
    "type(str1)\n",
    "len(str1)"
   ]
  },
  {
   "cell_type": "code",
   "execution_count": 9,
   "id": "bccb6504-7967-4013-9078-7ba065fc420e",
   "metadata": {},
   "outputs": [
    {
     "data": {
      "text/plain": [
       "'y'"
      ]
     },
     "execution_count": 9,
     "metadata": {},
     "output_type": "execute_result"
    }
   ],
   "source": [
    "str1=\"I love 'python'\"\n",
    "type(str1)\n",
    "max(str1)"
   ]
  },
  {
   "cell_type": "code",
   "execution_count": 11,
   "id": "da79c509-7d2a-4446-a7a7-85765649fc36",
   "metadata": {},
   "outputs": [
    {
     "data": {
      "text/plain": [
       "' '"
      ]
     },
     "execution_count": 11,
     "metadata": {},
     "output_type": "execute_result"
    }
   ],
   "source": [
    "str1=\"I love 'python'\"\n",
    "type(str1)\n",
    "min(str1)"
   ]
  },
  {
   "cell_type": "code",
   "execution_count": 12,
   "id": "bce775f3-8827-456a-bc78-6d8c00d4290b",
   "metadata": {},
   "outputs": [
    {
     "data": {
      "text/plain": [
       "[' ', ' ', \"'\", \"'\", 'I', 'e', 'h', 'l', 'n', 'o', 'o', 'p', 't', 'v', 'y']"
      ]
     },
     "execution_count": 12,
     "metadata": {},
     "output_type": "execute_result"
    }
   ],
   "source": [
    "str1=\"I love 'python'\"\n",
    "type(str1)\n",
    "sorted(str1)"
   ]
  },
  {
   "cell_type": "code",
   "execution_count": 13,
   "id": "eceee0f5-a0be-451e-92fc-c19c4c89fefa",
   "metadata": {},
   "outputs": [
    {
     "ename": "TypeError",
     "evalue": "unsupported operand type(s) for +: 'int' and 'str'",
     "output_type": "error",
     "traceback": [
      "\u001b[1;31m---------------------------------------------------------------------------\u001b[0m",
      "\u001b[1;31mTypeError\u001b[0m                                 Traceback (most recent call last)",
      "Cell \u001b[1;32mIn[13], line 3\u001b[0m\n\u001b[0;32m      1\u001b[0m str1\u001b[38;5;241m=\u001b[39m\u001b[38;5;124m\"\u001b[39m\u001b[38;5;124mI love \u001b[39m\u001b[38;5;124m'\u001b[39m\u001b[38;5;124mpython\u001b[39m\u001b[38;5;124m'\u001b[39m\u001b[38;5;124m\"\u001b[39m\n\u001b[0;32m      2\u001b[0m \u001b[38;5;28mtype\u001b[39m(str1)\n\u001b[1;32m----> 3\u001b[0m \u001b[38;5;28msum\u001b[39m(str1)\n",
      "\u001b[1;31mTypeError\u001b[0m: unsupported operand type(s) for +: 'int' and 'str'"
     ]
    }
   ],
   "source": [
    "str1=\"I love 'python'\"\n",
    "type(str1)\n",
    "sum(str1)"
   ]
  },
  {
   "cell_type": "code",
   "execution_count": 14,
   "id": "b147720b-65a1-42c1-8d94-ca4c7cd5f37a",
   "metadata": {},
   "outputs": [
    {
     "data": {
      "text/plain": [
       "<reversed at 0x27ea3a6ec20>"
      ]
     },
     "execution_count": 14,
     "metadata": {},
     "output_type": "execute_result"
    }
   ],
   "source": [
    "str1=\"I love 'python'\"\n",
    "type(str1)\n",
    "reversed(str1)"
   ]
  },
  {
   "cell_type": "code",
   "execution_count": 15,
   "id": "e9bcc242-54dd-4ddc-b2e1-2da4bf9116bb",
   "metadata": {},
   "outputs": [
    {
     "data": {
      "text/plain": [
       "6"
      ]
     },
     "execution_count": 15,
     "metadata": {},
     "output_type": "execute_result"
    }
   ],
   "source": [
    "name='python'\n",
    "len(name)"
   ]
  },
  {
   "cell_type": "code",
   "execution_count": 18,
   "id": "ea2ad31c-3495-456a-92be-180ec163d93a",
   "metadata": {},
   "outputs": [
    {
     "name": "stdout",
     "output_type": "stream",
     "text": [
      "n o h t y p "
     ]
    }
   ],
   "source": [
    "name='python'\n",
    "output=reversed(name)\n",
    "for i in output:\n",
    "        print(i,end=' ')\n"
   ]
  },
  {
   "cell_type": "code",
   "execution_count": 20,
   "id": "de4e8287-21af-465d-87e4-cadbd95353d8",
   "metadata": {},
   "outputs": [
    {
     "name": "stdout",
     "output_type": "stream",
     "text": [
      "['h', 'n', 'o', 'p', 't', 'y']\n"
     ]
    }
   ],
   "source": [
    "name='python'\n",
    "output1=sorted(name)\n",
    "print(output1)"
   ]
  },
  {
   "cell_type": "code",
   "execution_count": 21,
   "id": "2f1771d7-52ff-4770-aa7b-1a1f17a00dff",
   "metadata": {},
   "outputs": [
    {
     "data": {
      "text/plain": [
       "'y'"
      ]
     },
     "execution_count": 21,
     "metadata": {},
     "output_type": "execute_result"
    }
   ],
   "source": [
    "max('python')"
   ]
  },
  {
   "cell_type": "code",
   "execution_count": 24,
   "id": "0893c568-02ff-4ee2-893b-224fdf643590",
   "metadata": {},
   "outputs": [
    {
     "name": "stdout",
     "output_type": "stream",
     "text": [
      "112 p\n",
      "121 y\n",
      "116 t\n",
      "104 h\n",
      "111 o\n",
      "110 n\n"
     ]
    }
   ],
   "source": [
    "for i in 'python':\n",
    "    print(f'{ord(i)} {i}')"
   ]
  },
  {
   "cell_type": "code",
   "execution_count": 25,
   "id": "f543d73f-837d-42ca-a180-ec15212fef95",
   "metadata": {},
   "outputs": [
    {
     "data": {
      "text/plain": [
       "'h'"
      ]
     },
     "execution_count": 25,
     "metadata": {},
     "output_type": "execute_result"
    }
   ],
   "source": [
    "min('python')"
   ]
  },
  {
   "cell_type": "code",
   "execution_count": null,
   "id": "6f827bd5-1e67-4115-8b5f-620f6daf3c22",
   "metadata": {},
   "outputs": [],
   "source": [
    "- By default ascending order\n",
    "- ascending order small to big\n",
    "- descending order big to small\n",
    "- iterable - any thing that can be print through loop is called iterable\n"
   ]
  },
  {
   "cell_type": "code",
   "execution_count": null,
   "id": "1f449b67-39dd-473b-a6cd-a5c2574d4cbe",
   "metadata": {},
   "outputs": [],
   "source": [
    "sorted('python')"
   ]
  },
  {
   "cell_type": "code",
   "execution_count": 26,
   "id": "25714e72-716e-4e78-b381-13577772aa00",
   "metadata": {},
   "outputs": [
    {
     "name": "stdout",
     "output_type": "stream",
     "text": [
      "30\n"
     ]
    }
   ],
   "source": [
    "def add(a,b):\n",
    "    sum=a+b\n",
    "    print(sum)\n",
    "add(10,20)"
   ]
  },
  {
   "cell_type": "code",
   "execution_count": 27,
   "id": "62e52e7e-ae96-4ff0-80cf-6c2761a77d21",
   "metadata": {},
   "outputs": [
    {
     "name": "stdout",
     "output_type": "stream",
     "text": [
      "30\n"
     ]
    }
   ],
   "source": [
    "def add(a,b):\n",
    "    sum=a+b\n",
    "    print(sum)\n",
    "add(a=10,b=20)"
   ]
  },
  {
   "cell_type": "code",
   "execution_count": 29,
   "id": "b5176c31-40e1-41d6-b6f6-5326ff4b4362",
   "metadata": {},
   "outputs": [
    {
     "ename": "TypeError",
     "evalue": "add() got some positional-only arguments passed as keyword arguments: 'a'",
     "output_type": "error",
     "traceback": [
      "\u001b[1;31m---------------------------------------------------------------------------\u001b[0m",
      "\u001b[1;31mTypeError\u001b[0m                                 Traceback (most recent call last)",
      "Cell \u001b[1;32mIn[29], line 4\u001b[0m\n\u001b[0;32m      2\u001b[0m     \u001b[38;5;28msum\u001b[39m\u001b[38;5;241m=\u001b[39ma\u001b[38;5;241m+\u001b[39mb\n\u001b[0;32m      3\u001b[0m     \u001b[38;5;28mprint\u001b[39m(\u001b[38;5;28msum\u001b[39m)\n\u001b[1;32m----> 4\u001b[0m add(a\u001b[38;5;241m=\u001b[39m\u001b[38;5;241m10\u001b[39m,b\u001b[38;5;241m=\u001b[39m\u001b[38;5;241m20\u001b[39m)\n",
      "\u001b[1;31mTypeError\u001b[0m: add() got some positional-only arguments passed as keyword arguments: 'a'"
     ]
    }
   ],
   "source": [
    "def add(a,/,b):\n",
    "    sum=a+b\n",
    "    print(sum)\n",
    "add(a=10,b=20)"
   ]
  },
  {
   "cell_type": "code",
   "execution_count": 34,
   "id": "05733a21-01c4-4a1b-aec5-0c8838638663",
   "metadata": {},
   "outputs": [
    {
     "name": "stdout",
     "output_type": "stream",
     "text": [
      "35\n"
     ]
    }
   ],
   "source": [
    "def add(a,/,b):\n",
    "    sum=a+b\n",
    "    print(sum)\n",
    "add(10,b=25)"
   ]
  },
  {
   "cell_type": "code",
   "execution_count": 33,
   "id": "9870c272-9b1c-4ea9-8c1f-d807c2aad238",
   "metadata": {},
   "outputs": [
    {
     "name": "stdout",
     "output_type": "stream",
     "text": [
      "70\n"
     ]
    }
   ],
   "source": [
    "def add(a,/,b):\n",
    "    sum=a+b\n",
    "    print(sum)\n",
    "add(30,40)"
   ]
  },
  {
   "cell_type": "code",
   "execution_count": 35,
   "id": "b679e8f9-5e8e-4511-b414-06b539a38b8d",
   "metadata": {},
   "outputs": [
    {
     "ename": "SyntaxError",
     "evalue": "positional argument follows keyword argument (2903373896.py, line 4)",
     "output_type": "error",
     "traceback": [
      "\u001b[1;36m  Cell \u001b[1;32mIn[35], line 4\u001b[1;36m\u001b[0m\n\u001b[1;33m    add(a=10,45)\u001b[0m\n\u001b[1;37m               ^\u001b[0m\n\u001b[1;31mSyntaxError\u001b[0m\u001b[1;31m:\u001b[0m positional argument follows keyword argument\n"
     ]
    }
   ],
   "source": [
    "def add(a,/,b):\n",
    "    sum=a+b\n",
    "    print(sum)\n",
    "add(a=10,45)"
   ]
  },
  {
   "cell_type": "code",
   "execution_count": null,
   "id": "4ebe6ca8-2612-464c-9e11-eaa126f1d713",
   "metadata": {},
   "outputs": [],
   "source": [
    "sorted(iter"
   ]
  },
  {
   "cell_type": "markdown",
   "id": "afc33213-0915-4776-879a-a58c8417f95a",
   "metadata": {},
   "source": [
    "**Note** : \n",
    "- / before dnt give argument name\n",
    "- / after you can use argument name, that is our wish\n",
    "- (*) indicates no need maintain the order of the arguments\n",
    "- (*) indicates provide the argument name after *\n",
    "\n"
   ]
  },
  {
   "cell_type": "code",
   "execution_count": 37,
   "id": "121db1c1-15c2-43da-bfc4-5f24e6241e6b",
   "metadata": {},
   "outputs": [
    {
     "ename": "SyntaxError",
     "evalue": "positional argument follows keyword argument (2424513913.py, line 4)",
     "output_type": "error",
     "traceback": [
      "\u001b[1;36m  Cell \u001b[1;32mIn[37], line 4\u001b[1;36m\u001b[0m\n\u001b[1;33m    add(a=10,45,20)\u001b[0m\n\u001b[1;37m                  ^\u001b[0m\n\u001b[1;31mSyntaxError\u001b[0m\u001b[1;31m:\u001b[0m positional argument follows keyword argument\n"
     ]
    }
   ],
   "source": [
    "def add(a,/,*,b,c):\n",
    "    sum=a+b+c\n",
    "    print(sum)\n",
    "add(a=10,45,20)"
   ]
  },
  {
   "cell_type": "code",
   "execution_count": 38,
   "id": "6a8b278a-bdf4-4f0b-b545-aeb2add9f3ce",
   "metadata": {},
   "outputs": [
    {
     "ename": "TypeError",
     "evalue": "add() got some positional-only arguments passed as keyword arguments: 'a'",
     "output_type": "error",
     "traceback": [
      "\u001b[1;31m---------------------------------------------------------------------------\u001b[0m",
      "\u001b[1;31mTypeError\u001b[0m                                 Traceback (most recent call last)",
      "Cell \u001b[1;32mIn[38], line 4\u001b[0m\n\u001b[0;32m      2\u001b[0m     \u001b[38;5;28msum\u001b[39m\u001b[38;5;241m=\u001b[39ma\u001b[38;5;241m+\u001b[39mb\u001b[38;5;241m+\u001b[39mc\n\u001b[0;32m      3\u001b[0m     \u001b[38;5;28mprint\u001b[39m(\u001b[38;5;28msum\u001b[39m)\n\u001b[1;32m----> 4\u001b[0m add(a\u001b[38;5;241m=\u001b[39m\u001b[38;5;241m10\u001b[39m,b\u001b[38;5;241m=\u001b[39m\u001b[38;5;241m45\u001b[39m,c\u001b[38;5;241m=\u001b[39m\u001b[38;5;241m20\u001b[39m)\n",
      "\u001b[1;31mTypeError\u001b[0m: add() got some positional-only arguments passed as keyword arguments: 'a'"
     ]
    }
   ],
   "source": [
    "def add(a,/,*,b,c):\n",
    "    sum=a+b+c\n",
    "    print(sum)\n",
    "add(a=10,b=45,c=20)"
   ]
  },
  {
   "cell_type": "code",
   "execution_count": 46,
   "id": "6efeca37-d422-47fd-910c-35ffe4392e71",
   "metadata": {},
   "outputs": [
    {
     "name": "stdout",
     "output_type": "stream",
     "text": [
      "70\n"
     ]
    }
   ],
   "source": [
    "def add(a,/,*,b,c):\n",
    "    sum=a+b+c\n",
    "    print(sum)\n",
    "add(5,b=45,c=20)"
   ]
  },
  {
   "cell_type": "code",
   "execution_count": 41,
   "id": "2718ec77-b3b2-4bc6-9548-5be02668a0be",
   "metadata": {},
   "outputs": [
    {
     "data": {
      "text/plain": [
       "['h', 'n', 'o', 'p', 't', 'y']"
      ]
     },
     "execution_count": 41,
     "metadata": {},
     "output_type": "execute_result"
    }
   ],
   "source": [
    "sorted('python',reverse=True)"
   ]
  },
  {
   "cell_type": "code",
   "execution_count": null,
   "id": "19e71af3-ea8c-4661-ae49-2e8df9783b08",
   "metadata": {},
   "outputs": [],
   "source": []
  },
  {
   "cell_type": "code",
   "execution_count": 42,
   "id": "79d5ae48-49cb-4d5c-80b5-908e59c4cf98",
   "metadata": {},
   "outputs": [
    {
     "ename": "TypeError",
     "evalue": "sorted expected 1 argument, got 2",
     "output_type": "error",
     "traceback": [
      "\u001b[1;31m---------------------------------------------------------------------------\u001b[0m",
      "\u001b[1;31mTypeError\u001b[0m                                 Traceback (most recent call last)",
      "Cell \u001b[1;32mIn[42], line 1\u001b[0m\n\u001b[1;32m----> 1\u001b[0m \u001b[38;5;28msorted\u001b[39m(\u001b[38;5;124m'\u001b[39m\u001b[38;5;124mpython\u001b[39m\u001b[38;5;124m'\u001b[39m,\u001b[38;5;28;01mTrue\u001b[39;00m)\n",
      "\u001b[1;31mTypeError\u001b[0m: sorted expected 1 argument, got 2"
     ]
    }
   ],
   "source": [
    "sorted('python',True)"
   ]
  },
  {
   "cell_type": "code",
   "execution_count": null,
   "id": "7110d416-8716-4498-80f7-c080860ceb7a",
   "metadata": {},
   "outputs": [],
   "source": [
    "sorted('python') #w\n",
    "sorted(iterable='python') #F\n",
    "sorted(iterable='python') #F\n",
    "sorted('python',reverse=True) #w\n",
    "sorted(iterable='python',reverse=True) #F\n",
    "sorted('python',False) #F"
   ]
  },
  {
   "cell_type": "code",
   "execution_count": 47,
   "id": "20314aac-2cb4-4145-b7d3-e1083853a622",
   "metadata": {},
   "outputs": [
    {
     "ename": "TypeError",
     "evalue": "reversed() takes no keyword arguments",
     "output_type": "error",
     "traceback": [
      "\u001b[1;31m---------------------------------------------------------------------------\u001b[0m",
      "\u001b[1;31mTypeError\u001b[0m                                 Traceback (most recent call last)",
      "Cell \u001b[1;32mIn[47], line 1\u001b[0m\n\u001b[1;32m----> 1\u001b[0m \u001b[38;5;28mreversed\u001b[39m(sequence\u001b[38;5;241m=\u001b[39m\u001b[38;5;124m'\u001b[39m\u001b[38;5;124mHrushi\u001b[39m\u001b[38;5;124m'\u001b[39m)\n",
      "\u001b[1;31mTypeError\u001b[0m: reversed() takes no keyword arguments"
     ]
    }
   ],
   "source": [
    "reversed(sequence='Hrushi')"
   ]
  },
  {
   "cell_type": "code",
   "execution_count": 48,
   "id": "c78bcd6e-da50-484c-9f6e-0baa818909ea",
   "metadata": {},
   "outputs": [
    {
     "data": {
      "text/plain": [
       "<reversed at 0x27ea3cdfb50>"
      ]
     },
     "execution_count": 48,
     "metadata": {},
     "output_type": "execute_result"
    }
   ],
   "source": [
    "reversed('Hrushi')"
   ]
  },
  {
   "cell_type": "code",
   "execution_count": null,
   "id": "67436a61-ea24-4230-8d59-b956224a67a7",
   "metadata": {},
   "outputs": [],
   "source": [
    "- answers saved at address mempry location\n",
    "- we can see the answer using for loop\n",
    "- when ever we see < and > symbols answer\n",
    "- try to apply for loop or list\n"
   ]
  },
  {
   "cell_type": "code",
   "execution_count": 49,
   "id": "2f0cfa60-69b3-41d7-9867-b1e9f40b78ca",
   "metadata": {},
   "outputs": [
    {
     "name": "stdout",
     "output_type": "stream",
     "text": [
      "i\n",
      "h\n",
      "s\n",
      "u\n",
      "r\n",
      "H\n"
     ]
    }
   ],
   "source": [
    "ans=reversed('Hrushi')\n",
    "for i in ans:\n",
    "    print(i)\n"
   ]
  },
  {
   "cell_type": "code",
   "execution_count": 50,
   "id": "6d0587f9-62d4-42d3-9ee0-e9a0e0074532",
   "metadata": {},
   "outputs": [
    {
     "data": {
      "text/plain": [
       "['i', 'h', 's', 'u', 'r', 'H']"
      ]
     },
     "execution_count": 50,
     "metadata": {},
     "output_type": "execute_result"
    }
   ],
   "source": [
    "ans=reversed('Hrushi')\n",
    "list(ans)"
   ]
  },
  {
   "cell_type": "code",
   "execution_count": null,
   "id": "430f5709-9d7a-43a4-a571-7223c4ef4ef1",
   "metadata": {},
   "outputs": [],
   "source": [
    "- concatenation\n"
   ]
  },
  {
   "cell_type": "code",
   "execution_count": 64,
   "id": "4be81cd9-a56c-4636-996e-880a9f273981",
   "metadata": {},
   "outputs": [
    {
     "name": "stdout",
     "output_type": "stream",
     "text": [
      "Hello python\n",
      "Hellopython "
     ]
    },
    {
     "ename": "TypeError",
     "evalue": "unsupported operand type(s) for -: 'str' and 'str'",
     "output_type": "error",
     "traceback": [
      "\u001b[1;31m---------------------------------------------------------------------------\u001b[0m",
      "\u001b[1;31mTypeError\u001b[0m                                 Traceback (most recent call last)",
      "Cell \u001b[1;32mIn[64], line 5\u001b[0m\n\u001b[0;32m      3\u001b[0m \u001b[38;5;28mprint\u001b[39m(str1\u001b[38;5;241m+\u001b[39m\u001b[38;5;124m'\u001b[39m\u001b[38;5;124m \u001b[39m\u001b[38;5;124m'\u001b[39m\u001b[38;5;241m+\u001b[39mstr2)\n\u001b[0;32m      4\u001b[0m \u001b[38;5;28mprint\u001b[39m(str1\u001b[38;5;241m+\u001b[39mstr2,end\u001b[38;5;241m=\u001b[39m\u001b[38;5;124m'\u001b[39m\u001b[38;5;124m \u001b[39m\u001b[38;5;124m'\u001b[39m)\n\u001b[1;32m----> 5\u001b[0m \u001b[38;5;28mprint\u001b[39m(str1\u001b[38;5;241m-\u001b[39mstr2)\n",
      "\u001b[1;31mTypeError\u001b[0m: unsupported operand type(s) for -: 'str' and 'str'"
     ]
    }
   ],
   "source": [
    "str1='Hello'\n",
    "str2='python'\n",
    "print(str1+' '+str2)\n",
    "print(str1-str2)\n",
    "#print(str1*str2)\n",
    "#print(str1/str2)\n"
   ]
  },
  {
   "cell_type": "code",
   "execution_count": 59,
   "id": "a58d3dbc-09c9-47f4-95f2-2482139c7bdc",
   "metadata": {},
   "outputs": [
    {
     "ename": "TypeError",
     "evalue": "can't multiply sequence by non-int of type 'str'",
     "output_type": "error",
     "traceback": [
      "\u001b[1;31m---------------------------------------------------------------------------\u001b[0m",
      "\u001b[1;31mTypeError\u001b[0m                                 Traceback (most recent call last)",
      "Cell \u001b[1;32mIn[59], line 1\u001b[0m\n\u001b[1;32m----> 1\u001b[0m \u001b[38;5;28mprint\u001b[39m(str1\u001b[38;5;241m*\u001b[39mstr2)\n",
      "\u001b[1;31mTypeError\u001b[0m: can't multiply sequence by non-int of type 'str'"
     ]
    }
   ],
   "source": [
    "print(str1*str2)\n",
    "\n"
   ]
  },
  {
   "cell_type": "code",
   "execution_count": 60,
   "id": "365a4cd7-8748-42a1-882d-fe42f4086d2a",
   "metadata": {},
   "outputs": [
    {
     "ename": "NameError",
     "evalue": "name 'rint' is not defined",
     "output_type": "error",
     "traceback": [
      "\u001b[1;31m---------------------------------------------------------------------------\u001b[0m",
      "\u001b[1;31mNameError\u001b[0m                                 Traceback (most recent call last)",
      "Cell \u001b[1;32mIn[60], line 1\u001b[0m\n\u001b[1;32m----> 1\u001b[0m rint(str1\u001b[38;5;241m/\u001b[39mstr2)\n",
      "\u001b[1;31mNameError\u001b[0m: name 'rint' is not defined"
     ]
    }
   ],
   "source": [
    "rint(str1/str2)"
   ]
  },
  {
   "cell_type": "code",
   "execution_count": 61,
   "id": "f4ba985f-e7cc-4524-a40d-4a74d23a2d71",
   "metadata": {},
   "outputs": [
    {
     "name": "stdout",
     "output_type": "stream",
     "text": [
      "pythonpythonpython\n"
     ]
    }
   ],
   "source": [
    "str2='python'\n",
    "print(str2*3)"
   ]
  },
  {
   "cell_type": "code",
   "execution_count": 62,
   "id": "9d212a70-6705-4b99-a54e-cdd08958a17b",
   "metadata": {},
   "outputs": [
    {
     "ename": "TypeError",
     "evalue": "unsupported operand type(s) for /: 'str' and 'int'",
     "output_type": "error",
     "traceback": [
      "\u001b[1;31m---------------------------------------------------------------------------\u001b[0m",
      "\u001b[1;31mTypeError\u001b[0m                                 Traceback (most recent call last)",
      "Cell \u001b[1;32mIn[62], line 2\u001b[0m\n\u001b[0;32m      1\u001b[0m str2\u001b[38;5;241m=\u001b[39m\u001b[38;5;124m'\u001b[39m\u001b[38;5;124mpython\u001b[39m\u001b[38;5;124m'\u001b[39m\n\u001b[1;32m----> 2\u001b[0m \u001b[38;5;28mprint\u001b[39m(str2\u001b[38;5;241m/\u001b[39m\u001b[38;5;241m3\u001b[39m)\n",
      "\u001b[1;31mTypeError\u001b[0m: unsupported operand type(s) for /: 'str' and 'int'"
     ]
    }
   ],
   "source": []
  },
  {
   "cell_type": "code",
   "execution_count": 65,
   "id": "8f301778-fdec-4916-9205-70b4cd56ca2a",
   "metadata": {},
   "outputs": [
    {
     "name": "stdout",
     "output_type": "stream",
     "text": [
      "Hello python\n"
     ]
    }
   ],
   "source": [
    "str1='Hello '\n",
    "str2='python'\n",
    "print(str1+str2)"
   ]
  },
  {
   "cell_type": "code",
   "execution_count": 66,
   "id": "50b57ac2-90cc-4de2-a87d-6d3023570c4c",
   "metadata": {},
   "outputs": [
    {
     "name": "stdout",
     "output_type": "stream",
     "text": [
      "Hello python\n"
     ]
    }
   ],
   "source": [
    "str1='Hello'\n",
    "str2=' python'\n",
    "print(str1+str2)"
   ]
  },
  {
   "cell_type": "code",
   "execution_count": 1,
   "id": "6822a1e5-3a0a-4c6f-8bb1-5649d9b37467",
   "metadata": {},
   "outputs": [
    {
     "data": {
      "text/plain": [
       "'python'"
      ]
     },
     "execution_count": 1,
     "metadata": {},
     "output_type": "execute_result"
    }
   ],
   "source": [
    "str1='python'\n",
    "str1"
   ]
  },
  {
   "cell_type": "code",
   "execution_count": null,
   "id": "bd120f5c-8e4a-4736-9af5-d39a0ae70840",
   "metadata": {},
   "outputs": [],
   "source": [
    "-6 -5 -4 -3 -2 -1 \n",
    " p  y  t  h  o  n\n",
    " 0  1  2  3  4  5"
   ]
  },
  {
   "cell_type": "markdown",
   "id": "60562983-429b-4f58-92a0-2d5cd2b69605",
   "metadata": {},
   "source": [
    "- to access the characters or elements use square bracket\n"
   ]
  },
  {
   "cell_type": "code",
   "execution_count": 5,
   "id": "9a82082b-d852-44fb-870d-de195676a8a1",
   "metadata": {},
   "outputs": [
    {
     "data": {
      "text/plain": [
       "('n', 'n')"
      ]
     },
     "execution_count": 5,
     "metadata": {},
     "output_type": "execute_result"
    }
   ],
   "source": [
    "print(str1[0],str1[-6])\n",
    "printstr1[1],str1[-5]\n",
    "str1[2],str1[-4]\n",
    "str1[3],str1[-3]\n",
    "str1[4],str1[-2]\n",
    "str1[5],str1[-1]"
   ]
  },
  {
   "cell_type": "code",
   "execution_count": 8,
   "id": "eba69b47-1a15-4010-ac0c-3e128b57d8bd",
   "metadata": {},
   "outputs": [
    {
     "name": "stdout",
     "output_type": "stream",
     "text": [
      "p y t h o n "
     ]
    }
   ],
   "source": [
    "for i in range(0,6):\n",
    "      print(str1[i],end=' ')"
   ]
  },
  {
   "cell_type": "code",
   "execution_count": 11,
   "id": "208e3af5-5965-4578-8ccd-52f75636492b",
   "metadata": {},
   "outputs": [
    {
     "name": "stdout",
     "output_type": "stream",
     "text": [
      "p\n",
      "y\n",
      "t\n",
      "h\n",
      "o\n",
      "n\n"
     ]
    }
   ],
   "source": [
    "str2='python'\n",
    "for i in str2:\n",
    "    print(i)"
   ]
  },
  {
   "cell_type": "code",
   "execution_count": 12,
   "id": "367057d5-d2fb-4185-998a-f28afeae1b3a",
   "metadata": {},
   "outputs": [
    {
     "name": "stdout",
     "output_type": "stream",
     "text": [
      "p y t h o n "
     ]
    }
   ],
   "source": [
    "str1='python'\n",
    "n=len(str1)\n",
    "for i in range(0,n):\n",
    "      print(str1[i],end=' ')"
   ]
  },
  {
   "cell_type": "code",
   "execution_count": 13,
   "id": "79f52b8d-25a3-43c8-a54b-35fbcf72ff53",
   "metadata": {},
   "outputs": [
    {
     "name": "stdout",
     "output_type": "stream",
     "text": [
      "h e l l o   h o w   a r e   y o u "
     ]
    }
   ],
   "source": [
    "str2='hello how are you'\n",
    "n=len(str2)\n",
    "for i in range(0,n):\n",
    "      print(str2[i],end=' ')"
   ]
  },
  {
   "cell_type": "code",
   "execution_count": null,
   "id": "ecc70c87-4e06-4439-a707-3c242caf5f03",
   "metadata": {},
   "outputs": [],
   "source": [
    "#Q1) postive index of p is 0\n"
   ]
  },
  {
   "cell_type": "code",
   "execution_count": 16,
   "id": "c9e48888-0560-40fb-be67-90d7dc64a3cf",
   "metadata": {},
   "outputs": [
    {
     "name": "stdout",
     "output_type": "stream",
     "text": [
      "The positive index of p : 0\n",
      "The positive index of y : 1\n",
      "The positive index of t : 2\n",
      "The positive index of h : 3\n",
      "The positive index of o : 4\n",
      "The positive index of n : 5\n"
     ]
    }
   ],
   "source": [
    "str1='python'\n",
    "n=len(str1)\n",
    "for i in range(0,n):\n",
    "      print(f'The positive index of {str1[i]} : {i}')"
   ]
  },
  {
   "cell_type": "code",
   "execution_count": 19,
   "id": "147771d0-dc9c-429b-9af5-2969b3dae341",
   "metadata": {},
   "outputs": [
    {
     "name": "stdout",
     "output_type": "stream",
     "text": [
      "The negative index of p : -6\n",
      "The negative index of y : -5\n",
      "The negative index of t : -4\n",
      "The negative index of h : -3\n",
      "The negative index of o : -2\n",
      "The negative index of n : -1\n"
     ]
    }
   ],
   "source": [
    "str1='python'\n",
    "n=len(str1)\n",
    "n=-n\n",
    "for i in range(n,0):\n",
    "      print(f'The negative index of {str1[i]} : {i}')"
   ]
  },
  {
   "cell_type": "code",
   "execution_count": 26,
   "id": "3fc22e39-1bc8-4b5c-a3e0-25cda710fb98",
   "metadata": {},
   "outputs": [
    {
     "name": "stdout",
     "output_type": "stream",
     "text": [
      "The positive index is  : 0 and negative index is : -6 for p\n",
      "The positive index is  : 1 and negative index is : -5 for y\n",
      "The positive index is  : 2 and negative index is : -4 for t\n",
      "The positive index is  : 3 and negative index is : -3 for h\n",
      "The positive index is  : 4 and negative index is : -2 for o\n",
      "The positive index is  : 5 and negative index is : -1 for n\n"
     ]
    }
   ],
   "source": [
    "str1='python'\n",
    "n=len(str1)\n",
    "for i in range(0,n):\n",
    "      print(f'The positive index is  : {i} and negative index is : {(i-n)} for {str1[i]}')\n",
    "       \n",
    "    "
   ]
  },
  {
   "cell_type": "code",
   "execution_count": 30,
   "id": "5e7dd6f9-7ad4-4c2c-a71c-15258648e146",
   "metadata": {},
   "outputs": [
    {
     "ename": "SyntaxError",
     "evalue": "invalid syntax (2388819448.py, line 1)",
     "output_type": "error",
     "traceback": [
      "\u001b[1;36m  Cell \u001b[1;32mIn[30], line 1\u001b[1;36m\u001b[0m\n\u001b[1;33m    for i in range(0,6): print(i,end=' ') for i in range(-6,0): print(i,end=' ')\u001b[0m\n\u001b[1;37m                                          ^\u001b[0m\n\u001b[1;31mSyntaxError\u001b[0m\u001b[1;31m:\u001b[0m invalid syntax\n"
     ]
    }
   ],
   "source": [
    "for i in range(0,6): print(i,end=' ') "
   ]
  },
  {
   "cell_type": "code",
   "execution_count": 31,
   "id": "651a9973-7818-4481-b2ec-072041b5739a",
   "metadata": {},
   "outputs": [
    {
     "name": "stdout",
     "output_type": "stream",
     "text": [
      "-6 -5 -4 -3 -2 -1 "
     ]
    }
   ],
   "source": [
    "for i in range(-6,0): print(i,end=' ')"
   ]
  },
  {
   "cell_type": "code",
   "execution_count": 33,
   "id": "c49f6683-9147-4cda-b1af-d55e95c55de2",
   "metadata": {},
   "outputs": [
    {
     "name": "stdout",
     "output_type": "stream",
     "text": [
      "0 -6\n",
      "1 -5\n",
      "2 -4\n",
      "3 -3\n",
      "4 -2\n",
      "5 -1\n"
     ]
    }
   ],
   "source": [
    "for i in range(0,6): print(i,i-6)"
   ]
  },
  {
   "cell_type": "code",
   "execution_count": 39,
   "id": "9d634074-87aa-4775-8285-07ec995c7b00",
   "metadata": {},
   "outputs": [
    {
     "name": "stdout",
     "output_type": "stream",
     "text": [
      "The positive index is  : 0 and negative index is : -6 for p\n",
      "The positive index of 0 : p\n",
      "The negative index of -6 : p\n",
      "The positive index is  : 1 and negative index is : -5 for y\n",
      "The positive index of 1 : y\n",
      "The negative index of -5 : y\n",
      "The positive index is  : 2 and negative index is : -4 for t\n",
      "The positive index of 2 : t\n",
      "The negative index of -4 : t\n",
      "The positive index is  : 3 and negative index is : -3 for h\n",
      "The positive index of 3 : h\n",
      "The negative index of -3 : h\n",
      "The positive index is  : 4 and negative index is : -2 for o\n",
      "The positive index of 4 : o\n",
      "The negative index of -2 : o\n",
      "The positive index is  : 5 and negative index is : -1 for n\n",
      "The positive index of 5 : n\n",
      "The negative index of -1 : n\n"
     ]
    }
   ],
   "source": [
    "for i in range(0,6): \n",
    "    print(f'The positive index is  : {i} and negative index is : {(i-6)} for {str1[i]}')\n",
    "    print(f'The positive index of {i} : {str1[i]}')\n",
    "    print(f'The negative index of {i-6} : {str1[i]}')"
   ]
  },
  {
   "cell_type": "markdown",
   "id": "664c16bd-ea5b-4133-87a7-7a2ff63335fd",
   "metadata": {},
   "source": [
    "** when to use in operator- and when to use range operator **\n",
    "- **in** operator directly access the elements\n",
    "- **range** operator access the elements using index or numbers\n",
    "- any problem statement if you need number then go for range, other wise go for in operator directly\n"
   ]
  },
  {
   "cell_type": "code",
   "execution_count": 40,
   "id": "190d6e3e-e69e-4ea1-a85f-c3a8d43de1fb",
   "metadata": {},
   "outputs": [
    {
     "name": "stdout",
     "output_type": "stream",
     "text": [
      "p y t h o n "
     ]
    }
   ],
   "source": [
    "name='python'\n",
    "for i in name:\n",
    "    print(i, end=' ')"
   ]
  },
  {
   "cell_type": "code",
   "execution_count": 42,
   "id": "b90a0794-196f-4ef4-a042-162309f933e7",
   "metadata": {},
   "outputs": [
    {
     "name": "stdout",
     "output_type": "stream",
     "text": [
      "p y t h o n "
     ]
    }
   ],
   "source": [
    "name='python'\n",
    "for i in range(0,len(name)):\n",
    "    print(name[i], end=' ')"
   ]
  },
  {
   "cell_type": "code",
   "execution_count": 43,
   "id": "2366a734-d8eb-433f-b8df-4d5bed078b50",
   "metadata": {},
   "outputs": [
    {
     "name": "stdout",
     "output_type": "stream",
     "text": [
      "p y t h o n "
     ]
    }
   ],
   "source": [
    "name='python'\n",
    "for i in range(len(name)):\n",
    "    print(name[i], end=' ')"
   ]
  },
  {
   "cell_type": "code",
   "execution_count": null,
   "id": "2841173f-0e8a-467f-b2b3-54e278a2ead3",
   "metadata": {},
   "outputs": [],
   "source": [
    "#Q4) wriet a program to find the index of 'a' in a given string\n",
    "str1='ola ola ola'\n",
    "#Q5) write a program to find the sum of all indexs of 'a' in a given string\n",
    "str1='ola ola ola'\n",
    "#Q5) wriet a program to find number of 'a' in a given string\n",
    "str1='ola ola ola'\n"
   ]
  },
  {
   "cell_type": "code",
   "execution_count": 58,
   "id": "77649426-3f47-45c7-a8b9-adcaa7d42bcb",
   "metadata": {},
   "outputs": [
    {
     "name": "stdout",
     "output_type": "stream",
     "text": [
      "index of a is : 2\n",
      "index of a is : 6\n",
      "index of a is : 10\n",
      "sum of all indexs of 'a' is 18 in \"ola ola ola\"\n",
      "number of 'a' is 3 in \"ola ola ola\"\n"
     ]
    }
   ],
   "source": [
    "#Q4, Q5), Q6)\n",
    "str1='ola ola ola'\n",
    "sum=0\n",
    "num=0\n",
    "for i in range(len(str1)):\n",
    "    if(str1[i]=='a'):\n",
    "        print(f'index of {str1[i]} is : {i}')\n",
    "        sum=sum+i\n",
    "        num=num+1\n",
    "print(f'sum of all indexs of {\"'a'\"} is {sum} in \"{str1}\"') \n",
    "print(f'number of {\"'a'\"} is {num} in \"{str1}\"') "
   ]
  },
  {
   "cell_type": "code",
   "execution_count": 70,
   "id": "8ec9e522-0037-4343-930b-30fab6d1b3cf",
   "metadata": {},
   "outputs": [
    {
     "name": "stdout",
     "output_type": "stream",
     "text": [
      "Vowel found a : in hai how are you\n",
      "Vowel found i : in hai how are you\n",
      "Vowel found o : in hai how are you\n",
      "Vowel found a : in hai how are you\n",
      "Vowel found e : in hai how are you\n",
      "Vowel found o : in hai how are you\n",
      "Vowel found u : in hai how are you\n",
      "Count of vowels : 7 in the given string hai how are you\n"
     ]
    }
   ],
   "source": [
    " #Q7)\n",
    "str2='hai how are you'\n",
    "vowel='aeiou'\n",
    "count=0\n",
    "\n",
    "for i in range(len(str2)):\n",
    "        for j in range(len(vowel)):\n",
    "           #print(str2[i] == vowel[j])\n",
    "            if(str2[i] == vowel[j]):\n",
    "                count+=1\n",
    "                print(f'Vowel found {str2[i]} : in {str2}')\n",
    "                break\n",
    "            \n",
    "           \n",
    "print(f'Count of vowels : {count} in the given string {str2}')\n",
    "            "
   ]
  },
  {
   "cell_type": "code",
   "execution_count": 72,
   "id": "7d999103-9166-4777-9344-18a68c75aeb3",
   "metadata": {},
   "outputs": [
    {
     "name": "stdout",
     "output_type": "stream",
     "text": [
      "Vowel found e : in helloe\n",
      "Vowel found l : in helloe\n",
      "Vowel found e : in helloe\n",
      "Count of vowels : 3 in the given string hai how are you\n"
     ]
    }
   ],
   "source": [
    " #Q8) vowel repeat in string 'helloe'\n",
    "str3='helloe'\n",
    "vowel='aeiou'\n",
    "count=0\n",
    "\n",
    "for i in range(len(str3)):\n",
    "        for j in range(len(vowel)):\n",
    "           #print(str2[i] == vowel[j])\n",
    "            if(str3[i] == vowel[j]):\n",
    "                temp[i]=str3[i]\n",
    "                \n",
    "                count+=1\n",
    "                print(f'Vowel found {str3[i]} : in {str3}')\n",
    "                break\n",
    "            \n",
    "           \n",
    "print(f'Count of vowels : {count} in the given string {str2}')"
   ]
  },
  {
   "cell_type": "code",
   "execution_count": 92,
   "id": "3086c664-aef3-47a2-add7-19c6ebb794ce",
   "metadata": {},
   "outputs": [
    {
     "name": "stdout",
     "output_type": "stream",
     "text": [
      "Vowel found a : in hai how are you\n",
      "Vowel found i : in hai how are you\n",
      "Vowel found o : in hai how are you\n",
      "Vowel found a : in hai how are you\n",
      "Vowel found e : in hai how are you\n",
      "Vowel found o : in hai how are you\n",
      "Vowel found u : in hai how are you\n",
      "Count of vowels : 7 in the given string hai how are you\n"
     ]
    }
   ],
   "source": [
    " #Q8) vowel repeat in string 'helloe'\n",
    "str4='hai how are you'\n",
    "vowel='aeiou'\n",
    "count=0\n",
    "\n",
    "for i in str4:\n",
    "    if i in vowel:\n",
    "        count+=1\n",
    "        print(f'Vowel found {i} : in {str4}')\n",
    "print(f'Count of vowels : {count} in the given string {str4}')            "
   ]
  },
  {
   "cell_type": "code",
   "execution_count": 11,
   "id": "c281988b-9e1e-4717-8cc1-cde5823b561d",
   "metadata": {},
   "outputs": [
    {
     "name": "stdout",
     "output_type": "stream",
     "text": [
      "a\n",
      "i\n",
      "e\n",
      "o\n",
      "u\n"
     ]
    }
   ],
   "source": [
    " #Q8) vowel repeat in string 'helloe'\n",
    "str8='aiiaeouo'\n",
    "vowel='aeiou'\n",
    "s5=''\n",
    "count1=0\n",
    "for char in str8:\n",
    "    if char in vowel and char not in s5:\n",
    "        count1+=1\n",
    "        s5=s5+char\n",
    "        print(char)\n",
    "#print(f'repeated vowels in {str8}: is {s5}')"
   ]
  },
  {
   "cell_type": "markdown",
   "id": "fd8b8117-b4e8-4aa5-ac97-a9c39ee9d066",
   "metadata": {},
   "source": [
    "- mutabale - immutable\n",
    "- mutable means - change\n",
    "- immutable means - cant change\n",
    "- we can not change elements using index numbers"
   ]
  },
  {
   "cell_type": "code",
   "execution_count": 90,
   "id": "2e37ecba-f570-4806-88b7-cbe21bed9338",
   "metadata": {},
   "outputs": [
    {
     "ename": "TypeError",
     "evalue": "'str' object does not support item assignment",
     "output_type": "error",
     "traceback": [
      "\u001b[1;31m---------------------------------------------------------------------------\u001b[0m",
      "\u001b[1;31mTypeError\u001b[0m                                 Traceback (most recent call last)",
      "Cell \u001b[1;32mIn[90], line 2\u001b[0m\n\u001b[0;32m      1\u001b[0m str1\u001b[38;5;241m=\u001b[39m\u001b[38;5;124m'\u001b[39m\u001b[38;5;124mhello\u001b[39m\u001b[38;5;124m'\u001b[39m\n\u001b[1;32m----> 2\u001b[0m str1[i]\u001b[38;5;241m=\u001b[39m\u001b[38;5;124m'\u001b[39m\u001b[38;5;124mL\u001b[39m\u001b[38;5;124m'\u001b[39m\n\u001b[0;32m      3\u001b[0m str1\n",
      "\u001b[1;31mTypeError\u001b[0m: 'str' object does not support item assignment"
     ]
    }
   ],
   "source": [
    "str1='hello'\n",
    "str1[i]='L'\n",
    "str1 #'str' object does not support item assignment string are immutable "
   ]
  },
  {
   "cell_type": "code",
   "execution_count": 91,
   "id": "fefb0336-f930-4ae4-8fb1-a86f91a4734e",
   "metadata": {},
   "outputs": [
    {
     "data": {
      "text/plain": [
       "[10, 50, 30]"
      ]
     },
     "execution_count": 91,
     "metadata": {},
     "output_type": "execute_result"
    }
   ],
   "source": [
    "list1=[10,20,30]\n",
    "list1[1]=50\n",
    "list1 #List are mutable we can change elements using index numbers\n"
   ]
  },
  {
   "cell_type": "code",
   "execution_count": 13,
   "id": "a306c408-a47c-44ab-b088-85ab69b5bfcc",
   "metadata": {},
   "outputs": [
    {
     "name": "stdout",
     "output_type": "stream",
     "text": [
      "Repeated vowels: ['a']\n"
     ]
    }
   ],
   "source": [
    "def repeated_vowels(input_string):\n",
    "    vowels = \"aeiou\"\n",
    "    count_dict = {}\n",
    "    \n",
    "    # Count occurrences of vowels\n",
    "    for char in input_string:\n",
    "        if char in vowels:\n",
    "            if char in count_dict:\n",
    "                count_dict[char] += 1\n",
    "            else:\n",
    "                count_dict[char] = 1\n",
    "    \n",
    "    # Get vowels that are repeated (count > 1)\n",
    "    repeated_vowels = [char for char, count in count_dict.items() if count > 1]\n",
    "    \n",
    "    return repeated_vowels\n",
    "\n",
    "# Example usage\n",
    "input_string = 'bharathi'\n",
    "result = repeated_vowels(input_string)\n",
    "print(\"Repeated vowels:\", result)\n"
   ]
  },
  {
   "cell_type": "code",
   "execution_count": null,
   "id": "450dffd9-ced1-4c88-8698-a12ebed96b06",
   "metadata": {},
   "outputs": [],
   "source": [
    "- slice\n",
    "- slice means cut into pieces\n",
    "- it has similar analgoy with for loop range"
   ]
  },
  {
   "cell_type": "code",
   "execution_count": null,
   "id": "c6a0c747-17b9-4938-a513-45e0374ad9cb",
   "metadata": {},
   "outputs": [],
   "source": [
    "    # -17 -16  -15  -14  -13 -12  -11  -10  -9  -8 -7  -6  -5   -4  -3  -2  -1\n",
    "    # h    e    l    l    o        h    o    w      a   r   e        y   o   u\n",
    "    # 0    1    2    3    4   5    6    7    8   9  10  11  12  13   14  15  16"
   ]
  },
  {
   "cell_type": "code",
   "execution_count": null,
   "id": "ebd4dd6f-4072-4ab5-864a-66afa571fa82",
   "metadata": {},
   "outputs": [],
   "source": [
    "str1='hello how are you'\n",
    "str1[:5]"
   ]
  },
  {
   "cell_type": "code",
   "execution_count": 2,
   "id": "62af5660-479e-431b-8824-9d9b9e47e863",
   "metadata": {},
   "outputs": [
    {
     "data": {
      "text/plain": [
       "' how are you'"
      ]
     },
     "execution_count": 2,
     "metadata": {},
     "output_type": "execute_result"
    }
   ],
   "source": [
    "#case 2#\n",
    "str1='hello how are you'\n",
    "str1[5:]"
   ]
  },
  {
   "cell_type": "code",
   "execution_count": 5,
   "id": "0b368baf-990d-4456-80fe-e0ee4720c2fe",
   "metadata": {},
   "outputs": [
    {
     "data": {
      "text/plain": [
       "'you'"
      ]
     },
     "execution_count": 5,
     "metadata": {},
     "output_type": "execute_result"
    }
   ],
   "source": [
    "#case 2#\n",
    "str1='hello how are you'\n",
    "str1[-3:]"
   ]
  },
  {
   "cell_type": "code",
   "execution_count": 8,
   "id": "83d5cced-e73d-44ba-bedb-e1043665014a",
   "metadata": {},
   "outputs": [
    {
     "data": {
      "text/plain": [
       "'ow are '"
      ]
     },
     "execution_count": 8,
     "metadata": {},
     "output_type": "execute_result"
    }
   ],
   "source": [
    "#case 2#\n",
    "str1='hello how are you'\n",
    "str1[-10:14]"
   ]
  },
  {
   "cell_type": "code",
   "execution_count": null,
   "id": "29327287-cb32-4b43-a1e7-7eda06abb175",
   "metadata": {},
   "outputs": [],
   "source": [
    "str1["
   ]
  },
  {
   "cell_type": "code",
   "execution_count": 9,
   "id": "012ec819-12e2-4015-8b67-b19b50d496d8",
   "metadata": {},
   "outputs": [
    {
     "data": {
      "text/plain": [
       "'lohwaey'"
      ]
     },
     "execution_count": 9,
     "metadata": {},
     "output_type": "execute_result"
    }
   ],
   "source": [
    "# Case 4 :\n",
    "str1[2:15:2] # start 2 , stop 15, last=stop-1"
   ]
  },
  {
   "cell_type": "code",
   "execution_count": 10,
   "id": "a8d4bbf7-fb60-4826-a51a-63e7cfd0baa9",
   "metadata": {},
   "outputs": [
    {
     "data": {
      "text/plain": [
       "'llo how are y'"
      ]
     },
     "execution_count": 10,
     "metadata": {},
     "output_type": "execute_result"
    }
   ],
   "source": [
    "# Case 4 :\n",
    "   # -17 -16  -15  -14  -13 -12  -11  -10  -9  -8 -7  -6  -5   -4  -3  -2  -1\n",
    "    # h    e    l    l    o        h    o    w      a   r   e        y   o   u\n",
    "    # 0    1    2    3    4   5    6    7    8   9  10  11  12  13   14  15  16\n",
    "str1[2:15]"
   ]
  },
  {
   "cell_type": "code",
   "execution_count": 13,
   "id": "c89d11c9-87bc-477f-ad6f-57c7f06f9a8c",
   "metadata": {},
   "outputs": [
    {
     "data": {
      "text/plain": [
       "'ow are you'"
      ]
     },
     "execution_count": 13,
     "metadata": {},
     "output_type": "execute_result"
    }
   ],
   "source": [
    "# Case 4 :\n",
    "   # -17 -16  -15  -14  -13 -12  -11  -10  -9  -8 -7  -6  -5   -4  -3  -2  -1\n",
    "    # h    e    l    l    o        h    o    w      a   r   e        y   o   u\n",
    "    # 0    1    2    3    4   5    6    7    8   9  10  11  12  13   14  15  16\n",
    "str1[-10:20]"
   ]
  },
  {
   "cell_type": "code",
   "execution_count": 14,
   "id": "6cf5db0a-bb11-4cb4-a4c9-98beae092066",
   "metadata": {},
   "outputs": [
    {
     "data": {
      "text/plain": [
       "'llo how are you'"
      ]
     },
     "execution_count": 14,
     "metadata": {},
     "output_type": "execute_result"
    }
   ],
   "source": [
    "str1[2:150]"
   ]
  },
  {
   "cell_type": "code",
   "execution_count": 15,
   "id": "57d26bd0-f2ce-466a-9192-ac4cf90ac933",
   "metadata": {},
   "outputs": [
    {
     "data": {
      "text/plain": [
       "'hello how are you'"
      ]
     },
     "execution_count": 15,
     "metadata": {},
     "output_type": "execute_result"
    }
   ],
   "source": [
    "str1[::]"
   ]
  },
  {
   "cell_type": "code",
   "execution_count": 16,
   "id": "3b76a129-35f4-4c51-a24e-4cb3b6982fce",
   "metadata": {},
   "outputs": [
    {
     "data": {
      "text/plain": [
       "'uoy era woh olleh'"
      ]
     },
     "execution_count": 16,
     "metadata": {},
     "output_type": "execute_result"
    }
   ],
   "source": [
    "str1[::-1]"
   ]
  },
  {
   "cell_type": "code",
   "execution_count": 17,
   "id": "af335d38-b3c3-45a6-bd44-0b507eb66a76",
   "metadata": {},
   "outputs": [
    {
     "data": {
      "text/plain": [
       "54321"
      ]
     },
     "execution_count": 17,
     "metadata": {},
     "output_type": "execute_result"
    }
   ],
   "source": [
    "num=12345\n",
    "int(str(num)[::-1])"
   ]
  },
  {
   "cell_type": "code",
   "execution_count": 28,
   "id": "add7b3c2-c74c-4bb7-8f34-8448b304bb31",
   "metadata": {},
   "outputs": [
    {
     "data": {
      "text/plain": [
       "'l wry'"
      ]
     },
     "execution_count": 28,
     "metadata": {},
     "output_type": "execute_result"
    }
   ],
   "source": [
    "str1='hello how are you'\n",
    "str1[2:15:3]"
   ]
  },
  {
   "cell_type": "code",
   "execution_count": 20,
   "id": "250e0ee3-92bc-465c-baae-b39e9d708482",
   "metadata": {},
   "outputs": [
    {
     "data": {
      "text/plain": [
       "['__add__',\n",
       " '__class__',\n",
       " '__contains__',\n",
       " '__delattr__',\n",
       " '__dir__',\n",
       " '__doc__',\n",
       " '__eq__',\n",
       " '__format__',\n",
       " '__ge__',\n",
       " '__getattribute__',\n",
       " '__getitem__',\n",
       " '__getnewargs__',\n",
       " '__getstate__',\n",
       " '__gt__',\n",
       " '__hash__',\n",
       " '__init__',\n",
       " '__init_subclass__',\n",
       " '__iter__',\n",
       " '__le__',\n",
       " '__len__',\n",
       " '__lt__',\n",
       " '__mod__',\n",
       " '__mul__',\n",
       " '__ne__',\n",
       " '__new__',\n",
       " '__reduce__',\n",
       " '__reduce_ex__',\n",
       " '__repr__',\n",
       " '__rmod__',\n",
       " '__rmul__',\n",
       " '__setattr__',\n",
       " '__sizeof__',\n",
       " '__str__',\n",
       " '__subclasshook__',\n",
       " 'capitalize',\n",
       " 'casefold',\n",
       " 'center',\n",
       " 'count',\n",
       " 'encode',\n",
       " 'endswith',\n",
       " 'expandtabs',\n",
       " 'find',\n",
       " 'format',\n",
       " 'format_map',\n",
       " 'index',\n",
       " 'isalnum',\n",
       " 'isalpha',\n",
       " 'isascii',\n",
       " 'isdecimal',\n",
       " 'isdigit',\n",
       " 'isidentifier',\n",
       " 'islower',\n",
       " 'isnumeric',\n",
       " 'isprintable',\n",
       " 'isspace',\n",
       " 'istitle',\n",
       " 'isupper',\n",
       " 'join',\n",
       " 'ljust',\n",
       " 'lower',\n",
       " 'lstrip',\n",
       " 'maketrans',\n",
       " 'partition',\n",
       " 'removeprefix',\n",
       " 'removesuffix',\n",
       " 'replace',\n",
       " 'rfind',\n",
       " 'rindex',\n",
       " 'rjust',\n",
       " 'rpartition',\n",
       " 'rsplit',\n",
       " 'rstrip',\n",
       " 'split',\n",
       " 'splitlines',\n",
       " 'startswith',\n",
       " 'strip',\n",
       " 'swapcase',\n",
       " 'title',\n",
       " 'translate',\n",
       " 'upper',\n",
       " 'zfill']"
      ]
     },
     "execution_count": 20,
     "metadata": {},
     "output_type": "execute_result"
    }
   ],
   "source": [
    "#Methods\n",
    "#random ==randint\n",
    "dir('python')"
   ]
  },
  {
   "cell_type": "code",
   "execution_count": 21,
   "id": "83107a63-fc13-468d-af9c-7fd2473c1760",
   "metadata": {},
   "outputs": [
    {
     "data": {
      "text/plain": [
       "['__add__',\n",
       " '__class__',\n",
       " '__contains__',\n",
       " '__delattr__',\n",
       " '__dir__',\n",
       " '__doc__',\n",
       " '__eq__',\n",
       " '__format__',\n",
       " '__ge__',\n",
       " '__getattribute__',\n",
       " '__getitem__',\n",
       " '__getnewargs__',\n",
       " '__getstate__',\n",
       " '__gt__',\n",
       " '__hash__',\n",
       " '__init__',\n",
       " '__init_subclass__',\n",
       " '__iter__',\n",
       " '__le__',\n",
       " '__len__',\n",
       " '__lt__',\n",
       " '__mod__',\n",
       " '__mul__',\n",
       " '__ne__',\n",
       " '__new__',\n",
       " '__reduce__',\n",
       " '__reduce_ex__',\n",
       " '__repr__',\n",
       " '__rmod__',\n",
       " '__rmul__',\n",
       " '__setattr__',\n",
       " '__sizeof__',\n",
       " '__str__',\n",
       " '__subclasshook__',\n",
       " 'capitalize',\n",
       " 'casefold',\n",
       " 'center',\n",
       " 'count',\n",
       " 'encode',\n",
       " 'endswith',\n",
       " 'expandtabs',\n",
       " 'find',\n",
       " 'format',\n",
       " 'format_map',\n",
       " 'index',\n",
       " 'isalnum',\n",
       " 'isalpha',\n",
       " 'isascii',\n",
       " 'isdecimal',\n",
       " 'isdigit',\n",
       " 'isidentifier',\n",
       " 'islower',\n",
       " 'isnumeric',\n",
       " 'isprintable',\n",
       " 'isspace',\n",
       " 'istitle',\n",
       " 'isupper',\n",
       " 'join',\n",
       " 'ljust',\n",
       " 'lower',\n",
       " 'lstrip',\n",
       " 'maketrans',\n",
       " 'partition',\n",
       " 'removeprefix',\n",
       " 'removesuffix',\n",
       " 'replace',\n",
       " 'rfind',\n",
       " 'rindex',\n",
       " 'rjust',\n",
       " 'rpartition',\n",
       " 'rsplit',\n",
       " 'rstrip',\n",
       " 'split',\n",
       " 'splitlines',\n",
       " 'startswith',\n",
       " 'strip',\n",
       " 'swapcase',\n",
       " 'title',\n",
       " 'translate',\n",
       " 'upper',\n",
       " 'zfill']"
      ]
     },
     "execution_count": 21,
     "metadata": {},
     "output_type": "execute_result"
    }
   ],
   "source": [
    "dir(' ') #methods in string"
   ]
  },
  {
   "cell_type": "code",
   "execution_count": 22,
   "id": "62f96485-0129-497a-9a55-b76c73712db6",
   "metadata": {},
   "outputs": [
    {
     "data": {
      "text/plain": [
       "['__add__',\n",
       " '__class__',\n",
       " '__class_getitem__',\n",
       " '__contains__',\n",
       " '__delattr__',\n",
       " '__delitem__',\n",
       " '__dir__',\n",
       " '__doc__',\n",
       " '__eq__',\n",
       " '__format__',\n",
       " '__ge__',\n",
       " '__getattribute__',\n",
       " '__getitem__',\n",
       " '__getstate__',\n",
       " '__gt__',\n",
       " '__hash__',\n",
       " '__iadd__',\n",
       " '__imul__',\n",
       " '__init__',\n",
       " '__init_subclass__',\n",
       " '__iter__',\n",
       " '__le__',\n",
       " '__len__',\n",
       " '__lt__',\n",
       " '__mul__',\n",
       " '__ne__',\n",
       " '__new__',\n",
       " '__reduce__',\n",
       " '__reduce_ex__',\n",
       " '__repr__',\n",
       " '__reversed__',\n",
       " '__rmul__',\n",
       " '__setattr__',\n",
       " '__setitem__',\n",
       " '__sizeof__',\n",
       " '__str__',\n",
       " '__subclasshook__',\n",
       " 'append',\n",
       " 'clear',\n",
       " 'copy',\n",
       " 'count',\n",
       " 'extend',\n",
       " 'index',\n",
       " 'insert',\n",
       " 'pop',\n",
       " 'remove',\n",
       " 'reverse',\n",
       " 'sort']"
      ]
     },
     "execution_count": 22,
     "metadata": {},
     "output_type": "execute_result"
    }
   ],
   "source": [
    "dir([]) #list"
   ]
  },
  {
   "cell_type": "code",
   "execution_count": 23,
   "id": "b32278d6-a707-441e-b7b2-3b0b9a0553d4",
   "metadata": {},
   "outputs": [
    {
     "data": {
      "text/plain": [
       "['__add__',\n",
       " '__class__',\n",
       " '__class_getitem__',\n",
       " '__contains__',\n",
       " '__delattr__',\n",
       " '__dir__',\n",
       " '__doc__',\n",
       " '__eq__',\n",
       " '__format__',\n",
       " '__ge__',\n",
       " '__getattribute__',\n",
       " '__getitem__',\n",
       " '__getnewargs__',\n",
       " '__getstate__',\n",
       " '__gt__',\n",
       " '__hash__',\n",
       " '__init__',\n",
       " '__init_subclass__',\n",
       " '__iter__',\n",
       " '__le__',\n",
       " '__len__',\n",
       " '__lt__',\n",
       " '__mul__',\n",
       " '__ne__',\n",
       " '__new__',\n",
       " '__reduce__',\n",
       " '__reduce_ex__',\n",
       " '__repr__',\n",
       " '__rmul__',\n",
       " '__setattr__',\n",
       " '__sizeof__',\n",
       " '__str__',\n",
       " '__subclasshook__',\n",
       " 'count',\n",
       " 'index']"
      ]
     },
     "execution_count": 23,
     "metadata": {},
     "output_type": "execute_result"
    }
   ],
   "source": [
    "dir(()) #tupple"
   ]
  },
  {
   "cell_type": "code",
   "execution_count": 24,
   "id": "8b3c9ec8-8bea-4365-bc98-123ebc27a624",
   "metadata": {},
   "outputs": [
    {
     "data": {
      "text/plain": [
       "['__add__',\n",
       " '__class__',\n",
       " '__contains__',\n",
       " '__delattr__',\n",
       " '__dir__',\n",
       " '__doc__',\n",
       " '__eq__',\n",
       " '__format__',\n",
       " '__ge__',\n",
       " '__getattribute__',\n",
       " '__getitem__',\n",
       " '__getnewargs__',\n",
       " '__getstate__',\n",
       " '__gt__',\n",
       " '__hash__',\n",
       " '__init__',\n",
       " '__init_subclass__',\n",
       " '__iter__',\n",
       " '__le__',\n",
       " '__len__',\n",
       " '__lt__',\n",
       " '__mod__',\n",
       " '__mul__',\n",
       " '__ne__',\n",
       " '__new__',\n",
       " '__reduce__',\n",
       " '__reduce_ex__',\n",
       " '__repr__',\n",
       " '__rmod__',\n",
       " '__rmul__',\n",
       " '__setattr__',\n",
       " '__sizeof__',\n",
       " '__str__',\n",
       " '__subclasshook__',\n",
       " 'capitalize',\n",
       " 'casefold',\n",
       " 'center',\n",
       " 'count',\n",
       " 'encode',\n",
       " 'endswith',\n",
       " 'expandtabs',\n",
       " 'find',\n",
       " 'format',\n",
       " 'format_map',\n",
       " 'index',\n",
       " 'isalnum',\n",
       " 'isalpha',\n",
       " 'isascii',\n",
       " 'isdecimal',\n",
       " 'isdigit',\n",
       " 'isidentifier',\n",
       " 'islower',\n",
       " 'isnumeric',\n",
       " 'isprintable',\n",
       " 'isspace',\n",
       " 'istitle',\n",
       " 'isupper',\n",
       " 'join',\n",
       " 'ljust',\n",
       " 'lower',\n",
       " 'lstrip',\n",
       " 'maketrans',\n",
       " 'partition',\n",
       " 'removeprefix',\n",
       " 'removesuffix',\n",
       " 'replace',\n",
       " 'rfind',\n",
       " 'rindex',\n",
       " 'rjust',\n",
       " 'rpartition',\n",
       " 'rsplit',\n",
       " 'rstrip',\n",
       " 'split',\n",
       " 'splitlines',\n",
       " 'startswith',\n",
       " 'strip',\n",
       " 'swapcase',\n",
       " 'title',\n",
       " 'translate',\n",
       " 'upper',\n",
       " 'zfill']"
      ]
     },
     "execution_count": 24,
     "metadata": {},
     "output_type": "execute_result"
    }
   ],
   "source": [
    "str1='welcome'\n",
    "dir(str1)\n"
   ]
  },
  {
   "cell_type": "code",
   "execution_count": 26,
   "id": "f9119e97-acb3-4ead-9ab9-37571fa75e92",
   "metadata": {},
   "outputs": [
    {
     "data": {
      "text/plain": [
       "'WELCOME'"
      ]
     },
     "execution_count": 26,
     "metadata": {},
     "output_type": "execute_result"
    }
   ],
   "source": [
    "str1.upper()"
   ]
  },
  {
   "cell_type": "code",
   "execution_count": 35,
   "id": "e7396754-8db6-486c-a082-a49f81f0b61b",
   "metadata": {},
   "outputs": [
    {
     "name": "stdout",
     "output_type": "stream",
     "text": [
      "UPPPER: WELCOME TO NARESH IT\n",
      "Title: Welcome To Naresh It\n",
      "Lower: welcome to naresh it\n",
      "caseFold: welcome to naresh it\n",
      "captilze:  Welcome to naresh it\n"
     ]
    }
   ],
   "source": [
    "str1='Welcome to Naresh IT'\n",
    "print(f'UPPPER: {str1.upper()}')\n",
    "print(f'Title: {str1.title()}')\n",
    "print(f'Lower: {str1.lower()}')\n",
    "print(f'caseFold: {str1.casefold()}')\n",
    "print(f'captilze:  {str1.capitalize()}')"
   ]
  },
  {
   "cell_type": "code",
   "execution_count": null,
   "id": "ced78cec-7bf6-4153-b58c-e802deead6ff",
   "metadata": {},
   "outputs": [],
   "source": [
    "#diff between methods and inbuilt functions\n",
    "#inbuilt functions\n",
    "len()\n",
    "max()\n",
    "min()\n",
    "type()\n",
    "print()\n",
    "#methods=====================\n",
    "str1.upper()\n",
    "str1.lower()\n",
    "str1.casefold()\n",
    "str1.capitalize()\n"
   ]
  },
  {
   "cell_type": "code",
   "execution_count": 38,
   "id": "e28b6770-3c3e-4eb6-bd32-b912e45d9812",
   "metadata": {},
   "outputs": [
    {
     "data": {
      "text/plain": [
       "'***python***'"
      ]
     },
     "execution_count": 38,
     "metadata": {},
     "output_type": "execute_result"
    }
   ],
   "source": [
    "str1='python'\n",
    "str1.center(12)\n",
    "str1.center(12,'*')"
   ]
  },
  {
   "cell_type": "code",
   "execution_count": 37,
   "id": "9fbb9194-cf65-410a-9040-a7994a1a07ae",
   "metadata": {},
   "outputs": [
    {
     "data": {
      "text/plain": [
       "'         python         '"
      ]
     },
     "execution_count": 37,
     "metadata": {},
     "output_type": "execute_result"
    }
   ],
   "source": [
    "str1='python'\n",
    "str1.center(24)"
   ]
  },
  {
   "cell_type": "code",
   "execution_count": 39,
   "id": "64cee146-d4c0-449c-958f-9b7b48976f2a",
   "metadata": {},
   "outputs": [
    {
     "data": {
      "text/plain": [
       "'****python***'"
      ]
     },
     "execution_count": 39,
     "metadata": {},
     "output_type": "execute_result"
    }
   ],
   "source": [
    "str1.center(13,'*')"
   ]
  },
  {
   "cell_type": "code",
   "execution_count": 40,
   "id": "beb26ed6-f54a-4df8-af14-5ba4e4a26646",
   "metadata": {},
   "outputs": [
    {
     "data": {
      "text/plain": [
       "'***python***'"
      ]
     },
     "execution_count": 40,
     "metadata": {},
     "output_type": "execute_result"
    }
   ],
   "source": [
    "str1.center(12,'*')"
   ]
  },
  {
   "cell_type": "code",
   "execution_count": 42,
   "id": "eb3418cc-f1ab-4755-9753-ae83487c382d",
   "metadata": {},
   "outputs": [
    {
     "data": {
      "text/plain": [
       "'*****python****'"
      ]
     },
     "execution_count": 42,
     "metadata": {},
     "output_type": "execute_result"
    }
   ],
   "source": [
    "str1.center(15,'*')"
   ]
  },
  {
   "cell_type": "code",
   "execution_count": 43,
   "id": "856d1f62-4ef7-4672-84bb-bd0485d1b9b6",
   "metadata": {},
   "outputs": [
    {
     "data": {
      "text/plain": [
       "'##Hrushi#'"
      ]
     },
     "execution_count": 43,
     "metadata": {},
     "output_type": "execute_result"
    }
   ],
   "source": [
    "str2='Hrushi'\n",
    "str2.center(9,'#')"
   ]
  },
  {
   "cell_type": "markdown",
   "id": "a147dfc0-6a3e-4489-b55b-1d36ce58c3ce",
   "metadata": {},
   "source": [
    "**strip-lstrip-rstrip**\n",
    "- strip will remove the characters both left and right side\n",
    "- lstrip will remove the charcaters on left side\n",
    "- rstrip will remove the characters on right side\n"
   ]
  },
  {
   "cell_type": "code",
   "execution_count": 45,
   "id": "ff43e9e7-38f4-454c-b4da-77f2c2319c17",
   "metadata": {},
   "outputs": [
    {
     "data": {
      "text/plain": [
       "'Hrushi'"
      ]
     },
     "execution_count": 45,
     "metadata": {},
     "output_type": "execute_result"
    }
   ],
   "source": [
    "str4='Hrushi '\n",
    "str4.strip()"
   ]
  },
  {
   "cell_type": "code",
   "execution_count": 59,
   "id": "181c51fa-428d-474c-87d9-c9d77fa3ecd7",
   "metadata": {},
   "outputs": [
    {
     "data": {
      "text/plain": [
       "'  python'"
      ]
     },
     "execution_count": 59,
     "metadata": {},
     "output_type": "execute_result"
    }
   ],
   "source": [
    "str5=' python '\n",
    "str5.strip(),str5.lstrip(),str5.rstrip()\n",
    "str7.rstrip('*')\n"
   ]
  },
  {
   "cell_type": "code",
   "execution_count": 64,
   "id": "bf3c1ad6-b91b-41ad-a1d7-1a172eee57f4",
   "metadata": {},
   "outputs": [
    {
     "data": {
      "text/plain": [
       "'python'"
      ]
     },
     "execution_count": 64,
     "metadata": {},
     "output_type": "execute_result"
    }
   ],
   "source": [
    "str6='***python***'\n",
    "str6.lstrip('*').rstrip('*')"
   ]
  },
  {
   "cell_type": "code",
   "execution_count": 66,
   "id": "7012946c-4185-43e4-9922-75e2c6cd6091",
   "metadata": {},
   "outputs": [
    {
     "data": {
      "text/plain": [
       "'python'"
      ]
     },
     "execution_count": 66,
     "metadata": {},
     "output_type": "execute_result"
    }
   ],
   "source": [
    "str7='  python***'\n",
    "str7.strip().rstrip('*')\n"
   ]
  },
  {
   "cell_type": "code",
   "execution_count": 63,
   "id": "a8693bb7-096e-4411-9f37-23623cca8388",
   "metadata": {},
   "outputs": [
    {
     "data": {
      "text/plain": [
       "'python'"
      ]
     },
     "execution_count": 63,
     "metadata": {},
     "output_type": "execute_result"
    }
   ],
   "source": [
    "str7.strip().rstrip('*')"
   ]
  },
  {
   "cell_type": "markdown",
   "id": "14f0a7c3-e587-4c52-82d7-43e9676be0f7",
   "metadata": {},
   "source": [
    "- startswith\n",
    "- endswith"
   ]
  },
  {
   "cell_type": "code",
   "execution_count": 18,
   "id": "b5445aad-a41a-4175-bce8-dbef8fc008a4",
   "metadata": {},
   "outputs": [
    {
     "name": "stdout",
     "output_type": "stream",
     "text": [
      "5\n",
      "12\n",
      "15\n",
      "First Name rohit\n",
      "Second Name sharma\n",
      "company_name mi\n"
     ]
    }
   ],
   "source": [
    "# str1='virat.kholi@rcb.com'\n",
    "# str2='rohit.sharma@mi.com'\n",
    "# str3='ms.dhoni@csk.com'\n",
    "#First Name\n",
    "#Second Name\n",
    "#company name\n",
    "#O/P ===> \n",
    "# i1 = str2.index('.')\n",
    "# i2 = str2.index('@')\n",
    "# i3 = str2.index('.',i1+1)\n",
    "# print(i1)\n",
    "# print(i2)\n",
    "# print(i3)\n",
    "\n",
    "# first_name = str2[:i1]\n",
    "# second_name = str2[i1+1:i2]\n",
    "# company_name = str2[i2+1:i3]\n",
    "# print(\"First Name\",first_name)\n",
    "# print(\"Second Name\",second_name)\n",
    "# print(\"company_name\",company_name)\n",
    "\n",
    "def  extract_player_details(player):\n",
    "                                        i1 = player.index('.')\n",
    "                                        i2 = player.index('@')\n",
    "                                        i3 = player.index('.',i1+1)\n",
    "                                        print(i1)\n",
    "                                        print(i2)\n",
    "                                        print(i3)\n",
    "                                        first_name = player[:i1]\n",
    "                                        second_name = player[i1+1:i2]\n",
    "                                        company_name = player[i2+1:i3]\n",
    "                                        print(\"First Name\",first_name)\n",
    "                                        print(\"Second Name\",second_name)\n",
    "                                        print(\"company_name\",company_name)\n",
    "extract_player_details('rohit.sharma@mi.com')\n",
    "    \n",
    "                        \n",
    "\n",
    "     \n",
    "\n"
   ]
  },
  {
   "cell_type": "code",
   "execution_count": null,
   "id": "0fcb3de9-0d0b-472f-a5a4-7e6766d12b00",
   "metadata": {},
   "outputs": [],
   "source": [
    "firstname=str1."
   ]
  },
  {
   "cell_type": "code",
   "execution_count": 35,
   "id": "5226c18f-612e-4807-a4aa-0c7167f5d28b",
   "metadata": {},
   "outputs": [
    {
     "name": "stdout",
     "output_type": "stream",
     "text": [
      "['Hai', 'How', 'are', 'you']\n",
      "Hai How are you\n"
     ]
    }
   ],
   "source": [
    "def split_string(str3,split_char):\n",
    "    list1=str3.split(split_char)\n",
    "    print(list1)\n",
    "    # split_char.join(list1)\n",
    "    print(split_char.join(list1))\n",
    "split_string('Hai How are you',' ')"
   ]
  },
  {
   "cell_type": "code",
   "execution_count": 6,
   "id": "fe122b41-b7ff-419f-839b-a778caef0110",
   "metadata": {},
   "outputs": [
    {
     "name": "stdout",
     "output_type": "stream",
     "text": [
      "['the', 'telehpone', 'number', '123456']\n",
      "123456\n"
     ]
    }
   ],
   "source": [
    "str1='the telehpone number 123456'\n",
    "str3=str1.split(' ')\n",
    "print(str3)\n",
    "for i in str3:\n",
    "    if(i.isnumeric()):\n",
    "                print(i)\n",
    "                break\n",
    "\n"
   ]
  },
  {
   "cell_type": "code",
   "execution_count": 8,
   "id": "c617bfc1-cef4-4b25-ba96-2b40176a6045",
   "metadata": {},
   "outputs": [
    {
     "name": "stdout",
     "output_type": "stream",
     "text": [
      "['the', 'telehpone', 'number', '123456']\n",
      "the\n"
     ]
    }
   ],
   "source": [
    "str1='the telehpone number 123456'\n",
    "str3=str1.split(' ')\n",
    "print(str3)\n",
    "for i in str3:\n",
    "    if(i.isalpha()):\n",
    "                print(i)\n",
    "                break"
   ]
  },
  {
   "cell_type": "code",
   "execution_count": null,
   "id": "d3562c3e-7110-4f4f-ad8d-199ad669087a",
   "metadata": {},
   "outputs": [],
   "source": []
  }
 ],
 "metadata": {
  "kernelspec": {
   "display_name": "Python 3 (ipykernel)",
   "language": "python",
   "name": "python3"
  },
  "language_info": {
   "codemirror_mode": {
    "name": "ipython",
    "version": 3
   },
   "file_extension": ".py",
   "mimetype": "text/x-python",
   "name": "python",
   "nbconvert_exporter": "python",
   "pygments_lexer": "ipython3",
   "version": "3.12.7"
  }
 },
 "nbformat": 4,
 "nbformat_minor": 5
}
