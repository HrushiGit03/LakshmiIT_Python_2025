{
 "cells": [
  {
   "cell_type": "code",
   "execution_count": 2,
   "id": "f0ab1bbc-19d0-4b37-ac89-5d6ead003cf6",
   "metadata": {},
   "outputs": [
    {
     "data": {
      "text/plain": [
       "'10'"
      ]
     },
     "execution_count": 2,
     "metadata": {},
     "output_type": "execute_result"
    }
   ],
   "source": [
    "#Choice usage\n",
    "import random\n",
    "intlist=[\"10\",\"20\",\"45\",\"15\"]\n",
    "selectint=random.choice(intlist)\n",
    "selectint\n",
    "#print(selectint)"
   ]
  },
  {
   "cell_type": "code",
   "execution_count": 5,
   "id": "75c62a99-73ae-4e38-a4d1-0d15e72bed83",
   "metadata": {},
   "outputs": [
    {
     "name": "stdout",
     "output_type": "stream",
     "text": [
      "grape\n"
     ]
    }
   ],
   "source": [
    "#Choice usage\n",
    "import random\n",
    "# List of items to choose from\n",
    "fruits = [\"apple\", \"banana\", \"cherry\", \"date\", \"grape\"]\n",
    "\n",
    "# Randomly select one item from the list\n",
    "selected_fruit = random.choice(fruits)\n",
    "\n",
    "print(selected_fruit)"
   ]
  },
  {
   "cell_type": "code",
   "execution_count": 6,
   "id": "611fa789-0afa-4a9f-a0a7-1f7c6e3d0eb3",
   "metadata": {},
   "outputs": [
    {
     "data": {
      "text/plain": [
       "['banana', 'date', 'grape']"
      ]
     },
     "execution_count": 6,
     "metadata": {},
     "output_type": "execute_result"
    }
   ],
   "source": [
    "#Sample \n",
    "import random\n",
    "fruits = [\"apple\", \"banana\", \"cherry\", \"date\", \"grape\",\"grape\"]\n",
    "# Randomly select 3 unique items from the list\n",
    "selected_fruits = random.sample(fruits, 3)\n",
    "selected_fruits"
   ]
  },
  {
   "cell_type": "code",
   "execution_count": 10,
   "id": "422b94d9-316e-4b01-9f51-e9c46cab0b97",
   "metadata": {},
   "outputs": [
    {
     "name": "stdout",
     "output_type": "stream",
     "text": [
      "Help on method randrange in module random:\n",
      "\n",
      "randrange(start, stop=None, step=1) method of random.Random instance\n",
      "    Choose a random item from range(stop) or range(start, stop[, step]).\n",
      "\n",
      "    Roughly equivalent to ``choice(range(start, stop, step))`` but\n",
      "    supports arbitrarily large ranges and is optimized for common cases.\n",
      "\n"
     ]
    },
    {
     "data": {
      "text/plain": [
       "6"
      ]
     },
     "execution_count": 10,
     "metadata": {},
     "output_type": "execute_result"
    }
   ],
   "source": [
    "import random\n",
    "help(random.randrange)\n",
    "# Generate a random integer from 0 to 9\n",
    "random_number = random.randrange(10)\n",
    "random_number"
   ]
  },
  {
   "cell_type": "code",
   "execution_count": 13,
   "id": "ee04c2c2-3f43-479e-a939-b298971a3ed6",
   "metadata": {},
   "outputs": [
    {
     "name": "stdout",
     "output_type": "stream",
     "text": [
      "Ceiling of 4.3: 4\n"
     ]
    }
   ],
   "source": [
    "import math\n",
    "number1 = 3.3\n",
    "result1 = math.ceil(number1)\n",
    "print(\"Ceiling of 4.3:\", result1)"
   ]
  },
  {
   "cell_type": "code",
   "execution_count": 9,
   "id": "452ead7b-e613-4f09-a21f-a37f29ff2077",
   "metadata": {},
   "outputs": [
    {
     "name": "stdout",
     "output_type": "stream",
     "text": [
      "Ceiling of -3.7: -3\n"
     ]
    }
   ],
   "source": [
    "import math\n",
    "number2 = -3.7\n",
    "result2 = math.ceil(number2)\n",
    "print(\"Ceiling of -3.7:\", result2)"
   ]
  },
  {
   "cell_type": "code",
   "execution_count": 8,
   "id": "ff2e1725-49f6-41e0-947d-517734820fd6",
   "metadata": {},
   "outputs": [
    {
     "name": "stdout",
     "output_type": "stream",
     "text": [
      "Ceiling of 10: 11\n"
     ]
    }
   ],
   "source": [
    "# Example 3: Rounding up an integer (no change)\n",
    "import math\n",
    "number3 = 11\n",
    "result3 = math.ceil(number3)\n",
    "print(\"Ceiling of 10:\", result3)"
   ]
  },
  {
   "cell_type": "code",
   "execution_count": 15,
   "id": "e2e5d99d-3cc9-4a82-aef2-9ecff1669c15",
   "metadata": {},
   "outputs": [
    {
     "name": "stdout",
     "output_type": "stream",
     "text": [
      "Pausing for 2 seconds...\n",
      "Performing some operations...\n",
      "Operation 1\n",
      "Operation 2\n",
      "Operation 3\n",
      "Operation 4\n",
      "Operation 5\n",
      "Operation 6\n",
      "Operation 7\n",
      "Operation 8\n",
      "Operation 9\n",
      "Operation 10\n",
      "Time taken to complete operations: 5.007598161697388 seconds\n"
     ]
    }
   ],
   "source": [
    "import time\n",
    "\n",
    "# Step 1: Pause execution for 2 seconds\n",
    "print(\"Pausing for 2 seconds...\")\n",
    "time.sleep(2)\n",
    "\n",
    "# Step 2: Start measuring time\n",
    "start = time.time()\n",
    "\n",
    "# Perform some operations\n",
    "print(\"Performing some operations...\")\n",
    "for i in range(10):\n",
    "    print(f\"Operation {i + 1}\")\n",
    "    time.sleep(0.5)  # Simulate some work with a delay\n",
    "\n",
    "# Step 3: End measuring time\n",
    "end = time.time()\n",
    "\n",
    "# Step 4: Calculate and print elapsed time\n",
    "elapsed_time = end - start\n",
    "print(f\"Time taken to complete operations: {elapsed_time} seconds\")"
   ]
  },
  {
   "cell_type": "code",
   "execution_count": 18,
   "id": "2766fe57-e0f1-4f28-a728-498332ea733c",
   "metadata": {},
   "outputs": [
    {
     "name": "stdout",
     "output_type": "stream",
     "text": [
      "Pausing for 2 seconds...\n",
      "Performing some operations...\n",
      "Operation 1\n",
      "Operation 2\n",
      "Operation 3\n",
      "Operation 4\n",
      "Operation 5\n",
      "Time taken to complete operations: 2.5 seconds\n"
     ]
    }
   ],
   "source": [
    "import time\n",
    "\n",
    "# Step 1: Pause execution for 2 seconds\n",
    "print(\"Pausing for 2 seconds...\")\n",
    "time.sleep(1)\n",
    "\n",
    "# Step 2: Start measuring time\n",
    "start = time.time()\n",
    "\n",
    "# Perform some operations\n",
    "print(\"Performing some operations...\")\n",
    "for i in range(5):\n",
    "    print(f\"Operation {i + 1}\")\n",
    "    time.sleep(0.5)  # Simulate some work with a delay\n",
    "\n",
    "# Step 3: End measuring time\n",
    "end = time.time()\n",
    "\n",
    "# Step 4: Calculate and print elapsed time\n",
    "elapsed_time = end - start\n",
    "print(f\"Time taken to complete operations: {round(elapsed_time,2)} seconds\")"
   ]
  },
  {
   "cell_type": "code",
   "execution_count": 19,
   "id": "b164c199-74ce-4134-959e-a9977637e37e",
   "metadata": {},
   "outputs": [
    {
     "data": {
      "text/plain": [
       "3.141592653589793"
      ]
     },
     "execution_count": 19,
     "metadata": {},
     "output_type": "execute_result"
    }
   ],
   "source": [
    "math.pi"
   ]
  },
  {
   "cell_type": "code",
   "execution_count": 20,
   "id": "d5457790-2e9d-468e-bf98-dbcaa82e0986",
   "metadata": {},
   "outputs": [
    {
     "data": {
      "text/plain": [
       "4"
      ]
     },
     "execution_count": 20,
     "metadata": {},
     "output_type": "execute_result"
    }
   ],
   "source": [
    "math.ceil(math.pi)"
   ]
  },
  {
   "cell_type": "code",
   "execution_count": 29,
   "id": "1997be45-c9a9-4021-a2b2-ec5528837ec4",
   "metadata": {},
   "outputs": [
    {
     "name": "stdout",
     "output_type": "stream",
     "text": [
      "hello\n",
      "how\n",
      "are you\n",
      "write python program\n",
      "The total time took for python program :4.000583171844482\n"
     ]
    }
   ],
   "source": [
    "import time\n",
    "time.sleep(1)\n",
    "start = time.time()\n",
    "print(\"hello\")\n",
    "print(\"how\")\n",
    "print(\"are you\")\n",
    "time.sleep(4)\n",
    "print(\"write python program\")\n",
    "end=time.time()\n",
    "tottime=end-start\n",
    "print(f\"The total time took for python program :{tottime}\")\n"
   ]
  },
  {
   "cell_type": "code",
   "execution_count": 35,
   "id": "ddbb577c-035e-4769-8e7c-89d9b4ab2f06",
   "metadata": {},
   "outputs": [
    {
     "name": "stdout",
     "output_type": "stream",
     "text": [
      "Pausing for 2 seconds...\n",
      "Welcome Bharathi python family \n",
      "Welcome Bharathi python family \n",
      "Welcome Bharathi python family \n",
      "Welcome Bharathi python family \n",
      "Welcome Bharathi python family \n",
      "Total time took for printing the loop :2.5035226345062256\n"
     ]
    }
   ],
   "source": [
    "import time\n",
    "print(\"Pausing for 2 seconds...\")\n",
    "time.sleep(2)\n",
    "start=time.time();\n",
    "for i in range(5):\n",
    "    print(f\"Welcome Bharathi python family \")\n",
    "    time.sleep(.5)\n",
    "end=time.time()\n",
    "tottime=end-start\n",
    "print(f\"Total time took for printing the loop :{tottime}\")\n"
   ]
  },
  {
   "cell_type": "code",
   "execution_count": 31,
   "id": "486d2b06-46e3-4024-b052-ea6f56595e33",
   "metadata": {},
   "outputs": [
    {
     "data": {
      "text/plain": [
       "2.718281828459045"
      ]
     },
     "execution_count": 31,
     "metadata": {},
     "output_type": "execute_result"
    }
   ],
   "source": [
    "math.e"
   ]
  },
  {
   "cell_type": "code",
   "execution_count": 34,
   "id": "cbf85d7d-7366-4c2a-a23d-f1861b869528",
   "metadata": {},
   "outputs": [
    {
     "ename": "AttributeError",
     "evalue": "module 'random' has no attribute 'round'",
     "output_type": "error",
     "traceback": [
      "\u001b[1;31m---------------------------------------------------------------------------\u001b[0m",
      "\u001b[1;31mAttributeError\u001b[0m                            Traceback (most recent call last)",
      "Cell \u001b[1;32mIn[34], line 2\u001b[0m\n\u001b[0;32m      1\u001b[0m \u001b[38;5;28;01mimport\u001b[39;00m \u001b[38;5;21;01mrandom\u001b[39;00m\n\u001b[1;32m----> 2\u001b[0m random\u001b[38;5;241m.\u001b[39mround(math\u001b[38;5;241m.\u001b[39me,\u001b[38;5;241m2\u001b[39m)\n",
      "\u001b[1;31mAttributeError\u001b[0m: module 'random' has no attribute 'round'"
     ]
    }
   ],
   "source": [
    "import math\n",
    "math.round(math.e,2)"
   ]
  },
  {
   "cell_type": "code",
   "execution_count": 37,
   "id": "79c752bf-ee5e-44f6-a843-5f7b2d8f3ae0",
   "metadata": {},
   "outputs": [
    {
     "name": "stdout",
     "output_type": "stream",
     "text": [
      "1\n",
      "2\n",
      "3\n",
      "4\n",
      "5\n",
      "6\n",
      "7\n",
      "8\n",
      "9\n",
      "10\n",
      "11\n",
      "12\n",
      "13\n",
      "14\n",
      "15\n",
      "16\n",
      "17\n",
      "18\n",
      "19\n",
      "20\n",
      "21\n",
      "22\n",
      "23\n",
      "24\n",
      "25\n",
      "26\n",
      "27\n",
      "28\n",
      "29\n",
      "30\n",
      "Total time took : 30.022969484329224\n"
     ]
    }
   ],
   "source": [
    "import time\n",
    "start=time.time()\n",
    "for i in range(1, 31):\n",
    "    print(i)\n",
    "    time.sleep(1)  # Pause for 1 second\n",
    "end=time.time()\n",
    "timetotal=end-start\n",
    "print(f\"Total time took : {timetotal}\")\n"
   ]
  },
  {
   "cell_type": "code",
   "execution_count": null,
   "id": "cf351423-c086-4a52-a665-7dea0c9fa4df",
   "metadata": {},
   "outputs": [],
   "source": [
    "import time\n",
    "\n",
    "def stopwatch():\n",
    "    print(\"Press Enter to start the stopwatch and Ctrl+C to stop it.\")\n",
    "    input()  # Wait for the user to press Enter\n",
    "    print(\"Stopwatch started...\")\n",
    "    start_time = time.time()\n",
    "    \n",
    "    try:\n",
    "        while True:\n",
    "            elapsed_time = time.time() - start_time\n",
    "            print(f\"Elapsed time: {elapsed_time:.2f} seconds\", end=\"\\r\")\n",
    "            time.sleep(1)  # Update the time every 0.1 seconds\n",
    "    except KeyboardInterrupt:\n",
    "        print(\"\\nStopwatch stopped.\")\n",
    "\n",
    "stopwatch()\n"
   ]
  },
  {
   "cell_type": "code",
   "execution_count": 2,
   "id": "c85fde92-6905-4aa8-9737-c56096cca592",
   "metadata": {},
   "outputs": [
    {
     "data": {
      "text/plain": [
       "['red', 'red', 'green']"
      ]
     },
     "execution_count": 2,
     "metadata": {},
     "output_type": "execute_result"
    }
   ],
   "source": [
    "import random\n",
    "random.sample(['red','green','red', 'green','red','red','red'],k=3)"
   ]
  },
  {
   "cell_type": "code",
   "execution_count": 1,
   "id": "9453f989-a16f-42a8-945e-722c0e3fed5c",
   "metadata": {},
   "outputs": [
    {
     "data": {
      "text/plain": [
       "5"
      ]
     },
     "execution_count": 1,
     "metadata": {},
     "output_type": "execute_result"
    }
   ],
   "source": [
    "import random\n",
    "random.randint(1,10)"
   ]
  },
  {
   "cell_type": "code",
   "execution_count": 5,
   "id": "3cfa9955-6941-4ff1-a186-c65e711e7ad6",
   "metadata": {},
   "outputs": [
    {
     "data": {
      "text/plain": [
       "1"
      ]
     },
     "execution_count": 5,
     "metadata": {},
     "output_type": "execute_result"
    }
   ],
   "source": [
    "from random import randint\n",
    "randint(1,10)"
   ]
  },
  {
   "cell_type": "code",
   "execution_count": 9,
   "id": "eb52c11f-d7ff-4aa5-aa04-855f1a37de6a",
   "metadata": {},
   "outputs": [
    {
     "data": {
      "text/plain": [
       "5.0"
      ]
     },
     "execution_count": 9,
     "metadata": {},
     "output_type": "execute_result"
    }
   ],
   "source": [
    "from math import sqrt\n",
    "sqrt(25)"
   ]
  },
  {
   "cell_type": "code",
   "execution_count": 10,
   "id": "1f77da40-adbc-4e27-8cb2-84cd162b3fbc",
   "metadata": {},
   "outputs": [
    {
     "data": {
      "text/plain": [
       "7"
      ]
     },
     "execution_count": 10,
     "metadata": {},
     "output_type": "execute_result"
    }
   ],
   "source": [
    "from random import randint as rt #creating alias\n",
    "rt(1,10)"
   ]
  },
  {
   "cell_type": "code",
   "execution_count": 11,
   "id": "cd43b8d8-6985-47bb-b31b-99cd7b6e9021",
   "metadata": {},
   "outputs": [
    {
     "data": {
      "text/plain": [
       "10.0"
      ]
     },
     "execution_count": 11,
     "metadata": {},
     "output_type": "execute_result"
    }
   ],
   "source": [
    "from math import sqrt as srt\n",
    "srt(100)"
   ]
  },
  {
   "cell_type": "code",
   "execution_count": 14,
   "id": "2b746309-3bc9-4bc7-95b6-01c5853de188",
   "metadata": {},
   "outputs": [
    {
     "ename": "SyntaxError",
     "evalue": "invalid syntax (1799694343.py, line 4)",
     "output_type": "error",
     "traceback": [
      "\u001b[1;36m  Cell \u001b[1;32mIn[14], line 4\u001b[1;36m\u001b[0m\n\u001b[1;33m    from import random randnit\u001b[0m\n\u001b[1;37m         ^\u001b[0m\n\u001b[1;31mSyntaxError\u001b[0m\u001b[1;31m:\u001b[0m invalid syntax\n"
     ]
    }
   ],
   "source": [
    "import random\n",
    "random.randint(1,10)\n",
    "\n",
    "from import random randnit\n",
    "randint(1,0)\n",
    "\n",
    "from import random randint as rt\n",
    "rt(1,10)"
   ]
  },
  {
   "cell_type": "code",
   "execution_count": null,
   "id": "4293afb2-eb75-4e38-8688-2085d133010a",
   "metadata": {},
   "outputs": [],
   "source": []
  },
  {
   "cell_type": "code",
   "execution_count": 12,
   "id": "b384327e-206c-4ba3-bf88-0e0570769278",
   "metadata": {},
   "outputs": [
    {
     "ename": "ModuleNotFoundError",
     "evalue": "No module named 'cv2'",
     "output_type": "error",
     "traceback": [
      "\u001b[1;31m---------------------------------------------------------------------------\u001b[0m",
      "\u001b[1;31mModuleNotFoundError\u001b[0m                       Traceback (most recent call last)",
      "Cell \u001b[1;32mIn[12], line 1\u001b[0m\n\u001b[1;32m----> 1\u001b[0m \u001b[38;5;28;01mimport\u001b[39;00m \u001b[38;5;21;01mcv2\u001b[39;00m\n",
      "\u001b[1;31mModuleNotFoundError\u001b[0m: No module named 'cv2'"
     ]
    }
   ],
   "source": [
    "import cv2 # Computer vision\n"
   ]
  },
  {
   "cell_type": "code",
   "execution_count": 13,
   "id": "c5236233-2be3-4d47-b188-f5b95647dadd",
   "metadata": {},
   "outputs": [
    {
     "ename": "ModuleNotFoundError",
     "evalue": "No module named 'worldcloud'",
     "output_type": "error",
     "traceback": [
      "\u001b[1;31m---------------------------------------------------------------------------\u001b[0m",
      "\u001b[1;31mModuleNotFoundError\u001b[0m                       Traceback (most recent call last)",
      "Cell \u001b[1;32mIn[13], line 1\u001b[0m\n\u001b[1;32m----> 1\u001b[0m \u001b[38;5;28;01mimport\u001b[39;00m \u001b[38;5;21;01mworldcloud\u001b[39;00m\n",
      "\u001b[1;31mModuleNotFoundError\u001b[0m: No module named 'worldcloud'"
     ]
    }
   ],
   "source": [
    "import worldcloud #Pasting the words on cloud"
   ]
  },
  {
   "cell_type": "code",
   "execution_count": null,
   "id": "dde8ab1a-7ac1-4294-baaf-2381b3c303ca",
   "metadata": {},
   "outputs": [],
   "source": []
  }
 ],
 "metadata": {
  "kernelspec": {
   "display_name": "Python 3 (ipykernel)",
   "language": "python",
   "name": "python3"
  },
  "language_info": {
   "codemirror_mode": {
    "name": "ipython",
    "version": 3
   },
   "file_extension": ".py",
   "mimetype": "text/x-python",
   "name": "python",
   "nbconvert_exporter": "python",
   "pygments_lexer": "ipython3",
   "version": "3.12.7"
  }
 },
 "nbformat": 4,
 "nbformat_minor": 5
}
