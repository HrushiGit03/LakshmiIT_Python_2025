{
 "cells": [
  {
   "cell_type": "code",
   "execution_count": 5,
   "id": "7ee7cf67-4c53-48da-9d5d-f50563fca61f",
   "metadata": {},
   "outputs": [
    {
     "name": "stdout",
     "output_type": "stream",
     "text": [
      "Ramesh age is 20\n",
      "Suresh age is 25\n",
      "Satish age is 30\n"
     ]
    }
   ],
   "source": [
    "names=['Ramesh','Suresh','Satish']\n",
    "age=[20,25,30]\n",
    "for i in range(len(names)):\n",
    "    print(f\"{names[i]} age is {age[i]}\")"
   ]
  },
  {
   "cell_type": "code",
   "execution_count": 6,
   "id": "eb3a1633-be6e-4765-858c-c6e2fd175be9",
   "metadata": {},
   "outputs": [
    {
     "name": "stdout",
     "output_type": "stream",
     "text": [
      "Ramesh 20\n",
      "Suresh 25\n",
      "Satish 30\n"
     ]
    }
   ],
   "source": [
    "names=['Ramesh','Suresh','Satish']\n",
    "age=[20,25,30]\n",
    "for i,j in zip(names,age):\n",
    "    print(i,j)\n",
    "\n",
    "# In Python, the zip() function is used to combine two or more iterables (like lists, tuples, etc.) \n",
    "# element-wise into tuples. However, calling zip(10, 20) will result in a TypeError because zip() expects iterable arguments, and 10 and 20 are integers, which are not iterable."
   ]
  },
  {
   "cell_type": "code",
   "execution_count": 2,
   "id": "e60dfe40-46f4-400d-9cac-a3c21b33d8a1",
   "metadata": {},
   "outputs": [
    {
     "name": "stdout",
     "output_type": "stream",
     "text": [
      "('Ramesh', 20)\n",
      "('Suresh', 25)\n",
      "('Satish', 30)\n"
     ]
    }
   ],
   "source": [
    "names=['Ramesh','Suresh','Satish']\n",
    "age=[20,25,30]\n",
    "for i in zip(names,age):\n",
    "    print(i)"
   ]
  },
  {
   "cell_type": "code",
   "execution_count": 1,
   "id": "2e174dbc-0571-4cb4-8a57-eb92a7e2a394",
   "metadata": {},
   "outputs": [
    {
     "name": "stdout",
     "output_type": "stream",
     "text": [
      "Ramesh\n",
      "Suresh\n",
      "Satish\n"
     ]
    }
   ],
   "source": [
    "names=['Ramesh','Suresh','Satish']\n",
    "age=[20,25,30]\n",
    "for i,j in zip(names,age):\n",
    "    print(i)"
   ]
  },
  {
   "cell_type": "code",
   "execution_count": 10,
   "id": "e02803cd-8a2b-4314-a641-333d01fe9d14",
   "metadata": {},
   "outputs": [
    {
     "name": "stdout",
     "output_type": "stream",
     "text": [
      "20\n",
      "25\n",
      "30\n"
     ]
    }
   ],
   "source": [
    "names=['Ramesh','Suresh','Satish']\n",
    "age=[20,25,30]\n",
    "for i,j in zip(names,age):\n",
    "    print(j)"
   ]
  },
  {
   "cell_type": "code",
   "execution_count": 13,
   "id": "913cfb39-ec6a-4992-ab63-d8058aafc9a3",
   "metadata": {},
   "outputs": [
    {
     "data": {
      "text/plain": [
       "[\"('Ramesh', 20)\", \"('Suresh', 25)\", \"('Satish', 30)\"]"
      ]
     },
     "execution_count": 13,
     "metadata": {},
     "output_type": "execute_result"
    }
   ],
   "source": [
    "list2=[f'{i,j}' for i,j in zip(names,age)]\n",
    "list2"
   ]
  },
  {
   "cell_type": "markdown",
   "id": "0c632e6a-e4a9-487a-9ae5-1b675171fde9",
   "metadata": {},
   "source": [
    "**Dictionary**\n",
    "- in the above example names and age both are togther\n",
    "- we both are together we can pair them\n",
    "- This can happen through Dictionary\n",
    "- Dictionary is called as **key-value** pair\n",
    "- it represents with curely basis : **{key:value}**\n",
    "-  Ramesh and 20 years are both are pairs : {'Ramesh','20'}\n",
    "-  if both keys are same it takes the latest value\n"
   ]
  },
  {
   "cell_type": "code",
   "execution_count": 4,
   "id": "42247322-42d0-460e-9660-759a28462785",
   "metadata": {},
   "outputs": [
    {
     "data": {
      "text/plain": [
       "{'Ramesh': 20, 'Suresh': 25, 'Satish': 30, 'Hrushi': 30}"
      ]
     },
     "execution_count": 4,
     "metadata": {},
     "output_type": "execute_result"
    }
   ],
   "source": [
    "d1={'Ramesh':20,'Suresh':25,'Satish':30,'Hrushi':30}\n",
    "d1\n"
   ]
  },
  {
   "cell_type": "code",
   "execution_count": 17,
   "id": "c5db5cc1-67df-42d1-899e-93d0f5fcb186",
   "metadata": {},
   "outputs": [
    {
     "name": "stdout",
     "output_type": "stream",
     "text": [
      "{'name': 'Alice', 'age': 25, 'hobbies': ['reading', 'painting', 'cycling'], 'coordinates': (40.7128, 74.006), 'address': {'street': '5th Avenue', 'city': 'New York', 'zip': '10001'}, 'is_active': True}\n"
     ]
    }
   ],
   "source": [
    "my_dict = {\n",
    "    \"name\": \"Alice\",                        # String\n",
    "    \"age\": 25,                              # Integer\n",
    "    \"hobbies\": [\"reading\", \"painting\", \"cycling\"],  # List\n",
    "    \"coordinates\": (40.7128, 74.0060),      # Tuple\n",
    "    \"address\": {\"street\": \"5th Avenue\", \"city\": \"New York\", \"zip\": \"10001\"},  # Nested Dictionary\n",
    "    \"is_active\": True                       # Boolean\n",
    "}\n",
    "\n",
    "print(my_dict)\n"
   ]
  },
  {
   "cell_type": "code",
   "execution_count": 9,
   "id": "14f52753-4f63-4a85-9046-8f438d6e12d7",
   "metadata": {},
   "outputs": [
    {
     "data": {
      "text/plain": [
       "{'coordinates': (40.7128, 74.006)}"
      ]
     },
     "execution_count": 9,
     "metadata": {},
     "output_type": "execute_result"
    }
   ],
   "source": [
    "my_dict1={'name':'Hrushi'} #string dict\n",
    "my_dict1\n",
    "my_dict1={'age':25} #Integere dict\n",
    "my_dict1\n",
    "my_dict1={'fruits': [\"apple\",\"mango\",'cherry']} #dict with list\n",
    "my_dict1={\"coordinates\": (40.7128, 74.0060)}  #dict with tuple\n",
    "my_dict1\n",
    "\n"
   ]
  },
  {
   "cell_type": "code",
   "execution_count": 18,
   "id": "cfd76c5e-d7f2-471b-8db4-ae4d7813fad5",
   "metadata": {},
   "outputs": [
    {
     "data": {
      "text/plain": [
       "{'Ramesh': 35}"
      ]
     },
     "execution_count": 18,
     "metadata": {},
     "output_type": "execute_result"
    }
   ],
   "source": [
    "my_dict={'Ramesh':20,'Ramesh':35}\n",
    "my_dict"
   ]
  },
  {
   "cell_type": "code",
   "execution_count": 20,
   "id": "0750df16-a9ea-438a-8d50-7331df4328c6",
   "metadata": {},
   "outputs": [
    {
     "data": {
      "text/plain": [
       "{'Ramesh': 20}"
      ]
     },
     "execution_count": 20,
     "metadata": {},
     "output_type": "execute_result"
    }
   ],
   "source": [
    "my_dict={'Ramesh':20,'Ramesh':20} #Dict will not allow duplicates\n",
    "my_dict #in dict keys are not allowed duplicates and values can be duplicate"
   ]
  },
  {
   "cell_type": "code",
   "execution_count": 10,
   "id": "60808740-41dd-46d0-a5cd-b9f6e5ec1f41",
   "metadata": {},
   "outputs": [
    {
     "data": {
      "text/plain": [
       "{20: 'Suresh'}"
      ]
     },
     "execution_count": 10,
     "metadata": {},
     "output_type": "execute_result"
    }
   ],
   "source": [
    "d8={20:'Ramesh',20:'Suresh'}\n",
    "d8"
   ]
  },
  {
   "cell_type": "code",
   "execution_count": 11,
   "id": "bfcbf9af-f43a-474a-be1d-7a97c5623ea9",
   "metadata": {},
   "outputs": [
    {
     "data": {
      "text/plain": [
       "{True: 'true'}"
      ]
     },
     "execution_count": 11,
     "metadata": {},
     "output_type": "execute_result"
    }
   ],
   "source": [
    "d9={True:'true'}\n",
    "d9"
   ]
  },
  {
   "cell_type": "code",
   "execution_count": 24,
   "id": "d94669ed-f4c5-4bfb-a06c-e2d0cd63cde6",
   "metadata": {},
   "outputs": [
    {
     "data": {
      "text/plain": [
       "{'fruits': ['apple', 'mango']}"
      ]
     },
     "execution_count": 24,
     "metadata": {},
     "output_type": "execute_result"
    }
   ],
   "source": [
    "d10={'fruits': ['apple','mango']} #dict with list works\n",
    "d10"
   ]
  },
  {
   "cell_type": "code",
   "execution_count": 25,
   "id": "19c5de73-8d8c-44f9-a505-0b78c374a8d4",
   "metadata": {},
   "outputs": [
    {
     "data": {
      "text/plain": [
       "{'fruits': ('apple', 'mango')}"
      ]
     },
     "execution_count": 25,
     "metadata": {},
     "output_type": "execute_result"
    }
   ],
   "source": [
    "d11={'fruits': ('apple','mango')} #dict with tuple works\n",
    "d11"
   ]
  },
  {
   "cell_type": "markdown",
   "id": "d9dbb0bd-f7d0-478a-a241-dde5e116541f",
   "metadata": {},
   "source": [
    "- list as keys fails list has mutable behaviour\n",
    "- tuple as keys workks tuple has imutable behaviour\n",
    "- in dict keys are very important\n",
    "- keys doenst change when apply list fails\n"
   ]
  },
  {
   "cell_type": "code",
   "execution_count": 2,
   "id": "202a6bb2-cfa4-4bab-84b4-57d3ffdbb1e1",
   "metadata": {},
   "outputs": [
    {
     "data": {
      "text/plain": [
       "{'Ramesh': 20, 'Sachin': 20}"
      ]
     },
     "execution_count": 2,
     "metadata": {},
     "output_type": "execute_result"
    }
   ],
   "source": [
    "d13={'Ramesh':10,'Sachin':20,'Ramesh':20} \n",
    "d13"
   ]
  },
  {
   "cell_type": "code",
   "execution_count": 3,
   "id": "e5519a14-c497-4ae5-8380-09c8b456966d",
   "metadata": {},
   "outputs": [
    {
     "data": {
      "text/plain": [
       "{'fruits': {'apple': 100, 'mango': 200, 'Guava': 100}}"
      ]
     },
     "execution_count": 3,
     "metadata": {},
     "output_type": "execute_result"
    }
   ],
   "source": [
    "d14={'fruits':{'apple':100,'mango':200,'Guava':100}} #Nested dict\n",
    "d14"
   ]
  },
  {
   "cell_type": "code",
   "execution_count": 4,
   "id": "fc22bd7f-bd09-47d5-b3fb-10c1197aa4f7",
   "metadata": {},
   "outputs": [
    {
     "data": {
      "text/plain": [
       "{'fruits': {'apple': 100}}"
      ]
     },
     "execution_count": 4,
     "metadata": {},
     "output_type": "execute_result"
    }
   ],
   "source": [
    "d14={'fruits':{'apple':100}}\n",
    "d14"
   ]
  },
  {
   "cell_type": "code",
   "execution_count": 6,
   "id": "a3eff59a-0451-4edb-b58c-05e567e147c7",
   "metadata": {},
   "outputs": [
    {
     "ename": "TypeError",
     "evalue": "unhashable type: 'dict'",
     "output_type": "error",
     "traceback": [
      "\u001b[1;31m---------------------------------------------------------------------------\u001b[0m",
      "\u001b[1;31mTypeError\u001b[0m                                 Traceback (most recent call last)",
      "Cell \u001b[1;32mIn[6], line 1\u001b[0m\n\u001b[1;32m----> 1\u001b[0m d14\u001b[38;5;241m=\u001b[39m{{\u001b[38;5;124m'\u001b[39m\u001b[38;5;124mapple\u001b[39m\u001b[38;5;124m'\u001b[39m:\u001b[38;5;241m100\u001b[39m}:\u001b[38;5;124m'\u001b[39m\u001b[38;5;124mfruits\u001b[39m\u001b[38;5;124m'\u001b[39m}\n\u001b[0;32m      2\u001b[0m d14\n",
      "\u001b[1;31mTypeError\u001b[0m: unhashable type: 'dict'"
     ]
    }
   ],
   "source": [
    "d14={{'apple':100}:'fruits'}\n",
    "d14  #unhashable type: 'dict'"
   ]
  },
  {
   "cell_type": "code",
   "execution_count": 21,
   "id": "df81aca7-a731-4d7a-bc58-8bc78f710f09",
   "metadata": {},
   "outputs": [
    {
     "name": "stdout",
     "output_type": "stream",
     "text": [
      "60\n",
      "30\n",
      "apple\n",
      "50\n",
      "['apple', 'bannana', 'cherry']\n",
      "['bannana', 'cherry', 'apple']\n",
      "97\n",
      "65\n"
     ]
    }
   ],
   "source": [
    "dict1={'apple':30,'cherry':10,'bannana':20}\n",
    "dict2={'Apple':20,'apple':30}\n",
    "dict3={20:'Apple',30:'Bannna',50:'cherry'}\n",
    "dict1.values()\n",
    "#Sum\n",
    "sum=0\n",
    "for i in dict1.values():\n",
    "   sum=sum+i\n",
    "print(sum)\n",
    "#print(min(dict1.values()))\n",
    "#print(max(dict1.values()))\n",
    "#print(sorted(dict1.values()))\n",
    "#list2=reversed(dict1.values())\n",
    "#list2\n",
    "print(max(dict1.values())) #Key\n",
    "print(max(dict2)) #apple\n",
    "print(max(dict3)) #50\n",
    "print(sorted(dict1))\n",
    "print(list(reversed(dict1)))\n",
    "len(dict1) #length of dict\n",
    "#print(ord['c'])\n",
    "print(ord('a'))\n",
    "print(ord('A'))\n",
    "\n",
    "\n"
   ]
  },
  {
   "cell_type": "code",
   "execution_count": 22,
   "id": "79c69e85-b970-4d1a-a448-517448b7c078",
   "metadata": {},
   "outputs": [
    {
     "name": "stdout",
     "output_type": "stream",
     "text": [
      "apple\n",
      "cherry\n",
      "bannana\n"
     ]
    }
   ],
   "source": [
    "for i in dict1:\n",
    "    print(i)"
   ]
  },
  {
   "cell_type": "code",
   "execution_count": 50,
   "id": "2e84420e-e91d-4eaa-a26f-6ae67d49ebfd",
   "metadata": {},
   "outputs": [
    {
     "name": "stdout",
     "output_type": "stream",
     "text": [
      "30 10 20 "
     ]
    }
   ],
   "source": [
    "for i in dict1:\n",
    "    print(dict1[i],end=\" \")"
   ]
  },
  {
   "cell_type": "code",
   "execution_count": 25,
   "id": "0c3a3bef-0b37-48d6-b80b-cfac365efee8",
   "metadata": {},
   "outputs": [
    {
     "ename": "AttributeError",
     "evalue": "'dict' object has no attribute 'key'",
     "output_type": "error",
     "traceback": [
      "\u001b[1;31m---------------------------------------------------------------------------\u001b[0m",
      "\u001b[1;31mAttributeError\u001b[0m                            Traceback (most recent call last)",
      "Cell \u001b[1;32mIn[25], line 2\u001b[0m\n\u001b[0;32m      1\u001b[0m dict1\u001b[38;5;241m=\u001b[39m{\u001b[38;5;124m'\u001b[39m\u001b[38;5;124mapple\u001b[39m\u001b[38;5;124m'\u001b[39m:\u001b[38;5;241m30\u001b[39m,\u001b[38;5;124m'\u001b[39m\u001b[38;5;124mcherry\u001b[39m\u001b[38;5;124m'\u001b[39m:\u001b[38;5;241m10\u001b[39m,\u001b[38;5;124m'\u001b[39m\u001b[38;5;124mbannana\u001b[39m\u001b[38;5;124m'\u001b[39m:\u001b[38;5;241m20\u001b[39m}\n\u001b[1;32m----> 2\u001b[0m dict1\u001b[38;5;241m.\u001b[39mkey()\n\u001b[0;32m      3\u001b[0m n1\u001b[38;5;241m=\u001b[39m\u001b[38;5;28mlen\u001b[39m(dict1)\n",
      "\u001b[1;31mAttributeError\u001b[0m: 'dict' object has no attribute 'key'"
     ]
    }
   ],
   "source": [
    "dict1={'apple':30,'cherry':10,'bannana':20}\n",
    "n1=len(dict1)\n",
    "for i in range(n1):\n",
    "    print(dict1.key())\n",
    "   "
   ]
  },
  {
   "cell_type": "markdown",
   "id": "ec7a60de-978e-4b53-8182-6f8ae1fe37d1",
   "metadata": {},
   "source": [
    "**How to extract the values**\n",
    "- in dict we have concpet callled key:value pair\n",
    "- key are very important\n",
    "- in order to get the values , we need to take keys help"
   ]
  },
  {
   "cell_type": "code",
   "execution_count": 58,
   "id": "0fe70a2c-14ef-42bb-96ed-2797bcd4050f",
   "metadata": {},
   "outputs": [
    {
     "name": "stdout",
     "output_type": "stream",
     "text": [
      "apple: 30\n",
      "cherry: 10\n",
      "bannana: 20\n"
     ]
    }
   ],
   "source": [
    "for i in dict1:\n",
    "    print(f'{i}:',dict1[i])"
   ]
  },
  {
   "cell_type": "code",
   "execution_count": 61,
   "id": "0760c1d0-9831-48ed-8b08-4d6e3c4c2fd4",
   "metadata": {},
   "outputs": [
    {
     "name": "stdout",
     "output_type": "stream",
     "text": [
      " ramesh age is 20\n",
      " satish age is 30\n",
      " Suresh age is 40\n"
     ]
    }
   ],
   "source": [
    "names={'ramesh','Satish','Suresh'}\n",
    "age={20,10,30}\n",
    "names={'ramesh':20,'satish':30,'Suresh':40}\n",
    "for key in names:\n",
    "    #print(i,names[key])\n",
    "    value=names[key]\n",
    "    print(f' {key} age is {value}')"
   ]
  },
  {
   "cell_type": "code",
   "execution_count": 66,
   "id": "c7656ec6-1828-4bf7-a46f-3044fb8e4ce8",
   "metadata": {},
   "outputs": [
    {
     "data": {
      "text/plain": [
       "'Cherry'"
      ]
     },
     "execution_count": 66,
     "metadata": {},
     "output_type": "execute_result"
    }
   ],
   "source": [
    "d={'fruits':['Apple','Banna','Cherry']}\n",
    "d['fruits'][2]"
   ]
  },
  {
   "cell_type": "code",
   "execution_count": 30,
   "id": "bd7ae29b-adfb-4b4b-87db-450da0d49feb",
   "metadata": {},
   "outputs": [
    {
     "data": {
      "text/plain": [
       "'green'"
      ]
     },
     "execution_count": 30,
     "metadata": {},
     "output_type": "execute_result"
    }
   ],
   "source": [
    "d={'fruits':{'Apple':['sweet','sour','green']}} #Nest dic with one List\n",
    "d['fruits']['Apple'][2]"
   ]
  },
  {
   "cell_type": "code",
   "execution_count": 73,
   "id": "68897c61-a5d2-4044-b432-dd3c8cd8381a",
   "metadata": {},
   "outputs": [
    {
     "data": {
      "text/plain": [
       "50"
      ]
     },
     "execution_count": 73,
     "metadata": {},
     "output_type": "execute_result"
    }
   ],
   "source": [
    "d={'fruits':[{'Cost':[50]}]}\n",
    "\n",
    "d['fruits'][0]['Cost'][0]"
   ]
  },
  {
   "cell_type": "code",
   "execution_count": 74,
   "id": "df8fed67-95da-4243-a399-9d5bf9e71e56",
   "metadata": {},
   "outputs": [],
   "source": [
    "d={'fruits':['Apple'],'Cost':[{'1kg':[20,30,40],'2kg':'None'}]}"
   ]
  },
  {
   "cell_type": "code",
   "execution_count": 32,
   "id": "60706f3c-54e0-44cc-acca-cd37a5f8a093",
   "metadata": {},
   "outputs": [
    {
     "data": {
      "text/plain": [
       "40"
      ]
     },
     "execution_count": 32,
     "metadata": {},
     "output_type": "execute_result"
    }
   ],
   "source": [
    "d={'fruits':['Apple'],'Cost':[{'1kg':[20,30,40],'2kg':'None'}]}\n",
    "d['Cost'][0]['1kg'][2]"
   ]
  },
  {
   "cell_type": "code",
   "execution_count": 35,
   "id": "ce8ab849-2d4c-4b06-b236-49fa7cbe212c",
   "metadata": {},
   "outputs": [
    {
     "data": {
      "text/plain": [
       "'None'"
      ]
     },
     "execution_count": 35,
     "metadata": {},
     "output_type": "execute_result"
    }
   ],
   "source": [
    "d={'fruits':['Apple'],'Cost':[{'1kg':[20,30,40],'2kg':'None'}]}\n",
    "d['Cost'][0]['2kg']"
   ]
  },
  {
   "cell_type": "code",
   "execution_count": 36,
   "id": "bb63257c-d836-4d01-aa2a-b1f2bb989658",
   "metadata": {},
   "outputs": [
    {
     "data": {
      "text/plain": [
       "{'Shambaji'}"
      ]
     },
     "execution_count": 36,
     "metadata": {},
     "output_type": "execute_result"
    }
   ],
   "source": [
    "d={'Fruites':{'Orange':{'Nagpur':{'MH':{'King':{'Shivaji':{'Shambaji'}}}}}}}\n",
    "d=d['Fruites']['Orange']['Nagpur']['MH']['King']['Shivaji']\n",
    "d"
   ]
  },
  {
   "cell_type": "code",
   "execution_count": null,
   "id": "dabd7d22-8567-4d24-a223-46e732c8c049",
   "metadata": {},
   "outputs": [],
   "source": [
    "**How to create a empty dict**\n",
    "- Now on onwards creation of empty list,strings and dictionary"
   ]
  },
  {
   "cell_type": "code",
   "execution_count": 29,
   "id": "17dcbca0-47e4-4bc7-80f3-88c50ac3a7ed",
   "metadata": {},
   "outputs": [
    {
     "data": {
      "text/plain": [
       "[10, 20]"
      ]
     },
     "execution_count": 29,
     "metadata": {},
     "output_type": "execute_result"
    }
   ],
   "source": [
    "l1=[]\n",
    "l1.append(10)\n",
    "l1.append(20)\n",
    "l1"
   ]
  },
  {
   "cell_type": "code",
   "execution_count": 30,
   "id": "ee29d1a6-9817-4797-9b51-8398f8b72b07",
   "metadata": {},
   "outputs": [
    {
     "name": "stdout",
     "output_type": "stream",
     "text": [
      "abcefg\n"
     ]
    }
   ],
   "source": [
    "str=''\n",
    "str='abc'+'efg'\n",
    "print(str)"
   ]
  },
  {
   "cell_type": "code",
   "execution_count": 35,
   "id": "a3c85963-3bcd-42e8-b2b9-76e71889b619",
   "metadata": {},
   "outputs": [
    {
     "data": {
      "text/plain": [
       "{'Ramesh': 20, 'Satish': 30, 'Sachin': 40}"
      ]
     },
     "execution_count": 35,
     "metadata": {},
     "output_type": "execute_result"
    }
   ],
   "source": [
    "d1={}\n",
    "d1['Ramesh']=20\n",
    "d1['Satish']=30\n",
    "d1['Sachin']=40\n",
    "d1\n"
   ]
  },
  {
   "cell_type": "code",
   "execution_count": 37,
   "id": "e31aee00-74dc-47c5-af5f-4aa2a99a547a",
   "metadata": {},
   "outputs": [
    {
     "name": "stdout",
     "output_type": "stream",
     "text": [
      "Ramesh 20\n",
      "Ramesh 25\n",
      "Ramesh 30\n",
      "Suresh 20\n",
      "Suresh 25\n",
      "Suresh 30\n",
      "Satish 20\n",
      "Satish 25\n",
      "Satish 30\n"
     ]
    },
    {
     "data": {
      "text/plain": [
       "{'Ramesh': 30, 'Suresh': 30, 'Satish': 30}"
      ]
     },
     "execution_count": 37,
     "metadata": {},
     "output_type": "execute_result"
    }
   ],
   "source": [
    "names=['Ramesh','Suresh','Satish']\n",
    "age=[20,25,30]\n",
    "d={}\n",
    "for i in names:\n",
    "    for j in age:\n",
    "        print(i,j)\n",
    "        d[i]=j\n",
    "d\n",
    "        "
   ]
  },
  {
   "cell_type": "code",
   "execution_count": 40,
   "id": "6536994a-5842-4822-851c-e10d7d34ea92",
   "metadata": {},
   "outputs": [
    {
     "name": "stdout",
     "output_type": "stream",
     "text": [
      "Ramesh 20\n",
      "Suresh 25\n",
      "Satish 30\n"
     ]
    },
    {
     "data": {
      "text/plain": [
       "{'Ramesh': 20, 'Suresh': 25, 'Satish': 30}"
      ]
     },
     "execution_count": 40,
     "metadata": {},
     "output_type": "execute_result"
    }
   ],
   "source": [
    "\n",
    "names=['Ramesh','Suresh','Satish']\n",
    "age=[20,25,30]\n",
    "d1={}\n",
    "for i,j in zip(names,age):\n",
    "        print(i,j)\n",
    "        d1[i]=j\n",
    "d1"
   ]
  },
  {
   "cell_type": "code",
   "execution_count": null,
   "id": "493c15ac-cb9d-433c-b457-91e7c2097611",
   "metadata": {},
   "outputs": [],
   "source": [
    "- dict comprehension\n",
    "{<output> <for loop>}\n"
   ]
  },
  {
   "cell_type": "code",
   "execution_count": 42,
   "id": "c77ef25d-b963-4e36-9edc-7fc460daedb2",
   "metadata": {},
   "outputs": [
    {
     "data": {
      "text/plain": [
       "{\"('Ramesh', 20)\", \"('Satish', 30)\", \"('Suresh', 25)\"}"
      ]
     },
     "execution_count": 42,
     "metadata": {},
     "output_type": "execute_result"
    }
   ],
   "source": [
    "{f'{i,j}' for i,j in zip(names,age)}"
   ]
  },
  {
   "cell_type": "code",
   "execution_count": 45,
   "id": "3d694f09-fb4d-4a82-b391-49e2facd4257",
   "metadata": {},
   "outputs": [
    {
     "data": {
      "text/plain": [
       "{'Ramesh': 20, 'Suresh': 25, 'Satish': 30}"
      ]
     },
     "execution_count": 45,
     "metadata": {},
     "output_type": "execute_result"
    }
   ],
   "source": [
    "{i:j for i,j in zip(names,age)}"
   ]
  },
  {
   "cell_type": "markdown",
   "id": "4511637c-0ab1-4d85-a8f8-79d890e88223",
   "metadata": {},
   "source": [
    "**mutable vs immutable**\n",
    "- list are mutable\n",
    "- dict also mutable\n",
    "- string  immutable\n",
    "- tuple  immutable\n"
   ]
  },
  {
   "cell_type": "code",
   "execution_count": 46,
   "id": "9e45433c-6d83-41eb-9603-af0138ec25d3",
   "metadata": {},
   "outputs": [
    {
     "data": {
      "text/plain": [
       "['__class__',\n",
       " '__class_getitem__',\n",
       " '__contains__',\n",
       " '__delattr__',\n",
       " '__delitem__',\n",
       " '__dir__',\n",
       " '__doc__',\n",
       " '__eq__',\n",
       " '__format__',\n",
       " '__ge__',\n",
       " '__getattribute__',\n",
       " '__getitem__',\n",
       " '__getstate__',\n",
       " '__gt__',\n",
       " '__hash__',\n",
       " '__init__',\n",
       " '__init_subclass__',\n",
       " '__ior__',\n",
       " '__iter__',\n",
       " '__le__',\n",
       " '__len__',\n",
       " '__lt__',\n",
       " '__ne__',\n",
       " '__new__',\n",
       " '__or__',\n",
       " '__reduce__',\n",
       " '__reduce_ex__',\n",
       " '__repr__',\n",
       " '__reversed__',\n",
       " '__ror__',\n",
       " '__setattr__',\n",
       " '__setitem__',\n",
       " '__sizeof__',\n",
       " '__str__',\n",
       " '__subclasshook__',\n",
       " 'clear',\n",
       " 'copy',\n",
       " 'fromkeys',\n",
       " 'get',\n",
       " 'items',\n",
       " 'keys',\n",
       " 'pop',\n",
       " 'popitem',\n",
       " 'setdefault',\n",
       " 'update',\n",
       " 'values']"
      ]
     },
     "execution_count": 46,
     "metadata": {},
     "output_type": "execute_result"
    }
   ],
   "source": [
    "dir({})"
   ]
  },
  {
   "cell_type": "code",
   "execution_count": 49,
   "id": "1dbc7809-f68c-44c8-9185-5809c035d417",
   "metadata": {},
   "outputs": [
    {
     "data": {
      "text/plain": [
       "{'Sachin': 45, 'Virat': 37, 'Rohit': 30}"
      ]
     },
     "execution_count": 49,
     "metadata": {},
     "output_type": "execute_result"
    }
   ],
   "source": [
    "# clear(), copy(), keys(), items()- practise today\n",
    "my_dict={'Sachin':45,'Virat':37,'Rohit':30}\n",
    "my_dict"
   ]
  },
  {
   "cell_type": "code",
   "execution_count": 50,
   "id": "e067a9db-f521-46da-8ec0-f913da02e8d4",
   "metadata": {},
   "outputs": [
    {
     "data": {
      "text/plain": [
       "{}"
      ]
     },
     "execution_count": 50,
     "metadata": {},
     "output_type": "execute_result"
    }
   ],
   "source": [
    "my_dict.clear()\n",
    "my_dict"
   ]
  },
  {
   "cell_type": "code",
   "execution_count": 1,
   "id": "44d35c32-c3a7-4abc-bc47-8b7297bb860a",
   "metadata": {},
   "outputs": [
    {
     "data": {
      "text/plain": [
       "dict_keys"
      ]
     },
     "execution_count": 1,
     "metadata": {},
     "output_type": "execute_result"
    }
   ],
   "source": [
    "my_dict={'Sachin':45,'Virat':37,'Rohit':30}\n",
    "keys=my_dict.keys()\n",
    "type(keys)"
   ]
  },
  {
   "cell_type": "code",
   "execution_count": 10,
   "id": "61246bdc-2158-4a03-852c-e9d6b042a15a",
   "metadata": {},
   "outputs": [
    {
     "name": "stdout",
     "output_type": "stream",
     "text": [
      "['Sachin', 45] ['Virat', 37] ['Rohit', 30] "
     ]
    }
   ],
   "source": [
    "#** convert dict to list **\n",
    "my_dict={'Sachin':45,'Virat':37,'Rohit':30}\n",
    "for item in my_dict.items():\n",
    "    print(list(item),end=\" \")"
   ]
  },
  {
   "cell_type": "code",
   "execution_count": 15,
   "id": "01b068da-32d7-4bc1-82fe-b535c6817e2a",
   "metadata": {},
   "outputs": [
    {
     "name": "stdout",
     "output_type": "stream",
     "text": [
      "['Sachin', 'Virat', 'Rohit']\n",
      "1\n"
     ]
    },
    {
     "data": {
      "text/plain": [
       "(list, dict_keys)"
      ]
     },
     "execution_count": 15,
     "metadata": {},
     "output_type": "execute_result"
    }
   ],
   "source": [
    "#** convert dict to list **\n",
    "my_dict={'Sachin':45,'Virat':37,'Rohit':30}\n",
    "keys=my_dict.keys()\n",
    "keys_list=list(keys)\n",
    "print(keys_list)\n",
    "print(keys_list.count('Sachin'))\n",
    "(type(keys_list),type(keys))\n"
   ]
  },
  {
   "cell_type": "markdown",
   "id": "de02c288-9782-4a13-a6c0-d55e24d93fbc",
   "metadata": {},
   "source": [
    "- in order to convert dictionary to list\n",
    "- first we need to seperate keys and values\n",
    "- then apply list type casting\n",
    " - list to string ==> using join\n",
    " -  string to list ==> using split \n",
    "-    list to dict ==> using zip\n",
    "-  dict to list ==> using type casting\n"
   ]
  },
  {
   "cell_type": "code",
   "execution_count": 12,
   "id": "be502b5c-47aa-47bc-ac7d-0dc60a369225",
   "metadata": {},
   "outputs": [
    {
     "name": "stdout",
     "output_type": "stream",
     "text": [
      "[45, 37, 30]\n",
      "1\n"
     ]
    }
   ],
   "source": [
    "my_dict={'Sachin':45,'Virat':37,'Rohit':30}\n",
    "values=my_dict.values()\n",
    "values_list=list(values)\n",
    "print(values_list)\n",
    "print(values_list.count(37))\n",
    "\n"
   ]
  },
  {
   "cell_type": "code",
   "execution_count": 8,
   "id": "627587c4-c7b8-4c29-8c09-32dbad9654f6",
   "metadata": {},
   "outputs": [
    {
     "data": {
      "text/plain": [
       "[('Sachin', 45), ('Virat', 37), ('Rohit', 30)]"
      ]
     },
     "execution_count": 8,
     "metadata": {},
     "output_type": "execute_result"
    }
   ],
   "source": [
    "my_dict={'Sachin':45,'Virat':37,'Rohit':30}\n",
    "items=my_dict.items()\n",
    "items_list=list(items)\n",
    "items_list\n"
   ]
  },
  {
   "cell_type": "code",
   "execution_count": 35,
   "id": "c94aedc3-2c43-4513-a338-cf7b1f9385c6",
   "metadata": {},
   "outputs": [
    {
     "name": "stdout",
     "output_type": "stream",
     "text": [
      "5\n",
      "11\n",
      "15\n",
      "5\n",
      "12\n",
      "15\n",
      "2\n",
      "8\n",
      "12\n",
      "['virat', 'rohit', 'ms']\n",
      "['kohli', 'sharma', 'dhoni']\n",
      "['rcb', 'mi', 'csk']\n"
     ]
    },
    {
     "data": {
      "text/plain": [
       "{'FirstName': ['virat', 'rohit', 'ms'],\n",
       " 'Secondname': ['kohli', 'sharma', 'dhoni'],\n",
       " 'Companyname': ['rcb', 'mi', 'csk']}"
      ]
     },
     "execution_count": 35,
     "metadata": {},
     "output_type": "execute_result"
    }
   ],
   "source": [
    "\n",
    "input='virat.kohli@rcb.com;rohit.sharma@mi.com;ms.dhoni@csk.com'\n",
    "fname=[]\n",
    "lname=[]\n",
    "cname=[]\n",
    "d={}\n",
    "for player in input.split(\";\"):   \n",
    "        i1 = player.index('.')\n",
    "        i2 = player.index('@')\n",
    "        i3 = player.index('.',i1+1)\n",
    "        print(i1)\n",
    "        print(i2)\n",
    "        print(i3)\n",
    "        first_name = player[:i1]\n",
    "        fname.append(first_name)\n",
    "        second_name = player[i1+1:i2]\n",
    "        lname.append(second_name)\n",
    "        company_name = player[i2+1:i3]\n",
    "        cname.append(company_name)\n",
    "        # print(\"First Name\",first_name)\n",
    "        # print(\"Second Name\",second_name)\n",
    "        # print(\"company_name\",company_name)\n",
    "print(fname)\n",
    "print(lname)\n",
    "print(cname)\n",
    "d['FirstName']=fname\n",
    "d['Secondname']=lname\n",
    "d['Companyname']=cname\n",
    "d\n",
    "#for i,j,k in zip(fname,lname,cname):\n"
   ]
  },
  {
   "cell_type": "code",
   "execution_count": 36,
   "id": "eb9beede-729f-4d32-ac9a-70b1e2c1537a",
   "metadata": {},
   "outputs": [
    {
     "data": {
      "text/plain": [
       "['__class__',\n",
       " '__class_getitem__',\n",
       " '__contains__',\n",
       " '__delattr__',\n",
       " '__delitem__',\n",
       " '__dir__',\n",
       " '__doc__',\n",
       " '__eq__',\n",
       " '__format__',\n",
       " '__ge__',\n",
       " '__getattribute__',\n",
       " '__getitem__',\n",
       " '__getstate__',\n",
       " '__gt__',\n",
       " '__hash__',\n",
       " '__init__',\n",
       " '__init_subclass__',\n",
       " '__ior__',\n",
       " '__iter__',\n",
       " '__le__',\n",
       " '__len__',\n",
       " '__lt__',\n",
       " '__ne__',\n",
       " '__new__',\n",
       " '__or__',\n",
       " '__reduce__',\n",
       " '__reduce_ex__',\n",
       " '__repr__',\n",
       " '__reversed__',\n",
       " '__ror__',\n",
       " '__setattr__',\n",
       " '__setitem__',\n",
       " '__sizeof__',\n",
       " '__str__',\n",
       " '__subclasshook__',\n",
       " 'clear',\n",
       " 'copy',\n",
       " 'fromkeys',\n",
       " 'get',\n",
       " 'items',\n",
       " 'keys',\n",
       " 'pop',\n",
       " 'popitem',\n",
       " 'setdefault',\n",
       " 'update',\n",
       " 'values']"
      ]
     },
     "execution_count": 36,
     "metadata": {},
     "output_type": "execute_result"
    }
   ],
   "source": [
    "dir(dict)"
   ]
  },
  {
   "cell_type": "code",
   "execution_count": null,
   "id": "bab3228c-4ddf-4805-a2cf-e1371e6c38f8",
   "metadata": {},
   "outputs": [],
   "source": [
    "- 'pop'\n",
    "- 'popitem'"
   ]
  },
  {
   "cell_type": "code",
   "execution_count": 44,
   "id": "9bc40d9f-decb-4079-97af-30f0ed4e43ba",
   "metadata": {},
   "outputs": [
    {
     "name": "stdout",
     "output_type": "stream",
     "text": [
      "{'apple': 100, 'bannna': 50, 'cherry': 60}\n"
     ]
    },
    {
     "data": {
      "text/plain": [
       "('cherry', 60)"
      ]
     },
     "execution_count": 44,
     "metadata": {},
     "output_type": "execute_result"
    }
   ],
   "source": [
    "my_dict={'apple':100, 'bannna':50,'cherry':60}\n",
    "my_dict\n",
    "#my_dict.pop('apple')\n",
    "print(my_dict)\n",
    "my_dict.popitem()\n",
    "\n"
   ]
  },
  {
   "cell_type": "code",
   "execution_count": 43,
   "id": "8b5a5c8b-b9e7-4b37-8c32-dc8256183df1",
   "metadata": {},
   "outputs": [
    {
     "data": {
      "text/plain": [
       "10"
      ]
     },
     "execution_count": 43,
     "metadata": {},
     "output_type": "execute_result"
    }
   ],
   "source": [
    "l1=[10,20,30]\n",
    "l1.remove('Ramesh')"
   ]
  },
  {
   "cell_type": "markdown",
   "id": "4da1b9ce-a2b0-44d1-9dbe-ca0b084a01f8",
   "metadata": {},
   "source": [
    "- **pop** in dict similar analogy in **remove** list\n",
    "- **popitem** in dict similar analogy in **pop** in list"
   ]
  },
  {
   "cell_type": "code",
   "execution_count": 48,
   "id": "7b87c340-b901-42c5-8723-e660ef0c8036",
   "metadata": {},
   "outputs": [
    {
     "name": "stdout",
     "output_type": "stream",
     "text": [
      "60\n"
     ]
    },
    {
     "data": {
      "text/plain": [
       "100"
      ]
     },
     "execution_count": 48,
     "metadata": {},
     "output_type": "execute_result"
    }
   ],
   "source": [
    "my_dict={'apple':100, 'bannna':50,'cherry':60}\n",
    "value=my_dict.get('cherry') #getting value based on key\n",
    "print(value)\n",
    "my_dict['apple'] #Key as index \n"
   ]
  },
  {
   "cell_type": "code",
   "execution_count": 2,
   "id": "516d6615-2780-44bd-a70c-b04a13808a95",
   "metadata": {},
   "outputs": [
    {
     "data": {
      "text/plain": [
       "{'apple': 100,\n",
       " 'bannna': 50,\n",
       " 'cherry': 60,\n",
       " 'tomato': 20,\n",
       " 'potato': 40,\n",
       " 'caroot': 80}"
      ]
     },
     "execution_count": 2,
     "metadata": {},
     "output_type": "execute_result"
    }
   ],
   "source": [
    "#**update**\n",
    "d1={'apple':100, 'bannna':50,'cherry':60}\n",
    "d2={'tomato':20, 'potato':40,'caroot':80}\n",
    "d1.update(d2)\n",
    "d1\n"
   ]
  },
  {
   "cell_type": "code",
   "execution_count": 4,
   "id": "815dbae2-34d4-4e5e-a355-32f661652e1c",
   "metadata": {},
   "outputs": [
    {
     "data": {
      "text/plain": [
       "['apple', 'bannna', 'cherry', 'tomato', 'potato', 'caroot']"
      ]
     },
     "execution_count": 4,
     "metadata": {},
     "output_type": "execute_result"
    }
   ],
   "source": [
    "l1=['apple', 'bannna','cherry']\n",
    "l2=['tomato','potato','caroot']\n",
    "#d1.update(d2)\n",
    "l1.extend(l2)\n",
    "l1\n"
   ]
  },
  {
   "cell_type": "markdown",
   "id": "0155ffb5-165f-4dc3-b4b3-eec0ba7bd313",
   "metadata": {},
   "source": [
    " - **update** in dict analogy in list **extend**"
   ]
  },
  {
   "cell_type": "code",
   "execution_count": 8,
   "id": "4018c204-08f6-4e71-87c9-4c23ef8f5ddf",
   "metadata": {},
   "outputs": [
    {
     "data": {
      "text/plain": [
       "{'apple': 100, 'bannna': 50, 'cherry': 60, 'guava': 70}"
      ]
     },
     "execution_count": 8,
     "metadata": {},
     "output_type": "execute_result"
    }
   ],
   "source": [
    "d1={'apple':100, 'bannna':50,'cherry':60}\n",
    "d1.setdefault('guava',70)\n",
    "d1"
   ]
  },
  {
   "cell_type": "code",
   "execution_count": 9,
   "id": "64e5aec7-4b87-4558-ab83-454bf963d4e8",
   "metadata": {},
   "outputs": [
    {
     "data": {
      "text/plain": [
       "{'apple': 100, 'bannna': 50, 'cherry': 60, 'guava': None}"
      ]
     },
     "execution_count": 9,
     "metadata": {},
     "output_type": "execute_result"
    }
   ],
   "source": [
    "d1={'apple':100, 'bannna':50,'cherry':60}\n",
    "d1.setdefault('guava')\n",
    "d1"
   ]
  },
  {
   "cell_type": "code",
   "execution_count": 10,
   "id": "3733e4f6-65d5-434e-b74d-50fc3be8584f",
   "metadata": {},
   "outputs": [
    {
     "ename": "SyntaxError",
     "evalue": "invalid syntax (169108064.py, line 1)",
     "output_type": "error",
     "traceback": [
      "\u001b[1;36m  Cell \u001b[1;32mIn[10], line 1\u001b[1;36m\u001b[0m\n\u001b[1;33m    - **setdefault** in dict append similar analogy in list **append**\u001b[0m\n\u001b[1;37m      ^\u001b[0m\n\u001b[1;31mSyntaxError\u001b[0m\u001b[1;31m:\u001b[0m invalid syntax\n"
     ]
    }
   ],
   "source": [
    "- **setdefault** in dict append similar analogy in list **append**\n",
    "- **dict** always key value pair combination and it never index operations \n",
    "- thats why we do not have find index and find methods\n"
   ]
  },
  {
   "cell_type": "code",
   "execution_count": 11,
   "id": "ce7ffcef-b4f6-4eb2-a47a-8c05a805ddbb",
   "metadata": {},
   "outputs": [
    {
     "data": {
      "text/plain": [
       "{'apple': None, 'bannna': None, 'cherry': None}"
      ]
     },
     "execution_count": 11,
     "metadata": {},
     "output_type": "execute_result"
    }
   ],
   "source": [
    "d1={'apple':100, 'bannna':50,'cherry':60}\n",
    "d1.fromkeys(d1.keys())"
   ]
  },
  {
   "cell_type": "code",
   "execution_count": 3,
   "id": "acc05df6-2b25-463b-ae27-000d40594f9b",
   "metadata": {},
   "outputs": [
    {
     "data": {
      "text/plain": [
       "{'Satish': 'NareshIt', 'Ramesh': 'NareshIt', 'Suresh': 'NareshIt'}"
      ]
     },
     "execution_count": 3,
     "metadata": {},
     "output_type": "execute_result"
    }
   ],
   "source": [
    "d2={}\n",
    "list_names=['Satish','Ramesh','Suresh']\n",
    "d3=d2.fromkeys(list_names,'NareshIt')\n",
    "\n"
   ]
  },
  {
   "cell_type": "code",
   "execution_count": 5,
   "id": "d20d3c32-5a78-44ea-9008-bead78de2743",
   "metadata": {},
   "outputs": [
    {
     "data": {
      "text/plain": [
       "{'p': None, 'y': None, 't': None, 'h': None, 'o': None, 'n': None}"
      ]
     },
     "execution_count": 5,
     "metadata": {},
     "output_type": "execute_result"
    }
   ],
   "source": [
    "d2={}\n",
    "list_names=['python']\n",
    "d3=d2.fromkeys('python')\n",
    "d3"
   ]
  },
  {
   "cell_type": "markdown",
   "id": "b98f0004-0b29-41b0-a29f-d81306fea2a8",
   "metadata": {},
   "source": [
    "- **dict** doesnt have count , since **dict** does not allow duplicates\n",
    " - **string** , **list** and tuple has count\n",
    " -  strings has find method , but list doenst have"
   ]
  },
  {
   "cell_type": "code",
   "execution_count": null,
   "id": "56f42ab5-d338-4e0e-a919-159eea034836",
   "metadata": {},
   "outputs": [],
   "source": [
    "- take word document "
   ]
  }
 ],
 "metadata": {
  "kernelspec": {
   "display_name": "Python 3 (ipykernel)",
   "language": "python",
   "name": "python3"
  },
  "language_info": {
   "codemirror_mode": {
    "name": "ipython",
    "version": 3
   },
   "file_extension": ".py",
   "mimetype": "text/x-python",
   "name": "python",
   "nbconvert_exporter": "python",
   "pygments_lexer": "ipython3",
   "version": "3.12.7"
  }
 },
 "nbformat": 4,
 "nbformat_minor": 5
}
