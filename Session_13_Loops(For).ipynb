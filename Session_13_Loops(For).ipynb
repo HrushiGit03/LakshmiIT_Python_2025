{
 "cells": [
  {
   "cell_type": "markdown",
   "id": "1dc564bb-7535-4c41-aa30-bab9e0b7d485",
   "metadata": {},
   "source": [
    "**Loops**\n",
    "- Loops are used to iterate the code multiple time \n",
    "- Functions are used to reuse the code block\n",
    "- That code block can be repeated multiple times\n",
    "- when ever your doing same task multiple times think about loop\n",
    "- we have two loops\n",
    "   - while loop\n",
    "   - for loop\n",
    "- Any loop we need three things\n",
    "    - initlization start point\n",
    "    - increement/decrement\n",
    "    - Condition to stop\n",
    "   "
   ]
  },
  {
   "cell_type": "code",
   "execution_count": null,
   "id": "e6d53aaa-7bfa-4f61-aca1-750c23c7b6cc",
   "metadata": {},
   "outputs": [],
   "source": [
    "for <varaiable> in range (<number>):\n",
    "    <write code here>\n",
    "    "
   ]
  },
  {
   "cell_type": "code",
   "execution_count": 2,
   "id": "a137c2ec-94f5-4795-8314-8ad963e063e1",
   "metadata": {},
   "outputs": [
    {
     "name": "stdout",
     "output_type": "stream",
     "text": [
      "0\n",
      "1\n",
      "2\n"
     ]
    }
   ],
   "source": [
    "#print(0)\n",
    "#print(1)\n",
    "#print(2)\n",
    "for i in range(3):\n",
    "        print(i)\n"
   ]
  },
  {
   "cell_type": "code",
   "execution_count": 4,
   "id": "00c18e23-e730-4915-857b-f9eb4d8ed0bb",
   "metadata": {},
   "outputs": [
    {
     "name": "stdout",
     "output_type": "stream",
     "text": [
      "0 1 2 "
     ]
    }
   ],
   "source": [
    "#print(0,end=' ')\n",
    "#print(1,end=' ')\n",
    "#print(2,end=' ')\n",
    "for i in range(3):\n",
    "    print(i,end=' ')"
   ]
  },
  {
   "cell_type": "markdown",
   "id": "5cb50739-e4cf-442d-809f-2611a1cc44ae",
   "metadata": {},
   "source": [
    "**case-1: range(stop)**\n",
    "- start=0 : python index always starts with zero\n",
    "- By default increment by 1 and last value stop-1\n",
    "- last=stop-1\n"
   ]
  },
  {
   "cell_type": "code",
   "execution_count": 5,
   "id": "8be10f29-b15c-4ee4-9e66-e6a4c810cbf4",
   "metadata": {},
   "outputs": [
    {
     "name": "stdout",
     "output_type": "stream",
     "text": [
      "0 1 2 3 4 5 6 7 8 9 "
     ]
    }
   ],
   "source": [
    "for i in range(10):\n",
    "    print(i, end=' ')"
   ]
  },
  {
   "cell_type": "code",
   "execution_count": 8,
   "id": "9f944088-3947-41a3-a702-d8a981398363",
   "metadata": {},
   "outputs": [
    {
     "name": "stdout",
     "output_type": "stream",
     "text": [
      " 0 ) good night\n",
      " 1 ) good night\n",
      " 2 ) good night\n",
      " 3 ) good night\n"
     ]
    }
   ],
   "source": [
    "for i in range(4):\n",
    "    print(f\" {i} ) good night\")"
   ]
  },
  {
   "cell_type": "markdown",
   "id": "fc490013-671e-421e-a896-a702d4b14a0d",
   "metadata": {},
   "source": [
    "**Case-2: range(start,stop)**\n",
    "- Suppose i want to start my loop with partulcar number\n",
    "- then add start also inside range\n",
    "- start=start\n",
    "- increment by 1\n",
    "- last=stop-1\n",
    "- range(10,20)\n",
    "- start=10,increment by 1, stop=start-1 i,e 20-1=19\n"
   ]
  },
  {
   "cell_type": "code",
   "execution_count": 9,
   "id": "36086142-fa1f-4af2-9866-2292c70383ff",
   "metadata": {},
   "outputs": [
    {
     "name": "stdout",
     "output_type": "stream",
     "text": [
      "10 11 12 13 14 15 16 17 18 19 "
     ]
    }
   ],
   "source": [
    "for i in range(10,20):\n",
    "    print(i,end=' ')"
   ]
  },
  {
   "cell_type": "code",
   "execution_count": 11,
   "id": "bc2fd400-a67b-4573-910b-cbede64b3baa",
   "metadata": {},
   "outputs": [
    {
     "name": "stdout",
     "output_type": "stream",
     "text": [
      " 1 square is : 1\n",
      " 2 square is : 4\n",
      " 3 square is : 9\n",
      " 4 square is : 16\n",
      " 5 square is : 25\n"
     ]
    }
   ],
   "source": [
    "#wap ask the user \n",
    "for i in range(1,6):\n",
    "    print(f\" {i} square is : {i*i}\")"
   ]
  },
  {
   "cell_type": "code",
   "execution_count": 13,
   "id": "221cb3bc-f4a4-400d-b5b5-32fbcbd1fea4",
   "metadata": {},
   "outputs": [
    {
     "name": "stdin",
     "output_type": "stream",
     "text": [
      "Enter ther number : 20\n"
     ]
    },
    {
     "name": "stdout",
     "output_type": "stream",
     "text": [
      "The squqare of the number 20: 400\n"
     ]
    },
    {
     "name": "stdin",
     "output_type": "stream",
     "text": [
      "Enter ther number : 30\n"
     ]
    },
    {
     "name": "stdout",
     "output_type": "stream",
     "text": [
      "The squqare of the number 30: 900\n"
     ]
    },
    {
     "name": "stdin",
     "output_type": "stream",
     "text": [
      "Enter ther number : 50\n"
     ]
    },
    {
     "name": "stdout",
     "output_type": "stream",
     "text": [
      "The squqare of the number 50: 2500\n"
     ]
    },
    {
     "name": "stdin",
     "output_type": "stream",
     "text": [
      "Enter ther number : 80\n"
     ]
    },
    {
     "name": "stdout",
     "output_type": "stream",
     "text": [
      "The squqare of the number 80: 6400\n"
     ]
    },
    {
     "name": "stdin",
     "output_type": "stream",
     "text": [
      "Enter ther number : 100\n"
     ]
    },
    {
     "name": "stdout",
     "output_type": "stream",
     "text": [
      "The squqare of the number 100: 10000\n"
     ]
    }
   ],
   "source": [
    "#wap ask the user to enter a number the prompt should happen 5 times\n",
    "#and print sqaure of the number\n",
    "for i in range(5):\n",
    "    num=eval(input('Enter ther number :'))\n",
    "    print(f\"The squqare of the  {num}: {num*num}\")"
   ]
  },
  {
   "cell_type": "code",
   "execution_count": 15,
   "id": "fb330691-3905-4d28-836e-62481cd034b6",
   "metadata": {},
   "outputs": [
    {
     "name": "stdin",
     "output_type": "stream",
     "text": [
      "Enter ther number : 10\n"
     ]
    },
    {
     "name": "stdout",
     "output_type": "stream",
     "text": [
      "The squqare of the  10: 100\n"
     ]
    },
    {
     "name": "stdin",
     "output_type": "stream",
     "text": [
      "Enter ther number : 20\n"
     ]
    },
    {
     "name": "stdout",
     "output_type": "stream",
     "text": [
      "The squqare of the  20: 400\n"
     ]
    }
   ],
   "source": [
    "def square():\n",
    "    num=eval(input('Enter ther number :'))\n",
    "    print(f\"The squqare of the  {num}: {num*num}\")\n",
    "for i in range(2):\n",
    "    square()"
   ]
  },
  {
   "cell_type": "markdown",
   "id": "47c1ad4b-28e4-4cde-953d-a591275b7085",
   "metadata": {},
   "source": [
    "** Case3- range(start,stop,step) **\n",
    "- start= start only\n",
    "- step :\n",
    "    - look abou the step sign is postive or neagtive sign\n",
    "- postive means increment \n",
    "    - last=stop-1\n",
    "    - neagtive means decrement \n",
    "- negavtive means decrement \n",
    "    - last : stop+1\n",
    "\n"
   ]
  },
  {
   "cell_type": "code",
   "execution_count": 12,
   "id": "e052b31b-a4f8-4a1c-8501-a7749948d471",
   "metadata": {},
   "outputs": [
    {
     "name": "stdout",
     "output_type": "stream",
     "text": [
      "3 5 7 9 11 13 15 17 "
     ]
    }
   ],
   "source": [
    "#Example range(3,20,2)\n",
    "#start - 3\n",
    "#step +2 (increment)- postive direction\n",
    "#last =stop-1 20-1=19\n",
    "3,5,7,9,11,13,15,17,19\n",
    "for i in range(3,19,2):\n",
    "    print(i,end=' ')\n",
    "\n"
   ]
  },
  {
   "cell_type": "code",
   "execution_count": 18,
   "id": "1608ecfc-9728-42bb-8cac-f8ef1de6224f",
   "metadata": {},
   "outputs": [
    {
     "name": "stdout",
     "output_type": "stream",
     "text": [
      "3 1 -1 -3 -5 -7 -9 -11 -13 -15 -17 "
     ]
    }
   ],
   "source": [
    "#Example range(3,20,-2)- This program will not print any thing\n",
    "#start - 3\n",
    "#step -2 (increment)- negative /reverse direction\n",
    "#last =stop-1 20+1=19\n",
    "3,5,7,9,11,13,15,17,19\n",
    "for i in range(3,-19,-2):\n",
    "    print(i,end=' ')"
   ]
  },
  {
   "cell_type": "code",
   "execution_count": 4,
   "id": "098657c1-d2cb-4090-89ce-56ca46fbf3cf",
   "metadata": {},
   "outputs": [],
   "source": [
    "#This program will not print any thing: no O/P\n",
    "for i in range(3,19,-2):\n",
    "    print(i,end=' ')"
   ]
  },
  {
   "cell_type": "code",
   "execution_count": 5,
   "id": "c4c178e1-68a7-4eb5-b2fe-5bd6f2371263",
   "metadata": {},
   "outputs": [
    {
     "name": "stdout",
     "output_type": "stream",
     "text": [
      "3 6 9 12 "
     ]
    }
   ],
   "source": [
    "#Case-1-  #Every thing in forward direction woks out- start,stop,step\n",
    "for i in range(3,15,3): #Every thing in forward direction woks out, start, - tart,stop,step\n",
    "    print(i,end=' ')"
   ]
  },
  {
   "cell_type": "code",
   "execution_count": 6,
   "id": "72645588-6b10-44b9-8cae-5a7750642ad0",
   "metadata": {},
   "outputs": [],
   "source": [
    "#Case-2  #Here start and stop +ve diecrtion and where as step -ve diection , so program will not run no O/P\n",
    "for i in range(3,15,-3):\n",
    "    print(i,end=' ') #it gives me no output\n"
   ]
  },
  {
   "cell_type": "code",
   "execution_count": 7,
   "id": "dd285b77-0d78-496d-98dd-57e2e421dfea",
   "metadata": {},
   "outputs": [],
   "source": [
    "#Case-3  #Here start and step +ve diecrtion and where as stop is -ve diection , so program will not run\n",
    "for i in range(3,-15,3):\n",
    "    print(i,end=' ') #it gives me no output"
   ]
  },
  {
   "cell_type": "code",
   "execution_count": 8,
   "id": "5eab11ff-fbcf-46e7-93a7-0ce573d4bfe9",
   "metadata": {},
   "outputs": [
    {
     "name": "stdout",
     "output_type": "stream",
     "text": [
      "-3 0 3 6 9 12 "
     ]
    }
   ],
   "source": [
    "#Case-4 #here only start is -ve diection but stop and step in +ve diection prgram will run\n",
    "for i in range(-3,15,3):\n",
    "    print(i,end=' ')"
   ]
  },
  {
   "cell_type": "code",
   "execution_count": 8,
   "id": "6de6713e-39e1-4ce8-b69d-fd0d85c7777d",
   "metadata": {},
   "outputs": [
    {
     "name": "stdout",
     "output_type": "stream",
     "text": [
      "3 0 -3 -6 -9 -12 "
     ]
    }
   ],
   "source": [
    "#Case-5 #here only start is -only +ve diection but stop and step in -ve diection prgram will run\n",
    "for i in range(3,-15,-3):\n",
    "    print(i,end=' ')"
   ]
  },
  {
   "cell_type": "code",
   "execution_count": 9,
   "id": "df391890-90d2-4e58-ac49-0785f92d22e3",
   "metadata": {},
   "outputs": [],
   "source": [
    "#Case-6 no O/P\n",
    "for i in range(-3,-15,3):\n",
    "    print(i,end=' ')"
   ]
  },
  {
   "cell_type": "code",
   "execution_count": 15,
   "id": "f82dfea5-e8eb-4774-8572-291ae9a904c0",
   "metadata": {},
   "outputs": [],
   "source": [
    "#Case-7 no O/P\n",
    "for i in range(-3,15,-3):\n",
    "    print(i,end=' ')"
   ]
  },
  {
   "cell_type": "code",
   "execution_count": 10,
   "id": "d8bb15be-1662-4a5e-94cb-491950d5c144",
   "metadata": {},
   "outputs": [],
   "source": [
    "#Case-8 no O/P\n",
    "for i in range(-3,15,-3):\n",
    "    print(i,end=' ')"
   ]
  },
  {
   "cell_type": "code",
   "execution_count": 18,
   "id": "8a6bbc44-1af4-4324-a467-92f1d793600b",
   "metadata": {},
   "outputs": [],
   "source": [
    "#Case-7 no O/P\n",
    "for i in range(15,3,3):\n",
    "    print(i,end=' ')"
   ]
  },
  {
   "cell_type": "code",
   "execution_count": 11,
   "id": "db5d0197-8fc0-444b-a352-850b6bf3c619",
   "metadata": {},
   "outputs": [
    {
     "name": "stdout",
     "output_type": "stream",
     "text": [
      "15 12 9 6 "
     ]
    }
   ],
   "source": [
    "#Case-8\n",
    "for i in range(15,3,-3):\n",
    "    print(i,end=' ')"
   ]
  },
  {
   "cell_type": "code",
   "execution_count": 12,
   "id": "e45cc259-7794-4cb5-8354-e374d9907aaf",
   "metadata": {},
   "outputs": [],
   "source": [
    "#Case-9- no O/P\n",
    "for i in range(15,-3,3):\n",
    "    print(i,end=' ')"
   ]
  },
  {
   "cell_type": "code",
   "execution_count": 13,
   "id": "e9f0b16d-fcba-4e3a-8c29-e1a7a9a7c32d",
   "metadata": {},
   "outputs": [
    {
     "name": "stdout",
     "output_type": "stream",
     "text": [
      "-15 -12 -9 -6 -3 0 "
     ]
    }
   ],
   "source": [
    "#Case-9- \n",
    "for i in range(-15,3,3):\n",
    "    print(i,end=' ')"
   ]
  },
  {
   "cell_type": "code",
   "execution_count": 15,
   "id": "be7a147a-d998-4eee-8d61-51c504dd3c45",
   "metadata": {},
   "outputs": [],
   "source": [
    "#Case-9- no o/p\n",
    "for i in range(-15,3,-3):\n",
    "    print(i,end=' ')"
   ]
  },
  {
   "cell_type": "code",
   "execution_count": 16,
   "id": "4b345ff1-aa3a-4d9d-83d0-cd3d965dee90",
   "metadata": {},
   "outputs": [
    {
     "name": "stdout",
     "output_type": "stream",
     "text": [
      "-15 -12 -9 -6 "
     ]
    }
   ],
   "source": [
    "#Case-9- \n",
    "for i in range(-15,-3,3):\n",
    "    print(i,end=' ')"
   ]
  },
  {
   "cell_type": "code",
   "execution_count": 17,
   "id": "e088a43c-bf72-4b2c-8409-9ac92af0b98a",
   "metadata": {},
   "outputs": [],
   "source": [
    "#Case-9- no O/P\n",
    "for i in range(-15,-3,-3):\n",
    "    print(i,end=' ')"
   ]
  },
  {
   "cell_type": "code",
   "execution_count": 6,
   "id": "6a8b3b88-45a0-4f12-948c-b14e71b26ca2",
   "metadata": {},
   "outputs": [],
   "source": [
    "for i in range(10,-20,10):\n",
    "            print(i,end=' ')"
   ]
  },
  {
   "cell_type": "code",
   "execution_count": 7,
   "id": "dec2b129-1c59-401f-850c-0774fba3a228",
   "metadata": {},
   "outputs": [
    {
     "name": "stdout",
     "output_type": "stream",
     "text": [
      " 7 X 1 = 7\n",
      " 7 X 2 = 14\n",
      " 7 X 3 = 21\n",
      " 7 X 4 = 28\n",
      " 7 X 5 = 35\n",
      " 7 X 6 = 42\n",
      " 7 X 7 = 49\n",
      " 7 X 8 = 56\n",
      " 7 X 9 = 63\n",
      " 7 X 10 = 70\n"
     ]
    }
   ],
   "source": [
    "n=7\n",
    "for i in range(1,11):\n",
    "    print(f' {n} X {i} = {n*i}')"
   ]
  },
  {
   "cell_type": "code",
   "execution_count": 11,
   "id": "ef9107b8-7294-44da-a482-7e6d438c7d37",
   "metadata": {},
   "outputs": [
    {
     "name": "stdout",
     "output_type": "stream",
     "text": [
      "1 3 5 15 25 "
     ]
    }
   ],
   "source": [
    "#find the number of dvisios of 75\n",
    "num=75\n",
    "for i in range(1,num):\n",
    "    if(num % i==0):\n",
    "        print(i, end=' ')\n",
    "        "
   ]
  },
  {
   "cell_type": "code",
   "execution_count": 32,
   "id": "cbf455e0-f34e-42d3-bf0f-bc5ad4918829",
   "metadata": {},
   "outputs": [
    {
     "name": "stdin",
     "output_type": "stream",
     "text": [
      "which numbers divsiors you want: 75\n"
     ]
    },
    {
     "name": "stdout",
     "output_type": "stream",
     "text": [
      "1 is divisor of 75\n",
      "3 is divisor of 75\n",
      "5 is divisor of 75\n",
      "15 is divisor of 75\n",
      "25 is divisor of 75\n"
     ]
    }
   ],
   "source": [
    "#find the number of dvisios of 75\n",
    "num=eval(input('which numbers divsiors you want:'))\n",
    "for i in range(1,num):\n",
    "    if(num % i==0):\n",
    "        print(f'{i} is divisor of {num}')"
   ]
  },
  {
   "cell_type": "code",
   "execution_count": null,
   "id": "fbb3653c-78d4-4c37-8e4f-3326a60aeea0",
   "metadata": {},
   "outputs": [],
   "source": []
  },
  {
   "cell_type": "code",
   "execution_count": 19,
   "id": "971529db-8f80-4c3e-8f0c-c46cad4180f4",
   "metadata": {},
   "outputs": [
    {
     "name": "stdout",
     "output_type": "stream",
     "text": [
      "56\n"
     ]
    }
   ],
   "source": [
    "#Q) sum of first 10 natural numbers\n",
    "n=1\n",
    "for i in range(0,10):\n",
    "    n=n+(i+1)\n",
    "print(n)   "
   ]
  },
  {
   "cell_type": "markdown",
   "id": "d500807b-951c-4984-9d79-3eed5c47ec2b",
   "metadata": {},
   "source": [
    "#summation warpper\n",
    "- starting we initilze the  value sum=0\n",
    "- inside the loop we will add simple line:sum=sum+i\n",
    "\n"
   ]
  },
  {
   "cell_type": "code",
   "execution_count": 46,
   "id": "8edc0993-07df-479c-a193-9f0701e87fe1",
   "metadata": {},
   "outputs": [
    {
     "name": "stdin",
     "output_type": "stream",
     "text": [
      "Enter the any number: 75\n"
     ]
    },
    {
     "name": "stdout",
     "output_type": "stream",
     "text": [
      "1 is divisor of 75\n",
      "3 is divisor of 75\n",
      "5 is divisor of 75\n",
      "15 is divisor of 75\n",
      "25 is divisor of 75\n",
      "75 is divisor of 75\n",
      "124\n"
     ]
    }
   ],
   "source": [
    "n=eval(input('Enter the any number:'))\n",
    "summ=0\n",
    "for i in range(1,n+1):\n",
    "    if(n % i==0): #when ever true apply the summation\n",
    "            summ+=i\n",
    "            print(f'{i} is divisor of {n}')\n",
    "print(summ)"
   ]
  },
  {
   "cell_type": "code",
   "execution_count": 34,
   "id": "3c139bbb-704c-4996-b90e-beb83746ec45",
   "metadata": {},
   "outputs": [
    {
     "name": "stdout",
     "output_type": "stream",
     "text": [
      "124\n"
     ]
    }
   ],
   "source": [
    "#find the number of dvisios of 75\n",
    "num=75\n",
    "sum1=0\n",
    "for i in range(1,num+1):\n",
    "    if(num % i==0):\n",
    "        sum1+=i\n",
    "print(sum1)"
   ]
  },
  {
   "cell_type": "markdown",
   "id": "a11216e7-ba6d-4ca7-ac4b-427e17bef85a",
   "metadata": {},
   "source": [
    "#Counter wrapper\n",
    "-- Counter means counting the success ones\n",
    "-- count=0\n",
    "- - for loop\n",
    "   - count=count+1\n"
   ]
  },
  {
   "cell_type": "code",
   "execution_count": 8,
   "id": "6699d35c-1c52-42d7-9deb-942350db32e2",
   "metadata": {},
   "outputs": [
    {
     "name": "stdin",
     "output_type": "stream",
     "text": [
      "which number divsiors you want: 10\n"
     ]
    },
    {
     "name": "stdout",
     "output_type": "stream",
     "text": [
      "1 is divisor of 10\n",
      "2 is divisor of 10\n",
      "5 is divisor of 10\n",
      "10 is divisor of 10\n",
      "the number of divsiors are  4\n"
     ]
    }
   ],
   "source": [
    "#find the number of dvisios of 75\n",
    "count=0\n",
    "num=eval(input('which number divsiors you want:'))\n",
    "for i in range(1,num+1):\n",
    "    if(num % i==0):\n",
    "        print(f'{i} is divisor of {num}')\n",
    "        count=count+1\n",
    "print('the number of divsiors are ',count)"
   ]
  },
  {
   "cell_type": "code",
   "execution_count": 19,
   "id": "936c9989-3d8a-4569-b997-8252f65032b1",
   "metadata": {},
   "outputs": [
    {
     "name": "stdout",
     "output_type": "stream",
     "text": [
      "random number: 89\n",
      "random number: 48\n",
      "random number: 19\n",
      "random number: 55\n",
      "random number: 85\n",
      " Even number sum: 48\n",
      " Even number count: 1\n",
      " Odd number sum: 248\n",
      " Odd number count: 4\n"
     ]
    }
   ],
   "source": [
    "#Q8) sum of even number and odd with the range of 5 times with random number assigned, sum of events a\n",
    "import random\n",
    "even_cnt=0\n",
    "even_sum=0\n",
    "odd_summ=0\n",
    "odd_cnt=0\n",
    "for i in range(5):\n",
    "    num=random.randint(1,100)\n",
    "    print(f'random number: {num}')\n",
    "    if(num%2==0):\n",
    "        even_cnt=even_cnt+1\n",
    "        even_sum=even_sum+num\n",
    "    elif(num%2==1):\n",
    "         odd_cnt=odd_cnt+1\n",
    "         odd_summ=odd_summ+num\n",
    "\n",
    "print(f' Even number sum: {even_sum}')\n",
    "print(f' Even number count: {even_cnt}')\n",
    "print(f' Odd number sum: {odd_summ}')\n",
    "print(f' Odd number count: {odd_cnt}')\n",
    "\n",
    "        \n",
    "    "
   ]
  },
  {
   "cell_type": "code",
   "execution_count": 6,
   "id": "6e0ee7cd-66c3-4bdc-9bd6-ea66ca4785da",
   "metadata": {},
   "outputs": [
    {
     "name": "stdin",
     "output_type": "stream",
     "text": [
      "Enter the number 1: 21\n"
     ]
    },
    {
     "name": "stdout",
     "output_type": "stream",
     "text": [
      "Better luck next time\n"
     ]
    },
    {
     "name": "stdin",
     "output_type": "stream",
     "text": [
      "Enter the number 1: 95\n"
     ]
    },
    {
     "name": "stdout",
     "output_type": "stream",
     "text": [
      "Better luck next time\n"
     ]
    },
    {
     "name": "stdin",
     "output_type": "stream",
     "text": [
      "Enter the number 1: 55\n"
     ]
    },
    {
     "name": "stdout",
     "output_type": "stream",
     "text": [
      "Better luck next time\n"
     ]
    }
   ],
   "source": [
    "#Q9) Game program\n",
    "#User enter one num\n",
    "#Another number will generate randonly\n",
    "#if both are rwqual you won , other wise fail you lost\n",
    "# Three changeces\n",
    "import random\n",
    "for i in range(3):\n",
    "    num1=random.randint(1, 100)\n",
    "    #print(num1)\n",
    "    num2=eval(input('Enter the number 1:'))\n",
    "    if(num1==num2):\n",
    "        print('You won')\n",
    "        break\n",
    "    else:\n",
    "        print('Better luck next time')\n"
   ]
  },
  {
   "cell_type": "code",
   "execution_count": 14,
   "id": "16b5780c-c758-4b59-b581-0b09ddcc1870",
   "metadata": {},
   "outputs": [
    {
     "name": "stdin",
     "output_type": "stream",
     "text": [
      "Enter the number 1: 5\n"
     ]
    },
    {
     "name": "stdout",
     "output_type": "stream",
     "text": [
      "Better luck next time\n"
     ]
    },
    {
     "name": "stdin",
     "output_type": "stream",
     "text": [
      "Enter the number 1: 10\n"
     ]
    },
    {
     "name": "stdout",
     "output_type": "stream",
     "text": [
      "Better luck next time\n"
     ]
    },
    {
     "name": "stdin",
     "output_type": "stream",
     "text": [
      "Enter the number 1: 8\n"
     ]
    },
    {
     "name": "stdout",
     "output_type": "stream",
     "text": [
      "Better luck next time\n"
     ]
    },
    {
     "name": "stdin",
     "output_type": "stream",
     "text": [
      "Enter the number 1: 17\n"
     ]
    },
    {
     "name": "stdout",
     "output_type": "stream",
     "text": [
      "Better luck next time\n"
     ]
    }
   ],
   "source": [
    "#Q9) Game program\n",
    "#User enter one num\n",
    "#Another number will generate randonly\n",
    "#if both are rwqual you won , other wise fail you lost\n",
    "# Three changeces\n",
    "import random\n",
    "for i in range(4):\n",
    "    num1=random.randint(1,20)\n",
    "    #print(num1)\n",
    "    num2=eval(input('Enter the number 1:'))\n",
    "    if(num1==num2):\n",
    "        print('You won')\n",
    "        break\n",
    "    else:\n",
    "        print('Better luck next time')"
   ]
  },
  {
   "cell_type": "code",
   "execution_count": 10,
   "id": "6ba7a76c-4421-443e-ac36-f0bb9a5c2b09",
   "metadata": {},
   "outputs": [
    {
     "name": "stdin",
     "output_type": "stream",
     "text": [
      "Enter the number 1: 5\n"
     ]
    },
    {
     "name": "stdout",
     "output_type": "stream",
     "text": [
      "Better luck next time\n"
     ]
    },
    {
     "name": "stdin",
     "output_type": "stream",
     "text": [
      "Enter the number 1: 2\n"
     ]
    },
    {
     "name": "stdout",
     "output_type": "stream",
     "text": [
      "Better luck next time\n"
     ]
    },
    {
     "name": "stdin",
     "output_type": "stream",
     "text": [
      "Enter the number 1: 7\n"
     ]
    },
    {
     "name": "stdout",
     "output_type": "stream",
     "text": [
      "Better luck next time\n"
     ]
    }
   ],
   "source": [
    "import random\n",
    "for i in range(3):\n",
    "    num1=random.randint(1,10)\n",
    "    num2=eval(input('Enter the number 1:'))\n",
    "    if(num1==num2):\n",
    "        print('You won')\n",
    "        break\n",
    "    else:\n",
    "        print('Better luck next time')"
   ]
  },
  {
   "cell_type": "code",
   "execution_count": 12,
   "id": "e7a17e7b-b19e-45e8-949d-8363749eda8b",
   "metadata": {},
   "outputs": [
    {
     "name": "stdout",
     "output_type": "stream",
     "text": [
      "78\n"
     ]
    },
    {
     "name": "stdin",
     "output_type": "stream",
     "text": [
      "Enter the number 1: 78\n"
     ]
    },
    {
     "name": "stdout",
     "output_type": "stream",
     "text": [
      "You won the Game !!!\n"
     ]
    }
   ],
   "source": [
    "import random\n",
    "chances=3\n",
    "for i in range(3):\n",
    "    num1=random.randint(1,100)\n",
    "    print(num1)\n",
    "    num2=eval(input('Enter the number 1:'))\n",
    "    if(num1==num2):\n",
    "        print('You won the Game !!!')\n",
    "        break\n",
    "    else:\n",
    "        print('You the lost the game, Better luck next time')\n",
    "        chances=chances-1\n",
    "        print(f' chances are left {chances}')\n",
    "if(chances==0):\n",
    "    print('You lost all the chances, Please try after 24 hrs time')\n",
    "        \n"
   ]
  },
  {
   "cell_type": "markdown",
   "id": "d41ae2e9-8ff9-480d-82fa-1318d4a7b640",
   "metadata": {},
   "source": [
    "**In Operator**\n",
    "  - in for loop we have range and in operators\n",
    "  - range is math related word, when ever we use range it expects a number inside range\n",
    "  - in operator exceeds as string\n"
   ]
  },
  {
   "cell_type": "markdown",
   "id": "cdcf311e-e480-47b8-9f01-309bc3a66fb5",
   "metadata": {},
   "source": [
    "for i in range(10):\n",
    "    print(i)"
   ]
  },
  {
   "cell_type": "code",
   "execution_count": 3,
   "id": "76a34422-68d1-4bae-8047-a62244577aa1",
   "metadata": {},
   "outputs": [
    {
     "name": "stdout",
     "output_type": "stream",
     "text": [
      "0 1 2 3 4 5 6 7 8 9 "
     ]
    }
   ],
   "source": [
    "for i in range(10): \n",
    "        print(i,end=' ')"
   ]
  },
  {
   "cell_type": "code",
   "execution_count": 4,
   "id": "57cb3bec-1375-47eb-8ab9-0ac69dc06fd6",
   "metadata": {},
   "outputs": [
    {
     "ename": "TypeError",
     "evalue": "'str' object cannot be interpreted as an integer",
     "output_type": "error",
     "traceback": [
      "\u001b[1;31m---------------------------------------------------------------------------\u001b[0m",
      "\u001b[1;31mTypeError\u001b[0m                                 Traceback (most recent call last)",
      "Cell \u001b[1;32mIn[4], line 1\u001b[0m\n\u001b[1;32m----> 1\u001b[0m \u001b[38;5;28;01mfor\u001b[39;00m i \u001b[38;5;129;01min\u001b[39;00m \u001b[38;5;28mrange\u001b[39m(\u001b[38;5;124m'\u001b[39m\u001b[38;5;124mpython\u001b[39m\u001b[38;5;124m'\u001b[39m): \n\u001b[0;32m      2\u001b[0m         \u001b[38;5;28mprint\u001b[39m(i,end\u001b[38;5;241m=\u001b[39m\u001b[38;5;124m'\u001b[39m\u001b[38;5;124m \u001b[39m\u001b[38;5;124m'\u001b[39m)\n",
      "\u001b[1;31mTypeError\u001b[0m: 'str' object cannot be interpreted as an integer"
     ]
    }
   ],
   "source": [
    "for i in range('python'): \n",
    "        print(i,end=' ')"
   ]
  },
  {
   "cell_type": "code",
   "execution_count": 17,
   "id": "35041b6d-cf4e-4e48-9991-65474d2a10b5",
   "metadata": {},
   "outputs": [
    {
     "name": "stdout",
     "output_type": "stream",
     "text": [
      "B*h*a*r*a*t*h*i*"
     ]
    }
   ],
   "source": [
    "for i in 'Bharathi': \n",
    "        print(i,end='*')"
   ]
  },
  {
   "cell_type": "code",
   "execution_count": 7,
   "id": "cc9477fd-ea53-4912-982f-60667f68929f",
   "metadata": {},
   "outputs": [
    {
     "data": {
      "text/plain": [
       "True"
      ]
     },
     "execution_count": 7,
     "metadata": {},
     "output_type": "execute_result"
    }
   ],
   "source": [
    "# 'p' in 'python'\n",
    "# 'y' in 'python'\n",
    "# 't' in 'python'\n",
    "# 'h' in 'python'\n",
    "# 'o' in 'python'\n",
    "# 'n' in 'python'\n"
   ]
  },
  {
   "cell_type": "markdown",
   "id": "b28a277f-1dd1-4b4b-bae7-85e855decb4a",
   "metadata": {},
   "source": [
    "# ASCII\n",
    "- AMERICAN STANDARD CODE FOR INFORMATION INTERCHANGE"
   ]
  },
  {
   "cell_type": "code",
   "execution_count": 18,
   "id": "2a15c52d-2a74-4c22-8088-f15b69994e8f",
   "metadata": {},
   "outputs": [
    {
     "name": "stdout",
     "output_type": "stream",
     "text": [
      "False\n"
     ]
    }
   ],
   "source": [
    "if ('A'=='a'):\n",
    "    print(True)\n",
    "else:\n",
    "    print(False)"
   ]
  },
  {
   "cell_type": "code",
   "execution_count": 11,
   "id": "e0a0986f-1810-4cc2-b79f-8d77e12ae37e",
   "metadata": {},
   "outputs": [
    {
     "name": "stdout",
     "output_type": "stream",
     "text": [
      "False\n"
     ]
    }
   ],
   "source": [
    "if ('A'>'a'):\n",
    "    print(True)\n",
    "else:\n",
    "    print(False)"
   ]
  },
  {
   "cell_type": "code",
   "execution_count": 12,
   "id": "b4c053f7-76db-4bab-9858-50c261b91fb2",
   "metadata": {},
   "outputs": [
    {
     "name": "stdout",
     "output_type": "stream",
     "text": [
      "True\n"
     ]
    }
   ],
   "source": [
    "if ('A'<'a'):\n",
    "    print(True)\n",
    "else:\n",
    "    print(False)"
   ]
  },
  {
   "cell_type": "markdown",
   "id": "c2528488-20f4-469e-a146-6f061f088132",
   "metadata": {},
   "source": [
    "# 'a'===>97 #Ascii value\n",
    "# 'A'==>65 #Ascii value\n",
    "# how to convert char to number\n",
    "# how to convert number to characater\n",
    "# char-ord\n"
   ]
  },
  {
   "cell_type": "code",
   "execution_count": 13,
   "id": "af73bcbd-7900-4c4b-b343-d82b91999386",
   "metadata": {},
   "outputs": [
    {
     "data": {
      "text/plain": [
       "65"
      ]
     },
     "execution_count": 13,
     "metadata": {},
     "output_type": "execute_result"
    }
   ],
   "source": [
    "ord('A')\n"
   ]
  },
  {
   "cell_type": "code",
   "execution_count": 14,
   "id": "c7f7b745-650f-45a2-8cc0-62719706ea7e",
   "metadata": {},
   "outputs": [
    {
     "data": {
      "text/plain": [
       "'A'"
      ]
     },
     "execution_count": 14,
     "metadata": {},
     "output_type": "execute_result"
    }
   ],
   "source": [
    "chr(65)"
   ]
  },
  {
   "cell_type": "code",
   "execution_count": 15,
   "id": "4fddfe6b-ebfc-44b1-94b3-695d752c1154",
   "metadata": {},
   "outputs": [
    {
     "data": {
      "text/plain": [
       "97"
      ]
     },
     "execution_count": 15,
     "metadata": {},
     "output_type": "execute_result"
    }
   ],
   "source": [
    "ord('a')"
   ]
  },
  {
   "cell_type": "code",
   "execution_count": 16,
   "id": "1b2bfba1-bb44-4b2e-9d0b-4d3068ba2136",
   "metadata": {},
   "outputs": [
    {
     "data": {
      "text/plain": [
       "'a'"
      ]
     },
     "execution_count": 16,
     "metadata": {},
     "output_type": "execute_result"
    }
   ],
   "source": [
    "chr(97)"
   ]
  },
  {
   "cell_type": "markdown",
   "id": "d19020a7-1e24-4fb2-a504-26e66d46797a",
   "metadata": {},
   "source": [
    "- ord converting character to number\n",
    "- chr converting number to character"
   ]
  },
  {
   "cell_type": "code",
   "execution_count": 20,
   "id": "6207b686-5c1b-4886-8f93-0d5f24a298ac",
   "metadata": {},
   "outputs": [
    {
     "name": "stdout",
     "output_type": "stream",
     "text": [
      " A: 65\n",
      " B: 66\n",
      " C: 67\n",
      " D: 68\n",
      " E: 69\n",
      " F: 70\n",
      " G: 71\n",
      " H: 72\n",
      " I: 73\n",
      " J: 74\n",
      " K: 75\n",
      " L: 76\n",
      " M: 77\n",
      " N: 78\n",
      " O: 79\n",
      " P: 80\n",
      " Q: 81\n",
      " R: 82\n",
      " S: 83\n",
      " T: 84\n",
      " U: 85\n",
      " V: 86\n",
      " W: 87\n",
      " X: 88\n",
      " Y: 89\n",
      " Z: 90\n"
     ]
    }
   ],
   "source": [
    "#wap ask the user get the ASCII number A to Z\n",
    "#print : A:65\n",
    "# print : B:65\n",
    "for i in range(65,91):\n",
    "    #print(chr(i),end=' ')\n",
    "    print(f' {chr(i)}: {i}')"
   ]
  },
  {
   "cell_type": "code",
   "execution_count": 21,
   "id": "9ee76de4-46d3-4dc6-a41a-cd29fed17fd5",
   "metadata": {},
   "outputs": [
    {
     "name": "stdout",
     "output_type": "stream",
     "text": [
      "65\n",
      "66\n",
      "67\n",
      "68\n",
      "69\n",
      "70\n",
      "71\n",
      "72\n",
      "73\n",
      "74\n",
      "75\n",
      "76\n",
      "77\n",
      "78\n",
      "79\n",
      "80\n",
      "81\n",
      "82\n",
      "83\n",
      "84\n",
      "85\n",
      "86\n",
      "87\n",
      "88\n",
      "89\n",
      "90\n"
     ]
    }
   ],
   "source": [
    "#wap ask the user get the ASCII number A to Z- This is correct\n",
    "for i in ('ABCDEFGHIJKLMNOPQRSTUVWXYZ'):\n",
    "    print(ord(i))"
   ]
  },
  {
   "cell_type": "code",
   "execution_count": 22,
   "id": "92abe655-a639-44fe-a078-c120986141f8",
   "metadata": {},
   "outputs": [
    {
     "name": "stdout",
     "output_type": "stream",
     "text": [
      "90\n",
      "89\n",
      "88\n",
      "87\n",
      "86\n",
      "85\n",
      "84\n",
      "83\n",
      "82\n",
      "81\n",
      "80\n",
      "78\n",
      "77\n",
      "76\n",
      "75\n",
      "74\n",
      "73\n",
      "72\n",
      "71\n",
      "70\n",
      "69\n",
      "68\n",
      "67\n",
      "66\n",
      "65\n"
     ]
    }
   ],
   "source": [
    "#wap ask the user get the ASCII number A to Z- This is correct\n",
    "for i in ('ZYXWVUTSRQPNMLKJIHGFEDCBA'):\n",
    "    print(ord(i))"
   ]
  },
  {
   "cell_type": "markdown",
   "id": "3edd2c45-bfd5-4989-a075-4763fc510120",
   "metadata": {},
   "source": [
    "#package: string"
   ]
  },
  {
   "cell_type": "code",
   "execution_count": null,
   "id": "1a85cff1-0b47-4f42-8149-9a985ea783bf",
   "metadata": {},
   "outputs": [],
   "source": [
    "#package: string"
   ]
  },
  {
   "cell_type": "code",
   "execution_count": null,
   "id": "043cf18d-2a18-442e-995d-c7370cf849a7",
   "metadata": {},
   "outputs": [],
   "source": [
    "import <packagename>)>\n",
    "dir(<packagename>)"
   ]
  },
  {
   "cell_type": "code",
   "execution_count": 24,
   "id": "96f22b70-ead2-4eec-90dd-d089b882fb9d",
   "metadata": {},
   "outputs": [
    {
     "data": {
      "text/plain": [
       "['Formatter',\n",
       " 'Template',\n",
       " '_ChainMap',\n",
       " '__all__',\n",
       " '__builtins__',\n",
       " '__cached__',\n",
       " '__doc__',\n",
       " '__file__',\n",
       " '__loader__',\n",
       " '__name__',\n",
       " '__package__',\n",
       " '__spec__',\n",
       " '_re',\n",
       " '_sentinel_dict',\n",
       " '_string',\n",
       " 'ascii_letters',\n",
       " 'ascii_lowercase',\n",
       " 'ascii_uppercase',\n",
       " 'capwords',\n",
       " 'digits',\n",
       " 'hexdigits',\n",
       " 'octdigits',\n",
       " 'printable',\n",
       " 'punctuation',\n",
       " 'whitespace']"
      ]
     },
     "execution_count": 24,
     "metadata": {},
     "output_type": "execute_result"
    }
   ],
   "source": [
    "import string\n",
    "dir(string)"
   ]
  },
  {
   "cell_type": "code",
   "execution_count": 14,
   "id": "de4dd079-82a5-4fb3-8fa9-6f043e729cfb",
   "metadata": {},
   "outputs": [
    {
     "data": {
      "text/plain": [
       "'ABCDEFGHIJKLMNOPQRSTUVWXYZ'"
      ]
     },
     "execution_count": 14,
     "metadata": {},
     "output_type": "execute_result"
    }
   ],
   "source": [
    "string.ascii_uppercase"
   ]
  },
  {
   "cell_type": "code",
   "execution_count": 16,
   "id": "c6dfe4f9-28a4-4c38-8cbd-f22fce2ff3e1",
   "metadata": {},
   "outputs": [
    {
     "data": {
      "text/plain": [
       "'abcdefghijklmnopqrstuvwxyz'"
      ]
     },
     "execution_count": 16,
     "metadata": {},
     "output_type": "execute_result"
    }
   ],
   "source": [
    "import string\n",
    "string.ascii_lowercase"
   ]
  },
  {
   "cell_type": "code",
   "execution_count": 15,
   "id": "aa85d2db-3709-4a28-8e7d-16d963f2dc85",
   "metadata": {},
   "outputs": [
    {
     "name": "stdout",
     "output_type": "stream",
     "text": [
      "A:65 B:66 C:67 D:68 E:69 F:70 G:71 H:72 I:73 J:74 K:75 L:76 M:77 N:78 O:79 P:80 Q:81 R:82 S:83 T:84 U:85 V:86 W:87 X:88 Y:89 Z:90 "
     ]
    }
   ],
   "source": [
    "import string\n",
    "for i in string.ascii_uppercase:\n",
    "        print(f'{i}:{ord(i)}',end=' ')"
   ]
  },
  {
   "cell_type": "code",
   "execution_count": 3,
   "id": "cd461407-297c-4da3-93a8-db7f43471369",
   "metadata": {},
   "outputs": [
    {
     "ename": "NameError",
     "evalue": "name 'string' is not defined",
     "output_type": "error",
     "traceback": [
      "\u001b[1;31m---------------------------------------------------------------------------\u001b[0m",
      "\u001b[1;31mNameError\u001b[0m                                 Traceback (most recent call last)",
      "Cell \u001b[1;32mIn[3], line 1\u001b[0m\n\u001b[1;32m----> 1\u001b[0m \u001b[38;5;28;01mfor\u001b[39;00m i \u001b[38;5;129;01min\u001b[39;00m string\u001b[38;5;241m.\u001b[39mascii_lowercase:\n\u001b[0;32m      2\u001b[0m     \u001b[38;5;28mprint\u001b[39m(\u001b[38;5;124mf\u001b[39m\u001b[38;5;124m'\u001b[39m\u001b[38;5;132;01m{\u001b[39;00mi\u001b[38;5;132;01m}\u001b[39;00m\u001b[38;5;124m: \u001b[39m\u001b[38;5;132;01m{\u001b[39;00m\u001b[38;5;28mord\u001b[39m(i)\u001b[38;5;132;01m}\u001b[39;00m\u001b[38;5;124m'\u001b[39m,end\u001b[38;5;241m=\u001b[39m\u001b[38;5;124m'\u001b[39m\u001b[38;5;124m \u001b[39m\u001b[38;5;124m'\u001b[39m)\n",
      "\u001b[1;31mNameError\u001b[0m: name 'string' is not defined"
     ]
    }
   ],
   "source": [
    "for i in string.ascii_lowercase:\n",
    "    print(f'{i}: {ord(i)}',end=' ')"
   ]
  },
  {
   "cell_type": "code",
   "execution_count": 8,
   "id": "7e278fe8-e804-4981-acb8-77b8a2ba183a",
   "metadata": {},
   "outputs": [
    {
     "name": "stdout",
     "output_type": "stream",
     "text": [
      "!: 33 \": 34 #: 35 $: 36 %: 37 &: 38 ': 39 (: 40 ): 41 *: 42 +: 43 ,: 44 -: 45 .: 46 /: 47 :: 58 ;: 59 <: 60 =: 61 >: 62 ?: 63 @: 64 [: 91 \\: 92 ]: 93 ^: 94 _: 95 `: 96 {: 123 |: 124 }: 125 ~: 126 "
     ]
    }
   ],
   "source": [
    "import string\n",
    "for i in string.punctuation:\n",
    "    print(f'{i}: {ord(i)}',end=' ')"
   ]
  },
  {
   "cell_type": "code",
   "execution_count": 39,
   "id": "dbe547c7-d730-4f67-b471-0df5aa57b8d0",
   "metadata": {},
   "outputs": [
    {
     "name": "stdout",
     "output_type": "stream",
     "text": [
      "1: \u0001 2: \u0002 3: \u0003 4: \u0004 5: \u0005 6: \u0006 7: \u0007 8: 9: \t 10: \n",
      " 14: \u000e 15: \u000f 16: \u0010 17: \u0011 18: \u0012 19: \u0013 20: \u0014 21: \u0015 22: \u0016 23: \u0017 24: \u0018 25: \u0019 26: \u001a 27: \u001b 28: \u001c",
      " 29: \u001d",
      " 30: \u001e",
      " 31: \u001f 32:   33: ! "
     ]
    }
   ],
   "source": [
    "for i in range(1,34):\n",
    "    print(f'{i}: {chr(i)}',end=' ')"
   ]
  },
  {
   "cell_type": "code",
   "execution_count": 40,
   "id": "e3545a9f-a812-4712-89db-c973beadd0c8",
   "metadata": {},
   "outputs": [
    {
     "name": "stdout",
     "output_type": "stream",
     "text": [
      "127:  128:  129:  130:  131:  132:  133: ",
      " 134:  135:  136:  137:  138:  139:  140:  141:  142:  143:  144:  145:  146:  147:  148:  149:  150:  151:  152:  153:  154:  155:  156:  157:  158:  159:  160:   161: ¡ 162: ¢ 163: £ 164: ¤ 165: ¥ 166: ¦ 167: § 168: ¨ 169: © 170: ª 171: « 172: ¬ 173: ­ 174: ® 175: ¯ 176: ° 177: ± 178: ² 179: ³ 180: ´ 181: µ 182: ¶ 183: · 184: ¸ 185: ¹ 186: º 187: » 188: ¼ 189: ½ 190: ¾ 191: ¿ 192: À 193: Á 194: Â 195: Ã 196: Ä 197: Å 198: Æ 199: Ç 200: È 201: É 202: Ê 203: Ë 204: Ì 205: Í 206: Î 207: Ï 208: Ð 209: Ñ 210: Ò 211: Ó 212: Ô 213: Õ 214: Ö 215: × 216: Ø 217: Ù 218: Ú 219: Û 220: Ü 221: Ý 222: Þ 223: ß 224: à 225: á 226: â 227: ã 228: ä 229: å 230: æ 231: ç 232: è 233: é 234: ê 235: ë 236: ì 237: í 238: î 239: ï 240: ð 241: ñ 242: ò 243: ó 244: ô 245: õ 246: ö 247: ÷ 248: ø 249: ù "
     ]
    }
   ],
   "source": [
    "for i in range(127,250):\n",
    "    print(f'{i}: {chr(i)}',end=' ')"
   ]
  },
  {
   "cell_type": "code",
   "execution_count": 41,
   "id": "4aef0c80-3a12-4dc9-a9cc-1ce4e1f733c7",
   "metadata": {},
   "outputs": [
    {
     "name": "stdout",
     "output_type": "stream",
     "text": [
      "3077: అ 3078: ఆ 3079: ఇ 3080: ఈ 3081: ఉ 3082: ఊ 3083: ఋ 3084: ఌ 3085: ఍ 3086: ఎ 3087: ఏ 3088: ఐ 3089: ఑ 3090: ఒ 3091: ఓ 3092: ఔ 3093: క 3094: ఖ 3095: గ 3096: ఘ 3097: ఙ 3098: చ 3099: ఛ 3100: జ 3101: ఝ 3102: ఞ 3103: ట 3104: ఠ 3105: డ 3106: ఢ 3107: ణ 3108: త 3109: థ 3110: ద 3111: ధ 3112: న 3113: ఩ 3114: ప 3115: ఫ 3116: బ 3117: భ 3118: మ 3119: య 3120: ర 3121: ఱ 3122: ల 3123: ళ 3124: ఴ 3125: వ 3126: శ 3127: ష 3128: స 3129: హ 3130: ఺ 3131: ఻ 3132: ఼ 3133: ఽ 3134: ా 3135: ి 3136: ీ 3137: ు 3138: ూ 3139: ృ 3140: ౄ 3141: ౅ 3142: ె 3143: ే 3144: ై 3145: ౉ 3146: ొ 3147: ో 3148: ౌ 3149: ్ "
     ]
    }
   ],
   "source": [
    "for i in range(3077,3150):\n",
    "    print(f'{i}: {chr(i)}',end=' ')"
   ]
  },
  {
   "cell_type": "code",
   "execution_count": null,
   "id": "30673416-6a2d-4e93-a322-fea52b9c9ab6",
   "metadata": {},
   "outputs": [],
   "source": []
  },
  {
   "cell_type": "code",
   "execution_count": 20,
   "id": "32b9d1ba-98f9-42f4-b900-694674b0d41a",
   "metadata": {},
   "outputs": [
    {
     "data": {
      "text/plain": [
       "'geetha'"
      ]
     },
     "execution_count": 20,
     "metadata": {},
     "output_type": "execute_result"
    }
   ],
   "source": [
    "\"Geetha\".lower()"
   ]
  },
  {
   "cell_type": "code",
   "execution_count": 21,
   "id": "f61db1c3-76ca-4e78-a6a3-dc5135209ba9",
   "metadata": {},
   "outputs": [
    {
     "data": {
      "text/plain": [
       "'SREEKAR'"
      ]
     },
     "execution_count": 21,
     "metadata": {},
     "output_type": "execute_result"
    }
   ],
   "source": [
    "'sreekar'.upper()"
   ]
  },
  {
   "cell_type": "code",
   "execution_count": null,
   "id": "81ca0499-435c-4d60-b1dd-b6bba11904ab",
   "metadata": {},
   "outputs": [],
   "source": []
  }
 ],
 "metadata": {
  "kernelspec": {
   "display_name": "Python 3 (ipykernel)",
   "language": "python",
   "name": "python3"
  },
  "language_info": {
   "codemirror_mode": {
    "name": "ipython",
    "version": 3
   },
   "file_extension": ".py",
   "mimetype": "text/x-python",
   "name": "python",
   "nbconvert_exporter": "python",
   "pygments_lexer": "ipython3",
   "version": "3.12.7"
  }
 },
 "nbformat": 4,
 "nbformat_minor": 5
}
