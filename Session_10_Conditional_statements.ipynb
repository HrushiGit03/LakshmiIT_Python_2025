{
 "cells": [
  {
   "cell_type": "code",
   "execution_count": 3,
   "id": "5af68584-6d48-4f5a-ad3b-45d3aae77822",
   "metadata": {},
   "outputs": [
    {
     "name": "stdout",
     "output_type": "stream",
     "text": [
      "True\n",
      "False\n",
      "False\n",
      "False\n",
      "True\n",
      "True\n"
     ]
    }
   ],
   "source": [
    "#Conditional statemenets are used to execute the code based on some condition\n",
    "num=10\n",
    "print(num==10)\n",
    "print(num==100)\n",
    "print(num<10)\n",
    "print(num>10)\n",
    "print(num<=10)\n",
    "print(num>=10)\n",
    "\n",
    "\n"
   ]
  },
  {
   "cell_type": "code",
   "execution_count": 6,
   "id": "8d9d43b5-5c47-4d10-ba9c-30a230839f4f",
   "metadata": {},
   "outputs": [
    {
     "name": "stdout",
     "output_type": "stream",
     "text": [
      "hello\n"
     ]
    }
   ],
   "source": [
    "if 100>10:\n",
    "    print('hello')"
   ]
  },
  {
   "cell_type": "code",
   "execution_count": 7,
   "id": "d8e0e850-4607-4e3b-895c-f2974eb823da",
   "metadata": {},
   "outputs": [
    {
     "name": "stdout",
     "output_type": "stream",
     "text": [
      "Hello true here\n"
     ]
    }
   ],
   "source": [
    "if 100>20:\n",
    "    print('Hello true here')"
   ]
  },
  {
   "cell_type": "code",
   "execution_count": 8,
   "id": "10e74661-8771-4523-8ab1-14ad99dff0e6",
   "metadata": {},
   "outputs": [],
   "source": [
    "if 100<10:\n",
    "    print('No answer')"
   ]
  },
  {
   "cell_type": "code",
   "execution_count": 11,
   "id": "a3cf6624-b72f-426b-99b2-382e96fc8601",
   "metadata": {},
   "outputs": [
    {
     "name": "stdout",
     "output_type": "stream",
     "text": [
      "hello bool\n",
      "hello\n"
     ]
    }
   ],
   "source": [
    "if bool(100):\n",
    "    print('hello bool')\n",
    "if 100>10:\n",
    "    print('hello')\n",
    "if 100<10:\n",
    "    print('Hello true')\n",
    "\n",
    "    "
   ]
  },
  {
   "cell_type": "code",
   "execution_count": 14,
   "id": "43dfcf76-cdb9-40a5-90af-5dce1e9e69f6",
   "metadata": {},
   "outputs": [
    {
     "name": "stdout",
     "output_type": "stream",
     "text": [
      "1\n",
      "2\n",
      "hello\n",
      "hai\n",
      "Iam with the condition bye\n",
      "Iam without the condition bye\n"
     ]
    }
   ],
   "source": [
    "print(1)\n",
    "print(2)\n",
    "if 100>10:\n",
    "    print('hello')\n",
    "    print('hai')\n",
    "    print('Iam with the condition bye')\n",
    "###################################\n",
    "print('Iam without the condition bye')"
   ]
  },
  {
   "cell_type": "code",
   "execution_count": 16,
   "id": "f8c090bb-20f1-4322-935b-62ba4861e2e7",
   "metadata": {},
   "outputs": [
    {
     "name": "stdout",
     "output_type": "stream",
     "text": [
      "1\n",
      "2\n",
      "Iam without the condition bye\n"
     ]
    }
   ],
   "source": [
    "print(1)\n",
    "print(2)\n",
    "if 100<10:\n",
    "    print('hello')\n",
    "    print('hai')\n",
    "    print('Iam with the condition bye')\n",
    "###################################\n",
    "print('Iam without the condition bye')"
   ]
  },
  {
   "cell_type": "code",
   "execution_count": 1,
   "id": "ecbc7dfb-3f5c-4771-abe3-5f320511ba1c",
   "metadata": {},
   "outputs": [
    {
     "name": "stdout",
     "output_type": "stream",
     "text": [
      "Correct\n"
     ]
    }
   ],
   "source": [
    "if 100==100:\n",
    "    print('Correct')\n",
    "    "
   ]
  },
  {
   "cell_type": "markdown",
   "id": "c7226305-9827-4190-b550-5aaa40a68cbb",
   "metadata": {},
   "source": [
    "**case 2 : if-else**"
   ]
  },
  {
   "cell_type": "markdown",
   "id": "84f0d7b7-9a33-4917-8d5e-42038c79b798",
   "metadata": {},
   "source": [
    "- if condition is True if statements will execute\n",
    "- if condition is False then else statements will execute\n",
    "- one condition two ouputs\n",
    "- if needs condition but not else"
   ]
  },
  {
   "cell_type": "code",
   "execution_count": null,
   "id": "5d791763-cc3c-4e9c-b817-bfbd6b65f46a",
   "metadata": {},
   "outputs": [],
   "source": [
    "#syntax\n",
    "if <condition>:\n",
    "    <write your code here>\n",
    "else:\n",
    "    <write code here>"
   ]
  },
  {
   "cell_type": "code",
   "execution_count": 2,
   "id": "d32ccd0d-48f8-4f32-aab9-6ce0c5291b26",
   "metadata": {},
   "outputs": [
    {
     "name": "stdin",
     "output_type": "stream",
     "text": [
      "Enter the number : 0\n"
     ]
    },
    {
     "name": "stdout",
     "output_type": "stream",
     "text": [
      "Neagtive number\n"
     ]
    }
   ],
   "source": [
    "num=eval(input('Enter the number :'))\n",
    "if num>0:\n",
    "    print('Positive number')\n",
    "else:\n",
    "    print('Neagtive number')\n"
   ]
  },
  {
   "cell_type": "code",
   "execution_count": 23,
   "id": "7e02de69-a4a2-4c5a-a9dc-53b3b20a357b",
   "metadata": {},
   "outputs": [
    {
     "name": "stdout",
     "output_type": "stream",
     "text": [
      " 14 is Positive number\n"
     ]
    }
   ],
   "source": [
    "import random\n",
    "n=random.randint(-100,100)\n",
    "if n>0:\n",
    "    print(f' {n} is Positive number')\n",
    "else:\n",
    "    print(f' {n} is neagtive number')"
   ]
  },
  {
   "cell_type": "code",
   "execution_count": 18,
   "id": "0b0be3f5-4cf7-49b8-b312-543e8d9c7cbd",
   "metadata": {},
   "outputs": [
    {
     "ename": "SyntaxError",
     "evalue": "invalid syntax (3894767671.py, line 6)",
     "output_type": "error",
     "traceback": [
      "\u001b[1;36m  Cell \u001b[1;32mIn[18], line 6\u001b[1;36m\u001b[0m\n\u001b[1;33m    else:\u001b[0m\n\u001b[1;37m    ^\u001b[0m\n\u001b[1;31mSyntaxError\u001b[0m\u001b[1;31m:\u001b[0m invalid syntax\n"
     ]
    }
   ],
   "source": [
    "print('Hello')\n",
    "if 100<0:\n",
    "    print('Postive number')\n",
    "    print('condition is false')\n",
    "print('why are you in middle')\n",
    "else:\n",
    "    print('Negative number:')\n",
    "    print('condtion is False:')\n",
    "print('bye')\n",
    "# if- else should come together always"
   ]
  },
  {
   "cell_type": "code",
   "execution_count": 27,
   "id": "1d5a22ea-6139-4602-92c5-253af49721a8",
   "metadata": {},
   "outputs": [
    {
     "name": "stdout",
     "output_type": "stream",
     "text": [
      "Hello\n",
      "Negative number:\n",
      "condtion is True:\n",
      "bye\n"
     ]
    }
   ],
   "source": [
    "print('Hello')\n",
    "if 100<0:\n",
    "    print('Postive number')\n",
    "    print('condition is false')\n",
    "#print('why are you in middle')\n",
    "else:\n",
    "    print('Negative number:')\n",
    "    print('condtion is True:')\n",
    "print('bye')\n",
    "# if- else should come together always"
   ]
  },
  {
   "cell_type": "code",
   "execution_count": 29,
   "id": "f014e7de-c39c-4374-b36c-27e1d10a7bd0",
   "metadata": {},
   "outputs": [
    {
     "name": "stdin",
     "output_type": "stream",
     "text": [
      "Enter the number1: 20\n",
      "Enter the number2: 10\n"
     ]
    },
    {
     "name": "stdout",
     "output_type": "stream",
     "text": [
      "20 is greather than 10: \n"
     ]
    }
   ],
   "source": [
    "#wap ask the user enter two numbers find the greatest number\n",
    "import random\n",
    "n1=eval(input('Enter the number1:'))\n",
    "n2=eval(input('Enter the number2:'))\n",
    "if n1>n2:\n",
    "    print(f'{n1} is greather than {n2}: ')\n",
    "else:\n",
    "    print(f'{n1} is not greather than {n2} : ')\n",
    "    "
   ]
  },
  {
   "cell_type": "code",
   "execution_count": 40,
   "id": "4c93eac0-8afe-4930-858f-9e9918c2493c",
   "metadata": {},
   "outputs": [
    {
     "name": "stdout",
     "output_type": "stream",
     "text": [
      "8 is greather than -1: \n"
     ]
    }
   ],
   "source": [
    "#wap ask the user enter two numbers find the greatest number using random\n",
    "import random\n",
    "n1=random.randint(1,100)\n",
    "n2=random.randint(-100,1)\n",
    "if n1>n2:\n",
    "    print(f'{n1} is greather than {n2}: ')\n",
    "else:\n",
    "    print(f'{n1} is not greather than {n2}: ')"
   ]
  },
  {
   "cell_type": "code",
   "execution_count": 54,
   "id": "7eab11e9-0f1f-4fcd-b152-0b147e3b8e03",
   "metadata": {},
   "outputs": [
    {
     "name": "stdin",
     "output_type": "stream",
     "text": [
      "Enter the distance : 35\n",
      "Charge per kilometer is : 10\n"
     ]
    },
    {
     "name": "stdout",
     "output_type": "stream",
     "text": [
      "Toatl charge for  kilomteres 100 : INR\n"
     ]
    }
   ],
   "source": [
    "distance=eval(input('Enter the distance :'))\n",
    "maxkm=25\n",
    "if (distance>maxkm):\n",
    "    charge=eval(input('Charge per kilometer is :'))\n",
    "    totcharge=(distance-maxkm)*charge\n",
    "    print(f\"Toatl charge for  kilomteres {totcharge} : INR\")\n",
    "else:\n",
    "    print('Its free ride')"
   ]
  },
  {
   "cell_type": "code",
   "execution_count": 61,
   "id": "10982e9a-f8ea-4168-a10a-e86de26fc8cd",
   "metadata": {},
   "outputs": [
    {
     "name": "stdin",
     "output_type": "stream",
     "text": [
      "Enter the distance in km : 90\n",
      "Enter the govt free distance in km : 25\n"
     ]
    },
    {
     "name": "stdout",
     "output_type": "stream",
     "text": [
      "The actual distance covered is : 65\n"
     ]
    },
    {
     "name": "stdin",
     "output_type": "stream",
     "text": [
      "Enter charge per kilometer is : 10\n"
     ]
    },
    {
     "name": "stdout",
     "output_type": "stream",
     "text": [
      "Toatl charge for actual distdance covered 65 is 650 : INR\n"
     ]
    }
   ],
   "source": [
    "travel_distance=eval(input('Enter the distance in km :'))\n",
    "free_distance=eval(input('Enter the govt free distance in km :'))\n",
    "if (travel_distance>free_distance):\n",
    "    actual_distance=travel_distance-free_distance\n",
    "    print(f\"The actual distance covered is : {actual_distance}\")\n",
    "    charge=eval(input('Enter charge per kilometer is :'))\n",
    "    totcharge=(actual_distance)*charge\n",
    "    print(f\"Toatl charge for actual distdance covered {actual_distance} is {totcharge} : INR\")\n",
    "else:\n",
    "    print('Its free ride')"
   ]
  },
  {
   "cell_type": "code",
   "execution_count": 70,
   "id": "60e0da1b-0a7c-46e2-89fd-0615ead568a6",
   "metadata": {},
   "outputs": [
    {
     "name": "stdout",
     "output_type": "stream",
     "text": [
      "8\n"
     ]
    },
    {
     "name": "stdin",
     "output_type": "stream",
     "text": [
      "Enter the number between 1 to 10 : 8\n"
     ]
    },
    {
     "name": "stdout",
     "output_type": "stream",
     "text": [
      "Lucky: You won\n"
     ]
    }
   ],
   "source": [
    "# Q4)\n",
    "import random\n",
    "n1=random.randint(1,10)\n",
    "print(n1)\n",
    "n2=eval(input('Enter the number between 1 to 10 :'))\n",
    "if n1==n2:\n",
    "    print('Lucky: You won')\n",
    "else:\n",
    "    print('Lucy Lucky: you lost better luck next time')"
   ]
  },
  {
   "cell_type": "code",
   "execution_count": 77,
   "id": "e91c004c-2c4a-43ca-8957-87c2b667ed00",
   "metadata": {},
   "outputs": [
    {
     "name": "stdin",
     "output_type": "stream",
     "text": [
      "Enter the course name : Data Science\n",
      "Enter the institute name : croma tech\n"
     ]
    },
    {
     "name": "stdout",
     "output_type": "stream",
     "text": [
      "Katam zindagai at croma tech :\n"
     ]
    }
   ],
   "source": [
    "# Q5)\n",
    "course_name=input('Enter the course name :')\n",
    "inst_name=input('Enter the Institute name :')\n",
    "if course_name=='Data Science' and inst_name=='Naresh IT':\n",
    "    print(f\"You are in safe hands! at {inst_name} with Omkar sir :\")\n",
    "else:\n",
    "    print(f\"Katam zindagai at {inst_name} :\")\n"
   ]
  },
  {
   "cell_type": "code",
   "execution_count": 79,
   "id": "c29acb5d-f9f8-4fd1-acd9-02ab0c3c2365",
   "metadata": {},
   "outputs": [
    {
     "name": "stdin",
     "output_type": "stream",
     "text": [
      "Enter the Course name : test\n",
      "Enter the Institute name : Naresh it\n"
     ]
    },
    {
     "name": "stdout",
     "output_type": "stream",
     "text": [
      "You are not in soft safe hands Naresh it :\n"
     ]
    }
   ],
   "source": [
    "# Q5)\n",
    "course_name=input('Enter the Course name :')\n",
    "inst_name=input('Enter the Institute name :')\n",
    "if course_name=='Data Science' or inst_name=='Naresh IT':\n",
    "    print(f\"You are in safe hands! at {inst_name} \")\n",
    "else:\n",
    "    print(f\"You are not in soft safe hands {inst_name} :\")"
   ]
  },
  {
   "cell_type": "code",
   "execution_count": 1,
   "id": "ea8fdcb4-aa02-4ec2-9305-2317b803130d",
   "metadata": {},
   "outputs": [
    {
     "name": "stdin",
     "output_type": "stream",
     "text": [
      "Enter the number : 33\n"
     ]
    },
    {
     "name": "stdout",
     "output_type": "stream",
     "text": [
      "33 is an odd number \n"
     ]
    }
   ],
   "source": [
    "# Q6) even and odd progam \n",
    "# Ask the user user enter a  number \n",
    "# print if the number is even or odd number\n",
    "# if the number is divided by 2 amd then reminder is zero\n",
    "n1=eval(input('Enter the number :'))\n",
    "if n1%2==0:\n",
    "    print(f\"{n1} is an even number \")\n",
    "else:\n",
    "    print(f\"{n1} is an odd number \")"
   ]
  },
  {
   "cell_type": "code",
   "execution_count": null,
   "id": "7cb7938a-afbd-49ea-aa1e-aa56b9b16283",
   "metadata": {},
   "outputs": [],
   "source": [
    "**if-elif-else**\n",
    "- when ever we have multiple conditions we will do **if-elif-else**\n",
    "- if single condition is there we will go if-else\n",
    "  - two answers\n",
    "  - if needs condition then else doesnt require any condition\n",
    "- if two conditions are there we will go if-elif-else\n",
    "  - three answers\n",
    "  - if and elif need condition else doesnt require any condition\n",
    "-if three conditions are there we will go if-elif-elif-else\n",
    "   - four answers\n",
    "   - if elif and elif needs condition  and else doesnt require any condition\n"
   ]
  },
  {
   "cell_type": "code",
   "execution_count": 6,
   "id": "3418026c-9ae9-4066-a61f-b1add681e862",
   "metadata": {},
   "outputs": [
    {
     "name": "stdin",
     "output_type": "stream",
     "text": [
      "Enter number : 5\n"
     ]
    },
    {
     "name": "stdout",
     "output_type": "stream",
     "text": [
      "Enter a valid number\n"
     ]
    }
   ],
   "source": [
    "#WAP \n",
    "n1=eval(input('Enter number :'))\n",
    "if n1==1:\n",
    "    print(f\"One\")\n",
    "elif n1==2:\n",
    "    print(f\"Two\")\n",
    "elif n1==3:\n",
    "    print(f\"Three\")\n",
    "else:\n",
    "    print(f\"Enter a valid number\")"
   ]
  },
  {
   "cell_type": "code",
   "execution_count": 32,
   "id": "66876815-f76b-48f3-afb0-80c298d61804",
   "metadata": {},
   "outputs": [
    {
     "name": "stdin",
     "output_type": "stream",
     "text": [
      "Enter percentage of marks : 50\n"
     ]
    },
    {
     "name": "stdout",
     "output_type": "stream",
     "text": [
      " C grade\n"
     ]
    }
   ],
   "source": [
    "n1=eval(input('Enter percentage of marks :'))\n",
    "if(n1>90):\n",
    "    print(f\"A Grade\")\n",
    "elif(n1>70 and n1<90):\n",
    "    print(f\"B Grade\")\n",
    "elif(n1>50 and n1<=70):\n",
    "    print(f\"C Grade\")\n",
    "elif(n1>=35 and n1<=50):\n",
    "    print(f\" C grade\")\n",
    "else:\n",
    "    print(f\"Fail\")\n"
   ]
  },
  {
   "cell_type": "code",
   "execution_count": 31,
   "id": "f440faa1-6af5-44c6-b90f-9f14a07f2dd7",
   "metadata": {},
   "outputs": [
    {
     "name": "stdin",
     "output_type": "stream",
     "text": [
      "Enter age of pesron : 50\n"
     ]
    },
    {
     "name": "stdout",
     "output_type": "stream",
     "text": [
      "Middle\n"
     ]
    }
   ],
   "source": [
    "age=eval(input('Enter age of pesron :'))\n",
    "if age>100:\n",
    "    print(f\"Unlucy\")\n",
    "elif age>=80:\n",
    "    print(f\"Old Guy\")\n",
    "elif age>=60:\n",
    "    print(f\"Senior citizen\")\n",
    "elif age>=40:\n",
    "    print(f\"Middle\")\n",
    "elif age>=20:\n",
    "    print(f\"young\")\n",
    "elif age>=10:\n",
    "    print(f\"teenage\")\n",
    "else:\n",
    "    print(f\" kid\")\n",
    "    \n",
    "    \n"
   ]
  },
  {
   "cell_type": "code",
   "execution_count": 33,
   "id": "285935cb-0124-489f-b57a-ec6b3c5d692b",
   "metadata": {},
   "outputs": [
    {
     "name": "stdin",
     "output_type": "stream",
     "text": [
      "Enter the gender : FeMale\n",
      "Enter the age of the FeMale : 30\n"
     ]
    },
    {
     "name": "stdout",
     "output_type": "stream",
     "text": [
      "Middle age WoMan\n"
     ]
    }
   ],
   "source": [
    "gender=input('Enter the gender :')\n",
    "if(gender == 'Male'):\n",
    "    age=eval(input('Enter the age of the Male :'))\n",
    "    if(age>60):\n",
    "         print(f\"Senior citizen\")\n",
    "    elif age>=30:\n",
    "        print(f\"Middle age Man\")\n",
    "    elif age>=15:\n",
    "        print(f\"young Man\")\n",
    "    else:\n",
    "         print(f\"Boy\")\n",
    "elif(gender == 'FeMale'):\n",
    "    age=eval(input('Enter the age of the FeMale :'))\n",
    "    if(age>60):\n",
    "         print(f\"Senior citizen\")\n",
    "    elif age>=30:\n",
    "        print(f\"Middle age WoMan\")\n",
    "    elif age>=15:\n",
    "        print(f\"young girl\")\n",
    "    else:\n",
    "         print(f\"girl\")\n",
    "\n",
    "\n",
    "    "
   ]
  },
  {
   "cell_type": "code",
   "execution_count": 37,
   "id": "10612979-dc96-4c6d-9c07-411b518793d9",
   "metadata": {},
   "outputs": [
    {
     "name": "stdin",
     "output_type": "stream",
     "text": [
      "Enter the Number : -45\n"
     ]
    },
    {
     "name": "stdout",
     "output_type": "stream",
     "text": [
      "-Ve Number\n"
     ]
    }
   ],
   "source": [
    "n1=eval(input('Enter the Number :'))\n",
    "if n1>=0:\n",
    "    if n1>0:\n",
    "        print(f\"+ve Number\")\n",
    "    else:\n",
    "        print(f\"Zero\")\n",
    "else:\n",
    "    print(f\"-Ve Number\")"
   ]
  },
  {
   "cell_type": "code",
   "execution_count": 4,
   "id": "d31db416-cac3-4e34-859d-dcf6fd0fd56f",
   "metadata": {},
   "outputs": [
    {
     "name": "stdout",
     "output_type": "stream",
     "text": [
      "Enter 1 for addition\n",
      "Enter 2 for subtraction\n",
      "Enter 3 for multiplication\n",
      "Enter 4 for divison\n"
     ]
    },
    {
     "name": "stdin",
     "output_type": "stream",
     "text": [
      "Enter the Number 1to4 : 2\n",
      "Enter the Number  n1 : 20\n",
      "Enter the Number  n2 : 30\n"
     ]
    },
    {
     "name": "stdout",
     "output_type": "stream",
     "text": [
      "subtraction Value :-10\n"
     ]
    }
   ],
   "source": [
    "print('Enter 1 for addition')\n",
    "print('Enter 2 for subtraction')\n",
    "print('Enter 3 for multiplication')\n",
    "print('Enter 4 for divison')\n",
    "operation=eval(input('Enter the Number 1to4 :'))\n",
    "n1=eval(input('Enter the Number  n1 :'))\n",
    "n2=eval(input('Enter the Number  n2 :'))\n",
    "if operation==1:\n",
    "    add=n1+n2\n",
    "    print(f\"Addition Value :{add}\")\n",
    "elif operation==2:\n",
    "     sub=n1-n2\n",
    "     print(f\"subtraction Value :{sub}\")\n",
    "elif operation==3:\n",
    "     mul=n1*n2\n",
    "     print(f\"mul Value :{mul}\")\n",
    "elif operation==4:\n",
    "     div=n1/n2\n",
    "     print(f\"Div Value :{div}\")\n",
    "else:\n",
    "    print(f\"Not a Valid operation\")\n",
    "\n",
    "    "
   ]
  },
  {
   "cell_type": "code",
   "execution_count": 2,
   "id": "a99da6a9-b9a4-4f48-bf5c-e087629e4905",
   "metadata": {},
   "outputs": [
    {
     "name": "stdout",
     "output_type": "stream",
     "text": [
      "5\n"
     ]
    }
   ],
   "source": [
    "x=eval(\"2+3\")\n",
    "print(x)"
   ]
  },
  {
   "cell_type": "code",
   "execution_count": 3,
   "id": "b81c19f2-80ef-435a-96a2-d4d787eb26ed",
   "metadata": {},
   "outputs": [
    {
     "name": "stdout",
     "output_type": "stream",
     "text": [
      "Hello\n",
      "World!\n"
     ]
    }
   ],
   "source": [
    "print(\"Hello\",sep=\"\")\n",
    "print(\"World!\")"
   ]
  },
  {
   "cell_type": "code",
   "execution_count": null,
   "id": "3f069e65-9d33-4a5d-9e30-498077cdb79b",
   "metadata": {},
   "outputs": [],
   "source": []
  }
 ],
 "metadata": {
  "kernelspec": {
   "display_name": "Python 3 (ipykernel)",
   "language": "python",
   "name": "python3"
  },
  "language_info": {
   "codemirror_mode": {
    "name": "ipython",
    "version": 3
   },
   "file_extension": ".py",
   "mimetype": "text/x-python",
   "name": "python",
   "nbconvert_exporter": "python",
   "pygments_lexer": "ipython3",
   "version": "3.12.7"
  }
 },
 "nbformat": 4,
 "nbformat_minor": 5
}
