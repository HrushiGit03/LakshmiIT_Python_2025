{
 "cells": [
  {
   "cell_type": "code",
   "execution_count": 2,
   "id": "987e94f2-1329-489c-ac5b-b5be56bce58e",
   "metadata": {},
   "outputs": [
    {
     "name": "stdout",
     "output_type": "stream",
     "text": [
      "10\n",
      "20\n"
     ]
    }
   ],
   "source": [
    "a=10\n",
    "b=20\n",
    "print(a)\n",
    "print(b)"
   ]
  },
  {
   "cell_type": "code",
   "execution_count": 4,
   "id": "037e14ac-7ff5-4757-9d09-ccd1ef11b0c4",
   "metadata": {},
   "outputs": [
    {
     "name": "stdout",
     "output_type": "stream",
     "text": [
      "30\n",
      "20\n",
      "10\n"
     ]
    }
   ],
   "source": [
    "print(30)\n",
    "print(20)\n",
    "print(10)"
   ]
  },
  {
   "cell_type": "code",
   "execution_count": 5,
   "id": "332a75cc-386c-4969-bdd6-b8a291944a24",
   "metadata": {},
   "outputs": [
    {
     "name": "stdout",
     "output_type": "stream",
     "text": [
      "10\n",
      "20\n"
     ]
    },
    {
     "data": {
      "text/plain": [
       "(None, None)"
      ]
     },
     "execution_count": 5,
     "metadata": {},
     "output_type": "execute_result"
    }
   ],
   "source": [
    "print(10),print(20)"
   ]
  },
  {
   "cell_type": "code",
   "execution_count": 6,
   "id": "ce0c8845-9748-403f-8dcb-48f2f5acb486",
   "metadata": {},
   "outputs": [
    {
     "data": {
      "text/plain": [
       "(10, 20)"
      ]
     },
     "execution_count": 6,
     "metadata": {},
     "output_type": "execute_result"
    }
   ],
   "source": [
    "10,20"
   ]
  },
  {
   "cell_type": "code",
   "execution_count": 7,
   "id": "84da4888-e3fa-4bef-b9da-8f75c5a3a8e8",
   "metadata": {},
   "outputs": [
    {
     "name": "stdout",
     "output_type": "stream",
     "text": [
      "10 20\n"
     ]
    }
   ],
   "source": [
    "print(a,b)"
   ]
  },
  {
   "cell_type": "code",
   "execution_count": 9,
   "id": "85aee8e9-2255-4272-996f-403c2f540dc2",
   "metadata": {},
   "outputs": [
    {
     "name": "stdout",
     "output_type": "stream",
     "text": [
      "30 Nareshit Hyd\n"
     ]
    }
   ],
   "source": [
    "print(30,'Nareshit','Hyd')\n",
    "# 3 values will come "
   ]
  },
  {
   "cell_type": "code",
   "execution_count": 19,
   "id": "14b205b1-4c8c-452c-bbbf-dd21e41c5cc0",
   "metadata": {},
   "outputs": [
    {
     "name": "stdout",
     "output_type": "stream",
     "text": [
      "the addition of 100 and 200 is 300\n",
      "the addition of num1 and num2 is 300\n",
      "The addition of 200 and 300 is 500\n",
      "The addition of 200 and 300 is 500\n"
     ]
    }
   ],
   "source": [
    "num1=200\n",
    "num2=300\n",
    "add=num1+num2\n",
    "#The addition 100 and 200 is 300\n",
    "print(\"the addition of 100 and 200 is 300\")\n",
    "print(\"the addition of num1 and num2 is 300\")\n",
    "print(\"The addition of\",num1,\"and\",num2, \"is\",add)\n",
    "print(\"The addition of {} and {} is {}\".format(num1,num2,add))"
   ]
  },
  {
   "cell_type": "code",
   "execution_count": 15,
   "id": "bfa1de6a-1b1a-41b5-8d8f-bdc864f2c06f",
   "metadata": {},
   "outputs": [
    {
     "name": "stdout",
     "output_type": "stream",
     "text": [
      "my name is pyhton Iam 10 years old and came from hyd\n"
     ]
    }
   ],
   "source": [
    "name='pyhton'\n",
    "age=10\n",
    "city='hyd'\n",
    "print(\"my name is\",name,\"Iam\",age,\"years old and came from\",city)"
   ]
  },
  {
   "cell_type": "markdown",
   "id": "55654391-dd72-4253-beb0-86c2841afdc8",
   "metadata": {},
   "source": [
    "**format method**\n"
   ]
  },
  {
   "cell_type": "code",
   "execution_count": 18,
   "id": "ead1a169-ce12-4f4f-ae1c-4d3593e1e7d4",
   "metadata": {},
   "outputs": [
    {
     "name": "stdout",
     "output_type": "stream",
     "text": [
      "my name is {} Im {} years old and came from {}\n",
      "my name is pyhton Im 10 years old and came from hyd\n"
     ]
    }
   ],
   "source": [
    "name='pyhton'\n",
    "age=10\n",
    "city='hyd'\n",
    "print(\"my name is {} Im {} years old and came from {}\")\n",
    "print(\"my name is {} Im {} years old and came from {}\".format(name,age,city)) #order very imporrtant here"
   ]
  },
  {
   "cell_type": "code",
   "execution_count": 35,
   "id": "1f036ce2-aa70-48d7-9eab-70400ca7ec2f",
   "metadata": {},
   "outputs": [
    {
     "name": "stdout",
     "output_type": "stream",
     "text": [
      "========================ADDITION===========================\n",
      "The addition of 100 and 200 is 300\n",
      "========================SUBSTRACTION===========================\n",
      "The substraction of 100 and 200 is -100\n",
      "========================MULTIPLICATION===========================\n",
      "The multiplication of 100 and 200 is 20000\n",
      "========================DIVISION===========================\n",
      "The divison of 100 and 200 is 0.5\n",
      "========================AVERAGE===========================\n",
      "The average of 100,200,300 is: 200.0\n",
      "========================f string : means formatted method===========================\n",
      "The addition of 100 and 200 is 300\n"
     ]
    }
   ],
   "source": [
    "num1=100\n",
    "num2=200\n",
    "num3=300\n",
    "add=num1+num2\n",
    "sub=num1-num2\n",
    "mult=num1*num2\n",
    "div=num1/num2\n",
    "avg=(num1+num2+num3)/3\n",
    "print(\"========================ADDITION===========================\")\n",
    "print(\"The addition of {} and {} is {}\".format(num1,num2,add))\n",
    "print(\"========================SUBSTRACTION===========================\")\n",
    "print(\"The substraction of {} and {} is {}\".format(num1,num2,sub))\n",
    "print(\"========================MULTIPLICATION===========================\")\n",
    "print(\"The multiplication of {} and {} is {}\".format(num1,num2,mult))\n",
    "print(\"========================DIVISION===========================\")\n",
    "print(\"The divison of {} and {} is {}\".format(num1,num2,div))\n",
    "print(\"========================AVERAGE===========================\")\n",
    "print(\"The average of {},{},{} is: {}\".format(num1,num2,num3,avg))\n",
    "print(\"========================f string : means formatted method===========================\")\n",
    "print(f\"The addition of {num1} and {num2} is {add}\") #f string: means formatted string method"
   ]
  },
  {
   "cell_type": "code",
   "execution_count": 49,
   "id": "676a2ed6-6639-4641-af81-c502036a31f1",
   "metadata": {},
   "outputs": [
    {
     "name": "stdout",
     "output_type": "stream",
     "text": [
      "========================ADDITION===========================\n",
      "The addition of  100 and 200 is 300\n",
      "========================SUBSTRACTION===========================\n",
      "The substraction of 100 and 200 is -100\n",
      "========================MULTIPLICATION===========================\n",
      "The multiplication of 100 and 200 is 20000\n",
      "========================DIVISION===========================\n",
      "The divison of 100 and 200 is 0.5\n",
      "========================AVERAGE===========================\n",
      "The average of 100,200,300 is: 200.0\n",
      "========================f string : means formatted method===========================\n",
      "The addition of 100 and 200 is 300\n"
     ]
    }
   ],
   "source": [
    "#f string: means formatted string method**\n",
    "num1=100\n",
    "num2=200\n",
    "num3=300\n",
    "add=num1+num2\n",
    "sub=num1-num2\n",
    "mult=num1*num2\n",
    "div=num1/num2\n",
    "avg=(num1+num2+num3)/3\n",
    "print(\"========================ADDITION===========================\")\n",
    "print(f\"The addition of  {num1} and {num2} is {add}\")\n",
    "print(\"========================SUBSTRACTION===========================\")\n",
    "print(f\"The substraction of {num1} and {num2} is {sub}\")\n",
    "print(\"========================MULTIPLICATION===========================\")\n",
    "print(f\"The multiplication of {num1} and {num2} is {mult}\")\n",
    "print(\"========================DIVISION===========================\")\n",
    "print(f\"The divison of {num1} and {num2} is {div}\")\n",
    "print(\"========================AVERAGE===========================\")\n",
    "print(f\"The average of {num1},{num2},{num3} is: {avg}\")\n",
    "print(\"========================f string : means formatted method===========================\")\n",
    "print(f\"The addition of {num1} and {num2} is {add}\") #f string: means formatted string method"
   ]
  },
  {
   "cell_type": "markdown",
   "id": "f0514afe-20ef-4513-8408-9f41d51ac3c3",
   "metadata": {},
   "source": [
    "**round**\n"
   ]
  },
  {
   "cell_type": "code",
   "execution_count": null,
   "id": "f6d1876f-e5e1-4a06-87bf-9baad8a4a5c9",
   "metadata": {},
   "outputs": [],
   "source": [
    "# print()\n",
    "#  type()\n",
    "# int()\n",
    "# float()\n",
    "# str()\n",
    "# bool()\n",
    "# round()\n",
    "# CTR+A and to comment entire code\n",
    "#CTR+/"
   ]
  },
  {
   "cell_type": "code",
   "execution_count": 44,
   "id": "3b3085c5-79c1-409f-979f-85cdad1b2984",
   "metadata": {},
   "outputs": [
    {
     "data": {
      "text/plain": [
       "11"
      ]
     },
     "execution_count": 44,
     "metadata": {},
     "output_type": "execute_result"
    }
   ],
   "source": [
    "round(10.77777)"
   ]
  },
  {
   "cell_type": "code",
   "execution_count": 45,
   "id": "75cc2a60-34e9-476f-9602-3486ba16e302",
   "metadata": {},
   "outputs": [
    {
     "data": {
      "text/plain": [
       "10.78"
      ]
     },
     "execution_count": 45,
     "metadata": {},
     "output_type": "execute_result"
    }
   ],
   "source": [
    "round(10.77777,2)"
   ]
  },
  {
   "cell_type": "code",
   "execution_count": 46,
   "id": "f4108031-68a2-45c8-ba9d-da428ef56166",
   "metadata": {},
   "outputs": [
    {
     "data": {
      "text/plain": [
       "10.778"
      ]
     },
     "execution_count": 46,
     "metadata": {},
     "output_type": "execute_result"
    }
   ],
   "source": [
    "round(10.77777,3)"
   ]
  },
  {
   "cell_type": "code",
   "execution_count": 47,
   "id": "6d6b3e37-cce2-476a-91ca-51a7395f59b8",
   "metadata": {},
   "outputs": [
    {
     "name": "stdout",
     "output_type": "stream",
     "text": [
      "11\n",
      "10.78\n",
      "10.778\n"
     ]
    }
   ],
   "source": [
    "print(round(10.77777))\n",
    "print(round(10.77777,2))\n",
    "print(round(10.77777,3))\n"
   ]
  },
  {
   "cell_type": "code",
   "execution_count": 53,
   "id": "5327eb9f-2edd-4bc9-bb30-c39a443aa0e2",
   "metadata": {},
   "outputs": [
    {
     "name": "stdout",
     "output_type": "stream",
     "text": [
      "20.33\n",
      "20.333\n"
     ]
    }
   ],
   "source": [
    "a=11\n",
    "b=20\n",
    "c=30\n",
    "avg=(a+b+c)/3\n",
    "avg2=round(avg,2)\n",
    "print(avg2)\n",
    "print(round(avg,3))"
   ]
  },
  {
   "cell_type": "markdown",
   "id": "7026603d-d496-4886-a2b4-b55221492744",
   "metadata": {},
   "source": [
    "**The Multiple print statements in single line format**"
   ]
  },
  {
   "cell_type": "markdown",
   "id": "7c8fc1e0-8296-4a11-8e5f-34e4c91d6e70",
   "metadata": {},
   "source": [
    "**end operator**"
   ]
  },
  {
   "cell_type": "code",
   "execution_count": 55,
   "id": "ceffaf44-3405-4912-bd44-77c70dced554",
   "metadata": {},
   "outputs": [
    {
     "name": "stdout",
     "output_type": "stream",
     "text": [
      "10 20\n"
     ]
    }
   ],
   "source": [
    "print(10,end=\" \")\n",
    "print(20)"
   ]
  },
  {
   "cell_type": "code",
   "execution_count": 56,
   "id": "92a61bbc-4b5a-4fbd-b2e3-661b02562501",
   "metadata": {},
   "outputs": [
    {
     "name": "stdout",
     "output_type": "stream",
     "text": [
      "10 20 30\n"
     ]
    }
   ],
   "source": [
    "print(10,end=\" \")\n",
    "print(20,end=\" \")\n",
    "print(30)"
   ]
  },
  {
   "cell_type": "code",
   "execution_count": 57,
   "id": "b6dd88d4-65fd-4e34-892f-c8f153b2be18",
   "metadata": {},
   "outputs": [
    {
     "name": "stdout",
     "output_type": "stream",
     "text": [
      "10 20==>30\n"
     ]
    }
   ],
   "source": [
    "print(10,end=\" \")\n",
    "print(20,end=\"==>\")\n",
    "print(30)"
   ]
  },
  {
   "cell_type": "code",
   "execution_count": 58,
   "id": "838f6bac-b190-478a-b051-f95b0300be8f",
   "metadata": {},
   "outputs": [
    {
     "name": "stdout",
     "output_type": "stream",
     "text": [
      "hello how are you\n"
     ]
    }
   ],
   "source": [
    "print('hello',end=' ')\n",
    "print('how',end=' ')\n",
    "print('are',end=' ')\n",
    "print('you')\n"
   ]
  },
  {
   "cell_type": "markdown",
   "id": "2b10b039-512c-462d-bc43-adba5c6860db",
   "metadata": {},
   "source": [
    "**I have multiple values in a single statmenet**\n",
    "**I want print them with some seperation**\n",
    "**sep operator**"
   ]
  },
  {
   "cell_type": "code",
   "execution_count": 59,
   "id": "5b094dce-ea4a-472a-8aa9-d08c3a224ce1",
   "metadata": {},
   "outputs": [
    {
     "name": "stdout",
     "output_type": "stream",
     "text": [
      "10====>20====>30\n"
     ]
    }
   ],
   "source": [
    "print(10,20,30,sep='====>')"
   ]
  },
  {
   "cell_type": "code",
   "execution_count": 60,
   "id": "31ced095-3947-4a57-8e3d-b4bc04e41b76",
   "metadata": {},
   "outputs": [
    {
     "name": "stdout",
     "output_type": "stream",
     "text": [
      "10 20 30\n"
     ]
    }
   ],
   "source": [
    "print(10,20,30,sep=' ')"
   ]
  },
  {
   "cell_type": "code",
   "execution_count": 64,
   "id": "8d36076d-4c49-4a60-b6c0-1f833c37d805",
   "metadata": {},
   "outputs": [
    {
     "name": "stdout",
     "output_type": "stream",
     "text": [
      "=================Calculation of radius of circle=====\n",
      "The area of circle with radius 5.0 is :78.5\n"
     ]
    }
   ],
   "source": [
    "# WAP take the radius of a circle and calculate area of the cirlce\n",
    "#var: radius var:pi=3.14\n",
    "#formulae: pi*radius*radius\n",
    "#print the answers using f string and format\n",
    "print(\"=================Calculation of radius of circle=====\")\n",
    "radius=5.0\n",
    "pi=3.14\n",
    "area=pi*radius*radius\n",
    "print(f\"The area of circle with radius {radius} is :{area}\")\n"
   ]
  },
  {
   "cell_type": "code",
   "execution_count": 66,
   "id": "4cf700cc-eb78-427a-b206-6bc53d6613c4",
   "metadata": {},
   "outputs": [
    {
     "name": "stdout",
     "output_type": "stream",
     "text": [
      "The area of right angled trinagle  with breadth 5.0 and height 4.0 is : 10.0\n"
     ]
    }
   ],
   "source": [
    "print(\"=================Area calculation of right angled triangle with breadth and height=====\")\n",
    "#WAP take breadth and height of a right angle triangle \n",
    "#Calculate the area\n",
    "#var : breadth # var : height\n",
    "#formulae: 0.5 * breadth * height\n",
    "breadth=5.0\n",
    "height=4.0\n",
    "area=0.5*breadth*height\n",
    "print(f\"The area of right angled triangle  with breadth {breadth} and height {height} is : {area}\") \n"
   ]
  },
  {
   "cell_type": "code",
   "execution_count": 71,
   "id": "fad0fdbd-81ef-4a55-b395-ec4047c82144",
   "metadata": {},
   "outputs": [
    {
     "name": "stdout",
     "output_type": "stream",
     "text": [
      "=============Calculation of Total Bill amount including the tip amount==============\n",
      "The total bill amount calculated with both Bill amount 2547 and the tip amount 200 is 2747\n"
     ]
    }
   ],
   "source": [
    "print(\"=============Calculation of Total Bill amount including the tip amount==============\")\n",
    "#WAP take the bill amount and tip amount\n",
    "# Calculate the total bill\n",
    "#var : Bill amount : var: tip amount\n",
    "#formuale : Bill amount + tip amount\n",
    "bilamt=2547\n",
    "tipamt=200\n",
    "totbillamt=bilamt+tipamt\n",
    "print(f\"The total bill amount calculated with both Bill amount {bilamt} and the tip amount {tipamt} is {totbillamt}\")"
   ]
  },
  {
   "cell_type": "code",
   "execution_count": 72,
   "id": "1b859735-212f-4412-b21f-3960bc3d719e",
   "metadata": {},
   "outputs": [
    {
     "name": "stdout",
     "output_type": "stream",
     "text": [
      "=============WAP to calculate area of rectangle with length and breadth==============\n",
      "Area of rectangle with length 7.0 and breadth 5.0 is : 35.0\n"
     ]
    }
   ],
   "source": [
    "print(\"=============WAP to calculate area of rectangle with length and breadth==============\")\n",
    "#WAP take the length and breadth of rectangle calculate the area\n",
    "#var :length: var: breadth\n",
    "#formuale : length*breadth\n",
    "length=7.0\n",
    "breadth=5.0\n",
    "arearect=length*breadth\n",
    "print(f\"Area of rectangle with length {length} and breadth {breadth} is : {arearect}\")\n"
   ]
  },
  {
   "cell_type": "code",
   "execution_count": 1,
   "id": "dab1dac2-c579-4668-9477-1ef396dd188d",
   "metadata": {},
   "outputs": [
    {
     "name": "stdout",
     "output_type": "stream",
     "text": [
      "10\n"
     ]
    }
   ],
   "source": [
    "int=10\n",
    "print(int)"
   ]
  },
  {
   "cell_type": "code",
   "execution_count": null,
   "id": "c610fdaf-f8de-4356-b8cd-06aea11a6f5b",
   "metadata": {},
   "outputs": [],
   "source": [
    "**input **\n",
    "- in the above we  provided the value\n",
    "- input is inbuilt function\n",
    "- using user input the use can provide value\n"
   ]
  },
  {
   "cell_type": "code",
   "execution_count": 2,
   "id": "6be9ebe9-4735-406e-a7a4-026b549705f3",
   "metadata": {},
   "outputs": [
    {
     "data": {
      "text/plain": [
       "<bound method Kernel.raw_input of <ipykernel.ipkernel.IPythonKernel object at 0x0000028E3A8411F0>>"
      ]
     },
     "execution_count": 2,
     "metadata": {},
     "output_type": "execute_result"
    }
   ],
   "source": [
    "input"
   ]
  },
  {
   "cell_type": "code",
   "execution_count": 5,
   "id": "e782801d-060d-4847-bb5f-d600772e78c1",
   "metadata": {},
   "outputs": [
    {
     "name": "stdin",
     "output_type": "stream",
     "text": [
      " python\n"
     ]
    },
    {
     "data": {
      "text/plain": [
       "'python'"
      ]
     },
     "execution_count": 5,
     "metadata": {},
     "output_type": "execute_result"
    }
   ],
   "source": [
    "input()"
   ]
  },
  {
   "cell_type": "code",
   "execution_count": 11,
   "id": "bf3079f4-6194-4719-a46c-123a0078826b",
   "metadata": {},
   "outputs": [
    {
     "name": "stdin",
     "output_type": "stream",
     "text": [
      " 10\n"
     ]
    }
   ],
   "source": [
    "b=input()"
   ]
  },
  {
   "cell_type": "code",
   "execution_count": 12,
   "id": "379d8f13-ab99-44c5-af20-ac5f3e119eef",
   "metadata": {},
   "outputs": [
    {
     "data": {
      "text/plain": [
       "str"
      ]
     },
     "execution_count": 12,
     "metadata": {},
     "output_type": "execute_result"
    }
   ],
   "source": [
    "type(b)"
   ]
  },
  {
   "cell_type": "code",
   "execution_count": 13,
   "id": "47b4fc76-b970-4995-bec4-6a85d277a94b",
   "metadata": {},
   "outputs": [
    {
     "data": {
      "text/plain": [
       "'10'"
      ]
     },
     "execution_count": 13,
     "metadata": {},
     "output_type": "execute_result"
    }
   ],
   "source": [
    "b"
   ]
  },
  {
   "cell_type": "code",
   "execution_count": 18,
   "id": "3402bff3-8cf9-4c9d-8d1e-b161260f17ff",
   "metadata": {},
   "outputs": [
    {
     "name": "stdin",
     "output_type": "stream",
     "text": [
      " 100\n",
      " 200\n",
      " 300\n"
     ]
    }
   ],
   "source": [
    "n1=input() #n1=100\n",
    "n2=input() #n2=200\n",
    "n3=input() #n3=300"
   ]
  },
  {
   "cell_type": "code",
   "execution_count": 16,
   "id": "d3f741a6-9252-4ce9-8f37-463be0a98875",
   "metadata": {},
   "outputs": [
    {
     "data": {
      "text/plain": [
       "('100', '200', '300')"
      ]
     },
     "execution_count": 16,
     "metadata": {},
     "output_type": "execute_result"
    }
   ],
   "source": [
    "n1,n2,n3"
   ]
  },
  {
   "cell_type": "code",
   "execution_count": 21,
   "id": "0fce5759-ee8b-4af5-8a70-da9c7f980d5f",
   "metadata": {},
   "outputs": [
    {
     "name": "stdin",
     "output_type": "stream",
     "text": [
      "enter the number1:  100\n",
      "enter the number2:  200\n"
     ]
    }
   ],
   "source": [
    "n1=input(\"enter the number1: \")\n",
    "n2=input(\"enter the number2: \")"
   ]
  },
  {
   "cell_type": "code",
   "execution_count": 23,
   "id": "9c7cb561-f8d4-4a38-8fa4-f67533e99c96",
   "metadata": {},
   "outputs": [
    {
     "name": "stdin",
     "output_type": "stream",
     "text": [
      "enter the number1:  500\n",
      "enter the number2:  600\n"
     ]
    },
    {
     "data": {
      "text/plain": [
       "'500600'"
      ]
     },
     "execution_count": 23,
     "metadata": {},
     "output_type": "execute_result"
    }
   ],
   "source": [
    "n1=input(\"enter the number1: \") #n1='100'\n",
    "n2=input(\"enter the number2: \") #n2='200'\n",
    "n1+n2 # '100'+'200'='100200'"
   ]
  },
  {
   "cell_type": "markdown",
   "id": "4c60fcb8-3ccc-4cbb-a55a-4a7723c5d445",
   "metadata": {},
   "source": [
    "**input values by default string values**"
   ]
  },
  {
   "cell_type": "code",
   "execution_count": 30,
   "id": "a616b5c6-9e97-4d63-91d9-49d1c089c668",
   "metadata": {},
   "outputs": [
    {
     "name": "stdin",
     "output_type": "stream",
     "text": [
      "enter a string1:  apple\n",
      "enter a string2:  fruit\n",
      "engter a string3:  is\n"
     ]
    },
    {
     "data": {
      "text/plain": [
       "' apple fruit is'"
      ]
     },
     "execution_count": 30,
     "metadata": {},
     "output_type": "execute_result"
    }
   ],
   "source": [
    "str1=input(\"enter a string1:\")\n",
    "str2=input(\"enter a string2:\")\n",
    "str3=input(\"engter a string3:\")\n",
    "str1+str2+str3"
   ]
  },
  {
   "cell_type": "code",
   "execution_count": 1,
   "id": "21523140-760d-4a29-bb38-d1b540049b56",
   "metadata": {},
   "outputs": [
    {
     "name": "stdin",
     "output_type": "stream",
     "text": [
      "enter the number1:  300\n",
      "enter the number2:  400\n"
     ]
    },
    {
     "data": {
      "text/plain": [
       "700"
      ]
     },
     "execution_count": 1,
     "metadata": {},
     "output_type": "execute_result"
    }
   ],
   "source": [
    "n1=int(input(\"enter the number1: \")) #n1='100'\n",
    "n2=int(input(\"enter the number2: \")) #n2='200'n1\n",
    "n1+n2"
   ]
  },
  {
   "cell_type": "code",
   "execution_count": 2,
   "id": "d0a00b55-9293-4779-b95b-22ee6fb33ee3",
   "metadata": {},
   "outputs": [
    {
     "name": "stdin",
     "output_type": "stream",
     "text": [
      "enter the number1:  700\n",
      "enter the number2:  800\n"
     ]
    },
    {
     "data": {
      "text/plain": [
       "1500"
      ]
     },
     "execution_count": 2,
     "metadata": {},
     "output_type": "execute_result"
    }
   ],
   "source": [
    "n1=input(\"enter the number1: \") #n1='100'\n",
    "n2=input(\"enter the number2: \") #n2='200'n1\n",
    "int(n1)+int(n2)"
   ]
  },
  {
   "cell_type": "code",
   "execution_count": 5,
   "id": "7539579d-3732-4102-92e4-d45e7c95306e",
   "metadata": {},
   "outputs": [
    {
     "name": "stdin",
     "output_type": "stream",
     "text": [
      "enter the number1:  10.5\n",
      "enter the number2:  20.5\n"
     ]
    },
    {
     "data": {
      "text/plain": [
       "31.0"
      ]
     },
     "execution_count": 5,
     "metadata": {},
     "output_type": "execute_result"
    }
   ],
   "source": [
    "n1=float(input(\"enter the number1: \")) #n1='100'\n",
    "n2=float(input(\"enter the number2: \")) #n2='200'n1\n",
    "n1+n2"
   ]
  },
  {
   "cell_type": "markdown",
   "id": "116dc300-1247-4772-b32d-52436c70abf6",
   "metadata": {},
   "source": [
    "**eval**\n",
    "- eval means evaluate\n",
    "- it is related maths family\n",
    "- which means it will work only number representation of strings\n",
    "- it will not works om english letters\n",
    "- eval will convert the respective data type which is user enter\n",
    "- if  user enter 10 in quotes it will convert into 10\n",
    "- if uset enter 10.5 in quotes int coverts into 10.5 "
   ]
  },
  {
   "cell_type": "code",
   "execution_count": 7,
   "id": "4ebc1e59-9d59-4ea0-9adc-5c747c1653d1",
   "metadata": {},
   "outputs": [
    {
     "name": "stdin",
     "output_type": "stream",
     "text": [
      "enter the input num1:  900\n",
      "enter the input num2:  500\n"
     ]
    },
    {
     "data": {
      "text/plain": [
       "1400"
      ]
     },
     "execution_count": 7,
     "metadata": {},
     "output_type": "execute_result"
    }
   ],
   "source": [
    "n1=eval(input(\"enter the input num1: \"))\n",
    "n2=eval(input(\"enter the input num2: \"))\n",
    "n1+n2"
   ]
  },
  {
   "cell_type": "code",
   "execution_count": 10,
   "id": "34f0257b-4fca-4119-bd52-02bc2f49ade8",
   "metadata": {},
   "outputs": [
    {
     "name": "stdin",
     "output_type": "stream",
     "text": [
      "enter the input num1:  900\n",
      "enter the input num2:  800\n"
     ]
    },
    {
     "data": {
      "text/plain": [
       "1700"
      ]
     },
     "execution_count": 10,
     "metadata": {},
     "output_type": "execute_result"
    }
   ],
   "source": [
    "n1=eval(input(\"enter the input num1: \"))\n",
    "n2=eval(input(\"enter the input num2: \"))\n",
    "n1+n2"
   ]
  },
  {
   "cell_type": "code",
   "execution_count": 11,
   "id": "3242427f-7a2b-4cf2-89b8-b482ff6526f2",
   "metadata": {},
   "outputs": [
    {
     "data": {
      "text/plain": [
       "(10, 10.5)"
      ]
     },
     "execution_count": 11,
     "metadata": {},
     "output_type": "execute_result"
    }
   ],
   "source": [
    "eval('10'),eval('10.5')"
   ]
  },
  {
   "cell_type": "code",
   "execution_count": 14,
   "id": "99e773b9-2feb-4793-8cd7-17a8a02e7b32",
   "metadata": {},
   "outputs": [
    {
     "name": "stdin",
     "output_type": "stream",
     "text": [
      "enter the input num1:  100\n",
      "enter the input num2:  200\n"
     ]
    },
    {
     "data": {
      "text/plain": [
       "300"
      ]
     },
     "execution_count": 14,
     "metadata": {},
     "output_type": "execute_result"
    }
   ],
   "source": [
    "n1=input(\"enter the input num1: \")\n",
    "n2=input(\"enter the input num2: \")\n",
    "eval(n1)+eval(n2)"
   ]
  },
  {
   "cell_type": "code",
   "execution_count": 16,
   "id": "b5dd96fe-453f-4860-8ddf-6c11a67b8ca9",
   "metadata": {},
   "outputs": [
    {
     "name": "stdout",
     "output_type": "stream",
     "text": [
      "====================Calculate avarge of three numbers from user input==================\n"
     ]
    },
    {
     "name": "stdin",
     "output_type": "stream",
     "text": [
      "Enter the number1 : 10\n",
      "Enter the number2 : 20\n",
      "Enter the number3 : 50\n"
     ]
    },
    {
     "name": "stdout",
     "output_type": "stream",
     "text": [
      "Average of three numbers is : 26.666666666666668\n"
     ]
    }
   ],
   "source": [
    "print(\"====================Calculate avarge of three numbers from user input==================\")\n",
    "# 1)wap ask the user enter 3 numbers n1,n2,n3 from ketboard\n",
    "# calculate average\n",
    "a=eval(input(\"Enter the number1 :\"))\n",
    "b=eval(input(\"Enter the number2 :\"))\n",
    "c=eval(input(\"Enter the number3 :\"))\n",
    "avg=(a+b+c)/3\n",
    "print(f\"Average of three numbers is : {avg}\")"
   ]
  },
  {
   "cell_type": "code",
   "execution_count": 19,
   "id": "a2a68770-ae94-46e2-ad32-b8c884248f41",
   "metadata": {},
   "outputs": [
    {
     "name": "stdin",
     "output_type": "stream",
     "text": [
      "Enter the user name :  python\n",
      "Enter the user age :  10\n",
      "Ente the user city :  hyd\n"
     ]
    },
    {
     "name": "stdout",
     "output_type": "stream",
     "text": [
      "my name python Im 10 years old and came from hyd\n"
     ]
    }
   ],
   "source": [
    "# 2)wap ask the user enter name age city\n",
    "# print my name is python im 10 years old and came from hyd\n",
    "str1=input(\"Enter the user name : \")\n",
    "str2=eval(\"Enter the user age : \")\n",
    "str3=input(\"Ente the user city : \")\n",
    "print('my name '+str1+' Im '+str2+' years old'+' and came from '+str3) "
   ]
  },
  {
   "cell_type": "code",
   "execution_count": 23,
   "id": "dcbda97e-820c-4663-b494-418a284314e1",
   "metadata": {},
   "outputs": [
    {
     "name": "stdin",
     "output_type": "stream",
     "text": [
      "Enter the radious of circle  20\n"
     ]
    },
    {
     "name": "stdout",
     "output_type": "stream",
     "text": [
      "The radius of circle is  1256.0\n"
     ]
    }
   ],
   "source": [
    "# 3)wap ask the user to enter radidus of a circle calculate area of the circle\n",
    "# var: radidus  var: pi=3.14\n",
    "# formuale: pi*radius*radius\n",
    "# print the answers using f string and format\n",
    "radius=eval(input(\"Enter the radious of circle \"))\n",
    "area=3.14*radius*radius\n",
    "print(f\"The radius of circle is  {area}\")\n",
    "        "
   ]
  },
  {
   "cell_type": "code",
   "execution_count": 25,
   "id": "913b806f-1cd9-4c55-a269-e139bb1882eb",
   "metadata": {},
   "outputs": [
    {
     "name": "stdin",
     "output_type": "stream",
     "text": [
      "Enter the breadth of  right angle triangle  6\n",
      "Enter the height of  right angle triangle  4\n"
     ]
    },
    {
     "name": "stdout",
     "output_type": "stream",
     "text": [
      "the area of  right angle triangle is :12.0\n"
     ]
    }
   ],
   "source": [
    "# 4)wap ask the user enter breadth and height of a right angle triangle\n",
    "# calculate the area\n",
    "# var1: bredath  var2: height\n",
    "# formuale : 0.5*breadth*heigh\n",
    "breadth=eval(input(\"Enter the breadth of  right angle triangle \"))\n",
    "height=eval(input(\"Enter the height of  right angle triangle \"))\n",
    "reactarea=0.5*breadth*height\n",
    "print(f\"the area of  right angle triangle is :{reactarea}\")\n"
   ]
  },
  {
   "cell_type": "code",
   "execution_count": null,
   "id": "7bd64a38-3862-483d-a99c-04d84ad31dc0",
   "metadata": {},
   "outputs": [],
   "source": []
  }
 ],
 "metadata": {
  "kernelspec": {
   "display_name": "Python 3 (ipykernel)",
   "language": "python",
   "name": "python3"
  },
  "language_info": {
   "codemirror_mode": {
    "name": "ipython",
    "version": 3
   },
   "file_extension": ".py",
   "mimetype": "text/x-python",
   "name": "python",
   "nbconvert_exporter": "python",
   "pygments_lexer": "ipython3",
   "version": "3.12.7"
  }
 },
 "nbformat": 4,
 "nbformat_minor": 5
}
