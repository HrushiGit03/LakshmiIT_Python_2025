{
 "cells": [
  {
   "cell_type": "markdown",
   "id": "576ff34b-fae7-4c04-9027-2f28edb3b125",
   "metadata": {},
   "source": [
    "**Lambda functions**\n",
    "- Lambda function will write in single line function\n",
    "- It is similar analogy to list comprehession \n",
    "- It reduces the time complexity will for **lambda** functions"
   ]
  },
  {
   "cell_type": "code",
   "execution_count": 1,
   "id": "50a47b4f-8a6f-44a2-aee7-70b08d5c2dab",
   "metadata": {},
   "outputs": [
    {
     "data": {
      "text/plain": [
       "100"
      ]
     },
     "execution_count": 1,
     "metadata": {},
     "output_type": "execute_result"
    }
   ],
   "source": [
    "#Pattern1 **function with one argument\n",
    "def mul(a):\n",
    "    return a*a\n",
    "ans=mul(10)\n",
    "ans\n"
   ]
  },
  {
   "cell_type": "code",
   "execution_count": 5,
   "id": "afcc2af9-078a-4d61-a4f8-c6157a450fd8",
   "metadata": {},
   "outputs": [
    {
     "ename": "TypeError",
     "evalue": "'list' object is not callable",
     "output_type": "error",
     "traceback": [
      "\u001b[1;31m---------------------------------------------------------------------------\u001b[0m",
      "\u001b[1;31mTypeError\u001b[0m                                 Traceback (most recent call last)",
      "Cell \u001b[1;32mIn[5], line 3\u001b[0m\n\u001b[0;32m      1\u001b[0m \u001b[38;5;66;03m#function_name= lambda <argument> : <return output>\u001b[39;00m\n\u001b[0;32m      2\u001b[0m mul\u001b[38;5;241m=\u001b[39m[\u001b[38;5;28;01mlambda\u001b[39;00m a : a\u001b[38;5;241m*\u001b[39ma]\n\u001b[1;32m----> 3\u001b[0m mul(\u001b[38;5;241m20\u001b[39m)\n",
      "\u001b[1;31mTypeError\u001b[0m: 'list' object is not callable"
     ]
    }
   ],
   "source": [
    "#function_name= lambda <argument> : <return output>\n",
    "mul=lambda a : a*a\n",
    "mul(20)"
   ]
  },
  {
   "cell_type": "code",
   "execution_count": 6,
   "id": "638b2f03-9216-4413-aa19-d99006dcd098",
   "metadata": {},
   "outputs": [
    {
     "data": {
      "text/plain": [
       "1000"
      ]
     },
     "execution_count": 6,
     "metadata": {},
     "output_type": "execute_result"
    }
   ],
   "source": [
    "def cube(a):\n",
    "    return a*a*a\n",
    "cube(10)\n",
    "    "
   ]
  },
  {
   "cell_type": "code",
   "execution_count": 9,
   "id": "52e21b41-d1e1-4a8c-a231-034a16a899ef",
   "metadata": {},
   "outputs": [
    {
     "data": {
      "text/plain": [
       "8000"
      ]
     },
     "execution_count": 9,
     "metadata": {},
     "output_type": "execute_result"
    }
   ],
   "source": [
    "cube=lambda a : (a*a*a)\n",
    "cube(20)\n"
   ]
  },
  {
   "cell_type": "code",
   "execution_count": 10,
   "id": "29483515-7868-4ab6-8dd8-4117b175b172",
   "metadata": {},
   "outputs": [
    {
     "data": {
      "text/plain": [
       "200"
      ]
     },
     "execution_count": 10,
     "metadata": {},
     "output_type": "execute_result"
    }
   ],
   "source": [
    "#Pattern2 : two arguments\n",
    "rect_area= lambda x,y : (x*y)\n",
    "rect_area(10,20)\n",
    "\n",
    "\n"
   ]
  },
  {
   "cell_type": "code",
   "execution_count": 11,
   "id": "c317fd2f-13e7-406f-aa06-8d953986663f",
   "metadata": {},
   "outputs": [
    {
     "data": {
      "text/plain": [
       "30"
      ]
     },
     "execution_count": 11,
     "metadata": {},
     "output_type": "execute_result"
    }
   ],
   "source": [
    "def add(a,b):\n",
    "    return (a+b)\n",
    "add(10,20)"
   ]
  },
  {
   "cell_type": "code",
   "execution_count": 13,
   "id": "ff1bef98-d356-41c3-8846-e43752435087",
   "metadata": {},
   "outputs": [
    {
     "data": {
      "text/plain": [
       "300"
      ]
     },
     "execution_count": 13,
     "metadata": {},
     "output_type": "execute_result"
    }
   ],
   "source": [
    "add=lambda x,y : (x+y)\n",
    "add(100,200)"
   ]
  },
  {
   "cell_type": "code",
   "execution_count": 8,
   "id": "4b41c226-8354-44e4-a89a-dfaf8759289f",
   "metadata": {},
   "outputs": [
    {
     "name": "stdout",
     "output_type": "stream",
     "text": [
      "200\n"
     ]
    },
    {
     "data": {
      "text/plain": [
       "37"
      ]
     },
     "execution_count": 8,
     "metadata": {},
     "output_type": "execute_result"
    }
   ],
   "source": [
    "#Pattern 3 with threee arguments\n",
    "def avg_num(x,y,z):\n",
    "    avg1=round((x+y+z)/3)\n",
    "    return avg1\n",
    "print(avg_num(100,200,300))\n",
    "\n",
    "avg= lambda x,y,z : round((x+y+z)/3)\n",
    "avg(20,30,60)\n"
   ]
  },
  {
   "cell_type": "code",
   "execution_count": 3,
   "id": "c63aac0e-ee20-47a4-9cbe-ff0194929e08",
   "metadata": {},
   "outputs": [
    {
     "data": {
      "text/plain": [
       "47"
      ]
     },
     "execution_count": 3,
     "metadata": {},
     "output_type": "execute_result"
    }
   ],
   "source": [
    "#Pattern 4 default arguments \n",
    "avg1= lambda x,y,z=90 : round((x+y+z)/3)\n",
    "avg1(20,30)"
   ]
  },
  {
   "cell_type": "code",
   "execution_count": 4,
   "id": "7d5ff2b6-705d-4fb2-adb8-28f7cf576ca8",
   "metadata": {},
   "outputs": [
    {
     "data": {
      "text/plain": [
       "900"
      ]
     },
     "execution_count": 4,
     "metadata": {},
     "output_type": "execute_result"
    }
   ],
   "source": [
    "rect_area= lambda x=10,y=90 : (x*y)\n",
    "rect_area()\n"
   ]
  },
  {
   "cell_type": "code",
   "execution_count": 5,
   "id": "9acbc88c-05b8-45e9-be68-3269168701ee",
   "metadata": {},
   "outputs": [
    {
     "data": {
      "text/plain": [
       "512"
      ]
     },
     "execution_count": 5,
     "metadata": {},
     "output_type": "execute_result"
    }
   ],
   "source": [
    "cube=lambda a=8 : (a*a*a)\n",
    "cube()"
   ]
  },
  {
   "cell_type": "code",
   "execution_count": 13,
   "id": "c5123ae4-83ac-4f60-9323-a6be73c2360d",
   "metadata": {},
   "outputs": [
    {
     "data": {
      "text/plain": [
       "['Hyd', 'Bangl', 'Pune', 'Chennai']"
      ]
     },
     "execution_count": 13,
     "metadata": {},
     "output_type": "execute_result"
    }
   ],
   "source": [
    "#Pattern5 : List cases\n",
    "output=[]\n",
    "input=['hyd','bangl','pune','chennai']\n",
    "for item in input:\n",
    "    output.append(item.capitalize())\n",
    "output"
   ]
  },
  {
   "cell_type": "code",
   "execution_count": 16,
   "id": "bab7df19-9f79-4d76-be7e-e10338def05c",
   "metadata": {},
   "outputs": [
    {
     "data": {
      "text/plain": [
       "['Hyd', 'Bangl', 'Pune', 'Chennai']"
      ]
     },
     "execution_count": 16,
     "metadata": {},
     "output_type": "execute_result"
    }
   ],
   "source": [
    "output=[i.capitalize() for i in input]\n",
    "output"
   ]
  },
  {
   "cell_type": "code",
   "execution_count": 22,
   "id": "6c0b471b-9a16-4319-9047-a62252790202",
   "metadata": {},
   "outputs": [
    {
     "data": {
      "text/plain": [
       "[0, 1, 2, 3]"
      ]
     },
     "execution_count": 22,
     "metadata": {},
     "output_type": "execute_result"
    }
   ],
   "source": [
    "#Step1 : lambda<variable> : <output>\n",
    "# lambda i : i.capitalize()\n",
    "#Step2:  lambda<variable>: <output>,<iterator>\n",
    "#lambda i : i.capitalize(),input\n",
    "#step3 : map(lambda<vraiable>: <output>,<iterator>)\n",
    "#map(lambda i : i.capitalize(),input)\n",
    "#step4 : list(map(lambda<vraiable>: <output>,<iterator>)\n",
    "#step5 : list(filter(lambda<varaiable>: <cond>,<iterator>)\n",
    "list(map(lambda i : i.capitalize(),input))\n",
    "list(map(lambda i : i.upper(),input))\n",
    "list(map(lambda i : input.index(i),input))\n"
   ]
  },
  {
   "cell_type": "code",
   "execution_count": 28,
   "id": "8aa82759-39c8-4c0f-b0b0-fcb4c941f7be",
   "metadata": {},
   "outputs": [
    {
     "data": {
      "text/plain": [
       "['Hello', 'How', 'Are', 'You']"
      ]
     },
     "execution_count": 28,
     "metadata": {},
     "output_type": "execute_result"
    }
   ],
   "source": [
    "input='hello how are you'\n",
    "list(map(lambda i : i.capitalize(),input.split(\" \")))   "
   ]
  },
  {
   "cell_type": "code",
   "execution_count": 36,
   "id": "a5db7216-649c-4fe3-9d1a-6c10cad90087",
   "metadata": {},
   "outputs": [
    {
     "data": {
      "text/plain": [
       "['beng#uluru', 'pu#ne']"
      ]
     },
     "execution_count": 36,
     "metadata": {},
     "output_type": "execute_result"
    }
   ],
   "source": [
    "input=['hyd','beng#uluru','mumbai','pu#ne']\n",
    "# for i in input:\n",
    "#     if '#' in i:\n",
    "#         print(i)\n",
    "list(filter(lambda i : '#' in i,input))\n",
    "#This code uses filter() with a lambda function that checks if # is present in each element of the list and returns only those elements.\n"
   ]
  },
  {
   "cell_type": "code",
   "execution_count": 37,
   "id": "20a9799b-d7ab-4db2-a3b8-156a9003ab0f",
   "metadata": {},
   "outputs": [
    {
     "data": {
      "text/plain": [
       "['hyd', 'mumbai']"
      ]
     },
     "execution_count": 37,
     "metadata": {},
     "output_type": "execute_result"
    }
   ],
   "source": [
    "#step5 : list(filter(lambda<varaiable>: <cond>,<iterator>)\n",
    "input=['hyd','beng#uluru','mumbai','pu#ne']\n",
    "# for i in input:\n",
    "#     if '#' in i:\n",
    "#         print(i)\n",
    "list(filter(lambda i : '#' not in i,input))"
   ]
  },
  {
   "cell_type": "code",
   "execution_count": 38,
   "id": "aad30f47-f541-4dcc-8bc1-c9a76b4f6bac",
   "metadata": {},
   "outputs": [
    {
     "data": {
      "text/plain": [
       "[False, True, False, True]"
      ]
     },
     "execution_count": 38,
     "metadata": {},
     "output_type": "execute_result"
    }
   ],
   "source": [
    "#step5 : list(filter(lambda<varaiable>: <cond>,<iterator>)\n",
    "#lambda arg : condition,iterator\n",
    "list(map(lambda i : '#' in i,input))"
   ]
  },
  {
   "cell_type": "markdown",
   "id": "20c4a506-dc34-4261-9bd1-b17713c37f14",
   "metadata": {},
   "source": [
    "**filter**'\n",
    "- filter applied on lambda functions to retreive the True output\n",
    "- map will just map the function with interator \n",
    "- when ever we apply condition map will give True False\n",
    "- filter will use instead of map"
   ]
  },
  {
   "cell_type": "markdown",
   "id": "ef02021f-8c08-4cdb-a8a1-43a9bb2687f3",
   "metadata": {},
   "source": [
    "**reduce**\n",
    "- reduce will helpful to perform math operations using **lambda** functions\n",
    "- it is a method under pacakage called **functools**\n"
   ]
  },
  {
   "cell_type": "code",
   "execution_count": 15,
   "id": "9871b255-1fc6-41da-b8f4-a3a1fd1f4e65",
   "metadata": {},
   "outputs": [
    {
     "data": {
      "text/plain": [
       "[10, 30, 100, 115]"
      ]
     },
     "execution_count": 15,
     "metadata": {},
     "output_type": "execute_result"
    }
   ],
   "source": [
    "list1=[10,20,70,15]\n",
    "#summ=0\n",
    "#n=[summ:=summ+i for i in list1]\n",
    "n"
   ]
  },
  {
   "cell_type": "code",
   "execution_count": 4,
   "id": "8306a40d-eabd-41ee-8af8-8b305a58a29c",
   "metadata": {},
   "outputs": [
    {
     "data": {
      "text/plain": [
       "['GenericAlias',\n",
       " 'RLock',\n",
       " 'WRAPPER_ASSIGNMENTS',\n",
       " 'WRAPPER_UPDATES',\n",
       " '_CacheInfo',\n",
       " '_HashedSeq',\n",
       " '_NOT_FOUND',\n",
       " '__all__',\n",
       " '__builtins__',\n",
       " '__cached__',\n",
       " '__doc__',\n",
       " '__file__',\n",
       " '__loader__',\n",
       " '__name__',\n",
       " '__package__',\n",
       " '__spec__',\n",
       " '_c3_merge',\n",
       " '_c3_mro',\n",
       " '_compose_mro',\n",
       " '_convert',\n",
       " '_find_impl',\n",
       " '_ge_from_gt',\n",
       " '_ge_from_le',\n",
       " '_ge_from_lt',\n",
       " '_gt_from_ge',\n",
       " '_gt_from_le',\n",
       " '_gt_from_lt',\n",
       " '_initial_missing',\n",
       " '_le_from_ge',\n",
       " '_le_from_gt',\n",
       " '_le_from_lt',\n",
       " '_lru_cache_wrapper',\n",
       " '_lt_from_ge',\n",
       " '_lt_from_gt',\n",
       " '_lt_from_le',\n",
       " '_make_key',\n",
       " '_unwrap_partial',\n",
       " 'cache',\n",
       " 'cached_property',\n",
       " 'cmp_to_key',\n",
       " 'get_cache_token',\n",
       " 'lru_cache',\n",
       " 'namedtuple',\n",
       " 'partial',\n",
       " 'partialmethod',\n",
       " 'recursive_repr',\n",
       " 'reduce',\n",
       " 'singledispatch',\n",
       " 'singledispatchmethod',\n",
       " 'total_ordering',\n",
       " 'update_wrapper',\n",
       " 'wraps']"
      ]
     },
     "execution_count": 4,
     "metadata": {},
     "output_type": "execute_result"
    }
   ],
   "source": [
    "import functools\n",
    "dir(functools)"
   ]
  },
  {
   "cell_type": "code",
   "execution_count": 12,
   "id": "34a5d0e6-48f3-4951-9bfa-aee3127e9310",
   "metadata": {},
   "outputs": [
    {
     "data": {
      "text/plain": [
       "0"
      ]
     },
     "execution_count": 12,
     "metadata": {},
     "output_type": "execute_result"
    }
   ],
   "source": [
    "list1=[10,20,70,15]\n",
    "from functools import reduce\n",
    "#1 lambda summ,i:summ+i\n",
    "#2 lambda summ,i:summ+i,list1\n",
    "#3 lambda summ,i:summ+i,list1,100 #Reduces the number\n",
    "reduce(lambda summ,i:summ+i,list1,-115)"
   ]
  },
  {
   "cell_type": "code",
   "execution_count": null,
   "id": "30278541-523d-4219-840c-df272baf4d22",
   "metadata": {},
   "outputs": [],
   "source": []
  }
 ],
 "metadata": {
  "kernelspec": {
   "display_name": "Python 3 (ipykernel)",
   "language": "python",
   "name": "python3"
  },
  "language_info": {
   "codemirror_mode": {
    "name": "ipython",
    "version": 3
   },
   "file_extension": ".py",
   "mimetype": "text/x-python",
   "name": "python",
   "nbconvert_exporter": "python",
   "pygments_lexer": "ipython3",
   "version": "3.12.7"
  }
 },
 "nbformat": 4,
 "nbformat_minor": 5
}
