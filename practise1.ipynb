{
 "cells": [
  {
   "cell_type": "code",
   "execution_count": 4,
   "id": "aa536ac6-e68f-421b-bc5a-8d197fd0b15e",
   "metadata": {},
   "outputs": [
    {
     "name": "stdout",
     "output_type": "stream",
     "text": [
      "with out repeated vowel string  accomidtn\n",
      "repeated vowel string  {'i', 'a', 'o'}\n"
     ]
    }
   ],
   "source": [
    "str7='accomidation'\n",
    "vowels='aeiou'\n",
    "vowels_added=set()\n",
    "result=''\n",
    "for char in str7:\n",
    "    if char in vowels:\n",
    "        if char not in vowels_added:\n",
    "            vowels_added.add(char)\n",
    "            result+=char\n",
    "    else:\n",
    "        result+=char\n",
    "\n",
    "print(\"with out repeated vowel string \",result)\n",
    "print(\"repeated vowel string \",vowels_added)\n",
    "            \n",
    "            "
   ]
  },
  {
   "cell_type": "code",
   "execution_count": null,
   "id": "e9a98676-ca7e-4c46-ad7d-25453d09f88b",
   "metadata": {},
   "outputs": [],
   "source": []
  }
 ],
 "metadata": {
  "kernelspec": {
   "display_name": "Python 3 (ipykernel)",
   "language": "python",
   "name": "python3"
  },
  "language_info": {
   "codemirror_mode": {
    "name": "ipython",
    "version": 3
   },
   "file_extension": ".py",
   "mimetype": "text/x-python",
   "name": "python",
   "nbconvert_exporter": "python",
   "pygments_lexer": "ipython3",
   "version": "3.12.7"
  }
 },
 "nbformat": 4,
 "nbformat_minor": 5
}
