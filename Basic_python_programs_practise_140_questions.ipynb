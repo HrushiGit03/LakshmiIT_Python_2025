{
 "cells": [
  {
   "cell_type": "code",
   "execution_count": 85,
   "id": "987ff339-cba5-45b6-aadb-81480b119b05",
   "metadata": {},
   "outputs": [
    {
     "name": "stdin",
     "output_type": "stream",
     "text": [
      "Display multiplication table of : 50\n"
     ]
    },
    {
     "name": "stdout",
     "output_type": "stream",
     "text": [
      "50 X 1 = 50\n",
      "50 X 2 = 100\n",
      "50 X 3 = 150\n",
      "50 X 4 = 200\n",
      "50 X 5 = 250\n",
      "50 X 6 = 300\n",
      "50 X 7 = 350\n",
      "50 X 8 = 400\n",
      "50 X 9 = 450\n",
      "50 X 10 = 500\n"
     ]
    }
   ],
   "source": [
    "num=eval(input('Display multiplication table of :'))\n",
    "for i in range(1,11):\n",
    "        print(f\"{num} X {i} = {num*i}\")"
   ]
  },
  {
   "cell_type": "code",
   "execution_count": 15,
   "id": "3f66ffe8-0f30-425b-a1b3-7e72c309c3f5",
   "metadata": {},
   "outputs": [
    {
     "ename": "SyntaxError",
     "evalue": "invalid syntax (2537322107.py, line 3)",
     "output_type": "error",
     "traceback": [
      "\u001b[1;36m  Cell \u001b[1;32mIn[15], line 3\u001b[1;36m\u001b[0m\n\u001b[1;33m    print(f \" {num} X {i} = {num*i}\")\u001b[0m\n\u001b[1;37m            ^\u001b[0m\n\u001b[1;31mSyntaxError\u001b[0m\u001b[1;31m:\u001b[0m invalid syntax\n"
     ]
    }
   ],
   "source": [
    "num=eval(input('Enter the multiplication table number for display'))\n",
    "for i in range(1,11):\n",
    "        print(f \" {num} X {i} = {num*i}\")"
   ]
  },
  {
   "cell_type": "code",
   "execution_count": 30,
   "id": "7333baba-3166-4be6-80d1-39ebbeaa0544",
   "metadata": {},
   "outputs": [
    {
     "name": "stdout",
     "output_type": "stream",
     "text": [
      "Hello Python\n"
     ]
    }
   ],
   "source": [
    "#Write a Python program to print \"Hello Python\"\n",
    "print(\"Hello Python\")"
   ]
  },
  {
   "cell_type": "code",
   "execution_count": 34,
   "id": "832e0e04-b6ba-40a3-95b2-95bf58dd352f",
   "metadata": {},
   "outputs": [
    {
     "name": "stdin",
     "output_type": "stream",
     "text": [
      "Enter the number one for addition 40\n",
      "Enter the number two for addition 10\n"
     ]
    },
    {
     "name": "stdout",
     "output_type": "stream",
     "text": [
      "Sum: 40.0+10.0 = 50.0\n"
     ]
    }
   ],
   "source": [
    " # Q2) Write a Python program to do arithmetical operations addition and division.\n",
    "num1=float(input('Enter the number one for addition'))\n",
    "num2=float(input('Enter the number two for addition'))\n",
    "sum_result=num1+num2\n",
    "print(f\"Sum: {num1}+{num2} = {sum_result}\")\n"
   ]
  },
  {
   "cell_type": "code",
   "execution_count": 37,
   "id": "81a1d811-cccb-4521-8668-85bb7819a78a",
   "metadata": {},
   "outputs": [
    {
     "name": "stdin",
     "output_type": "stream",
     "text": [
      "Enter the dividend for divison: 25\n",
      "Enter the divisor for divison: 5\n"
     ]
    },
    {
     "name": "stdout",
     "output_type": "stream",
     "text": [
      "The Divison 25.0 / 5.0  : 5.0\n"
     ]
    }
   ],
   "source": [
    "# Divison \n",
    "dividend=float(input('Enter the dividend for divison:'))\n",
    "divisor=float(input('Enter the divisor for divison:'))\n",
    "if(divisor==0):\n",
    "    print('Error : The divsion of zero is not allowed')\n",
    "div_result=dividend/divisor\n",
    "print(f\"The Divison {dividend} / {divisor}  : {div_result}\")"
   ]
  },
  {
   "cell_type": "code",
   "execution_count": 38,
   "id": "c9fbb49b-1521-481e-b520-22a79ffd85f4",
   "metadata": {},
   "outputs": [
    {
     "name": "stdin",
     "output_type": "stream",
     "text": [
      "Enter the base of traingle : 10\n",
      "Enter the height of traingle : 20\n"
     ]
    },
    {
     "name": "stdout",
     "output_type": "stream",
     "text": [
      "The area of triangle with base 10.0 and height 20.0 is : 100.0\n"
     ]
    }
   ],
   "source": [
    "# Q4) Write a Python program to find the area of a triangle\n",
    "base=float(input('Enter the base of traingle :'))\n",
    "height=float(input('Enter the height of traingle :'))\n",
    "area_of_triangle=0.5*base*height\n",
    "print(f\"The area of triangle with base {base} and height {height} is : {area_of_triangle}\")\n"
   ]
  },
  {
   "cell_type": "code",
   "execution_count": 39,
   "id": "053e69fa-dd85-46f6-8d8a-dd7de48fd787",
   "metadata": {},
   "outputs": [
    {
     "name": "stdin",
     "output_type": "stream",
     "text": [
      "Enter the value of first varaible {a} : 10\n",
      "Enter the value of first varaible {b} : 100\n"
     ]
    },
    {
     "name": "stdout",
     "output_type": "stream",
     "text": [
      "Original values before swap a = 10, b = 100\n",
      "Swapped values a = 100, b = 10\n"
     ]
    }
   ],
   "source": [
    "#Q5) Write a Python program to swap two variables.\n",
    "a=input('Enter the value of first varaible {a} :')\n",
    "b=input('Enter the value of first varaible {b} :')\n",
    "print(f\"Original values before swap a = {a}, b = {b}\")\n",
    "tmp=a\n",
    "a=b\n",
    "b=tmp\n",
    "print(f\"Swapped values a = {a}, b = {b}\")"
   ]
  },
  {
   "cell_type": "code",
   "execution_count": 55,
   "id": "904da6df-3fd5-4589-8c9c-0c88a4afe7ba",
   "metadata": {},
   "outputs": [
    {
     "name": "stdout",
     "output_type": "stream",
     "text": [
      "Random number : 64\n"
     ]
    }
   ],
   "source": [
    "#Q6) Write a Python program to generate a random number.\n",
    "import random\n",
    "print(f\"Random number : {random.randint(1,100)}\")"
   ]
  },
  {
   "cell_type": "code",
   "execution_count": 53,
   "id": "70f5705a-d96e-40ee-9cda-66c57b204956",
   "metadata": {},
   "outputs": [
    {
     "name": "stdout",
     "output_type": "stream",
     "text": [
      "Swap the values with out temp varables 50 , 20\n",
      "a = 50\n",
      "b = 20\n"
     ]
    }
   ],
   "source": [
    "#Q7) Write a Python program to swap two variables without temp variable.\n",
    "a=20\n",
    "b=50\n",
    "a,b=b,a\n",
    "print(f\"Swap the values with out temp varables {a} , {b}\")\n",
    "print(\"a =\" ,a)\n",
    "print(\"b =\", b)"
   ]
  },
  {
   "cell_type": "code",
   "execution_count": null,
   "id": "a913b907-7d36-4104-bb7d-5046beb54c27",
   "metadata": {},
   "outputs": [],
   "source": [
    "#Q8) Write a Python program to swap two variables without temp variable.\n",
    "a=20\n",
    "b=50\n",
    "a,b=b,a\n",
    "print(f\"Swap the values with out temp varables {a} , {b}\")\n",
    "print(\"a =\" ,a)\n",
    "print(\"b =\", b)"
   ]
  },
  {
   "cell_type": "code",
   "execution_count": 63,
   "id": "bfac1624-5590-40d5-b30b-68c0b80b3cea",
   "metadata": {},
   "outputs": [
    {
     "name": "stdin",
     "output_type": "stream",
     "text": [
      "Enter the temperature in celsius :  35\n"
     ]
    },
    {
     "name": "stdout",
     "output_type": "stream",
     "text": [
      "35.0 degress Celsius is equals to 95.0 Fahrenheit degress \n"
     ]
    }
   ],
   "source": [
    "#Q9) Write a Python program to convert Celsius to Fahrenheit.\n",
    "celsius=float(input('Enter the temperature in celsius : '))\n",
    "#Formula to Fahrenheit :celsius=(celsius*9/5)+32\n",
    "fahrenheit=(celsius*9/5)+32\n",
    "print(f\"{celsius} degress Celsius is equals to {fahrenheit} Fahrenheit degress \")"
   ]
  },
  {
   "cell_type": "code",
   "execution_count": 87,
   "id": "1799b039-b200-4f63-a26d-b394ef8c9b58",
   "metadata": {
    "scrolled": true
   },
   "outputs": [
    {
     "name": "stdin",
     "output_type": "stream",
     "text": [
      "Enter the valid year : 2015\n",
      "Enter the valid month : 05\n"
     ]
    },
    {
     "name": "stdout",
     "output_type": "stream",
     "text": [
      "      May 2015\n",
      "Mo Tu We Th Fr Sa Su\n",
      "             1  2  3\n",
      " 4  5  6  7  8  9 10\n",
      "11 12 13 14 15 16 17\n",
      "18 19 20 21 22 23 24\n",
      "25 26 27 28 29 30 31\n",
      "\n"
     ]
    }
   ],
   "source": [
    "#Q 10) Write a Python program to display calendar.\n",
    "import calendar\n",
    "year=int(input('Enter the valid year :'))\n",
    "month=int(input('Enter the valid month :'))\n",
    "cal=calendar.month(year,month)\n",
    "print(cal)"
   ]
  },
  {
   "cell_type": "code",
   "execution_count": 74,
   "id": "b8f4186a-be96-4b9d-a3b8-7ee0c1a1f7bb",
   "metadata": {},
   "outputs": [
    {
     "name": "stdin",
     "output_type": "stream",
     "text": [
      "Enter the distance in kilometers : 90\n"
     ]
    },
    {
     "name": "stdout",
     "output_type": "stream",
     "text": [
      "90.0 equals to : 55.9233 \n"
     ]
    }
   ],
   "source": [
    " #Q) 11) Write a Python program to convert kilometers to miles.\n",
    " # Conversion factor: 1 kilometer = 0.621371 miles\n",
    " #conversion_factor = 0.62137\n",
    "kilometers=float(input('Enter the distance in kilometers :'))\n",
    "conversion_factor= 0.62137\n",
    "miles=kilometers*conversion_factor\n",
    "print(f\"{kilometers} equals to : {miles} \")"
   ]
  },
  {
   "cell_type": "code",
   "execution_count": 78,
   "id": "0d8f009e-c3df-48a8-ab5a-5cdfb0c7c2e2",
   "metadata": {},
   "outputs": [
    {
     "name": "stdin",
     "output_type": "stream",
     "text": [
      "Enter the number : 20\n"
     ]
    },
    {
     "name": "stdout",
     "output_type": "stream",
     "text": [
      "Postive number\n"
     ]
    }
   ],
   "source": [
    "#Q) 12) Write a Python Program to Check if a Number is Positive, Negative or Zero.\n",
    "num=eval(input('Enter the number :'))\n",
    "if(num>0):\n",
    "    print(\"Postive number\")\n",
    "elif num==0:\n",
    "    print(\"Zero\")\n",
    "else:\n",
    "    print(\"Negative number\")\n"
   ]
  },
  {
   "cell_type": "code",
   "execution_count": 81,
   "id": "07df048f-6da6-4fc0-bf90-03aba58373f1",
   "metadata": {},
   "outputs": [
    {
     "name": "stdin",
     "output_type": "stream",
     "text": [
      "Enter the number : 25\n"
     ]
    },
    {
     "name": "stdout",
     "output_type": "stream",
     "text": [
      "25 is an odd number \n"
     ]
    }
   ],
   "source": [
    "#Q13) QWrite a Python Program to Check if a Number is Odd or Even\n",
    "num=eval(input('Enter the number :'))\n",
    "if(num % 2==0):\n",
    "    print(f\"{num} is an even number \")\n",
    "else:\n",
    "    print(f\"{num} is an odd number \")\n"
   ]
  },
  {
   "cell_type": "code",
   "execution_count": null,
   "id": "f5aecb6b-87b5-4834-b4a4-d522f6b57a73",
   "metadata": {},
   "outputs": [],
   "source": [
    " #Q14) Write a Python Program to Check Leap Year\n"
   ]
  }
 ],
 "metadata": {
  "kernelspec": {
   "display_name": "Python 3 (ipykernel)",
   "language": "python",
   "name": "python3"
  },
  "language_info": {
   "codemirror_mode": {
    "name": "ipython",
    "version": 3
   },
   "file_extension": ".py",
   "mimetype": "text/x-python",
   "name": "python",
   "nbconvert_exporter": "python",
   "pygments_lexer": "ipython3",
   "version": "3.12.7"
  }
 },
 "nbformat": 4,
 "nbformat_minor": 5
}
