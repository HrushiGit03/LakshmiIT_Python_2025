{
 "cells": [
  {
   "cell_type": "code",
   "execution_count": 2,
   "id": "dc7eeb73-cc91-42df-8262-e2e3fd32f0de",
   "metadata": {},
   "outputs": [
    {
     "name": "stdin",
     "output_type": "stream",
     "text": [
      "Enter the number one hrushi\n"
     ]
    },
    {
     "name": "stdout",
     "output_type": "stream",
     "text": [
      "Exp came : name 'hrushi' is not defined\n"
     ]
    }
   ],
   "source": [
    "#Assignment-4: if -else practice\n",
    "#Complete all if-else questions using try-except method\n",
    "# wap ask the user take two numbers\n",
    "# num1 and num2\n",
    "# if both numbers are matched then print we are won\n",
    "# otherwise print we lost\n",
    "\n",
    "# step-1: n1=eval(input('en'))\n",
    "# step-2: n2=eval(input('en'))\n",
    "# step-3: if <condition>:\n",
    "# step-4:      print('we won')\n",
    "# step-5: else:\n",
    "# step-6:     print('we lost')\n",
    "try:\n",
    "    n1=eval(input('Enter the number one'))\n",
    "    n2=eval(input('Enter the nuber two'))\n",
    "    if(n1==n2):\n",
    "        print('We Won')\n",
    "    else:\n",
    "        print('We lost')\n",
    "except Exception as e:\n",
    "    print('Exp came :',e)"
   ]
  },
  {
   "cell_type": "code",
   "execution_count": 8,
   "id": "55afb1cf-2c95-46a8-a78c-7c6888e026bc",
   "metadata": {},
   "outputs": [
    {
     "name": "stdin",
     "output_type": "stream",
     "text": [
      "Enter the number 2 6\n"
     ]
    },
    {
     "name": "stdout",
     "output_type": "stream",
     "text": [
      " with number n1 1 and n2 6 We Lost\n"
     ]
    }
   ],
   "source": [
    "# wap ask the user take one number\n",
    "# another number comes as random integer between 1 to 10\n",
    "# num1 and num2\n",
    "# if both numbers are matched then print we are won\n",
    "# otherwise print we lost\n",
    "\n",
    "# step-1: n1=<random number>\n",
    "# step-2: n2=eval(input('en'))\n",
    "# step-3: if <condition>:\n",
    "# step-4:      print('we won')\n",
    "# step-5: else:\n",
    "# step-6:     print('we lost')\n",
    "\n",
    "import random\n",
    "try:\n",
    "    n1=random.randint(1,10)\n",
    "    n2=eval(input('Enter the number 2'))\n",
    "    if(n1==n2):\n",
    "        print(f\" with number n1  {n1} and  n2 {n2} We won\")\n",
    "    else:\n",
    "       print(f\" with number n1 {n1} and n2 {n2} We Lost\")\n",
    "except Exception as e:\n",
    "    print('Exp came:',e)"
   ]
  },
  {
   "cell_type": "code",
   "execution_count": 15,
   "id": "b371b8f0-e29b-4cc4-9a8d-acfe7330736a",
   "metadata": {},
   "outputs": [
    {
     "name": "stdin",
     "output_type": "stream",
     "text": [
      "Enter the number 1: 'alpha'\n"
     ]
    },
    {
     "name": "stdout",
     "output_type": "stream",
     "text": [
      "Exp occured while executing this program not all arguments converted during string formatting\n"
     ]
    }
   ],
   "source": [
    "#wap ask the user enter a number\n",
    "# print if the number is even or odd\n",
    "\n",
    "# idea == reminder should be zero\n",
    "# step-1: num=eval(input())\n",
    "# step-2: if <con>:\n",
    "# step-3:   print (the given number is even)\n",
    "# step-4: else:\n",
    "# step-5:   print(the given number is odd)\n",
    "\n",
    "try:\n",
    "    n1=eval(input('Enter the number 1:'))\n",
    "    if(n1 % 2==0):\n",
    "        print(f\"Enetered {n1} Number is even\")\n",
    "    else:\n",
    "        print(f\"Enetered {n1} Number is odd\")\n",
    "except Exception as e:\n",
    "    print('Exp occured while executing this program',e)\n",
    "    "
   ]
  },
  {
   "cell_type": "code",
   "execution_count": 27,
   "id": "91815d5d-049a-4a20-a1ad-767bf3c3a6fd",
   "metadata": {},
   "outputs": [
    {
     "name": "stdin",
     "output_type": "stream",
     "text": [
      "Enter the distance travelled: 50\n",
      "Enter the charge: 10\n"
     ]
    },
    {
     "name": "stdout",
     "output_type": "stream",
     "text": [
      "Total charge for the extra distance 25 Km travelled: 250\n"
     ]
    }
   ],
   "source": [
    "# wap ask the user enter distance\n",
    "# if distance greater than 25\n",
    "#      ask the charge\n",
    "#      calculate the charge other than25km distance\n",
    "# else\n",
    "#    print free ride\n",
    "\n",
    "# step-1: distance= eval(input(''))\n",
    "# step-2: if <>:\n",
    "# step-3:    charge=eval(input(''))\n",
    "# step-4:    total charge= (d-25)*\n",
    "# step-5: else:\n",
    "# step-6:    print free ride\n",
    "\n",
    "try:\n",
    "    distance=eval(input('Enter the distance travelled:'))\n",
    "    if(distance>25):\n",
    "        charge=eval(input('Enter the charge:'))\n",
    "        totalcharge=(distance-25)*charge\n",
    "        print(f\"Total charge for the extra distance {distance-25} Km travelled: {totalcharge}\")\n",
    "    else:\n",
    "        print('Free Ride')\n",
    "except Exception as e:\n",
    "    print('Exp came while calculation distance charge',e)       \n"
   ]
  },
  {
   "cell_type": "code",
   "execution_count": 31,
   "id": "6d8866aa-5923-4de1-8886-e4bce91f5e6a",
   "metadata": {},
   "outputs": [
    {
     "name": "stdin",
     "output_type": "stream",
     "text": [
      "Enter the number 1: 30\n",
      "Enter the number 2: 45\n"
     ]
    },
    {
     "name": "stdout",
     "output_type": "stream",
     "text": [
      "30 is less than 45\n"
     ]
    }
   ],
   "source": [
    "# wap ask the user take two numbers\n",
    "# print which is greater number\n",
    "\n",
    "# step-1: n1= eval(input())\n",
    "# step-2: n2= eval(input())\n",
    "# step-3: if <cond>:\n",
    "# step-4:    print()\n",
    "# step-5: else:\n",
    "# step-6:    print()\n",
    "try:\n",
    "    n1=eval(input('Enter the number 1:'))\n",
    "    n2=eval(input('Enter the number 2:'))\n",
    "    if(n1>n2):\n",
    "        print(f\"{n1} is greater than {n2}\")\n",
    "    else:\n",
    "         print(f\"{n1} is less than {n2}\")\n",
    "except Exception as e:\n",
    "    print('Exp block :',e)"
   ]
  },
  {
   "cell_type": "code",
   "execution_count": 36,
   "id": "b719a6db-988c-4301-b647-b725c1fa4b28",
   "metadata": {},
   "outputs": [
    {
     "name": "stdin",
     "output_type": "stream",
     "text": [
      "Enter the course name: python\n",
      "Enter the institution name: Naresh IT\n"
     ]
    },
    {
     "name": "stdout",
     "output_type": "stream",
     "text": [
      "We are not good\n"
     ]
    }
   ],
   "source": [
    "# wap ask the user\n",
    "# enter the course name\n",
    "# enter the institute name\n",
    "# if course name equal to data science\n",
    "# and institute name equal to naresh it\n",
    "# then print we are good\n",
    "# else print not good\n",
    "try:\n",
    "    course_name=input('Enter the course name:')\n",
    "    inst_name=input('Enter the institution name:')\n",
    "    if(course_name=='Data Science' and inst_name=='Naresh IT'):\n",
    "        print('We are good')\n",
    "    else:\n",
    "        print('We are not good')\n",
    "except Exception as e:\n",
    "    print('Exp block :',e)"
   ]
  },
  {
   "cell_type": "code",
   "execution_count": null,
   "id": "250af806-34b2-4490-be46-7694b0db0a78",
   "metadata": {},
   "outputs": [],
   "source": []
  }
 ],
 "metadata": {
  "kernelspec": {
   "display_name": "Python 3 (ipykernel)",
   "language": "python",
   "name": "python3"
  },
  "language_info": {
   "codemirror_mode": {
    "name": "ipython",
    "version": 3
   },
   "file_extension": ".py",
   "mimetype": "text/x-python",
   "name": "python",
   "nbconvert_exporter": "python",
   "pygments_lexer": "ipython3",
   "version": "3.12.7"
  }
 },
 "nbformat": 4,
 "nbformat_minor": 5
}
