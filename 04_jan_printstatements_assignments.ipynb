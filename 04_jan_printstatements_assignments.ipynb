{
 "cells": [
  {
   "cell_type": "code",
   "execution_count": 36,
   "id": "02799389-c8cf-47e3-9e5a-d6537d50fcde",
   "metadata": {},
   "outputs": [
    {
     "name": "stdout",
     "output_type": "stream",
     "text": [
      "====================Calculate avarge of three numbers from user input==================\n"
     ]
    },
    {
     "name": "stdin",
     "output_type": "stream",
     "text": [
      "Enter the number1 : 20\n",
      "Enter the number2 : 80\n",
      "Enter the number3 : 100\n"
     ]
    },
    {
     "name": "stdout",
     "output_type": "stream",
     "text": [
      "Average of three numbers is : 66.66666666666667\n"
     ]
    }
   ],
   "source": [
    "print(\"====================Calculate avarge of three numbers from user input==================\")\n",
    "# 1)wap ask the user enter 3 numbers n1,n2,n3 from ketboard\n",
    "# calculate average\n",
    "a=eval(input(\"Enter the number1 :\"))\n",
    "b=eval(input(\"Enter the number2 :\"))\n",
    "c=eval(input(\"Enter the number3 :\"))\n",
    "avg=(a+b+c)/3\n",
    "print(f\"Average of three numbers is : {avg}\")"
   ]
  },
  {
   "cell_type": "code",
   "execution_count": 37,
   "id": "33159ee2-8753-4cfd-a7ce-ea2daf1cef74",
   "metadata": {},
   "outputs": [
    {
     "name": "stdout",
     "output_type": "stream",
     "text": [
      "====================String program from user input==================\n"
     ]
    },
    {
     "name": "stdin",
     "output_type": "stream",
     "text": [
      "Enter the user name :  python\n",
      "Enter the user age :  10\n",
      "Ente the user city :  hyd\n"
     ]
    },
    {
     "name": "stdout",
     "output_type": "stream",
     "text": [
      "My name is python Im 10 years old and came from hyd\n"
     ]
    }
   ],
   "source": [
    "print(\"====================String program from user input==================\")\n",
    "# 2)wap ask the user enter name age city\n",
    "# print my name is python im 10 years old and came from hyd\n",
    "str1=input(\"Enter the user name : \")\n",
    "str2=input(\"Enter the user age : \")\n",
    "str3=input(\"Ente the user city : \")\n",
    "strval='My name is '+str1+' Im '+str2+' years old'+' and came from '+str3\n",
    "print(strval)"
   ]
  },
  {
   "cell_type": "code",
   "execution_count": 38,
   "id": "49062d82-9a87-406e-940e-ac5e4830fce5",
   "metadata": {},
   "outputs": [
    {
     "name": "stdin",
     "output_type": "stream",
     "text": [
      "Enter the radius of circle  10\n"
     ]
    },
    {
     "name": "stdout",
     "output_type": "stream",
     "text": [
      "The radius of circle is  314.0\n"
     ]
    }
   ],
   "source": [
    "# 3)wap ask the user to enter radidus of a circle calculate area of the circle\n",
    "# var: radidus  var: pi=3.14\n",
    "# formuale: pi*radius*radius\n",
    "# print the answers using f string and format\n",
    "radius=eval(input(\"Enter the radius of circle \"))\n",
    "area=3.14*radius*radius\n",
    "print(f\"The radius of circle is  {area}\")"
   ]
  },
  {
   "cell_type": "code",
   "execution_count": 39,
   "id": "c5b28a9b-31e1-47f5-8483-7a2e581d9ace",
   "metadata": {},
   "outputs": [
    {
     "name": "stdin",
     "output_type": "stream",
     "text": [
      "Enter the breadth of right angle triangle  10\n",
      "Enter the height of right angle triangle  20\n"
     ]
    },
    {
     "name": "stdout",
     "output_type": "stream",
     "text": [
      "The area of right angle triangle is :100.0\n"
     ]
    }
   ],
   "source": [
    "# 4)wap ask the user enter breadth and height of a right angle triangle\n",
    "# calculate the area\n",
    "# var1: bredath  var2: height\n",
    "# formuale : 0.5*breadth*heigh\n",
    "breadth=eval(input(\"Enter the breadth of right angle triangle \"))\n",
    "height=eval(input(\"Enter the height of right angle triangle \"))\n",
    "reactarea=0.5*breadth*height\n",
    "print(f\"The area of right angle triangle is :{reactarea}\")"
   ]
  },
  {
   "cell_type": "code",
   "execution_count": 40,
   "id": "ae28be27-f44d-45e8-b7b0-594cc6ecef1c",
   "metadata": {},
   "outputs": [
    {
     "name": "stdin",
     "output_type": "stream",
     "text": [
      "Enter the bill amount : 10000\n",
      "Enter the tip amount:  1000\n"
     ]
    },
    {
     "name": "stdout",
     "output_type": "stream",
     "text": [
      "The total bill amount is : 11000\n"
     ]
    }
   ],
   "source": [
    "# 5)wap ask the user the bill amount and tip amount\n",
    "#   calculate total bill\n",
    "#   var1: bill amount var2: tip amount\n",
    "#   formuale\n",
    "billamt=eval(input(\"Enter the bill amount :\"))\n",
    "tipamt=eval(input(\"Enter the tip amount: \"))\n",
    "totbillamt=billamt+tipamt\n",
    "print(f\"The total bill amount is : {totbillamt}\")"
   ]
  },
  {
   "cell_type": "code",
   "execution_count": 42,
   "id": "6d89c194-4e59-42f7-a57c-e7ba495e45fb",
   "metadata": {},
   "outputs": [
    {
     "name": "stdin",
     "output_type": "stream",
     "text": [
      "Enter the bill amount : 5000\n",
      "Enter the tip amount in :%  20\n"
     ]
    },
    {
     "name": "stdout",
     "output_type": "stream",
     "text": [
      "The total bill amount is with TIP percent formulae : 6000.0\n"
     ]
    }
   ],
   "source": [
    "#6)wap ask the user the bill amount and tip percentage\n",
    "#    take tip percentage as 10\n",
    "#   calculate total bill= bill amount+ tip amount*tip per/100\n",
    "#   var1: bill amount var2: tip amount\n",
    "#    formuale\n",
    "billamt=eval(input(\"Enter the bill amount :\"))\n",
    "tipamt1=eval(input(\"Enter the tip amount in :% \"))\n",
    "toalbill=billamt+(billamt*tipamt1/100)\n",
    "print(f\"The total bill amount is with TIP percent formulae : {toalbill}\")"
   ]
  },
  {
   "cell_type": "code",
   "execution_count": 44,
   "id": "b3e2de62-6d7e-424f-a517-e3702fbdd7f0",
   "metadata": {},
   "outputs": [
    {
     "name": "stdin",
     "output_type": "stream",
     "text": [
      "Enter the length of rectangle: 15\n",
      "Enter the breadth of rectangle: 12\n"
     ]
    },
    {
     "name": "stdout",
     "output_type": "stream",
     "text": [
      "The area of a rectangle is 180\n"
     ]
    }
   ],
   "source": [
    "# 7)wap ask the length and breadth of a rectangle calculate area\n",
    "#   var1: length  var2: breadth\n",
    "#   formulae: length * breadth\n",
    "length=eval(input(\"Enter the length of rectangle:\"))\n",
    "breadth=eval(input(\"Enter the breadth of rectangle:\"))\n",
    "arearct=length*breadth\n",
    "print(f\"The area of a rectangle is {arearct}\")"
   ]
  },
  {
   "cell_type": "code",
   "execution_count": 45,
   "id": "2dfa0b8f-0fa4-441d-80fe-e4635a1cdbd6",
   "metadata": {},
   "outputs": [
    {
     "name": "stdin",
     "output_type": "stream",
     "text": [
      "Enter the radius of the Sphere :  7\n"
     ]
    },
    {
     "name": "stdout",
     "output_type": "stream",
     "text": [
      "The volume of sphere is : 1436.0266666666666\n"
     ]
    }
   ],
   "source": [
    "# 8) wap ask the user take the radius and calculate volume of sphere\n",
    "#   formulae: pi*r**3(pi*r*r*r)\n",
    "radiusofsphere=eval(input(\"Enter the radius of the Sphere : \"))\n",
    "pi=3.14\n",
    "volspehere=(4 / 3) * pi * (radiusofsphere ** 3)\n",
    "print(f\"The volume of sphere is : {volspehere}\")\n"
   ]
  },
  {
   "cell_type": "code",
   "execution_count": 46,
   "id": "70ed45ae-2f17-4a0e-baa7-6f2abb3f8e82",
   "metadata": {},
   "outputs": [
    {
     "name": "stdin",
     "output_type": "stream",
     "text": [
      "Enter the amount in $ : 200\n",
      "Enter the todays convesrion rate : 85.5\n"
     ]
    },
    {
     "name": "stdout",
     "output_type": "stream",
     "text": [
      "$200 is equivalent to 17100.0 INR value at a conversion rate of 85.5 INR per USD.\n"
     ]
    }
   ],
   "source": [
    "# 9) wap ask the user enter amount in dollars convert into rupees\n",
    "#     1$=85rs\n",
    "dollaramt=eval(input(\"Enter the amount in $ :\"))\n",
    "conversionrate=eval(input(\"Enter the todays convesrion rate :\"))\n",
    "inramt=dollaramt*conversionrate\n",
    "print(f\"${dollaramt} is equivalent to {inramt} INR value at a conversion rate of {conversionrate} INR per USD.\")"
   ]
  },
  {
   "cell_type": "code",
   "execution_count": 47,
   "id": "a68c83a0-4e46-454e-8590-8870350db5cf",
   "metadata": {},
   "outputs": [
    {
     "name": "stdin",
     "output_type": "stream",
     "text": [
      "Enter the weight : 15\n"
     ]
    },
    {
     "name": "stdout",
     "output_type": "stream",
     "text": [
      "15 kg is equivalent to 33.0693 pounds.\n"
     ]
    }
   ],
   "source": [
    "# 10)wap ask the user enter weight in kgs convert into pounds\n",
    "#    1kg= 2.2pounds\n",
    "weight=eval(input(\"Enter the weight :\"))\n",
    "pounds=weight*2.20462\n",
    "print(f\"{weight} kg is equivalent to {pounds} pounds.\")"
   ]
  },
  {
   "cell_type": "code",
   "execution_count": null,
   "id": "877804e8-20ac-4cd7-9840-7c05e075db9a",
   "metadata": {},
   "outputs": [],
   "source": []
  }
 ],
 "metadata": {
  "kernelspec": {
   "display_name": "Python 3 (ipykernel)",
   "language": "python",
   "name": "python3"
  },
  "language_info": {
   "codemirror_mode": {
    "name": "ipython",
    "version": 3
   },
   "file_extension": ".py",
   "mimetype": "text/x-python",
   "name": "python",
   "nbconvert_exporter": "python",
   "pygments_lexer": "ipython3",
   "version": "3.12.7"
  }
 },
 "nbformat": 4,
 "nbformat_minor": 5
}
