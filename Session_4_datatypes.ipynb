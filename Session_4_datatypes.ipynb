{
 "cells": [
  {
   "cell_type": "markdown",
   "id": "eae28af2-9189-434e-b904-702017319532",
   "metadata": {},
   "source": [
    "# Data Types"
   ]
  },
  {
   "cell_type": "markdown",
   "id": "d67656d7-4ad0-44ac-ae3a-7a9f09536d68",
   "metadata": {},
   "source": [
    "- integer : int \n",
    "- float \n",
    "- string \n",
    "- list \n",
    "- tuple\n",
    "- set\n",
    "- frozen set\n",
    "- dictionary\n",
    "- bool \n",
    "- complex \n",
    "- range\n",
    "- byte\n",
    "- byte array\n",
    "- memory view\n",
    "- None type\n"
   ]
  },
  {
   "cell_type": "markdown",
   "id": "1cf97899-72fd-4ab7-ae40-53a04a7794dd",
   "metadata": {},
   "source": [
    "$integer$"
   ]
  },
  {
   "cell_type": "code",
   "execution_count": 1,
   "id": "4856a36e-bf7d-41c2-ac46-b42a3a8f2767",
   "metadata": {},
   "outputs": [
    {
     "data": {
      "text/plain": [
       "100"
      ]
     },
     "execution_count": 1,
     "metadata": {},
     "output_type": "execute_result"
    }
   ],
   "source": [
    "number=100\n",
    "number"
   ]
  },
  {
   "cell_type": "code",
   "execution_count": 2,
   "id": "386324c1-0dfe-4441-9c06-8f97db054f1a",
   "metadata": {},
   "outputs": [
    {
     "data": {
      "text/plain": [
       "int"
      ]
     },
     "execution_count": 2,
     "metadata": {},
     "output_type": "execute_result"
    }
   ],
   "source": [
    "type(number)"
   ]
  },
  {
   "cell_type": "markdown",
   "id": "e2ecd396-e708-48e4-8eda-719161586ae5",
   "metadata": {},
   "source": [
    "**numbers system**\n",
    "- Binary number system\n",
    "- Decimal number system\n",
    "- Octa number system\n",
    "- hexa number system"
   ]
  },
  {
   "cell_type": "markdown",
   "id": "19fd9400-d9cf-419b-a5a1-cbdbac9a0aea",
   "metadata": {},
   "source": [
    "**Binary number system**\n",
    "- Binary means two\n",
    "- we have generally 0 to 9 digits avaliable\n"
   ]
  },
  {
   "cell_type": "code",
   "execution_count": 9,
   "id": "84d01930-c968-4667-b7c6-ba06b088904b",
   "metadata": {},
   "outputs": [
    {
     "data": {
      "text/plain": [
       "7"
      ]
     },
     "execution_count": 9,
     "metadata": {},
     "output_type": "execute_result"
    }
   ],
   "source": [
    "0b111"
   ]
  },
  {
   "cell_type": "code",
   "execution_count": 10,
   "id": "3138f352-7983-4754-84fe-c939a78c2495",
   "metadata": {},
   "outputs": [
    {
     "data": {
      "text/plain": [
       "15"
      ]
     },
     "execution_count": 10,
     "metadata": {},
     "output_type": "execute_result"
    }
   ],
   "source": [
    "0b1111"
   ]
  },
  {
   "cell_type": "code",
   "execution_count": 12,
   "id": "cab1d110-9a76-4d4a-a7a5-4280223757ac",
   "metadata": {},
   "outputs": [
    {
     "data": {
      "text/plain": [
       "2025"
      ]
     },
     "execution_count": 12,
     "metadata": {},
     "output_type": "execute_result"
    }
   ],
   "source": [
    "0o3751"
   ]
  },
  {
   "cell_type": "code",
   "execution_count": 14,
   "id": "0e55de26-d98b-442f-afc0-100c15913f55",
   "metadata": {},
   "outputs": [
    {
     "data": {
      "text/plain": [
       "2025"
      ]
     },
     "execution_count": 14,
     "metadata": {},
     "output_type": "execute_result"
    }
   ],
   "source": [
    "0X7E9"
   ]
  },
  {
   "cell_type": "markdown",
   "id": "4aa007e2-7334-45bd-8603-de9cb432c133",
   "metadata": {},
   "source": [
    "**float**"
   ]
  },
  {
   "cell_type": "code",
   "execution_count": 13,
   "id": "9ad5c922-9e09-4186-a9f3-a0f77f209709",
   "metadata": {},
   "outputs": [
    {
     "data": {
      "text/plain": [
       "20000.0"
      ]
     },
     "execution_count": 13,
     "metadata": {},
     "output_type": "execute_result"
    }
   ],
   "source": [
    "2e4"
   ]
  },
  {
   "cell_type": "code",
   "execution_count": 15,
   "id": "bc1f1491-6cba-4d2b-ada9-44d4da421e1e",
   "metadata": {},
   "outputs": [
    {
     "name": "stdout",
     "output_type": "stream",
     "text": [
      "10.0\n",
      "100.0\n",
      "2000.0\n",
      "40000.0\n"
     ]
    }
   ],
   "source": [
    "print(1e+1) # 1*10=10\n",
    "print(1e+2) # 1*100=100\n",
    "print(2e+3) # 2*1000=2000\n",
    "print(4e+4) # 4 * 10000=40000"
   ]
  },
  {
   "cell_type": "code",
   "execution_count": 16,
   "id": "a80e22a6-f3b3-4a04-a334-d5eeefde62dc",
   "metadata": {},
   "outputs": [
    {
     "name": "stdout",
     "output_type": "stream",
     "text": [
      "0.1\n",
      "0.01\n",
      "0.002\n",
      "0.0004\n"
     ]
    }
   ],
   "source": [
    "print(1e-1) # 1/10=0.1\n",
    "print(1e-2) # 1/100=0.01\n",
    "print(2e-3) # 2/1000=0.002\n",
    "print(4e-4) # 4 * 10000=0.0004"
   ]
  },
  {
   "cell_type": "markdown",
   "id": "44f82675-ed66-4f0e-8dbc-143b66d9ed56",
   "metadata": {},
   "source": [
    "**boolean data type**"
   ]
  },
  {
   "cell_type": "code",
   "execution_count": null,
   "id": "24c3193c-c128-4386-86a2-4d591d58bd93",
   "metadata": {},
   "outputs": [],
   "source": [
    "True\n",
    "False"
   ]
  },
  {
   "cell_type": "code",
   "execution_count": 1,
   "id": "001e1f57-fb69-4e84-a6c5-e37c643e183b",
   "metadata": {},
   "outputs": [
    {
     "data": {
      "text/plain": [
       "True"
      ]
     },
     "execution_count": 1,
     "metadata": {},
     "output_type": "execute_result"
    }
   ],
   "source": [
    "val=True\n",
    "val"
   ]
  },
  {
   "cell_type": "code",
   "execution_count": 2,
   "id": "3b98eae4-fda5-4b30-a37c-5aed382b9e54",
   "metadata": {},
   "outputs": [
    {
     "data": {
      "text/plain": [
       "bool"
      ]
     },
     "execution_count": 2,
     "metadata": {},
     "output_type": "execute_result"
    }
   ],
   "source": [
    "type(val)"
   ]
  },
  {
   "cell_type": "code",
   "execution_count": 3,
   "id": "d1d3a301-994d-47e2-9b36-16bad7f46351",
   "metadata": {},
   "outputs": [
    {
     "data": {
      "text/plain": [
       "bool"
      ]
     },
     "execution_count": 3,
     "metadata": {},
     "output_type": "execute_result"
    }
   ],
   "source": [
    "var1=False\n",
    "type(var1)"
   ]
  },
  {
   "cell_type": "markdown",
   "id": "4a5f2337-051e-4932-a956-aedf4aecd0e0",
   "metadata": {},
   "source": [
    "**Strings**"
   ]
  },
  {
   "cell_type": "code",
   "execution_count": 5,
   "id": "93ab79c5-fd3f-4132-91f9-e7379e3097ad",
   "metadata": {},
   "outputs": [
    {
     "data": {
      "text/plain": [
       "'python'"
      ]
     },
     "execution_count": 5,
     "metadata": {},
     "output_type": "execute_result"
    }
   ],
   "source": [
    "name='python'\n",
    "name"
   ]
  },
  {
   "cell_type": "code",
   "execution_count": 7,
   "id": "eed3f6ec-6c2c-4066-ba38-f06c2a1a0b73",
   "metadata": {},
   "outputs": [
    {
     "data": {
      "text/plain": [
       "str"
      ]
     },
     "execution_count": 7,
     "metadata": {},
     "output_type": "execute_result"
    }
   ],
   "source": [
    "type(name)\n",
    "#when we print not able to see the quotes"
   ]
  },
  {
   "cell_type": "code",
   "execution_count": 8,
   "id": "99e0d76f-0e95-4e65-aa7c-484a03388520",
   "metadata": {},
   "outputs": [
    {
     "data": {
      "text/plain": [
       "str"
      ]
     },
     "execution_count": 8,
     "metadata": {},
     "output_type": "execute_result"
    }
   ],
   "source": [
    "var='10'\n",
    "type(var)"
   ]
  },
  {
   "cell_type": "code",
   "execution_count": 9,
   "id": "76ded8b9-6059-4870-ade0-d4d1b842a172",
   "metadata": {},
   "outputs": [
    {
     "data": {
      "text/plain": [
       "int"
      ]
     },
     "execution_count": 9,
     "metadata": {},
     "output_type": "execute_result"
    }
   ],
   "source": [
    "var1=10\n",
    "type(var1)"
   ]
  },
  {
   "cell_type": "code",
   "execution_count": 10,
   "id": "90407c4e-6d4a-46dc-ab31-c1df461e54d2",
   "metadata": {},
   "outputs": [
    {
     "data": {
      "text/plain": [
       "'Naresh IT'"
      ]
     },
     "execution_count": 10,
     "metadata": {},
     "output_type": "execute_result"
    }
   ],
   "source": [
    "name=\"Naresh IT\"\n",
    "name\n",
    "#But the output displayed as single quotes"
   ]
  },
  {
   "cell_type": "code",
   "execution_count": 11,
   "id": "a2a47d45-1e43-42ff-b443-8679956f494f",
   "metadata": {},
   "outputs": [
    {
     "name": "stdout",
     "output_type": "stream",
     "text": [
      "Naresh IT\n"
     ]
    }
   ],
   "source": [
    "print(name)"
   ]
  },
  {
   "cell_type": "code",
   "execution_count": 13,
   "id": "b794965e-3d17-4a39-b150-3278548baf9c",
   "metadata": {},
   "outputs": [
    {
     "data": {
      "text/plain": [
       "\"I love 'python'\""
      ]
     },
     "execution_count": 13,
     "metadata": {},
     "output_type": "execute_result"
    }
   ],
   "source": [
    "str1=\"I love 'python'\"\n",
    "str1"
   ]
  },
  {
   "cell_type": "code",
   "execution_count": 15,
   "id": "e79039a2-2c01-42ff-9f57-ef21af418f16",
   "metadata": {},
   "outputs": [
    {
     "data": {
      "text/plain": [
       "'I love \"python\"'"
      ]
     },
     "execution_count": 15,
     "metadata": {},
     "output_type": "execute_result"
    }
   ],
   "source": [
    "str1='I love \"python\"'\n",
    "str1"
   ]
  },
  {
   "cell_type": "markdown",
   "id": "48ad1310-ea17-49b5-978b-2456c65fcafd",
   "metadata": {},
   "source": [
    "**triple quotes**"
   ]
  },
  {
   "cell_type": "code",
   "execution_count": null,
   "id": "6eb7972d-49de-4a60-afc4-c92340736eee",
   "metadata": {},
   "outputs": [],
   "source": [
    "hai"
   ]
  },
  {
   "cell_type": "code",
   "execution_count": 17,
   "id": "0cf330b9-e6a0-4dc5-a0c2-16cfa33ff05f",
   "metadata": {},
   "outputs": [
    {
     "data": {
      "text/plain": [
       "True"
      ]
     },
     "execution_count": 17,
     "metadata": {},
     "output_type": "execute_result"
    }
   ],
   "source": [
    "true=True\n",
    "true"
   ]
  },
  {
   "cell_type": "code",
   "execution_count": 18,
   "id": "accc3772-c7ea-44c9-a795-0d6a96077c1f",
   "metadata": {},
   "outputs": [
    {
     "data": {
      "text/plain": [
       "'True'"
      ]
     },
     "execution_count": 18,
     "metadata": {},
     "output_type": "execute_result"
    }
   ],
   "source": [
    "true='True'\n",
    "true"
   ]
  },
  {
   "cell_type": "code",
   "execution_count": 19,
   "id": "2b747cae-94e6-4a36-a032-3f421ff38f42",
   "metadata": {},
   "outputs": [
    {
     "data": {
      "text/plain": [
       "10.5"
      ]
     },
     "execution_count": 19,
     "metadata": {},
     "output_type": "execute_result"
    }
   ],
   "source": [
    "true=10.5\n",
    "true"
   ]
  },
  {
   "cell_type": "markdown",
   "id": "52b70dc3-6330-4628-833e-604dc8508d63",
   "metadata": {},
   "source": [
    "True=10 #This gives error"
   ]
  },
  {
   "cell_type": "markdown",
   "id": "e8b61257-9ef9-48fd-ac3e-65749a1ab163",
   "metadata": {},
   "source": [
    "True=True #This gives error"
   ]
  },
  {
   "cell_type": "code",
   "execution_count": 22,
   "id": "9f2d8f1f-1977-4fac-ab2f-1df159cd7a8a",
   "metadata": {},
   "outputs": [
    {
     "data": {
      "text/plain": [
       "True"
      ]
     },
     "execution_count": 22,
     "metadata": {},
     "output_type": "execute_result"
    }
   ],
   "source": [
    "bool('10.5')"
   ]
  },
  {
   "cell_type": "code",
   "execution_count": 23,
   "id": "be2a5ac8-2094-4cf0-a6dd-a90e54f86775",
   "metadata": {},
   "outputs": [
    {
     "data": {
      "text/plain": [
       "(10.0, True, 10)"
      ]
     },
     "execution_count": 23,
     "metadata": {},
     "output_type": "execute_result"
    }
   ],
   "source": [
    "float('10'),bool('10'),int('10')"
   ]
  },
  {
   "cell_type": "code",
   "execution_count": 25,
   "id": "dbb9bb9f-f335-46d4-9c92-19719327d183",
   "metadata": {},
   "outputs": [
    {
     "data": {
      "text/plain": [
       "10"
      ]
     },
     "execution_count": 25,
     "metadata": {},
     "output_type": "execute_result"
    }
   ],
   "source": [
    "float('10.5')\n",
    "bool('10.5')\n",
    "int('10')"
   ]
  },
  {
   "cell_type": "markdown",
   "id": "ccac0584-bd40-42e2-aa89-6d4d143b345b",
   "metadata": {},
   "source": [
    "*** Hai \n",
    " Love \n",
    "python coding ***"
   ]
  },
  {
   "cell_type": "code",
   "execution_count": 27,
   "id": "4692cdda-8bc4-494f-b838-1cbf5810e532",
   "metadata": {},
   "outputs": [
    {
     "data": {
      "text/plain": [
       "10"
      ]
     },
     "execution_count": 27,
     "metadata": {},
     "output_type": "execute_result"
    }
   ],
   "source": [
    "int('10')"
   ]
  },
  {
   "cell_type": "code",
   "execution_count": 29,
   "id": "a64123c7-8373-46a8-878b-02b337be0e8e",
   "metadata": {},
   "outputs": [
    {
     "data": {
      "text/plain": [
       "True"
      ]
     },
     "execution_count": 29,
     "metadata": {},
     "output_type": "execute_result"
    }
   ],
   "source": [
    "bool(10.0)\n",
    "bool('20')\n",
    "bool(100)"
   ]
  },
  {
   "cell_type": "code",
   "execution_count": 30,
   "id": "9ed363f5-5c11-48d7-9c3b-e642b185022b",
   "metadata": {},
   "outputs": [
    {
     "data": {
      "text/plain": [
       "1.0"
      ]
     },
     "execution_count": 30,
     "metadata": {},
     "output_type": "execute_result"
    }
   ],
   "source": [
    "float(bool(10.0))"
   ]
  },
  {
   "cell_type": "code",
   "execution_count": 32,
   "id": "170b6be6-ef6c-4aa8-bd6e-8a5027fd370e",
   "metadata": {},
   "outputs": [
    {
     "data": {
      "text/plain": [
       "'True'"
      ]
     },
     "execution_count": 32,
     "metadata": {},
     "output_type": "execute_result"
    }
   ],
   "source": [
    "str(bool('10'))"
   ]
  },
  {
   "cell_type": "code",
   "execution_count": 33,
   "id": "fd17b098-5252-4481-880c-408143470411",
   "metadata": {},
   "outputs": [
    {
     "data": {
      "text/plain": [
       "0"
      ]
     },
     "execution_count": 33,
     "metadata": {},
     "output_type": "execute_result"
    }
   ],
   "source": [
    "int(bool(0))"
   ]
  },
  {
   "cell_type": "code",
   "execution_count": 1,
   "id": "40c89a5b-c6d1-426a-9572-aa29b4d8bdc2",
   "metadata": {},
   "outputs": [
    {
     "data": {
      "text/plain": [
       "16"
      ]
     },
     "execution_count": 1,
     "metadata": {},
     "output_type": "execute_result"
    }
   ],
   "source": [
    "0b10000"
   ]
  },
  {
   "cell_type": "code",
   "execution_count": 2,
   "id": "b82feeea-d4c9-421d-a9cd-01e42251f803",
   "metadata": {},
   "outputs": [
    {
     "data": {
      "text/plain": [
       "16"
      ]
     },
     "execution_count": 2,
     "metadata": {},
     "output_type": "execute_result"
    }
   ],
   "source": [
    "0B10000"
   ]
  },
  {
   "cell_type": "code",
   "execution_count": null,
   "id": "d3aee0dd-9625-43c1-a64b-c7cc3b07567f",
   "metadata": {},
   "outputs": [],
   "source": []
  }
 ],
 "metadata": {
  "kernelspec": {
   "display_name": "Python 3 (ipykernel)",
   "language": "python",
   "name": "python3"
  },
  "language_info": {
   "codemirror_mode": {
    "name": "ipython",
    "version": 3
   },
   "file_extension": ".py",
   "mimetype": "text/x-python",
   "name": "python",
   "nbconvert_exporter": "python",
   "pygments_lexer": "ipython3",
   "version": "3.12.7"
  }
 },
 "nbformat": 4,
 "nbformat_minor": 5
}
