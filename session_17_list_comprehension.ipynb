{
 "cells": [
  {
   "cell_type": "markdown",
   "id": "07a29477-72c2-4e24-8095-5cc2a64c9e5c",
   "metadata": {},
   "source": [
    "**list comprehension**"
   ]
  },
  {
   "cell_type": "code",
   "execution_count": null,
   "id": "dbf7d057-a933-4f86-87d2-da11ac19c73a",
   "metadata": {},
   "outputs": [],
   "source": []
  },
  {
   "cell_type": "markdown",
   "id": "30930841-3241-4adf-bd1c-6b6bcb4137bc",
   "metadata": {},
   "source": [
    "list comprehension is way to write the list operations in single line\n",
    "- when we we will apply loop and if - else conditions then code compilcation becomes slow\n",
    "- which means it takes much time\n",
    "- inorder to avoid the time complexity we wil use the list comprehension\n",
    "- List comprehension is single line code\n"
   ]
  },
  {
   "cell_type": "code",
   "execution_count": 1,
   "id": "d3dcc5a8-34d4-4e15-8ed7-c37a0d03cfb2",
   "metadata": {},
   "outputs": [
    {
     "data": {
      "text/plain": [
       "[0, 1, 2, 3, 4, 5, 6, 7, 8, 9]"
      ]
     },
     "execution_count": 1,
     "metadata": {},
     "output_type": "execute_result"
    }
   ],
   "source": [
    "list2=[]\n",
    "for i in range(10):\n",
    "    list2.append(i)\n",
    "list2\n",
    "\n",
    "    "
   ]
  },
  {
   "cell_type": "code",
   "execution_count": 7,
   "id": "d0f3a8c2-3a22-4f87-9ac8-e276ef58e169",
   "metadata": {},
   "outputs": [
    {
     "data": {
      "text/plain": [
       "[0, 1, 2, 3, 4, 5, 6, 7, 8, 9]"
      ]
     },
     "execution_count": 7,
     "metadata": {},
     "output_type": "execute_result"
    }
   ],
   "source": [
    "list2=[i for i in range(10)] [<output>  <for loop>]\n",
    "list2"
   ]
  },
  {
   "cell_type": "code",
   "execution_count": 3,
   "id": "42318688-494d-4bbb-958d-fec268ad17b3",
   "metadata": {},
   "outputs": [
    {
     "name": "stdout",
     "output_type": "stream",
     "text": [
      "Hyd\n",
      "Bengaluru\n",
      "Pune\n",
      "Mumbai\n"
     ]
    }
   ],
   "source": [
    "#Q3) input=['hyd','bengaluru','pune','mumbai']\n",
    "    #output=['Hyd','Bengaluru','Pune','Mumbai']\n",
    "\n",
    " # input=['hyd','bengaluru','pune','mumbai']\n",
    " # output=['HYD','BENGALURU','PUNE','MUMBAI']\n",
    "# input=['hyd','bengaluru','pune','mumbai']\n",
    "# for city in input:\n",
    "#     print(city.capitalize())\n",
    "\n",
    "\n",
    "input=['hyd','bengaluru','pune','mumbai']\n",
    "output=[city.upper() for city in input]  #[<output>  <for loop>]\n",
    "output\n"
   ]
  },
  {
   "cell_type": "code",
   "execution_count": 11,
   "id": "b9d18cb9-b041-411b-84ea-08f304c3ed06",
   "metadata": {},
   "outputs": [
    {
     "data": {
      "text/plain": [
       "['Hyd', 'Bengaluru', 'Pune', 'Mumbai']"
      ]
     },
     "execution_count": 11,
     "metadata": {},
     "output_type": "execute_result"
    }
   ],
   "source": [
    "#Q3) input=['hyd','bengaluru','pune','mumbai']\n",
    "    #output=['Hyd','Bengaluru','Pune','Mumbai']\n",
    "input=['hyd','bengaluru','pune','mumbai']\n",
    "output=[char.capitalize() for char in input]\n",
    "output\n"
   ]
  },
  {
   "cell_type": "code",
   "execution_count": 13,
   "id": "b879e9df-a809-4fcc-a695-f85eaa45f716",
   "metadata": {},
   "outputs": [
    {
     "name": "stdout",
     "output_type": "stream",
     "text": [
      "0\n",
      "10\n",
      "20\n",
      "30\n"
     ]
    }
   ],
   "source": [
    "#input=['hyd','bengaluru','pune','mumbai'] \n",
    "#multoply indexes list \n",
    "input=['hyd','bengaluru','pune','mumbai']\n",
    "for i in input:\n",
    "    print(input.index(i)*10)"
   ]
  },
  {
   "cell_type": "code",
   "execution_count": 17,
   "id": "896f0dab-9265-441b-a859-1a48b27d19db",
   "metadata": {},
   "outputs": [
    {
     "data": {
      "text/plain": [
       "[0, 10, 20, 30]"
      ]
     },
     "execution_count": 17,
     "metadata": {},
     "output_type": "execute_result"
    }
   ],
   "source": [
    "input=['hyd','bengaluru','pune','mumbai']\n",
    "output=[input.index(i)*10 for i in input]\n",
    "output\n"
   ]
  },
  {
   "cell_type": "code",
   "execution_count": 21,
   "id": "c219baf1-839e-472b-9fde-d5e23c4345d3",
   "metadata": {},
   "outputs": [
    {
     "data": {
      "text/plain": [
       "6"
      ]
     },
     "execution_count": 21,
     "metadata": {},
     "output_type": "execute_result"
    }
   ],
   "source": [
    "input=['hyd','bengaluru','pune','mumbai']\n",
    "tot=0\n",
    "output=[tot+input.index(i) for i in input]\n",
    "sum(output)"
   ]
  },
  {
   "cell_type": "code",
   "execution_count": 22,
   "id": "2b0707a5-9087-4c3c-b9c4-8a5adaa9da51",
   "metadata": {},
   "outputs": [
    {
     "name": "stdout",
     "output_type": "stream",
     "text": [
      "55\n"
     ]
    }
   ],
   "source": [
    "sum=0\n",
    "for i in range(1,11):\n",
    "    sum+=i\n",
    "print(sum)"
   ]
  },
  {
   "cell_type": "code",
   "execution_count": 2,
   "id": "ea4e20d0-abf4-4e07-9159-52a12f241875",
   "metadata": {},
   "outputs": [
    {
     "data": {
      "text/plain": [
       "55"
      ]
     },
     "execution_count": 2,
     "metadata": {},
     "output_type": "execute_result"
    }
   ],
   "source": [
    "sum=0\n",
    "[sum:=sum+i for i in range(1,11)]\n",
    "sum\n"
   ]
  },
  {
   "cell_type": "markdown",
   "id": "0e2f75b1-b09a-476b-ad1c-3d88e1012781",
   "metadata": {},
   "source": [
    "- warlus operator --input.index(i)"
   ]
  },
  {
   "cell_type": "code",
   "execution_count": 36,
   "id": "1e240454-74c9-46cd-9114-f0da6212ab73",
   "metadata": {},
   "outputs": [
    {
     "data": {
      "text/plain": [
       "['even:2', 'even:4', 'even:6', 'even:8']"
      ]
     },
     "execution_count": 36,
     "metadata": {},
     "output_type": "execute_result"
    }
   ],
   "source": [
    "#Case2 for condition and if condition\n",
    "even_list=[]\n",
    "for i in range(1,10):\n",
    "    if(i%2==0):\n",
    "        even_list.append(f'even:{i}')\n",
    "even_list"
   ]
  },
  {
   "cell_type": "code",
   "execution_count": 2,
   "id": "fd7d8460-4e55-439e-b0fa-5e2c6cf62b2c",
   "metadata": {},
   "outputs": [
    {
     "data": {
      "text/plain": [
       "['even:2', 'even:4', 'even:6', 'even:8']"
      ]
     },
     "execution_count": 2,
     "metadata": {},
     "output_type": "execute_result"
    }
   ],
   "source": [
    "[f'even:{i}' for i in range(1,10) if i%2==0]\n",
    "\n"
   ]
  },
  {
   "cell_type": "code",
   "execution_count": 3,
   "id": "cb5a1948-5d5c-4f41-a5ba-2e6c443c1540",
   "metadata": {},
   "outputs": [
    {
     "name": "stdout",
     "output_type": "stream",
     "text": [
      "ben#galuru\n",
      "mu#mbai\n"
     ]
    }
   ],
   "source": [
    " input=['hyd','ben#galuru','pune','mu#mbai']\n",
    "#     output=[ben#galuru',mu#mbai']\n",
    "for char in input:\n",
    "    if '#' in char:\n",
    "        print(char)"
   ]
  },
  {
   "cell_type": "code",
   "execution_count": 4,
   "id": "8039c434-9d94-4a1e-a30f-941489d28531",
   "metadata": {},
   "outputs": [
    {
     "data": {
      "text/plain": [
       "['ben#galuru', 'mu#mbai']"
      ]
     },
     "execution_count": 4,
     "metadata": {},
     "output_type": "execute_result"
    }
   ],
   "source": [
    " input=['hyd','ben#galuru','pune','mu#mbai']\n",
    "oput=[char for char in input if '#' in char]\n",
    "oput"
   ]
  },
  {
   "cell_type": "code",
   "execution_count": 5,
   "id": "1ba1075c-4193-4fa2-a91f-66bdf11f3bb4",
   "metadata": {},
   "outputs": [
    {
     "data": {
      "text/plain": [
       "['hyd', 'pune']"
      ]
     },
     "execution_count": 5,
     "metadata": {},
     "output_type": "execute_result"
    }
   ],
   "source": [
    "oput=[char for char in input if '#' not in char]\n",
    "oput"
   ]
  },
  {
   "cell_type": "markdown",
   "id": "d7201b3c-7dde-4bef-99a9-ac2424b150e2",
   "metadata": {},
   "source": [
    "- #Case1 : for loop [<output> <for loop>)\n",
    "- #Case2 : for loop and if condition [<ouput> <for loop> <if condition>]\n",
    "- #Case3 : for loop and if and else condition [<if out> <if cond> else <else out> <for loop>]\n",
    "- #Case4 : for loop and if and elif condition and else [else <if out> <if cond> else <else out> <for loop>]\n",
    "- in List comprehension we do not have **elif** representation\n",
    "- elif also represent as **else+if**\n",
    "- in elif \n"
   ]
  },
  {
   "cell_type": "code",
   "execution_count": 11,
   "id": "8ee46841-23a8-4f9e-ac29-8a6246cd096b",
   "metadata": {},
   "outputs": [
    {
     "data": {
      "text/plain": [
       "['odd:1',\n",
       " 'even:2',\n",
       " 'odd:3',\n",
       " 'even:4',\n",
       " 'odd:5',\n",
       " 'even:6',\n",
       " 'odd:7',\n",
       " 'even:8',\n",
       " 'odd:9']"
      ]
     },
     "execution_count": 11,
     "metadata": {},
     "output_type": "execute_result"
    }
   ],
   "source": [
    "output=[f'even:{i}' if i%2==0 else f'odd:{i}' for i in range(1,10)]\n",
    "output"
   ]
  },
  {
   "cell_type": "code",
   "execution_count": 15,
   "id": "e39570eb-f500-4c7f-91ef-923af9b0b12f",
   "metadata": {},
   "outputs": [
    {
     "name": "stdout",
     "output_type": "stream",
     "text": [
      "45: C grade\n",
      "55: C grade\n",
      "65: B grade\n",
      "75: B grade\n",
      "85 :A grade\n",
      "95 :A grade\n"
     ]
    }
   ],
   "source": [
    "# >80 a rade between (60,85) grade b and <60  is c grade\n",
    "list=[45,55,65,75,85,95]\n",
    "for i in list:\n",
    "    if i>80:\n",
    "        print(f'{i} :A grade')\n",
    "    elif i>60:\n",
    "        print(f'{i}: B grade')\n",
    "    else:\n",
    "        print(f'{i}: C grade')"
   ]
  },
  {
   "cell_type": "code",
   "execution_count": 20,
   "id": "9d8f5556-a8be-4ce1-a355-8f205675d6a5",
   "metadata": {},
   "outputs": [
    {
     "name": "stdout",
     "output_type": "stream",
     "text": [
      "45: C grade\n",
      "55: C grade\n",
      "65: B grade\n",
      "75: B grade\n",
      "85: A grade\n",
      "95: A grade\n"
     ]
    }
   ],
   "source": [
    "grades = [f\"{i}: A grade\" if i > 80 else f\"{i}: B grade\" if i > 60 else f\"{i}: C grade\" for i in [45, 55, 65, 75, 85, 95]]\n",
    "\n",
    "# Print each grade\n",
    "for grade in grades:\n",
    "    print(grade)\n",
    "\n",
    "#output"
   ]
  },
  {
   "cell_type": "code",
   "execution_count": null,
   "id": "27213d66-6d1e-4975-b5e3-7f4240fd4646",
   "metadata": {},
   "outputs": [],
   "source": [
    "sum=0\n",
    "sum[sum+i: "
   ]
  },
  {
   "cell_type": "code",
   "execution_count": 14,
   "id": "c74bae60-3ebb-4ca0-89cf-cfbb5b7e6dfb",
   "metadata": {},
   "outputs": [
    {
     "data": {
      "text/plain": [
       "28.284271247461902"
      ]
     },
     "execution_count": 14,
     "metadata": {},
     "output_type": "execute_result"
    }
   ],
   "source": [
    "#distance between two points\n",
    "import math\n",
    "l1=[[1,2],[4,5],[7,9]]\n",
    "l2=[10,20]\n",
    "#find the distance between l2 and all other points from l1\n",
    "# which is the maxmimum distance give me that\n",
    "l1=[10,20]\n",
    "l2=[30,40]\n",
    "d1=l2[0]-l1[0]\n",
    "d1\n",
    "d1_sqaure=math.pow(d1,2)\n",
    "math.sqrt(d1_sqaure)\n",
    "d2=l2[1]-l1[1]\n",
    "d2_sqr=math.sqrt(math.pow(d2,2))\n",
    "d2_sqr\n",
    "#math.sqrt(math.pow(l2[0]-l1[0],2)+math.pow(l2[1]-l1[1],2))\n",
    "\n",
    "#(math.pow(l2[0]-l1[0],2)+math.pow(l2[1]-l1[1],2))\n",
    "math.sqrt(math.pow(l2[0]-l1[0],2)+math.pow(l2[1]-l1[1],2))\n",
    "\n",
    "\n"
   ]
  },
  {
   "cell_type": "code",
   "execution_count": 6,
   "id": "20eb39b2-8296-4508-b9b3-c3ac5cd921b3",
   "metadata": {},
   "outputs": [
    {
     "ename": "SyntaxError",
     "evalue": "invalid non-printable character U+00A0 (752824486.py, line 9)",
     "output_type": "error",
     "traceback": [
      "\u001b[1;36m  Cell \u001b[1;32mIn[6], line 9\u001b[1;36m\u001b[0m\n\u001b[1;33m    \u001b[0m\n\u001b[1;37m    ^\u001b[0m\n\u001b[1;31mSyntaxError\u001b[0m\u001b[1;31m:\u001b[0m invalid non-printable character U+00A0\n"
     ]
    }
   ],
   "source": [
    "#Distance between two points\n",
    "# import math\n",
    "# l1=[[10,20],[30,20],[40,50],[0,0]]\n",
    "# l2=[10,15]\n",
    "# d1=[]\n",
    "# for i in range(len(l1)):\n",
    "#   for j in range(len(l1[i])):\n",
    "#       d1.append(math.sqrt(math.pow(l2[0]-l1[i][0],2)+math.pow(l2[1]-l1[i][1],2)))\n",
    "      \n",
    "# d1"
   ]
  },
  {
   "cell_type": "code",
   "execution_count": null,
   "id": "500115ed-d9f8-4883-8e1f-220e6cbd852a",
   "metadata": {},
   "outputs": [],
   "source": []
  },
  {
   "cell_type": "code",
   "execution_count": 12,
   "id": "d76b894c-55c2-44c6-998f-325204fd34e6",
   "metadata": {},
   "outputs": [
    {
     "name": "stdout",
     "output_type": "stream",
     "text": [
      "20\n",
      "30\n",
      "10\n",
      "20\n"
     ]
    }
   ],
   "source": [
    "import math\n",
    "l1=[10,20]\n",
    "l2=[30,40]\n",
    "for i in l1:\n",
    "    for j in l2:\n",
    "        print(j-i)\n"
   ]
  },
  {
   "cell_type": "code",
   "execution_count": null,
   "id": "9db4e150-dd15-4128-8965-d31ac8818a2a",
   "metadata": {},
   "outputs": [],
   "source": [
    "#how to sort the list and find out the max and min of list\n"
   ]
  }
 ],
 "metadata": {
  "kernelspec": {
   "display_name": "Python 3 (ipykernel)",
   "language": "python",
   "name": "python3"
  },
  "language_info": {
   "codemirror_mode": {
    "name": "ipython",
    "version": 3
   },
   "file_extension": ".py",
   "mimetype": "text/x-python",
   "name": "python",
   "nbconvert_exporter": "python",
   "pygments_lexer": "ipython3",
   "version": "3.12.7"
  }
 },
 "nbformat": 4,
 "nbformat_minor": 5
}
