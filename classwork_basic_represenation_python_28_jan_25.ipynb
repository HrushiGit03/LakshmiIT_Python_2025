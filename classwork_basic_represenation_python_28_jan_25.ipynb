{
 "cells": [
  {
   "cell_type": "markdown",
   "id": "7184bbc7-b738-4ecf-b2e5-3b521df4661e",
   "metadata": {},
   "source": [
    "- Basic represenations\n",
    "\n",
    "- min max len\n",
    "\n",
    "- sorted  \n",
    "\n",
    "- reveresd\n",
    "\n",
    "- concatenation"
   ]
  },
  {
   "cell_type": "code",
   "execution_count": 6,
   "id": "def0410b-3810-4ef5-a492-bc1e4b2d8327",
   "metadata": {},
   "outputs": [
    {
     "name": "stdout",
     "output_type": "stream",
     "text": [
      "NareshIt\n",
      "8\n"
     ]
    }
   ],
   "source": [
    "#len and #print functions\n",
    "name='NareshIt'\n",
    "print(name)\n",
    "len=len(name)\n",
    "print(len)"
   ]
  },
  {
   "cell_type": "code",
   "execution_count": 1,
   "id": "5f62b660-c9fe-421c-97e7-530f99f90831",
   "metadata": {},
   "outputs": [
    {
     "name": "stdout",
     "output_type": "stream",
     "text": [
      "16\n"
     ]
    }
   ],
   "source": [
    "#len and print functions\n",
    "str2='NareshIt welcome'\n",
    "len1=len(str2)\n",
    "print(len1)"
   ]
  },
  {
   "cell_type": "code",
   "execution_count": 15,
   "id": "8876fa52-7b29-4433-a54c-3baff3d6f6d3",
   "metadata": {},
   "outputs": [
    {
     "name": "stdout",
     "output_type": "stream",
     "text": [
      "NareshIt Wecome\n",
      "NareshIt Wecome\n",
      "NareshIt Wecome\n"
     ]
    }
   ],
   "source": [
    "#concatenation function\n",
    "str1='NareshIt'\n",
    "str2='Wecome'\n",
    "print(str1+' '+str2)\n",
    "#concatenation function\n",
    "str1='NareshIt '\n",
    "str2='Wecome'\n",
    "print(str1+str2)\n",
    "str1='NareshIt'\n",
    "str2=' Wecome'\n",
    "print(str1+str2)"
   ]
  },
  {
   "cell_type": "code",
   "execution_count": 4,
   "id": "4bc883b7-3372-49f1-8de6-5909185ba30f",
   "metadata": {},
   "outputs": [
    {
     "name": "stdout",
     "output_type": "stream",
     "text": [
      "['I', 'N', 'a', 'e', 'h', 'r', 's', 't']\n"
     ]
    }
   ],
   "source": [
    "#sorted function\n",
    "ans=sorted('NareshIt')\n",
    "print(ans)"
   ]
  },
  {
   "cell_type": "code",
   "execution_count": 5,
   "id": "3e58a7a9-b714-471f-95d7-f27c2846d012",
   "metadata": {},
   "outputs": [
    {
     "name": "stdout",
     "output_type": "stream",
     "text": [
      "I\n",
      "N\n",
      "a\n",
      "e\n",
      "h\n",
      "r\n",
      "s\n",
      "t\n"
     ]
    }
   ],
   "source": [
    "#sorted function with loop\n",
    "ans=sorted('NareshIt')\n",
    "for i in ans:\n",
    "    print(i)"
   ]
  },
  {
   "cell_type": "code",
   "execution_count": 7,
   "id": "c3a7e3fc-960a-4c35-ba0b-b5e7f23b4b09",
   "metadata": {},
   "outputs": [
    {
     "data": {
      "text/plain": [
       "'t'"
      ]
     },
     "execution_count": 7,
     "metadata": {},
     "output_type": "execute_result"
    }
   ],
   "source": [
    "#max function with ascii value\n",
    "max('NareshIt')"
   ]
  },
  {
   "cell_type": "code",
   "execution_count": 10,
   "id": "29785472-3ac2-4ce4-aa1d-d4c3f652b13c",
   "metadata": {},
   "outputs": [
    {
     "name": "stdout",
     "output_type": "stream",
     "text": [
      "78 : N\n",
      "97 : a\n",
      "114 : r\n",
      "101 : e\n",
      "115 : s\n",
      "104 : h\n",
      "73 : I\n",
      "116 : t\n"
     ]
    }
   ],
   "source": [
    "#printing ascii values\n",
    "str1='NareshIt'\n",
    "for i in str1:\n",
    "    print(f'{ord(i)} : {i}')"
   ]
  },
  {
   "cell_type": "code",
   "execution_count": 11,
   "id": "36947fa6-ef2b-4130-a74c-c5a8cea22986",
   "metadata": {},
   "outputs": [
    {
     "data": {
      "text/plain": [
       "'t'"
      ]
     },
     "execution_count": 11,
     "metadata": {},
     "output_type": "execute_result"
    }
   ],
   "source": [
    "max('NareshIt')"
   ]
  },
  {
   "cell_type": "code",
   "execution_count": 12,
   "id": "851e03cd-29d2-4c5c-ad39-43a543134b59",
   "metadata": {},
   "outputs": [
    {
     "data": {
      "text/plain": [
       "'I'"
      ]
     },
     "execution_count": 12,
     "metadata": {},
     "output_type": "execute_result"
    }
   ],
   "source": [
    "#min function with ascii value\n",
    "min('NareshIt')"
   ]
  },
  {
   "cell_type": "code",
   "execution_count": 13,
   "id": "1c93cb7b-c8d9-4ad3-8d36-da3abdbd61c9",
   "metadata": {},
   "outputs": [
    {
     "data": {
      "text/plain": [
       "['t', 's', 'r', 'h', 'e', 'a', 'N', 'I']"
      ]
     },
     "execution_count": 13,
     "metadata": {},
     "output_type": "execute_result"
    }
   ],
   "source": [
    "#sorted function with reversable Flag\n",
    "sorted('NareshIt',reverse=True)\n"
   ]
  },
  {
   "cell_type": "code",
   "execution_count": 17,
   "id": "6fc89fb2-38f2-44ed-a7b2-408a6041554e",
   "metadata": {},
   "outputs": [
    {
     "data": {
      "text/plain": [
       "['I', 'N', 'a', 'e', 'h', 'r', 's', 't']"
      ]
     },
     "execution_count": 17,
     "metadata": {},
     "output_type": "execute_result"
    }
   ],
   "source": [
    "sorted('NareshIt') #works sort with asecnding order "
   ]
  },
  {
   "cell_type": "code",
   "execution_count": 18,
   "id": "11c4f3a1-1b1b-4c54-9db5-b47086152460",
   "metadata": {},
   "outputs": [
    {
     "ename": "TypeError",
     "evalue": "sorted expected 1 argument, got 0",
     "output_type": "error",
     "traceback": [
      "\u001b[1;31m---------------------------------------------------------------------------\u001b[0m",
      "\u001b[1;31mTypeError\u001b[0m                                 Traceback (most recent call last)",
      "Cell \u001b[1;32mIn[18], line 1\u001b[0m\n\u001b[1;32m----> 1\u001b[0m \u001b[38;5;28msorted\u001b[39m(iterable\u001b[38;5;241m=\u001b[39m\u001b[38;5;124m'\u001b[39m\u001b[38;5;124m NareshIt\u001b[39m\u001b[38;5;124m'\u001b[39m,reverse\u001b[38;5;241m=\u001b[39m\u001b[38;5;28;01mTrue\u001b[39;00m)\n",
      "\u001b[1;31mTypeError\u001b[0m: sorted expected 1 argument, got 0"
     ]
    }
   ],
   "source": [
    "sorted(iterable='NareshIt',reverse=True) #F / before with argument name"
   ]
  },
  {
   "cell_type": "code",
   "execution_count": 19,
   "id": "33cf690e-80b5-4401-a5ce-740cdcc09c4f",
   "metadata": {},
   "outputs": [
    {
     "data": {
      "text/plain": [
       "['t', 's', 'r', 'h', 'e', 'a', 'N', 'I']"
      ]
     },
     "execution_count": 19,
     "metadata": {},
     "output_type": "execute_result"
    }
   ],
   "source": [
    "sorted('NareshIt',reverse=True) #works / before without any argument name"
   ]
  },
  {
   "cell_type": "code",
   "execution_count": 20,
   "id": "0665135d-8207-434c-8cb9-66f7b6de8070",
   "metadata": {},
   "outputs": [
    {
     "ename": "TypeError",
     "evalue": "sorted expected 1 argument, got 0",
     "output_type": "error",
     "traceback": [
      "\u001b[1;31m---------------------------------------------------------------------------\u001b[0m",
      "\u001b[1;31mTypeError\u001b[0m                                 Traceback (most recent call last)",
      "Cell \u001b[1;32mIn[20], line 1\u001b[0m\n\u001b[1;32m----> 1\u001b[0m \u001b[38;5;28msorted\u001b[39m(iterable\u001b[38;5;241m=\u001b[39m\u001b[38;5;124m'\u001b[39m\u001b[38;5;124mNareshIt\u001b[39m\u001b[38;5;124m'\u001b[39m) \u001b[38;5;66;03m#F / before with argument name\u001b[39;00m\n\u001b[0;32m      2\u001b[0m \u001b[38;5;28msorted\u001b[39m(iterable\u001b[38;5;241m=\u001b[39m\u001b[38;5;124m'\u001b[39m\u001b[38;5;124mNareshIt\u001b[39m\u001b[38;5;124m'\u001b[39m)\n",
      "\u001b[1;31mTypeError\u001b[0m: sorted expected 1 argument, got 0"
     ]
    }
   ],
   "source": [
    "sorted(iterable='NareshIt') #F / before with argument name\n",
    "sorted(iterable='NareshIt') #F / before with argument name"
   ]
  },
  {
   "cell_type": "code",
   "execution_count": 24,
   "id": "d7e3d9c7-52fe-44df-bf39-e720ccb709a3",
   "metadata": {},
   "outputs": [
    {
     "name": "stdout",
     "output_type": "stream",
     "text": [
      "116: t\n",
      "73: I\n",
      "104: h\n",
      "115: s\n",
      "101: e\n",
      "114: r\n",
      "97: a\n",
      "78: N\n"
     ]
    }
   ],
   "source": [
    "str4='NareshIt'\n",
    "ans2=reversed(str4)\n",
    "for i in ans2:\n",
    "    print(f'{ord(i)}: {i}')"
   ]
  },
  {
   "cell_type": "code",
   "execution_count": 25,
   "id": "cd25d656-4b11-4458-9b2a-9e6a9cf02b77",
   "metadata": {},
   "outputs": [
    {
     "ename": "TypeError",
     "evalue": "add() got an unexpected keyword argument 'a'",
     "output_type": "error",
     "traceback": [
      "\u001b[1;31m---------------------------------------------------------------------------\u001b[0m",
      "\u001b[1;31mTypeError\u001b[0m                                 Traceback (most recent call last)",
      "Cell \u001b[1;32mIn[25], line 3\u001b[0m\n\u001b[0;32m      1\u001b[0m \u001b[38;5;28;01mdef\u001b[39;00m \u001b[38;5;21madd\u001b[39m(x,\u001b[38;5;241m/\u001b[39m,\u001b[38;5;241m*\u001b[39m,y,z):\n\u001b[0;32m      2\u001b[0m     \u001b[38;5;28mprint\u001b[39m(x\u001b[38;5;241m+\u001b[39my\u001b[38;5;241m+\u001b[39mz)\n\u001b[1;32m----> 3\u001b[0m add(a\u001b[38;5;241m=\u001b[39m\u001b[38;5;241m10\u001b[39m,b\u001b[38;5;241m=\u001b[39m\u001b[38;5;241m45\u001b[39m,c\u001b[38;5;241m=\u001b[39m\u001b[38;5;241m20\u001b[39m)\n",
      "\u001b[1;31mTypeError\u001b[0m: add() got an unexpected keyword argument 'a'"
     ]
    }
   ],
   "source": [
    "def add(x,/,*,y,z):\n",
    "    print(x+y+z)\n",
    "add(x=10,y=45,z=20) #/ before with argument name fails"
   ]
  },
  {
   "cell_type": "code",
   "execution_count": 27,
   "id": "7af0c8fc-c540-45cb-b51f-29b67b54839c",
   "metadata": {},
   "outputs": [
    {
     "name": "stdout",
     "output_type": "stream",
     "text": [
      "75\n"
     ]
    }
   ],
   "source": [
    "def add(x,/,*,y,z):\n",
    "    print(x+y+z)\n",
    "add(10,y=45,z=20) #/ before without argument name works here"
   ]
  },
  {
   "cell_type": "code",
   "execution_count": 28,
   "id": "955b3a3e-279d-4c61-a5dd-f7f1ef1c06f0",
   "metadata": {},
   "outputs": [
    {
     "ename": "SyntaxError",
     "evalue": "positional argument follows keyword argument (972806120.py, line 3)",
     "output_type": "error",
     "traceback": [
      "\u001b[1;36m  Cell \u001b[1;32mIn[28], line 3\u001b[1;36m\u001b[0m\n\u001b[1;33m    add(10,y=45,20)\u001b[0m\n\u001b[1;37m                  ^\u001b[0m\n\u001b[1;31mSyntaxError\u001b[0m\u001b[1;31m:\u001b[0m positional argument follows keyword argument\n"
     ]
    }
   ],
   "source": [
    "def add(x,/,*,y,z):\n",
    "    print(x+y+z)\n",
    "add(10,y=45,20) "
   ]
  },
  {
   "cell_type": "code",
   "execution_count": 30,
   "id": "7aed1269-7109-454e-9e10-39ebfda88d21",
   "metadata": {},
   "outputs": [
    {
     "ename": "TypeError",
     "evalue": "add() takes 1 positional argument but 3 were given",
     "output_type": "error",
     "traceback": [
      "\u001b[1;31m---------------------------------------------------------------------------\u001b[0m",
      "\u001b[1;31mTypeError\u001b[0m                                 Traceback (most recent call last)",
      "Cell \u001b[1;32mIn[30], line 3\u001b[0m\n\u001b[0;32m      1\u001b[0m \u001b[38;5;28;01mdef\u001b[39;00m \u001b[38;5;21madd\u001b[39m(x,\u001b[38;5;241m/\u001b[39m,\u001b[38;5;241m*\u001b[39m,y,z):\n\u001b[0;32m      2\u001b[0m     \u001b[38;5;28mprint\u001b[39m(x\u001b[38;5;241m+\u001b[39my\u001b[38;5;241m+\u001b[39mz)\n\u001b[1;32m----> 3\u001b[0m add(\u001b[38;5;241m10\u001b[39m,\u001b[38;5;241m45\u001b[39m,\u001b[38;5;241m20\u001b[39m)\n",
      "\u001b[1;31mTypeError\u001b[0m: add() takes 1 positional argument but 3 were given"
     ]
    }
   ],
   "source": [
    "def add(x,/,*,y,z):\n",
    "    print(x+y+z)\n",
    "add(10,45,20) #* after indicates provide the argument name after fail here *"
   ]
  },
  {
   "cell_type": "code",
   "execution_count": 31,
   "id": "4badc936-4699-4496-9121-af4ca2c0846d",
   "metadata": {},
   "outputs": [
    {
     "name": "stdout",
     "output_type": "stream",
     "text": [
      "75\n"
     ]
    }
   ],
   "source": [
    "def add(x,/,y,z):\n",
    "    print(x+y+z)\n",
    "add(10,45,20) #/ after you can use argument name, that is our wish works here"
   ]
  },
  {
   "cell_type": "code",
   "execution_count": null,
   "id": "0561f4b7-0da2-4931-ad8d-3ef17000d569",
   "metadata": {},
   "outputs": [],
   "source": []
  }
 ],
 "metadata": {
  "kernelspec": {
   "display_name": "Python 3 (ipykernel)",
   "language": "python",
   "name": "python3"
  },
  "language_info": {
   "codemirror_mode": {
    "name": "ipython",
    "version": 3
   },
   "file_extension": ".py",
   "mimetype": "text/x-python",
   "name": "python",
   "nbconvert_exporter": "python",
   "pygments_lexer": "ipython3",
   "version": "3.12.7"
  }
 },
 "nbformat": 4,
 "nbformat_minor": 5
}
