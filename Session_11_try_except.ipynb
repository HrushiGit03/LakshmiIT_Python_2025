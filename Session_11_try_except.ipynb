{
 "cells": [
  {
   "cell_type": "code",
   "execution_count": 1,
   "id": "c9588509-8146-48e3-a8e4-66e8c0144ab6",
   "metadata": {},
   "outputs": [
    {
     "ename": "ZeroDivisionError",
     "evalue": "division by zero",
     "output_type": "error",
     "traceback": [
      "\u001b[1;31m---------------------------------------------------------------------------\u001b[0m",
      "\u001b[1;31mZeroDivisionError\u001b[0m                         Traceback (most recent call last)",
      "Cell \u001b[1;32mIn[1], line 3\u001b[0m\n\u001b[0;32m      1\u001b[0m a\u001b[38;5;241m=\u001b[39m\u001b[38;5;241m10\u001b[39m\n\u001b[0;32m      2\u001b[0m b\u001b[38;5;241m=\u001b[39m\u001b[38;5;241m0\u001b[39m\n\u001b[1;32m----> 3\u001b[0m c\u001b[38;5;241m=\u001b[39ma\u001b[38;5;241m/\u001b[39mb\n\u001b[0;32m      4\u001b[0m \u001b[38;5;28mprint\u001b[39m(\u001b[38;5;124m'\u001b[39m\u001b[38;5;124mhello\u001b[39m\u001b[38;5;124m'\u001b[39m)\n",
      "\u001b[1;31mZeroDivisionError\u001b[0m: division by zero"
     ]
    }
   ],
   "source": [
    "a=10\n",
    "b=0\n",
    "c=a/b\n",
    "print('hello')"
   ]
  },
  {
   "cell_type": "code",
   "execution_count": 4,
   "id": "8a0d5414-78ec-496b-9459-0010a908fefd",
   "metadata": {},
   "outputs": [
    {
     "name": "stdout",
     "output_type": "stream",
     "text": [
      "Error coming in try block\n",
      "zero divison error\n"
     ]
    }
   ],
   "source": [
    "try:\n",
    "    a=10\n",
    "    b=0\n",
    "    c=a/b # we will get error here\n",
    "    print(c)\n",
    "except:\n",
    "    print('Error coming in try block')\n",
    "    print('zero divison error')\n",
    "        \n",
    "      "
   ]
  },
  {
   "cell_type": "code",
   "execution_count": 5,
   "id": "9ff51103-f260-440e-8cda-b6ca9b26bf26",
   "metadata": {},
   "outputs": [
    {
     "name": "stdout",
     "output_type": "stream",
     "text": [
      "1.0\n"
     ]
    }
   ],
   "source": [
    "try:\n",
    "    a=10\n",
    "    b=10\n",
    "    c=a/b # we will get error here\n",
    "    print(c)\n",
    "except:\n",
    "    print('Error coming in try block')\n",
    "    print('zero divison error')"
   ]
  },
  {
   "cell_type": "code",
   "execution_count": null,
   "id": "1961001b-c7e5-44e2-acaa-e0a5d81734b0",
   "metadata": {},
   "outputs": [],
   "source": [
    "- syntax error\n",
    "- attribute error\n",
    "- Name error\n",
    "- type error\n",
    "- indentation error\n",
    "- module ot found error\n",
    "- zero divison error\n",
    "- object not callable error"
   ]
  },
  {
   "cell_type": "code",
   "execution_count": 6,
   "id": "e1860be1-f137-48b8-9e77-a6b55cd95ab3",
   "metadata": {},
   "outputs": [
    {
     "ename": "ModuleNotFoundError",
     "evalue": "No module named 'nareshit'",
     "output_type": "error",
     "traceback": [
      "\u001b[1;31m---------------------------------------------------------------------------\u001b[0m",
      "\u001b[1;31mModuleNotFoundError\u001b[0m                       Traceback (most recent call last)",
      "Cell \u001b[1;32mIn[6], line 1\u001b[0m\n\u001b[1;32m----> 1\u001b[0m \u001b[38;5;28;01mimport\u001b[39;00m \u001b[38;5;21;01mnareshit\u001b[39;00m\n",
      "\u001b[1;31mModuleNotFoundError\u001b[0m: No module named 'nareshit'"
     ]
    }
   ],
   "source": [
    "import nareshit"
   ]
  },
  {
   "cell_type": "code",
   "execution_count": 7,
   "id": "ce5eaeb9-1a9b-4d4a-9008-54ff790c89f1",
   "metadata": {},
   "outputs": [
    {
     "ename": "AttributeError",
     "evalue": "module 'random' has no attribute 'pushpa'",
     "output_type": "error",
     "traceback": [
      "\u001b[1;31m---------------------------------------------------------------------------\u001b[0m",
      "\u001b[1;31mAttributeError\u001b[0m                            Traceback (most recent call last)",
      "Cell \u001b[1;32mIn[7], line 2\u001b[0m\n\u001b[0;32m      1\u001b[0m \u001b[38;5;28;01mimport\u001b[39;00m \u001b[38;5;21;01mrandom\u001b[39;00m\n\u001b[1;32m----> 2\u001b[0m random\u001b[38;5;241m.\u001b[39mpushpa\n",
      "\u001b[1;31mAttributeError\u001b[0m: module 'random' has no attribute 'pushpa'"
     ]
    }
   ],
   "source": [
    "import random\n",
    "random.pushpa"
   ]
  },
  {
   "cell_type": "code",
   "execution_count": 8,
   "id": "7db939fd-27d6-427d-bc9b-d8e01be3bb90",
   "metadata": {},
   "outputs": [
    {
     "ename": "NameError",
     "evalue": "name 'num1' is not defined",
     "output_type": "error",
     "traceback": [
      "\u001b[1;31m---------------------------------------------------------------------------\u001b[0m",
      "\u001b[1;31mNameError\u001b[0m                                 Traceback (most recent call last)",
      "Cell \u001b[1;32mIn[8], line 1\u001b[0m\n\u001b[1;32m----> 1\u001b[0m c\u001b[38;5;241m=\u001b[39mnum1\u001b[38;5;241m+\u001b[39mnum2\n",
      "\u001b[1;31mNameError\u001b[0m: name 'num1' is not defined"
     ]
    }
   ],
   "source": [
    "c=num1+num2"
   ]
  },
  {
   "cell_type": "code",
   "execution_count": 9,
   "id": "075f7ed2-25bb-4d1f-8c4c-f6b7062074d4",
   "metadata": {},
   "outputs": [
    {
     "ename": "TypeError",
     "evalue": "can't multiply sequence by non-int of type 'str'",
     "output_type": "error",
     "traceback": [
      "\u001b[1;31m---------------------------------------------------------------------------\u001b[0m",
      "\u001b[1;31mTypeError\u001b[0m                                 Traceback (most recent call last)",
      "Cell \u001b[1;32mIn[9], line 1\u001b[0m\n\u001b[1;32m----> 1\u001b[0m \u001b[38;5;124m'\u001b[39m\u001b[38;5;124m10\u001b[39m\u001b[38;5;124m'\u001b[39m\u001b[38;5;241m*\u001b[39m\u001b[38;5;124m'\u001b[39m\u001b[38;5;124m10\u001b[39m\u001b[38;5;124m'\u001b[39m\n",
      "\u001b[1;31mTypeError\u001b[0m: can't multiply sequence by non-int of type 'str'"
     ]
    }
   ],
   "source": [
    "'10'*'10'"
   ]
  },
  {
   "cell_type": "code",
   "execution_count": 10,
   "id": "b0f7c38a-96bd-41e0-9c0c-4567b4f0c8e7",
   "metadata": {},
   "outputs": [
    {
     "ename": "SyntaxError",
     "evalue": "invalid syntax (121500672.py, line 1)",
     "output_type": "error",
     "traceback": [
      "\u001b[1;36m  Cell \u001b[1;32mIn[10], line 1\u001b[1;36m\u001b[0m\n\u001b[1;33m    if:\u001b[0m\n\u001b[1;37m      ^\u001b[0m\n\u001b[1;31mSyntaxError\u001b[0m\u001b[1;31m:\u001b[0m invalid syntax\n"
     ]
    }
   ],
   "source": [
    "if:\n",
    "print('hello')"
   ]
  },
  {
   "cell_type": "code",
   "execution_count": 11,
   "id": "8efda714-b0e7-4d3c-a5ef-99e1b8b7b519",
   "metadata": {},
   "outputs": [
    {
     "ename": "IndentationError",
     "evalue": "expected an indented block after 'if' statement on line 1 (3173271649.py, line 2)",
     "output_type": "error",
     "traceback": [
      "\u001b[1;36m  Cell \u001b[1;32mIn[11], line 2\u001b[1;36m\u001b[0m\n\u001b[1;33m    a=10\u001b[0m\n\u001b[1;37m    ^\u001b[0m\n\u001b[1;31mIndentationError\u001b[0m\u001b[1;31m:\u001b[0m expected an indented block after 'if' statement on line 1\n"
     ]
    }
   ],
   "source": [
    "if True:\n",
    "a=10"
   ]
  },
  {
   "cell_type": "code",
   "execution_count": 12,
   "id": "e130ce57-c411-4ac7-bc5d-fa89c6a8a6e0",
   "metadata": {},
   "outputs": [
    {
     "ename": "ZeroDivisionError",
     "evalue": "division by zero",
     "output_type": "error",
     "traceback": [
      "\u001b[1;31m---------------------------------------------------------------------------\u001b[0m",
      "\u001b[1;31mZeroDivisionError\u001b[0m                         Traceback (most recent call last)",
      "Cell \u001b[1;32mIn[12], line 3\u001b[0m\n\u001b[0;32m      1\u001b[0m a\u001b[38;5;241m=\u001b[39m\u001b[38;5;241m20\u001b[39m\n\u001b[0;32m      2\u001b[0m b\u001b[38;5;241m=\u001b[39m\u001b[38;5;241m0\u001b[39m\n\u001b[1;32m----> 3\u001b[0m c\u001b[38;5;241m=\u001b[39ma\u001b[38;5;241m/\u001b[39mb\n\u001b[0;32m      4\u001b[0m \u001b[38;5;28mprint\u001b[39m(c)\n",
      "\u001b[1;31mZeroDivisionError\u001b[0m: division by zero"
     ]
    }
   ],
   "source": [
    "a=20\n",
    "b=0\n",
    "c=a/b\n",
    "print(c)\n"
   ]
  },
  {
   "cell_type": "code",
   "execution_count": 15,
   "id": "ac60f182-fe20-45ba-89fd-fbae2eead666",
   "metadata": {},
   "outputs": [
    {
     "name": "stdin",
     "output_type": "stream",
     "text": [
      "Enter the n1: 10\n",
      "Enter the n2 : 0\n"
     ]
    },
    {
     "name": "stdout",
     "output_type": "stream",
     "text": [
      "name 'n12' is not defined\n"
     ]
    }
   ],
   "source": [
    "try:\n",
    "    n1=eval(input('Enter the n1:'))\n",
    "    n2=eval(input('Enter the n2 :'))\n",
    "    div=n12/n2\n",
    "    print('The divison is ',d)\n",
    "except Exception as e:\n",
    "    print(e)"
   ]
  },
  {
   "cell_type": "code",
   "execution_count": 17,
   "id": "3902a6d3-7ba2-44aa-80c8-65e4295e1062",
   "metadata": {},
   "outputs": [
    {
     "name": "stdout",
     "output_type": "stream",
     "text": [
      "Exception block No module named 'nareshit'\n"
     ]
    }
   ],
   "source": [
    "try:\n",
    "    import nareshit\n",
    "except Exception as e:\n",
    "    print('Exception block',e)"
   ]
  },
  {
   "cell_type": "code",
   "execution_count": 20,
   "id": "31dff81f-4ae6-4ee4-9e3b-409c485e0eb2",
   "metadata": {},
   "outputs": [
    {
     "name": "stdout",
     "output_type": "stream",
     "text": [
      "Exp block module 'math' has no attribute 'abc'\n"
     ]
    }
   ],
   "source": [
    "try:\n",
    "    import math\n",
    "    math.abc\n",
    "except Exception as e:\n",
    "    print('Exp block',e)\n",
    "  "
   ]
  },
  {
   "cell_type": "code",
   "execution_count": 23,
   "id": "d5800536-35eb-4625-a56a-a18380f29ec3",
   "metadata": {},
   "outputs": [
    {
     "name": "stdout",
     "output_type": "stream",
     "text": [
      "Exp block Name error name 'i' is not defined\n"
     ]
    }
   ],
   "source": [
    "try:\n",
    "    print(i)\n",
    "except Exception as e:\n",
    "    print('Exp block Name error',e)"
   ]
  },
  {
   "cell_type": "code",
   "execution_count": 26,
   "id": "97355511-49f2-4c10-9c3e-00709fd0d444",
   "metadata": {},
   "outputs": [
    {
     "name": "stdin",
     "output_type": "stream",
     "text": [
      "Enter the n1: Hrushi\n"
     ]
    },
    {
     "name": "stdout",
     "output_type": "stream",
     "text": [
      "Exp : catch block : name 'Hrushi' is not defined\n"
     ]
    }
   ],
   "source": [
    "try:\n",
    "    n1=eval(input('Enter the n1:'))\n",
    "    n2=eval(input('Enter the n2 :'))\n",
    "    div=n1/n2\n",
    "    print('The divison is ',d)\n",
    "except Exception as e:\n",
    "    print('Exp : catch block :',e)"
   ]
  },
  {
   "cell_type": "code",
   "execution_count": 28,
   "id": "425594ec-03fc-400b-b665-031b0532d22e",
   "metadata": {},
   "outputs": [
    {
     "ename": "SyntaxError",
     "evalue": "invalid syntax (1043522400.py, line 2)",
     "output_type": "error",
     "traceback": [
      "\u001b[1;36m  Cell \u001b[1;32mIn[28], line 2\u001b[1;36m\u001b[0m\n\u001b[1;33m    string str1=10\u001b[0m\n\u001b[1;37m           ^\u001b[0m\n\u001b[1;31mSyntaxError\u001b[0m\u001b[1;31m:\u001b[0m invalid syntax\n"
     ]
    }
   ],
   "source": [
    "try:\n",
    "    string str1=10\n",
    "except Exception as e:\n",
    "    print('Exp in catch block',e)"
   ]
  },
  {
   "cell_type": "code",
   "execution_count": 29,
   "id": "51080bb6-e29d-4784-b9a9-71e608571e2d",
   "metadata": {},
   "outputs": [
    {
     "ename": "SyntaxError",
     "evalue": "invalid syntax (4037783368.py, line 2)",
     "output_type": "error",
     "traceback": [
      "\u001b[1;36m  Cell \u001b[1;32mIn[29], line 2\u001b[1;36m\u001b[0m\n\u001b[1;33m    str a='Hrushi'\u001b[0m\n\u001b[1;37m        ^\u001b[0m\n\u001b[1;31mSyntaxError\u001b[0m\u001b[1;31m:\u001b[0m invalid syntax\n"
     ]
    }
   ],
   "source": [
    "try:\n",
    "    str a='Hrushi'\n",
    "    int=str\n",
    "except Exception as e:\n",
    "    print('Exp in catch block1',e)"
   ]
  },
  {
   "cell_type": "code",
   "execution_count": 35,
   "id": "11fc2f41-94c8-4d65-8507-3a5c4af448b5",
   "metadata": {},
   "outputs": [
    {
     "ename": "SyntaxError",
     "evalue": "invalid syntax (151041210.py, line 3)",
     "output_type": "error",
     "traceback": [
      "\u001b[1;36m  Cell \u001b[1;32mIn[35], line 3\u001b[1;36m\u001b[0m\n\u001b[1;33m    float f=a\u001b[0m\n\u001b[1;37m          ^\u001b[0m\n\u001b[1;31mSyntaxError\u001b[0m\u001b[1;31m:\u001b[0m invalid syntax\n"
     ]
    }
   ],
   "source": [
    "try:\n",
    "    a = 10.2\n",
    "    float f=a\n",
    "  \n",
    "except Exception as e:\n",
    "    print('Exp in catch block1',e)"
   ]
  },
  {
   "cell_type": "code",
   "execution_count": 40,
   "id": "1c40fb8a-1b79-48f7-813a-3a84c495d0ee",
   "metadata": {},
   "outputs": [
    {
     "name": "stdin",
     "output_type": "stream",
     "text": [
      "enter the number: n1 45\n"
     ]
    },
    {
     "name": "stdout",
     "output_type": "stream",
     "text": [
      "Error in block: name 'n21' is not defined\n",
      "a+b 45\n"
     ]
    }
   ],
   "source": [
    "try:\n",
    "    n1=eval(input('enter the number: n1'))\n",
    "    if(n1%2==0):\n",
    "        print(f\" {n12} is even number\")\n",
    "    else:\n",
    "        print(f\" {n21} is odd number\")\n",
    "except Exception as e:\n",
    "    print('Error in block:',e)\n",
    "    a=10\n",
    "    b=35\n",
    "    print('a+b',a+b)"
   ]
  },
  {
   "cell_type": "code",
   "execution_count": null,
   "id": "ab83b9fa-6a09-49a7-8cc6-5eabc58da06c",
   "metadata": {},
   "outputs": [],
   "source": []
  }
 ],
 "metadata": {
  "kernelspec": {
   "display_name": "Python 3 (ipykernel)",
   "language": "python",
   "name": "python3"
  },
  "language_info": {
   "codemirror_mode": {
    "name": "ipython",
    "version": 3
   },
   "file_extension": ".py",
   "mimetype": "text/x-python",
   "name": "python",
   "nbconvert_exporter": "python",
   "pygments_lexer": "ipython3",
   "version": "3.12.7"
  }
 },
 "nbformat": 4,
 "nbformat_minor": 5
}
