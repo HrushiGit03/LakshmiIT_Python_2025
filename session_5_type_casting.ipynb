{
 "cells": [
  {
   "cell_type": "markdown",
   "id": "377c2d63-0704-4c81-8bf3-04f75cede34d",
   "metadata": {},
   "source": [
    "##Type Casting\n",
    "- covert one data type to other data type\n",
    "- we learned 4 data types\n",
    "- inetger : int\n",
    "- float : float\n",
    "- boolean : bool\n",
    "- string : str"
   ]
  },
  {
   "cell_type": "code",
   "execution_count": null,
   "id": "abcd5aed-3db0-4bca-9215-a18150a362de",
   "metadata": {},
   "outputs": [],
   "source": []
  },
  {
   "cell_type": "code",
   "execution_count": null,
   "id": "d40b43ec-8799-4eea-a859-a4f1518c4841",
   "metadata": {},
   "outputs": [],
   "source": []
  },
  {
   "cell_type": "markdown",
   "id": "adde287f-8de1-4560-912c-08c4b5b199a2",
   "metadata": {},
   "source": [
    "**int to other data types**"
   ]
  },
  {
   "cell_type": "code",
   "execution_count": 5,
   "id": "846fef40-a4ac-4f14-925d-1efd5147e6a7",
   "metadata": {},
   "outputs": [
    {
     "data": {
      "text/plain": [
       "int"
      ]
     },
     "execution_count": 5,
     "metadata": {},
     "output_type": "execute_result"
    }
   ],
   "source": [
    "number=100\n",
    "number\n",
    "type(number)"
   ]
  },
  {
   "cell_type": "code",
   "execution_count": 7,
   "id": "2f97b9b9-69dd-4ca9-a78f-86c43b307c27",
   "metadata": {},
   "outputs": [
    {
     "data": {
      "text/plain": [
       "float"
      ]
     },
     "execution_count": 7,
     "metadata": {},
     "output_type": "execute_result"
    }
   ],
   "source": [
    "float_number=float(number)\n",
    "type(float_number)"
   ]
  },
  {
   "cell_type": "code",
   "execution_count": 8,
   "id": "75145c4d-f54c-40e7-a8c4-1056f70b61a6",
   "metadata": {},
   "outputs": [
    {
     "data": {
      "text/plain": [
       "bool"
      ]
     },
     "execution_count": 8,
     "metadata": {},
     "output_type": "execute_result"
    }
   ],
   "source": [
    "bool_number=bool(number)\n",
    "type(bool_number)"
   ]
  },
  {
   "cell_type": "code",
   "execution_count": 9,
   "id": "a24c7601-92a1-4710-b416-5df777414086",
   "metadata": {},
   "outputs": [
    {
     "data": {
      "text/plain": [
       "str"
      ]
     },
     "execution_count": 9,
     "metadata": {},
     "output_type": "execute_result"
    }
   ],
   "source": [
    "str_number=str(number)\n",
    "type(str_number)"
   ]
  },
  {
   "cell_type": "code",
   "execution_count": 10,
   "id": "dc1b9ed1-cac9-49c7-9f50-62f8cb91e170",
   "metadata": {},
   "outputs": [
    {
     "data": {
      "text/plain": [
       "(100.0, True, '100')"
      ]
     },
     "execution_count": 10,
     "metadata": {},
     "output_type": "execute_result"
    }
   ],
   "source": [
    "float(100),bool(100),str(100)"
   ]
  },
  {
   "cell_type": "code",
   "execution_count": 11,
   "id": "ed9d9d48-5354-46d4-992c-3d788605ce99",
   "metadata": {},
   "outputs": [
    {
     "data": {
      "text/plain": [
       "'100'"
      ]
     },
     "execution_count": 11,
     "metadata": {},
     "output_type": "execute_result"
    }
   ],
   "source": [
    "float(100)\n",
    "bool(100)\n",
    "str(100)"
   ]
  },
  {
   "cell_type": "code",
   "execution_count": 15,
   "id": "a7672c09-bbb1-43cf-8ce9-e67a9abc8d08",
   "metadata": {},
   "outputs": [
    {
     "name": "stdout",
     "output_type": "stream",
     "text": [
      "100.0\n",
      "True\n",
      "-100\n"
     ]
    }
   ],
   "source": [
    "print(float(100))\n",
    "print(bool(1))\n",
    "print(str(-100))"
   ]
  },
  {
   "cell_type": "markdown",
   "id": "3190861b-1bb0-41e7-92e9-a18f464d0048",
   "metadata": {},
   "source": [
    "**In Math matics 0 means off or False**"
   ]
  },
  {
   "cell_type": "markdown",
   "id": "f63cddec-346d-40c8-9028-bf951ce643b6",
   "metadata": {},
   "source": [
    "- False means Off\n",
    "- Zero means  Off"
   ]
  },
  {
   "cell_type": "code",
   "execution_count": 17,
   "id": "747d9f73-a1ca-4956-a11c-7dbb0a92c07d",
   "metadata": {},
   "outputs": [
    {
     "name": "stdout",
     "output_type": "stream",
     "text": [
      "0.0\n",
      "False\n",
      "0\n"
     ]
    }
   ],
   "source": [
    "print(float(0))\n",
    "print(bool(0))\n",
    "print(str(0))"
   ]
  },
  {
   "cell_type": "markdown",
   "id": "bc1609dd-2362-4a8f-8f17-758701206b10",
   "metadata": {},
   "source": [
    "**Float to other data type**"
   ]
  },
  {
   "cell_type": "code",
   "execution_count": 18,
   "id": "e4466312-5258-4cdb-b18b-000b7c4bef03",
   "metadata": {},
   "outputs": [
    {
     "data": {
      "text/plain": [
       "int"
      ]
     },
     "execution_count": 18,
     "metadata": {},
     "output_type": "execute_result"
    }
   ],
   "source": [
    "float_num1=int(10)\n",
    "type(float_num1)"
   ]
  },
  {
   "cell_type": "code",
   "execution_count": 19,
   "id": "40a1140d-cd5e-4d25-8a35-fe07f5197e7f",
   "metadata": {},
   "outputs": [
    {
     "data": {
      "text/plain": [
       "True"
      ]
     },
     "execution_count": 19,
     "metadata": {},
     "output_type": "execute_result"
    }
   ],
   "source": [
    "bool(float_num1)"
   ]
  },
  {
   "cell_type": "code",
   "execution_count": 20,
   "id": "a73f95c9-008e-4ef8-8f18-bc6b4da14fb7",
   "metadata": {},
   "outputs": [
    {
     "data": {
      "text/plain": [
       "'10'"
      ]
     },
     "execution_count": 20,
     "metadata": {},
     "output_type": "execute_result"
    }
   ],
   "source": [
    "str(float_num1)"
   ]
  },
  {
   "cell_type": "code",
   "execution_count": 21,
   "id": "122e331d-2f75-4b79-85ff-2c9c68b920bb",
   "metadata": {},
   "outputs": [
    {
     "name": "stdout",
     "output_type": "stream",
     "text": [
      "100\n"
     ]
    }
   ],
   "source": [
    "n1=int(100.5)\n",
    "print(n1)"
   ]
  },
  {
   "cell_type": "code",
   "execution_count": 22,
   "id": "def6dea8-91f8-4e9f-ab72-420c0cd43cf8",
   "metadata": {},
   "outputs": [
    {
     "data": {
      "text/plain": [
       "(100.5, True, '100.5')"
      ]
     },
     "execution_count": 22,
     "metadata": {},
     "output_type": "execute_result"
    }
   ],
   "source": [
    "float(100.5),bool(100.5),str(100.5)"
   ]
  },
  {
   "cell_type": "code",
   "execution_count": 23,
   "id": "02c28132-ca97-4a13-8204-1042f30fc035",
   "metadata": {},
   "outputs": [
    {
     "name": "stdout",
     "output_type": "stream",
     "text": [
      "100.5\n",
      "True\n",
      "100.5\n"
     ]
    }
   ],
   "source": [
    "print(float(100.5))\n",
    "print(bool(100.5))\n",
    "print(str(100.5))"
   ]
  },
  {
   "cell_type": "code",
   "execution_count": 25,
   "id": "abd0b74b-bd95-4ee2-b381-b3bda8469f51",
   "metadata": {},
   "outputs": [
    {
     "name": "stdout",
     "output_type": "stream",
     "text": [
      "0\n",
      "False\n",
      "0.0\n"
     ]
    }
   ],
   "source": [
    "n1=int(0.0)\n",
    "n2=bool(0.0)\n",
    "n3=str(0.0)\n",
    "print(n1)\n",
    "print(n2)\n",
    "print(n3)"
   ]
  },
  {
   "cell_type": "markdown",
   "id": "325094e1-6b6b-44d9-932d-2692f82456f5",
   "metadata": {},
   "source": [
    "**String to other data types**"
   ]
  },
  {
   "cell_type": "code",
   "execution_count": 30,
   "id": "bd82764a-8807-4ef5-92d2-dc315c7dce9d",
   "metadata": {},
   "outputs": [
    {
     "ename": "TypeError",
     "evalue": "'str' object is not callable",
     "output_type": "error",
     "traceback": [
      "\u001b[1;31m---------------------------------------------------------------------------\u001b[0m",
      "\u001b[1;31mTypeError\u001b[0m                                 Traceback (most recent call last)",
      "Cell \u001b[1;32mIn[30], line 1\u001b[0m\n\u001b[1;32m----> 1\u001b[0m \u001b[38;5;28mbool\u001b[39m(\u001b[38;5;124m'\u001b[39m\u001b[38;5;124mapple\u001b[39m\u001b[38;5;124m'\u001b[39m)\n",
      "\u001b[1;31mTypeError\u001b[0m: 'str' object is not callable"
     ]
    }
   ],
   "source": [
    "bool('apple')"
   ]
  },
  {
   "cell_type": "code",
   "execution_count": 31,
   "id": "367eb978-66ef-4032-9641-e4db8e41abd2",
   "metadata": {},
   "outputs": [
    {
     "ename": "TypeError",
     "evalue": "'str' object is not callable",
     "output_type": "error",
     "traceback": [
      "\u001b[1;31m---------------------------------------------------------------------------\u001b[0m",
      "\u001b[1;31mTypeError\u001b[0m                                 Traceback (most recent call last)",
      "Cell \u001b[1;32mIn[31], line 1\u001b[0m\n\u001b[1;32m----> 1\u001b[0m \u001b[38;5;28mbool\u001b[39m(\u001b[38;5;124m'\u001b[39m\u001b[38;5;124m'\u001b[39m)\n",
      "\u001b[1;31mTypeError\u001b[0m: 'str' object is not callable"
     ]
    }
   ],
   "source": [
    "bool('')"
   ]
  },
  {
   "cell_type": "code",
   "execution_count": 32,
   "id": "76abe6c7-7e29-44bd-aea7-7e7644a4ad8d",
   "metadata": {},
   "outputs": [
    {
     "ename": "TypeError",
     "evalue": "'str' object is not callable",
     "output_type": "error",
     "traceback": [
      "\u001b[1;31m---------------------------------------------------------------------------\u001b[0m",
      "\u001b[1;31mTypeError\u001b[0m                                 Traceback (most recent call last)",
      "Cell \u001b[1;32mIn[32], line 1\u001b[0m\n\u001b[1;32m----> 1\u001b[0m \u001b[38;5;28mbool\u001b[39m(\u001b[38;5;124m'\u001b[39m\u001b[38;5;124m'\u001b[39m)\n",
      "\u001b[1;31mTypeError\u001b[0m: 'str' object is not callable"
     ]
    }
   ],
   "source": [
    "bool('')"
   ]
  },
  {
   "cell_type": "code",
   "execution_count": 33,
   "id": "9bd659c6-fdab-4dbb-8619-f2b59f94c27f",
   "metadata": {},
   "outputs": [
    {
     "data": {
      "text/plain": [
       "5"
      ]
     },
     "execution_count": 33,
     "metadata": {},
     "output_type": "execute_result"
    }
   ],
   "source": [
    "len('apple')"
   ]
  },
  {
   "cell_type": "code",
   "execution_count": 34,
   "id": "1e9f818c-fccd-497d-beb2-6a459122f4ac",
   "metadata": {},
   "outputs": [
    {
     "ename": "TypeError",
     "evalue": "'str' object is not callable",
     "output_type": "error",
     "traceback": [
      "\u001b[1;31m---------------------------------------------------------------------------\u001b[0m",
      "\u001b[1;31mTypeError\u001b[0m                                 Traceback (most recent call last)",
      "Cell \u001b[1;32mIn[34], line 1\u001b[0m\n\u001b[1;32m----> 1\u001b[0m \u001b[38;5;28mbool\u001b[39m(\u001b[38;5;124m'\u001b[39m\u001b[38;5;124m0\u001b[39m\u001b[38;5;124m'\u001b[39m)\n",
      "\u001b[1;31mTypeError\u001b[0m: 'str' object is not callable"
     ]
    }
   ],
   "source": [
    "bool('0')"
   ]
  },
  {
   "cell_type": "markdown",
   "id": "ac30fe2c-e724-4f12-b480-2b9d49dfe0ac",
   "metadata": {},
   "source": [
    "- for number 0 and 0.0 boolean conversion gives **False**\n",
    "- for strings empty boolean conversion gives **False**"
   ]
  },
  {
   "cell_type": "code",
   "execution_count": 36,
   "id": "300033bd-6e32-4e0f-9a09-826bd4fe2691",
   "metadata": {},
   "outputs": [
    {
     "ename": "TypeError",
     "evalue": "'str' object is not callable",
     "output_type": "error",
     "traceback": [
      "\u001b[1;31m---------------------------------------------------------------------------\u001b[0m",
      "\u001b[1;31mTypeError\u001b[0m                                 Traceback (most recent call last)",
      "Cell \u001b[1;32mIn[36], line 3\u001b[0m\n\u001b[0;32m      1\u001b[0m \u001b[38;5;28mfloat\u001b[39m( \u001b[38;5;124m'\u001b[39m\u001b[38;5;124m10\u001b[39m\u001b[38;5;124m'\u001b[39m )\n\u001b[0;32m      2\u001b[0m \u001b[38;5;28mint\u001b[39m( \u001b[38;5;124m'\u001b[39m\u001b[38;5;124m10\u001b[39m\u001b[38;5;124m'\u001b[39m )\n\u001b[1;32m----> 3\u001b[0m \u001b[38;5;28mbool\u001b[39m( \u001b[38;5;124m'\u001b[39m\u001b[38;5;124m10\u001b[39m\u001b[38;5;124m'\u001b[39m )\n",
      "\u001b[1;31mTypeError\u001b[0m: 'str' object is not callable"
     ]
    }
   ],
   "source": [
    "float( '10' )\n",
    "int( '10' )\n",
    "bool( '10' )"
   ]
  },
  {
   "cell_type": "code",
   "execution_count": 37,
   "id": "3ec90788-a25a-49cd-8122-04cc25a84674",
   "metadata": {},
   "outputs": [
    {
     "name": "stdout",
     "output_type": "stream",
     "text": [
      "1\n",
      "1.0\n",
      "True\n",
      "0\n",
      "0.0\n",
      "False\n"
     ]
    }
   ],
   "source": [
    "print(int(True))\n",
    "print(float(True))\n",
    "print(str(True))\n",
    "print(int(False))\n",
    "print(float(False))\n",
    "print(str(False))"
   ]
  },
  {
   "cell_type": "code",
   "execution_count": 1,
   "id": "004279c4-958e-4b36-8f21-c4494e3c15d9",
   "metadata": {},
   "outputs": [
    {
     "data": {
      "text/plain": [
       "0"
      ]
     },
     "execution_count": 1,
     "metadata": {},
     "output_type": "execute_result"
    }
   ],
   "source": [
    "int(bool(0))"
   ]
  },
  {
   "cell_type": "code",
   "execution_count": 2,
   "id": "8c465503-4c62-4cdf-9d66-1006b4a5b71d",
   "metadata": {},
   "outputs": [
    {
     "data": {
      "text/plain": [
       "True"
      ]
     },
     "execution_count": 2,
     "metadata": {},
     "output_type": "execute_result"
    }
   ],
   "source": [
    "bool('10.5')"
   ]
  },
  {
   "cell_type": "code",
   "execution_count": 16,
   "id": "2485eb29-e68e-484d-b73d-350903867663",
   "metadata": {},
   "outputs": [
    {
     "name": "stdout",
     "output_type": "stream",
     "text": [
      "10\n",
      "10.0\n",
      "True\n",
      "True\n",
      "1\n",
      "0\n",
      "1.0\n",
      "0.0\n",
      "True\n",
      "False\n",
      "10\n",
      "False\n"
     ]
    }
   ],
   "source": [
    "print(int(10))\n",
    "print(float('10'))\n",
    "print(bool(10))\n",
    "print(bool('10.5'))\n",
    "print(int(True))\n",
    "print(int(False))\n",
    "print(float(True))\n",
    "print(float(False))\n",
    "print(str(True))\n",
    "print(str(False))\n",
    "print(int('10'))\n",
    "print(bool(0.0))\n",
    "#int('10.5') # This will not work"
   ]
  },
  {
   "cell_type": "code",
   "execution_count": null,
   "id": "4657b208-4464-40f0-9f65-3d5668567e9a",
   "metadata": {},
   "outputs": [],
   "source": []
  }
 ],
 "metadata": {
  "kernelspec": {
   "display_name": "Python 3 (ipykernel)",
   "language": "python",
   "name": "python3"
  },
  "language_info": {
   "codemirror_mode": {
    "name": "ipython",
    "version": 3
   },
   "file_extension": ".py",
   "mimetype": "text/x-python",
   "name": "python",
   "nbconvert_exporter": "python",
   "pygments_lexer": "ipython3",
   "version": "3.12.7"
  }
 },
 "nbformat": 4,
 "nbformat_minor": 5
}
