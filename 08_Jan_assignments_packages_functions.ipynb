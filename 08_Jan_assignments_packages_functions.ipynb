{
 "cells": [
  {
   "cell_type": "code",
   "execution_count": 9,
   "id": "40427837-19a9-4126-a54f-705aeed90cb1",
   "metadata": {},
   "outputs": [
    {
     "name": "stdout",
     "output_type": "stream",
     "text": [
      "The average of 90,100 and 70 is :86.67\n"
     ]
    }
   ],
   "source": [
    "# 1)wap ask the user enter 3 numbers n1,n2,n3 from ketboard\n",
    "# calculate average\n",
    "def avg(n1,n2,n3):\n",
    "        avg_val=(n1+n2+n3)/3\n",
    "        avg_val=round(avg_val,2)\n",
    "        print(f\"The average of {n1},{n2} and {n3} is :{avg_val}\")\n",
    "avg(90,100,70)"
   ]
  },
  {
   "cell_type": "code",
   "execution_count": null,
   "id": "a7f73e1b-1abc-4baa-beed-5a01d0a9ca45",
   "metadata": {},
   "outputs": [],
   "source": [
    "#WAP ask the user enter number random integers and calculate average of three numbers"
   ]
  },
  {
   "cell_type": "code",
   "execution_count": 6,
   "id": "5e1b70b7-00a1-4198-bec1-da6d9b05e719",
   "metadata": {},
   "outputs": [
    {
     "name": "stdin",
     "output_type": "stream",
     "text": [
      "Enter the name : Hrushi\n",
      "Enter the city :  Badvel\n"
     ]
    },
    {
     "name": "stdout",
     "output_type": "stream",
     "text": [
      "My Name is Hrushi Iam 72 years old and the came from Badvel\n"
     ]
    }
   ],
   "source": [
    "# 1)wap ask the user enter 3 random numbers n1,n2,n3 from ketboard\n",
    "# calculate average\n",
    "\n",
    "# 2)wap ask the user enter name \n",
    "#      random age  and  city using input\n",
    "# print my name is python im 10 years old and came from hyd\n",
    "name=input(\"Enter the name :\")\n",
    "age=random.randint(1,100)\n",
    "city=input(\"Enter the city : \")\n",
    "print(f\"My Name is {name} Iam {age} years old and the came from {city}\")"
   ]
  },
  {
   "cell_type": "code",
   "execution_count": 14,
   "id": "53389c0a-10a5-4d86-ad2a-2cc5cd8ad2a4",
   "metadata": {},
   "outputs": [
    {
     "name": "stdout",
     "output_type": "stream",
     "text": [
      "Area of the circle for radius 73 : 16733.06 \n"
     ]
    }
   ],
   "source": [
    "# 3)wap ask the user to enter random radidus of a circle calculate area of the circle\n",
    "# var: radidus  var: pi=3.14\n",
    "# formuale: pi*radius*radius\n",
    "# print the answers using f string and format\n",
    "radius=random.randint(1,100)\n",
    "pi=3.14\n",
    "circlearea=pi*radius*radius\n",
    "print(f\"Area of the circle for radius {radius} : {circlearea} \")"
   ]
  },
  {
   "cell_type": "code",
   "execution_count": 16,
   "id": "0426754c-08ec-4a42-84da-d45b953d68d8",
   "metadata": {},
   "outputs": [
    {
     "name": "stdout",
     "output_type": "stream",
     "text": [
      "Area of the  right angle triangle with breadth 99 and height 5 : 247.5 \n"
     ]
    }
   ],
   "source": [
    "# 4)wap ask the user enter random breadth and height of a right angle triangle\n",
    "# calculate the area\n",
    "# var1: bredath  var2: height\n",
    "# formuale : 0.5*breadth*heigh\n",
    "breadth=random.randint(1,100)\n",
    "height=random.randint(1,100)\n",
    "areareact=0.5*breadth*height\n",
    "print(f\"Area of the  right angle triangle with breadth {breadth} and height {height} : {areareact} \")"
   ]
  },
  {
   "cell_type": "code",
   "execution_count": 19,
   "id": "ab7ff968-966f-4a63-be81-c66a3664ce9b",
   "metadata": {},
   "outputs": [
    {
     "name": "stdout",
     "output_type": "stream",
     "text": [
      "The Total Bill amount with bill amt 1318 and with tipamount 99 : 1417\n"
     ]
    }
   ],
   "source": [
    "# 5)wap ask the user the random bill amount and tip amount\n",
    "#   calculate total bill\n",
    "#   var1: bill amount var2: tip amount\n",
    "#   formuale\n",
    "billamt=random.randint(500,5000)\n",
    "tipamount=random.randint(20,100)\n",
    "totlbill=billamt+tipamount\n",
    "print(f\"The Total Bill amount with bill amt {billamt} and with tipamount is {tipamount} : {totlbill}\")"
   ]
  },
  {
   "cell_type": "code",
   "execution_count": 21,
   "id": "ddb50204-995c-4977-86ae-602a9ccac4e1",
   "metadata": {},
   "outputs": [
    {
     "name": "stdout",
     "output_type": "stream",
     "text": [
      "The total bill amount 1782 is with TIP percent 10 % formulae : 1960.2\n"
     ]
    }
   ],
   "source": [
    "# 6)wap ask the user the random bill amount and tip percentage\n",
    "#    take tip percentage as 10\n",
    "#   calculate total bill= bill amount+ bill amount*tip per/100\n",
    "#   var1: bill amount var2: tip amount\n",
    "#    formuale\n",
    "billamount=random.randint(500,7000)\n",
    "tippercent=10\n",
    "toalbill=billamount+(billamount*tippercent/100)\n",
    "print(f\"The total bill amount {billamount} is with TIP percent {tippercent} % formulae : {toalbill}\")"
   ]
  },
  {
   "cell_type": "code",
   "execution_count": 22,
   "id": "e77a7279-df6e-4685-9fa2-c6cb082939ae",
   "metadata": {},
   "outputs": [
    {
     "name": "stdout",
     "output_type": "stream",
     "text": [
      "The area of a rectangle with lengtth 23 and breadth 9 is 207\n"
     ]
    }
   ],
   "source": [
    "# 7)wap ask the random length and breadth of a rectangle calculate area\n",
    "#   var1: length  var2: breadth\n",
    "#   formulae: length * breadth\n",
    "length=random.randint(1,25)\n",
    "breadth=random.randint(1,20)\n",
    "arearct=length*breadth\n",
    "print(f\"The area of a rectangle with lengtth {length} and breadth {breadth} is {arearct}\")"
   ]
  },
  {
   "cell_type": "code",
   "execution_count": 24,
   "id": "e96334c1-d71e-4690-b922-0d0fb8c6ba52",
   "metadata": {},
   "outputs": [
    {
     "name": "stdout",
     "output_type": "stream",
     "text": [
      "The volume of sphere is with radius is 7 : 1436.0266666666666\n"
     ]
    }
   ],
   "source": [
    "# 8) wap ask the user take the random radius and calculate volume of sphere\n",
    "#   formulae: pi*r**3(pi*r*r*r)\n",
    "radiusofsphere=random.randint(1,20)\n",
    "pi=3.14\n",
    "volspehere=(4 / 3) * pi * (radiusofsphere ** 3)\n",
    "print(f\"The volume of sphere is with radius is {radiusofsphere} : {volspehere}\")\n"
   ]
  },
  {
   "cell_type": "code",
   "execution_count": 25,
   "id": "2f82ec7f-d164-43f0-8dba-1f2f04887f9c",
   "metadata": {},
   "outputs": [
    {
     "name": "stdin",
     "output_type": "stream",
     "text": [
      "Enter the todays convesrion rate : 85\n"
     ]
    },
    {
     "name": "stdout",
     "output_type": "stream",
     "text": [
      "$299 is equivalent to 25415 INR value at a conversion rate of 85 INR per USD.\n"
     ]
    }
   ],
   "source": [
    "# 9) wap ask the user enter random  amount in dollars convert into rupees\n",
    "#     1$=85rs\n",
    "dollaramt=random.randint(20,1000)\n",
    "conversionrate=eval(input(\"Enter the todays convesrion rate :\"))\n",
    "inramt=dollaramt*conversionrate\n",
    "print(f\"${dollaramt} is equivalent to {inramt} INR value at a conversion rate of {conversionrate} INR per USD.\")\n"
   ]
  },
  {
   "cell_type": "code",
   "execution_count": 27,
   "id": "cae6e82e-681e-4437-bc14-e651f99fe576",
   "metadata": {},
   "outputs": [
    {
     "name": "stdout",
     "output_type": "stream",
     "text": [
      "25 kg is equivalent to 56 pounds.\n"
     ]
    }
   ],
   "source": [
    "# 10)wap ask the user enter random weight in kgs convert into pounds\n",
    "#    1kg= 2.2pounds\n",
    "weight=random.randint(1,50)\n",
    "pounds=weight*2.20462\n",
    "pounds=math.ceil(pounds)\n",
    "print(f\"{weight} kg is equivalent to {pounds} pounds.\")"
   ]
  },
  {
   "cell_type": "code",
   "execution_count": 10,
   "id": "bfc7f65b-130c-4424-bd4b-ebd24df31019",
   "metadata": {},
   "outputs": [
    {
     "name": "stdout",
     "output_type": "stream",
     "text": [
      "$100 is equivalent to 8500 INR value at a conversion rate of 85 INR per USD.\n"
     ]
    }
   ],
   "source": [
    "# 9) wap ask the user enter random  amount in dollars convert into rupees\n",
    "#     1$=85rs\n",
    "def curreny_cov(dollaramt,conversionrate):\n",
    "                                         inramt=dollaramt*conversionrate\n",
    "                                         print(f\"${dollaramt} is equivalent to {inramt} INR value at a conversion rate of {conversionrate} INR per USD.\")\n",
    "curreny_cov(100,85)"
   ]
  },
  {
   "cell_type": "code",
   "execution_count": 12,
   "id": "265fc0e4-a71b-4b3e-a4c8-6ab607af3e0b",
   "metadata": {},
   "outputs": [
    {
     "name": "stdout",
     "output_type": "stream",
     "text": [
      "20 kg is equivalent to 45 pounds.\n"
     ]
    }
   ],
   "source": [
    "# 10)wap ask the user enter random weight in kgs convert into pounds\n",
    "#    1kg= 2.2pounds\n",
    "import math\n",
    "def convert_weight_to_pounds(weight,pounds):\n",
    "                                            pounds=weight*2.20462\n",
    "                                            pounds=math.ceil(pounds)\n",
    "                                            print(f\"{weight} kg is equivalent to {pounds} pounds.\")\n",
    "convert_weight_to_pounds(20,5)"
   ]
  },
  {
   "cell_type": "code",
   "execution_count": null,
   "id": "81b3188d-4605-461f-97df-fa57bd38a801",
   "metadata": {},
   "outputs": [],
   "source": []
  }
 ],
 "metadata": {
  "kernelspec": {
   "display_name": "Python 3 (ipykernel)",
   "language": "python",
   "name": "python3"
  },
  "language_info": {
   "codemirror_mode": {
    "name": "ipython",
    "version": 3
   },
   "file_extension": ".py",
   "mimetype": "text/x-python",
   "name": "python",
   "nbconvert_exporter": "python",
   "pygments_lexer": "ipython3",
   "version": "3.12.7"
  }
 },
 "nbformat": 4,
 "nbformat_minor": 5
}
