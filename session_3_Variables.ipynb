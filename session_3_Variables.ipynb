{
 "cells": [
  {
   "cell_type": "markdown",
   "id": "e7b6039f-6ace-44fa-982b-154c5b2b8b4a",
   "metadata": {},
   "source": [
    "# Variables "
   ]
  },
  {
   "cell_type": "markdown",
   "id": "26ea31f0-b468-4b7e-9686-d1264c8f0fda",
   "metadata": {},
   "source": [
    "- Improve knowledge practise every day help other"
   ]
  },
  {
   "cell_type": "markdown",
   "id": "5ee3a397-32e9-4842-a539-b4e8b2f516b3",
   "metadata": {},
   "source": [
    "- Variables are used to store the data\n",
    "\n",
    "- The data can be change \n",
    "\n",
    "- These varaiables can be used to manipulate the python code"
   ]
  },
  {
   "cell_type": "code",
   "execution_count": 2,
   "id": "620a4d51-751a-46a0-bbab-1943da8470bd",
   "metadata": {},
   "outputs": [
    {
     "data": {
      "text/plain": [
       "100"
      ]
     },
     "execution_count": 2,
     "metadata": {},
     "output_type": "execute_result"
    }
   ],
   "source": [
    "number=100\n",
    "# 100 is stored in a variable called as number\n",
    "number"
   ]
  },
  {
   "cell_type": "code",
   "execution_count": 3,
   "id": "f4d186b0-95c5-4f70-b9e6-b068d1b07098",
   "metadata": {},
   "outputs": [
    {
     "data": {
      "text/plain": [
       "200"
      ]
     },
     "execution_count": 3,
     "metadata": {},
     "output_type": "execute_result"
    }
   ],
   "source": [
    "NUMBER=200\n",
    "NUMBER"
   ]
  },
  {
   "cell_type": "code",
   "execution_count": 4,
   "id": "9d229f3e-384e-4296-a37e-207f5c3f7eb6",
   "metadata": {},
   "outputs": [
    {
     "data": {
      "text/plain": [
       "(100, 200)"
      ]
     },
     "execution_count": 4,
     "metadata": {},
     "output_type": "execute_result"
    }
   ],
   "source": [
    "(number,NUMBER)"
   ]
  },
  {
   "cell_type": "code",
   "execution_count": 5,
   "id": "bf864582-9e63-4b40-971d-a915b9e110d0",
   "metadata": {},
   "outputs": [
    {
     "data": {
      "text/plain": [
       "300"
      ]
     },
     "execution_count": 5,
     "metadata": {},
     "output_type": "execute_result"
    }
   ],
   "source": [
    "Number=300\n",
    "Number"
   ]
  },
  {
   "cell_type": "code",
   "execution_count": 6,
   "id": "6f3cb199-530b-4d46-80f4-5808070d6aba",
   "metadata": {},
   "outputs": [
    {
     "data": {
      "text/plain": [
       "(100, 200, 300)"
      ]
     },
     "execution_count": 6,
     "metadata": {},
     "output_type": "execute_result"
    }
   ],
   "source": [
    "number,NUMBER,Number"
   ]
  },
  {
   "cell_type": "code",
   "execution_count": 7,
   "id": "e344231a-571b-4334-b93f-b42feb709852",
   "metadata": {},
   "outputs": [
    {
     "data": {
      "text/plain": [
       "400"
      ]
     },
     "execution_count": 7,
     "metadata": {},
     "output_type": "execute_result"
    }
   ],
   "source": [
    "number123=400\n",
    "number123"
   ]
  },
  {
   "cell_type": "code",
   "execution_count": 8,
   "id": "118b38b0-d495-4884-b512-197e1b3f54d6",
   "metadata": {},
   "outputs": [
    {
     "ename": "SyntaxError",
     "evalue": "invalid decimal literal (3682356261.py, line 1)",
     "output_type": "error",
     "traceback": [
      "\u001b[1;36m  Cell \u001b[1;32mIn[8], line 1\u001b[1;36m\u001b[0m\n\u001b[1;33m    123number=500\u001b[0m\n\u001b[1;37m      ^\u001b[0m\n\u001b[1;31mSyntaxError\u001b[0m\u001b[1;31m:\u001b[0m invalid decimal literal\n"
     ]
    }
   ],
   "source": [
    "123number=500"
   ]
  },
  {
   "cell_type": "code",
   "execution_count": 10,
   "id": "ffa19bc6-af9f-4e21-bb76-e02c9bdded85",
   "metadata": {},
   "outputs": [
    {
     "ename": "SyntaxError",
     "evalue": "invalid syntax (2233866510.py, line 1)",
     "output_type": "error",
     "traceback": [
      "\u001b[1;36m  Cell \u001b[1;32mIn[10], line 1\u001b[1;36m\u001b[0m\n\u001b[1;33m    number$=600\u001b[0m\n\u001b[1;37m          ^\u001b[0m\n\u001b[1;31mSyntaxError\u001b[0m\u001b[1;31m:\u001b[0m invalid syntax\n"
     ]
    }
   ],
   "source": [
    "number$=600"
   ]
  },
  {
   "cell_type": "code",
   "execution_count": 13,
   "id": "c1072304-3153-4f94-8090-17c88a0bcdf0",
   "metadata": {},
   "outputs": [
    {
     "data": {
      "text/plain": [
       "900"
      ]
     },
     "execution_count": 13,
     "metadata": {},
     "output_type": "execute_result"
    }
   ],
   "source": [
    "#number one=100\n",
    "#number two=200\n",
    "number_one=900\n",
    "number_one\n"
   ]
  },
  {
   "cell_type": "code",
   "execution_count": 15,
   "id": "57efcabd-b2fc-42da-847f-702ddcfe32aa",
   "metadata": {},
   "outputs": [
    {
     "data": {
      "text/plain": [
       "1000"
      ]
     },
     "execution_count": 15,
     "metadata": {},
     "output_type": "execute_result"
    }
   ],
   "source": [
    "_=1000\n",
    "_"
   ]
  },
  {
   "cell_type": "markdown",
   "id": "d793c118-9881-4235-bc71-499704f6295e",
   "metadata": {},
   "source": [
    "# keywords can't use varaiables"
   ]
  },
  {
   "cell_type": "markdown",
   "id": "caf4bb1e-ee71-445d-8ea9-283b8a802ccf",
   "metadata": {},
   "source": [
    "- _ under score can use as varaiable\n",
    "- special charcaters doesnt allowed\n",
    "\n"
   ]
  },
  {
   "cell_type": "code",
   "execution_count": null,
   "id": "c959bb85-d752-4b86-9a5e-04d39b601b95",
   "metadata": {},
   "outputs": [],
   "source": []
  }
 ],
 "metadata": {
  "kernelspec": {
   "display_name": "Python 3 (ipykernel)",
   "language": "python",
   "name": "python3"
  },
  "language_info": {
   "codemirror_mode": {
    "name": "ipython",
    "version": 3
   },
   "file_extension": ".py",
   "mimetype": "text/x-python",
   "name": "python",
   "nbconvert_exporter": "python",
   "pygments_lexer": "ipython3",
   "version": "3.12.7"
  }
 },
 "nbformat": 4,
 "nbformat_minor": 5
}
