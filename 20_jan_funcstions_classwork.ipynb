{
 "cells": [
  {
   "cell_type": "code",
   "execution_count": 2,
   "id": "03d625f9-9943-432b-b963-d4adc5592966",
   "metadata": {},
   "outputs": [
    {
     "name": "stdout",
     "output_type": "stream",
     "text": [
      "The average of 90,100 and 70 is :86.67\n"
     ]
    }
   ],
   "source": [
    "# 1)wap ask the user enter 3 numbers n1,n2,n3 from ketboard\n",
    "# calculate average\n",
    "def avg(n1,n2,n3):\n",
    "        avg_val=(n1+n2+n3)/3\n",
    "        avg_val=round(avg_val,2)\n",
    "        print(f\"The average of {n1},{n2} and {n3} is :{avg_val}\")\n",
    "avg(90,100,70)"
   ]
  },
  {
   "cell_type": "code",
   "execution_count": 4,
   "id": "4c7ae71f-d695-4da4-976a-a72a6b8ae98d",
   "metadata": {},
   "outputs": [
    {
     "name": "stdout",
     "output_type": "stream",
     "text": [
      "My Name is Hrushi Iam 41 years old and the came from Hyd\n"
     ]
    }
   ],
   "source": [
    "# 2)wap ask the user enter name \n",
    "#      random age  and  city using input\n",
    "# print my name is python im 10 years old and came from hyd\n",
    "def append_string_values(name,age,city):\n",
    "                                  print(f\"My Name is {name} Iam {age} years old and the came from {city}\")\n",
    "append_string_values('Hrushi',41,'Hyd')"
   ]
  },
  {
   "cell_type": "code",
   "execution_count": 8,
   "id": "3b3830bf-c133-4379-9252-07ff28a5862e",
   "metadata": {},
   "outputs": [
    {
     "name": "stdout",
     "output_type": "stream",
     "text": [
      "Area of the circle for radius 5 : 78.5 \n"
     ]
    }
   ],
   "source": [
    "# 3)wap ask the user to enter random radidus of a circle calculate area of the circle\n",
    "# var: radidus  var: pi=3.14\n",
    "# formuale: pi*radius*radius\n",
    "# print the answers using f string and format\n",
    "def cal_area_of_cirlcle(radius):\n",
    "                                pi=3.14\n",
    "                                circlearea=pi*radius*radius\n",
    "                                print(f\"Area of the circle for radius {radius} : {circlearea} \")\n",
    "cal_area_of_cirlcle(5)"
   ]
  },
  {
   "cell_type": "code",
   "execution_count": 9,
   "id": "c0479399-80fd-4eed-9c97-44214099ff98",
   "metadata": {},
   "outputs": [
    {
     "name": "stdout",
     "output_type": "stream",
     "text": [
      "The Total Bill amount with bill amt 2000 and with tipamount is 50 : 2050\n"
     ]
    }
   ],
   "source": [
    "def cal_billamount(billamt,tipamount):\n",
    "                                    totlbill=billamt+tipamount\n",
    "                                    print(f\"The Total Bill amount with bill amt {billamt} and with tipamount is {tipamount} : {totlbill}\")\n",
    "cal_billamount(2000,50)"
   ]
  },
  {
   "cell_type": "code",
   "execution_count": 10,
   "id": "23cd8e9a-20ce-43c9-b8f8-9d86357729bb",
   "metadata": {},
   "outputs": [
    {
     "name": "stdout",
     "output_type": "stream",
     "text": [
      "The total bill amount 5000 is with TIP percent 10 % formulae : 5500.0\n"
     ]
    }
   ],
   "source": [
    "# 6)wap ask the user the random bill amount and tip percentage\n",
    "#    take tip percentage as 10\n",
    "#   calculate total bill= bill amount+ bill amount*tip per/100\n",
    "#   var1: bill amount var2: tip amount\n",
    "#    formuale\n",
    "def cal_billamount2(billamount,tippercent):\n",
    "                                        toalbill=billamount+(billamount*tippercent/100)\n",
    "                                        print(f\"The total bill amount {billamount} is with TIP percent {tippercent} % formulae : {toalbill}\")\n",
    "cal_billamount2(5000,10)"
   ]
  },
  {
   "cell_type": "code",
   "execution_count": 11,
   "id": "bcdf9c7a-38fb-4a5c-a48d-4aa1ccf26354",
   "metadata": {},
   "outputs": [
    {
     "name": "stdout",
     "output_type": "stream",
     "text": [
      "The area of a rectangle with lengtth 20 and breadth 10 is 200\n"
     ]
    }
   ],
   "source": [
    "# 7)wap ask the random length and breadth of a rectangle calculate area\n",
    "#   var1: length  var2: breadth\n",
    "#   formulae: length * breadth\n",
    "def cal_recat_area(length,breadth):\n",
    "                                 arearct=length*breadth\n",
    "                                 print(f\"The area of a rectangle with lengtth {length} and breadth {breadth} is {arearct}\")\n",
    "cal_recat_area(20,10)"
   ]
  },
  {
   "cell_type": "code",
   "execution_count": 13,
   "id": "0db41e24-0058-4960-a460-44bc0348756f",
   "metadata": {},
   "outputs": [
    {
     "name": "stdout",
     "output_type": "stream",
     "text": [
      "The volume of sphere is with radius is 7 : 1436.0266666666666\n"
     ]
    }
   ],
   "source": [
    "# 8) wap ask the user take the random radius and calculate volume of sphere\n",
    "#   formulae: pi*r**3(pi*r*r*r)\n",
    "def cal_vol_spherea(radiusofsphere):\n",
    "                                            pi=3.14\n",
    "                                            volspehere=(4 / 3) * pi * (radiusofsphere ** 3)\n",
    "                                            print(f\"The volume of sphere is with radius is {radiusofsphere} : {volspehere}\")\n",
    "cal_vol_spherea(7)\n"
   ]
  },
  {
   "cell_type": "code",
   "execution_count": 14,
   "id": "118e0b6f-8d90-4f1e-8ecc-572ab7a4253d",
   "metadata": {},
   "outputs": [
    {
     "name": "stdout",
     "output_type": "stream",
     "text": [
      "$100 is equivalent to 8500 INR value at a conversion rate of 85 INR per USD.\n"
     ]
    }
   ],
   "source": [
    "# 9) wap ask the user enter random  amount in dollars convert into rupees\n",
    "#     1$=85rs\n",
    "def curreny_cov(dollaramt,conversionrate):\n",
    "                                         inramt=dollaramt*conversionrate\n",
    "                                         print(f\"${dollaramt} is equivalent to {inramt} INR value at a conversion rate of {conversionrate} INR per USD.\")\n",
    "curreny_cov(100,85)"
   ]
  },
  {
   "cell_type": "code",
   "execution_count": 15,
   "id": "85c1d2e8-2df0-4987-92ee-ce907964c407",
   "metadata": {},
   "outputs": [
    {
     "name": "stdout",
     "output_type": "stream",
     "text": [
      "20 kg is equivalent to 45 pounds.\n"
     ]
    }
   ],
   "source": [
    "# 10)wap ask the user enter random weight in kgs convert into pounds\n",
    "#    1kg= 2.2pounds\n",
    "import math\n",
    "def convert_weight_to_pounds(weight,pounds):\n",
    "                                            pounds=weight*2.20462\n",
    "                                            pounds=math.ceil(pounds)\n",
    "                                            print(f\"{weight} kg is equivalent to {pounds} pounds.\")\n",
    "convert_weight_to_pounds(20,5)"
   ]
  },
  {
   "cell_type": "code",
   "execution_count": 17,
   "id": "6d1568b8-dfc9-4c4d-b5b4-d0d8ae5cbc64",
   "metadata": {},
   "outputs": [
    {
     "name": "stdout",
     "output_type": "stream",
     "text": [
      "Area of rectabagle is : 300.0\n"
     ]
    }
   ],
   "source": [
    "# 4)wap ask the user enter breadth and height of a right angle triangle\n",
    "# calculate the area\n",
    "# var1: bredath  var2: height\n",
    "# formuale : 0.5*breadth*heigh\n",
    "def cal_right_angled_triangle(height,breadth):\n",
    "                                            area_rect=0.5*breadth*height\n",
    "                                            area_rect=round(area_rect,2)\n",
    "                                            print(f'Area of rectabagle is : {area_rect}')\n",
    "cal_right_angled_triangle(20,30)\n",
    "                                            \n"
   ]
  },
  {
   "cell_type": "code",
   "execution_count": null,
   "id": "bb02d18e-9320-4460-af83-131297c3a9af",
   "metadata": {},
   "outputs": [],
   "source": []
  }
 ],
 "metadata": {
  "kernelspec": {
   "display_name": "Python 3 (ipykernel)",
   "language": "python",
   "name": "python3"
  },
  "language_info": {
   "codemirror_mode": {
    "name": "ipython",
    "version": 3
   },
   "file_extension": ".py",
   "mimetype": "text/x-python",
   "name": "python",
   "nbconvert_exporter": "python",
   "pygments_lexer": "ipython3",
   "version": "3.12.7"
  }
 },
 "nbformat": 4,
 "nbformat_minor": 5
}
