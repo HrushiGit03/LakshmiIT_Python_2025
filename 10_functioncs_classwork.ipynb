{
 "cells": [
  {
   "cell_type": "code",
   "execution_count": 14,
   "id": "846b5a2f-4370-43e9-b06c-2f8685972543",
   "metadata": {},
   "outputs": [
    {
     "name": "stdout",
     "output_type": "stream",
     "text": [
      "====================Calculate avarge of three numbers from user input==================\n"
     ]
    },
    {
     "name": "stdin",
     "output_type": "stream",
     "text": [
      "Enter the number1 : 100\n",
      "Enter the number2 : 200\n",
      "Enter the number3 : 900\n"
     ]
    },
    {
     "name": "stdout",
     "output_type": "stream",
     "text": [
      "Average of three numbers is : 400.0\n"
     ]
    }
   ],
   "source": [
    "print(\"====================Calculate avarge of three numbers from user input==================\")\n",
    "# 1)wap ask the user enter 3 numbers n1,n2,n3 from ketboard\n",
    "# calculate average\n",
    "def calavergae():\n",
    "    try:\n",
    "        a=eval(input(\"Enter the number1 :\"))\n",
    "        b=eval(input(\"Enter the number2 :\"))\n",
    "        c=eval(input(\"Enter the number3 :\"))\n",
    "        avg=(a+b+c)/3\n",
    "        print(f\"Average of three numbers is : {avg}\")\n",
    "    except Exception as e:\n",
    "        print('Exp block for calavergae method:',e)\n",
    "calavergae()"
   ]
  },
  {
   "cell_type": "code",
   "execution_count": 16,
   "id": "7cfea63e-6bdb-45bf-8012-6b6b1821da30",
   "metadata": {},
   "outputs": [
    {
     "name": "stdout",
     "output_type": "stream",
     "text": [
      "====================String program from user input==================\n"
     ]
    },
    {
     "name": "stdin",
     "output_type": "stream",
     "text": [
      "Enter the user name :  Hrushi\n",
      "Enter the user age :  20\n",
      "Ente the user city :  hyd\n"
     ]
    },
    {
     "name": "stdout",
     "output_type": "stream",
     "text": [
      "My name is Hrushi Im 20 years old and came from hyd\n"
     ]
    }
   ],
   "source": [
    "print(\"====================String program from user input==================\")\n",
    "# 2)wap ask the user enter name age city\n",
    "# print my name is python im 10 years old and came from hyd\n",
    "def appendstring():\n",
    "    try:\n",
    "        str1=input(\"Enter the user name : \")\n",
    "        str2=input(\"Enter the user age : \")\n",
    "        str3=input(\"Ente the user city : \")\n",
    "        strval='My name is '+str1+' Im '+str2+' years old'+' and came from '+str3\n",
    "        print(strval)\n",
    "    except Exception as e:\n",
    "         print('Exp block for appendstring method:',e)\n",
    "appendstring()"
   ]
  },
  {
   "cell_type": "code",
   "execution_count": 17,
   "id": "c66b59c1-fb42-48f3-b01f-c15c8d92d60a",
   "metadata": {},
   "outputs": [
    {
     "name": "stdin",
     "output_type": "stream",
     "text": [
      "Enter the radius of circle  20\n"
     ]
    },
    {
     "name": "stdout",
     "output_type": "stream",
     "text": [
      "The radius of circle is  1256.0\n"
     ]
    }
   ],
   "source": [
    "# 3)wap ask the user to enter radidus of a circle calculate area of the circle\n",
    "# var: radidus  var: pi=3.14\n",
    "# formuale: pi*radius*radius\n",
    "# print the answers using f string and format\n",
    "def calcirlcearea():\n",
    "    try:\n",
    "        radius=eval(input(\"Enter the radius of circle \"))\n",
    "        area=3.14*radius*radius\n",
    "        print(f\"The radius of circle is  {area}\")\n",
    "    except Exception as e:\n",
    "         print('Exp block for in circle area method:',e)\n",
    "calcirlcearea()"
   ]
  },
  {
   "cell_type": "code",
   "execution_count": 19,
   "id": "d75b1596-6f0d-4f3c-9772-7f0003dd44a3",
   "metadata": {},
   "outputs": [
    {
     "name": "stdin",
     "output_type": "stream",
     "text": [
      "Enter the breadth of right angle triangle  10\n",
      "Enter the height of right angle triangle  20\n"
     ]
    },
    {
     "name": "stdout",
     "output_type": "stream",
     "text": [
      "The area of right angle triangle is :100.0\n"
     ]
    }
   ],
   "source": [
    "# 4)wap ask the user enter breadth and height of a right angle triangle\n",
    "# calculate the area\n",
    "# var1: bredath  var2: height\n",
    "# formuale : 0.5*breadth*heigh\n",
    "def calreactarea():\n",
    "    try:\n",
    "        breadth=eval(input(\"Enter the breadth of right angle triangle \"))\n",
    "        height=eval(input(\"Enter the height of right angle triangle \"))\n",
    "        reactarea=0.5*breadth*height\n",
    "        print(f\"The area of right angle triangle is :{reactarea}\")\n",
    "    except Exception as e:\n",
    "        print('Exp block for in calreactarea  method:',e)\n",
    "calreactarea()"
   ]
  },
  {
   "cell_type": "code",
   "execution_count": 21,
   "id": "f1d018f0-6a42-4395-bfa6-7f68cb4be9d4",
   "metadata": {},
   "outputs": [
    {
     "name": "stdin",
     "output_type": "stream",
     "text": [
      "Enter the bill amount : 1000\n",
      "Enter the tip amount:  200\n"
     ]
    },
    {
     "name": "stdout",
     "output_type": "stream",
     "text": [
      "The total bill amount is : 1200\n"
     ]
    }
   ],
   "source": [
    "\n",
    "# 5)wap ask the user the bill amount and tip amount\n",
    "#   calculate total bill\n",
    "#   var1: bill amount var2: tip amount\n",
    "#   formual\n",
    "def calhotelbillamt():    \n",
    "    try:\n",
    "        billamt=eval(input(\"Enter the bill amount :\"))\n",
    "        tipamt=eval(input(\"Enter the tip amount: \"))\n",
    "        totbillamt=billamt+tipamt\n",
    "        print(f\"The total bill amount is : {totbillamt}\")\n",
    "    except Exception as e:\n",
    "         print('Exp block for in calhotelbillamt  method:',e)\n",
    "calhotelbillamt()"
   ]
  },
  {
   "cell_type": "code",
   "execution_count": 19,
   "id": "0d425e57-87c0-42ec-ba2d-b538659d8750",
   "metadata": {},
   "outputs": [
    {
     "name": "stdin",
     "output_type": "stream",
     "text": [
      "Enter the bill amount : 100\n",
      "Enter the tip amount in :%  10\n"
     ]
    },
    {
     "name": "stdout",
     "output_type": "stream",
     "text": [
      "The total bill amount is with TIP percent formulae : 110.0\n"
     ]
    }
   ],
   "source": [
    "#6)wap ask the user the bill amount and tip percentage\n",
    "#    take tip percentage as 10\n",
    "#   calculate total bill= bill amount+ tip amount*tip per/100\n",
    "#   var1: bill amount var2: tip amount\n",
    "#    formuale\n",
    "def calhotelbillamtwithper():\n",
    "    try:\n",
    "        billamt=eval(input(\"Enter the bill amount :\"))\n",
    "        tipamt1=eval(input(\"Enter the tip amount in :% \"))\n",
    "        toalbill=billamt+(billamt*tipamt1/100)\n",
    "        print(f\"The total bill amount is with TIP percent formulae : {toalbill}\")\n",
    "    except Exception as e:\n",
    "             print('Exp block for in calhotelbillamt  method:',e)\n",
    "calhotelbillamtwithper()"
   ]
  },
  {
   "cell_type": "code",
   "execution_count": 5,
   "id": "b9a1ee5a-45d9-4281-b742-2673a1bee4e5",
   "metadata": {},
   "outputs": [
    {
     "name": "stdin",
     "output_type": "stream",
     "text": [
      "Enter the length of rectangle: 20\n",
      "Enter the breadth of rectangle: 30\n"
     ]
    },
    {
     "name": "stdout",
     "output_type": "stream",
     "text": [
      "The area of a rectangle is 600\n"
     ]
    }
   ],
   "source": [
    "# 7)wap ask the length and breadth of a rectangle calculate area\n",
    "#   var1: length  var2: breadth\n",
    "#   formulae: length * breadth\n",
    "def calrectrea():\n",
    "    try:\n",
    "        length=eval(input(\"Enter the length of rectangle:\"))\n",
    "        breadth=eval(input(\"Enter the breadth of rectangle:\"))\n",
    "        arearct=length*breadth\n",
    "        print(f\"The area of a rectangle is {arearct}\")\n",
    "    except Exception as e:\n",
    "        print('Exp block for in calrectrea  method:',e)\n",
    "calrectrea()\n"
   ]
  },
  {
   "cell_type": "code",
   "execution_count": 6,
   "id": "9854fcb9-bd91-40b2-9468-2b4fae0fd9e7",
   "metadata": {},
   "outputs": [
    {
     "name": "stdin",
     "output_type": "stream",
     "text": [
      "Enter the radius of the Sphere :  20\n"
     ]
    },
    {
     "name": "stdout",
     "output_type": "stream",
     "text": [
      "The volume of sphere is : 33493.333333333336\n"
     ]
    }
   ],
   "source": [
    "# 8) wap ask the user take the radius and calculate volume of sphere\n",
    "#   formulae: pi*r**3(pi*r*r*r)\n",
    "def calvolofspehere():\n",
    "    try:\n",
    "        radiusofsphere=eval(input(\"Enter the radius of the Sphere : \"))\n",
    "        pi=3.14\n",
    "        volspehere=(4 / 3) * pi * (radiusofsphere ** 3)\n",
    "        print(f\"The volume of sphere is : {volspehere}\")\n",
    "    except Exception as e:\n",
    "         print('Exp block for in calvolofspehere  method:',e)\n",
    "calvolofspehere()"
   ]
  },
  {
   "cell_type": "code",
   "execution_count": 8,
   "id": "3f8c02a6-0976-4e12-8bae-99c9bcd16288",
   "metadata": {},
   "outputs": [
    {
     "name": "stdin",
     "output_type": "stream",
     "text": [
      "Enter the amount in $ : 100\n",
      "Enter the todays convesrion rate : 86\n"
     ]
    },
    {
     "name": "stdout",
     "output_type": "stream",
     "text": [
      "$100 is equivalent to 8600 INR value at a conversion rate of 86 INR per USD.\n"
     ]
    }
   ],
   "source": [
    "# 9) wap ask the user enter amount in dollars convert into rupees\n",
    "#     1$=85rs\n",
    "def covertcurrenyamt():\n",
    "    try:\n",
    "        dollaramt=eval(input(\"Enter the amount in $ :\"))\n",
    "        conversionrate=eval(input(\"Enter the todays convesrion rate :\"))\n",
    "        inramt=dollaramt*conversionrate\n",
    "        print(f\"${dollaramt} is equivalent to {inramt} INR value at a conversion rate of {conversionrate} INR per USD.\")\n",
    "    except Exception as e:\n",
    "        print('Exp block for in covertcurrenyamt  method:',e)\n",
    "covertcurrenyamt()"
   ]
  },
  {
   "cell_type": "code",
   "execution_count": 10,
   "id": "b6990063-88a2-4c8a-9906-95136a464481",
   "metadata": {},
   "outputs": [
    {
     "name": "stdin",
     "output_type": "stream",
     "text": [
      "Enter the weight : 20\n"
     ]
    },
    {
     "name": "stdout",
     "output_type": "stream",
     "text": [
      "20 kg is equivalent to 44.0924 pounds.\n"
     ]
    }
   ],
   "source": [
    "# 10)wap ask the user enter weight in kgs convert into pounds\n",
    "#    1kg= 2.2pounds\n",
    "def calweightconv():\n",
    "    try:\n",
    "        weight=eval(input(\"Enter the weight :\"))\n",
    "        pounds=weight*2.20462\n",
    "        print(f\"{weight} kg is equivalent to {pounds} pounds.\")\n",
    "    except Exception as e:\n",
    "        print('Exp block for in calweightconv  method:',e)\n",
    "calweightconv()"
   ]
  },
  {
   "cell_type": "code",
   "execution_count": null,
   "id": "55379b1a-32ea-4cb1-ace9-a6e67c6f859f",
   "metadata": {},
   "outputs": [],
   "source": []
  }
 ],
 "metadata": {
  "kernelspec": {
   "display_name": "Python 3 (ipykernel)",
   "language": "python",
   "name": "python3"
  },
  "language_info": {
   "codemirror_mode": {
    "name": "ipython",
    "version": 3
   },
   "file_extension": ".py",
   "mimetype": "text/x-python",
   "name": "python",
   "nbconvert_exporter": "python",
   "pygments_lexer": "ipython3",
   "version": "3.12.7"
  }
 },
 "nbformat": 4,
 "nbformat_minor": 5
}
