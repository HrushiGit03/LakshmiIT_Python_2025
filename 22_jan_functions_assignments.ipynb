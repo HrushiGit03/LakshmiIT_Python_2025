{
 "cells": [
  {
   "cell_type": "code",
   "execution_count": 38,
   "id": "842e852a-4401-44f5-886d-4eb7a5d92ca2",
   "metadata": {},
   "outputs": [
    {
     "name": "stdin",
     "output_type": "stream",
     "text": [
      "Enter the factorial number: 10\n"
     ]
    },
    {
     "name": "stdout",
     "output_type": "stream",
     "text": [
      "The factrial of given number 10 is 3628800\n"
     ]
    }
   ],
   "source": [
    "# Factorail number \n",
    "# Q1) Factorial recursion 5! = 5*4*3*2*1*\n",
    "# Q2) calcultor\n",
    "def factorial(n):\n",
    "        if n==1:\n",
    "            return 1\n",
    "        else:\n",
    "            return n*factorial(n-1)\n",
    "num=eval(input('Enter the factorial number:'))\n",
    "fact=factorial(num)\n",
    "print(f\"The factrial of given number {num} is {fact}\")   "
   ]
  },
  {
   "cell_type": "code",
   "execution_count": 35,
   "id": "5cb674ec-d3a9-48ba-a494-23788942365a",
   "metadata": {},
   "outputs": [
    {
     "name": "stdout",
     "output_type": "stream",
     "text": [
      "Please enter 1 for add operation 2 sub operation , 3 for multiplicate and 4 for divison\n"
     ]
    },
    {
     "name": "stdin",
     "output_type": "stream",
     "text": [
      "enter between 1 to 4 3\n",
      "Enter the num1 value: 10\n",
      "Enter the num2 value: 20\n"
     ]
    },
    {
     "name": "stdout",
     "output_type": "stream",
     "text": [
      "Multiplication  of 10 and 20 is : 200\n"
     ]
    }
   ],
   "source": [
    "## step-1: create 4 functions\n",
    "# def add(a,b):\n",
    "#     return(a+b)\n",
    "# def mul\n",
    "# def div\n",
    "# def sub\n",
    "\n",
    "# print('enter 1 for add 2 sub , 3 for multiplicate and 4 for divison')\n",
    "\n",
    "def main():\n",
    "    print('Please enter 1 for add operation 2 sub operation , 3 for multiplicate and 4 for divison')\n",
    "    option=eval(input('enter between 1 to 4'))\n",
    "    if(option>=1 and option<=4):\n",
    "                            a=eval(input('Enter the num1 value:'))\n",
    "                            b=eval(input('Enter the num2 value:'))\n",
    "                            if option==1:\n",
    "                                    print(f'Addition of {a} and {b} is : {add(a,b)}')\n",
    "                            elif option==2:\n",
    "                                     print(f'Subtraction of {a} and {b} is : {sub(a,b)}')\n",
    "                            elif option==3:\n",
    "                                    print(f'Multiplication  of {a} and {b} is : {mul(a,b)}')\n",
    "                            elif option==4:\n",
    "                                      print(f'Diivsion of {a} and {b} is : {div(a,b)}')\n",
    "    else:\n",
    "        print('Given Operation is invalid !')\n",
    "def add(a,b):\n",
    "     return (a+b)\n",
    "def sub(a,b):\n",
    "     return (a-b)\n",
    "def mul(a,b):\n",
    "     return (a*b)\n",
    "def div(a,b):\n",
    "    return (a/b)\n",
    "main()\n",
    "    "
   ]
  },
  {
   "cell_type": "code",
   "execution_count": null,
   "id": "77a33f72-c047-49c2-9d53-b0fe42929179",
   "metadata": {},
   "outputs": [],
   "source": []
  }
 ],
 "metadata": {
  "kernelspec": {
   "display_name": "Python 3 (ipykernel)",
   "language": "python",
   "name": "python3"
  },
  "language_info": {
   "codemirror_mode": {
    "name": "ipython",
    "version": 3
   },
   "file_extension": ".py",
   "mimetype": "text/x-python",
   "name": "python",
   "nbconvert_exporter": "python",
   "pygments_lexer": "ipython3",
   "version": "3.12.7"
  }
 },
 "nbformat": 4,
 "nbformat_minor": 5
}
